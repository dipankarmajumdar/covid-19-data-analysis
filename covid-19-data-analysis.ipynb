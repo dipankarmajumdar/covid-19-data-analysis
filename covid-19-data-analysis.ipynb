{
 "cells": [
  {
   "cell_type": "markdown",
   "id": "0790d290",
   "metadata": {},
   "source": [
    "# 📂 Project: COVID-19 Data Analysis and Visualization"
   ]
  },
  {
   "cell_type": "markdown",
   "id": "da1da6c4",
   "metadata": {},
   "source": [
    "### 1. Install Necessary Libraries"
   ]
  },
  {
   "cell_type": "code",
   "execution_count": 1,
   "id": "acae5489",
   "metadata": {},
   "outputs": [],
   "source": [
    "# pip install -r requirements.txt"
   ]
  },
  {
   "cell_type": "markdown",
   "id": "7b5c5b31",
   "metadata": {},
   "source": [
    "### 2. Import Libraries"
   ]
  },
  {
   "cell_type": "code",
   "execution_count": 2,
   "id": "59f1c21a",
   "metadata": {},
   "outputs": [],
   "source": [
    "import pandas as pd\n",
    "import matplotlib.pyplot as plt\n",
    "import seaborn as sns\n",
    "import plotly.express as px\n",
    "import warnings\n",
    "\n",
    "warnings.filterwarnings('ignore')\n",
    "%matplotlib inline"
   ]
  },
  {
   "cell_type": "markdown",
   "id": "f7a97d39",
   "metadata": {},
   "source": [
    "### 3. Load Dataset"
   ]
  },
  {
   "cell_type": "code",
   "execution_count": 3,
   "id": "ab96bc25",
   "metadata": {},
   "outputs": [],
   "source": [
    "covid_df = pd.read_csv(\"./data/owid-covid-data.csv\")"
   ]
  },
  {
   "cell_type": "code",
   "execution_count": 4,
   "id": "853f6a19",
   "metadata": {},
   "outputs": [
    {
     "data": {
      "application/vnd.microsoft.datawrangler.viewer.v0+json": {
       "columns": [
        {
         "name": "index",
         "rawType": "int64",
         "type": "integer"
        },
        {
         "name": "iso_code",
         "rawType": "object",
         "type": "string"
        },
        {
         "name": "continent",
         "rawType": "object",
         "type": "string"
        },
        {
         "name": "location",
         "rawType": "object",
         "type": "string"
        },
        {
         "name": "date",
         "rawType": "object",
         "type": "string"
        },
        {
         "name": "total_cases",
         "rawType": "float64",
         "type": "float"
        },
        {
         "name": "new_cases",
         "rawType": "float64",
         "type": "float"
        },
        {
         "name": "new_cases_smoothed",
         "rawType": "float64",
         "type": "float"
        },
        {
         "name": "total_deaths",
         "rawType": "float64",
         "type": "float"
        },
        {
         "name": "new_deaths",
         "rawType": "float64",
         "type": "float"
        },
        {
         "name": "new_deaths_smoothed",
         "rawType": "float64",
         "type": "float"
        },
        {
         "name": "total_cases_per_million",
         "rawType": "float64",
         "type": "float"
        },
        {
         "name": "new_cases_per_million",
         "rawType": "float64",
         "type": "float"
        },
        {
         "name": "new_cases_smoothed_per_million",
         "rawType": "float64",
         "type": "float"
        },
        {
         "name": "total_deaths_per_million",
         "rawType": "float64",
         "type": "float"
        },
        {
         "name": "new_deaths_per_million",
         "rawType": "float64",
         "type": "float"
        },
        {
         "name": "new_deaths_smoothed_per_million",
         "rawType": "float64",
         "type": "float"
        },
        {
         "name": "reproduction_rate",
         "rawType": "float64",
         "type": "float"
        },
        {
         "name": "icu_patients",
         "rawType": "float64",
         "type": "float"
        },
        {
         "name": "icu_patients_per_million",
         "rawType": "float64",
         "type": "float"
        },
        {
         "name": "hosp_patients",
         "rawType": "float64",
         "type": "float"
        },
        {
         "name": "hosp_patients_per_million",
         "rawType": "float64",
         "type": "float"
        },
        {
         "name": "weekly_icu_admissions",
         "rawType": "float64",
         "type": "float"
        },
        {
         "name": "weekly_icu_admissions_per_million",
         "rawType": "float64",
         "type": "float"
        },
        {
         "name": "weekly_hosp_admissions",
         "rawType": "float64",
         "type": "float"
        },
        {
         "name": "weekly_hosp_admissions_per_million",
         "rawType": "float64",
         "type": "float"
        },
        {
         "name": "total_tests",
         "rawType": "float64",
         "type": "float"
        },
        {
         "name": "new_tests",
         "rawType": "float64",
         "type": "float"
        },
        {
         "name": "total_tests_per_thousand",
         "rawType": "float64",
         "type": "float"
        },
        {
         "name": "new_tests_per_thousand",
         "rawType": "float64",
         "type": "float"
        },
        {
         "name": "new_tests_smoothed",
         "rawType": "float64",
         "type": "float"
        },
        {
         "name": "new_tests_smoothed_per_thousand",
         "rawType": "float64",
         "type": "float"
        },
        {
         "name": "positive_rate",
         "rawType": "float64",
         "type": "float"
        },
        {
         "name": "tests_per_case",
         "rawType": "float64",
         "type": "float"
        },
        {
         "name": "tests_units",
         "rawType": "object",
         "type": "unknown"
        },
        {
         "name": "total_vaccinations",
         "rawType": "float64",
         "type": "float"
        },
        {
         "name": "people_vaccinated",
         "rawType": "float64",
         "type": "float"
        },
        {
         "name": "people_fully_vaccinated",
         "rawType": "float64",
         "type": "float"
        },
        {
         "name": "total_boosters",
         "rawType": "float64",
         "type": "float"
        },
        {
         "name": "new_vaccinations",
         "rawType": "float64",
         "type": "float"
        },
        {
         "name": "new_vaccinations_smoothed",
         "rawType": "float64",
         "type": "float"
        },
        {
         "name": "total_vaccinations_per_hundred",
         "rawType": "float64",
         "type": "float"
        },
        {
         "name": "people_vaccinated_per_hundred",
         "rawType": "float64",
         "type": "float"
        },
        {
         "name": "people_fully_vaccinated_per_hundred",
         "rawType": "float64",
         "type": "float"
        },
        {
         "name": "total_boosters_per_hundred",
         "rawType": "float64",
         "type": "float"
        },
        {
         "name": "new_vaccinations_smoothed_per_million",
         "rawType": "float64",
         "type": "float"
        },
        {
         "name": "new_people_vaccinated_smoothed",
         "rawType": "float64",
         "type": "float"
        },
        {
         "name": "new_people_vaccinated_smoothed_per_hundred",
         "rawType": "float64",
         "type": "float"
        },
        {
         "name": "stringency_index",
         "rawType": "float64",
         "type": "float"
        },
        {
         "name": "population_density",
         "rawType": "float64",
         "type": "float"
        },
        {
         "name": "median_age",
         "rawType": "float64",
         "type": "float"
        },
        {
         "name": "aged_65_older",
         "rawType": "float64",
         "type": "float"
        },
        {
         "name": "aged_70_older",
         "rawType": "float64",
         "type": "float"
        },
        {
         "name": "gdp_per_capita",
         "rawType": "float64",
         "type": "float"
        },
        {
         "name": "extreme_poverty",
         "rawType": "float64",
         "type": "float"
        },
        {
         "name": "cardiovasc_death_rate",
         "rawType": "float64",
         "type": "float"
        },
        {
         "name": "diabetes_prevalence",
         "rawType": "float64",
         "type": "float"
        },
        {
         "name": "female_smokers",
         "rawType": "float64",
         "type": "float"
        },
        {
         "name": "male_smokers",
         "rawType": "float64",
         "type": "float"
        },
        {
         "name": "handwashing_facilities",
         "rawType": "float64",
         "type": "float"
        },
        {
         "name": "hospital_beds_per_thousand",
         "rawType": "float64",
         "type": "float"
        },
        {
         "name": "life_expectancy",
         "rawType": "float64",
         "type": "float"
        },
        {
         "name": "human_development_index",
         "rawType": "float64",
         "type": "float"
        },
        {
         "name": "population",
         "rawType": "int64",
         "type": "integer"
        },
        {
         "name": "excess_mortality_cumulative_absolute",
         "rawType": "float64",
         "type": "float"
        },
        {
         "name": "excess_mortality_cumulative",
         "rawType": "float64",
         "type": "float"
        },
        {
         "name": "excess_mortality",
         "rawType": "float64",
         "type": "float"
        },
        {
         "name": "excess_mortality_cumulative_per_million",
         "rawType": "float64",
         "type": "float"
        }
       ],
       "conversionMethod": "pd.DataFrame",
       "ref": "230f698e-82d9-4bc3-8086-bfb698e0491d",
       "rows": [
        [
         "0",
         "AFG",
         "Asia",
         "Afghanistan",
         "2020-01-05",
         "0.0",
         "0.0",
         null,
         "0.0",
         "0.0",
         null,
         "0.0",
         "0.0",
         null,
         "0.0",
         "0.0",
         null,
         null,
         null,
         null,
         null,
         null,
         null,
         null,
         null,
         null,
         null,
         null,
         null,
         null,
         null,
         null,
         null,
         null,
         null,
         null,
         null,
         null,
         null,
         null,
         null,
         null,
         null,
         null,
         null,
         null,
         null,
         null,
         "0.0",
         "54.422",
         "18.6",
         "2.581",
         "1.337",
         "1803.987",
         null,
         "597.029",
         "9.59",
         null,
         null,
         "37.746",
         "0.5",
         "64.83",
         "0.511",
         "41128772",
         null,
         null,
         null,
         null
        ],
        [
         "1",
         "AFG",
         "Asia",
         "Afghanistan",
         "2020-01-06",
         "0.0",
         "0.0",
         null,
         "0.0",
         "0.0",
         null,
         "0.0",
         "0.0",
         null,
         "0.0",
         "0.0",
         null,
         null,
         null,
         null,
         null,
         null,
         null,
         null,
         null,
         null,
         null,
         null,
         null,
         null,
         null,
         null,
         null,
         null,
         null,
         null,
         null,
         null,
         null,
         null,
         null,
         null,
         null,
         null,
         null,
         null,
         null,
         null,
         "0.0",
         "54.422",
         "18.6",
         "2.581",
         "1.337",
         "1803.987",
         null,
         "597.029",
         "9.59",
         null,
         null,
         "37.746",
         "0.5",
         "64.83",
         "0.511",
         "41128772",
         null,
         null,
         null,
         null
        ],
        [
         "2",
         "AFG",
         "Asia",
         "Afghanistan",
         "2020-01-07",
         "0.0",
         "0.0",
         null,
         "0.0",
         "0.0",
         null,
         "0.0",
         "0.0",
         null,
         "0.0",
         "0.0",
         null,
         null,
         null,
         null,
         null,
         null,
         null,
         null,
         null,
         null,
         null,
         null,
         null,
         null,
         null,
         null,
         null,
         null,
         null,
         null,
         null,
         null,
         null,
         null,
         null,
         null,
         null,
         null,
         null,
         null,
         null,
         null,
         "0.0",
         "54.422",
         "18.6",
         "2.581",
         "1.337",
         "1803.987",
         null,
         "597.029",
         "9.59",
         null,
         null,
         "37.746",
         "0.5",
         "64.83",
         "0.511",
         "41128772",
         null,
         null,
         null,
         null
        ],
        [
         "3",
         "AFG",
         "Asia",
         "Afghanistan",
         "2020-01-08",
         "0.0",
         "0.0",
         null,
         "0.0",
         "0.0",
         null,
         "0.0",
         "0.0",
         null,
         "0.0",
         "0.0",
         null,
         null,
         null,
         null,
         null,
         null,
         null,
         null,
         null,
         null,
         null,
         null,
         null,
         null,
         null,
         null,
         null,
         null,
         null,
         null,
         null,
         null,
         null,
         null,
         null,
         null,
         null,
         null,
         null,
         null,
         null,
         null,
         "0.0",
         "54.422",
         "18.6",
         "2.581",
         "1.337",
         "1803.987",
         null,
         "597.029",
         "9.59",
         null,
         null,
         "37.746",
         "0.5",
         "64.83",
         "0.511",
         "41128772",
         null,
         null,
         null,
         null
        ],
        [
         "4",
         "AFG",
         "Asia",
         "Afghanistan",
         "2020-01-09",
         "0.0",
         "0.0",
         null,
         "0.0",
         "0.0",
         null,
         "0.0",
         "0.0",
         null,
         "0.0",
         "0.0",
         null,
         null,
         null,
         null,
         null,
         null,
         null,
         null,
         null,
         null,
         null,
         null,
         null,
         null,
         null,
         null,
         null,
         null,
         null,
         null,
         null,
         null,
         null,
         null,
         null,
         null,
         null,
         null,
         null,
         null,
         null,
         null,
         "0.0",
         "54.422",
         "18.6",
         "2.581",
         "1.337",
         "1803.987",
         null,
         "597.029",
         "9.59",
         null,
         null,
         "37.746",
         "0.5",
         "64.83",
         "0.511",
         "41128772",
         null,
         null,
         null,
         null
        ]
       ],
       "shape": {
        "columns": 67,
        "rows": 5
       }
      },
      "text/html": [
       "<div>\n",
       "<style scoped>\n",
       "    .dataframe tbody tr th:only-of-type {\n",
       "        vertical-align: middle;\n",
       "    }\n",
       "\n",
       "    .dataframe tbody tr th {\n",
       "        vertical-align: top;\n",
       "    }\n",
       "\n",
       "    .dataframe thead th {\n",
       "        text-align: right;\n",
       "    }\n",
       "</style>\n",
       "<table border=\"1\" class=\"dataframe\">\n",
       "  <thead>\n",
       "    <tr style=\"text-align: right;\">\n",
       "      <th></th>\n",
       "      <th>iso_code</th>\n",
       "      <th>continent</th>\n",
       "      <th>location</th>\n",
       "      <th>date</th>\n",
       "      <th>total_cases</th>\n",
       "      <th>new_cases</th>\n",
       "      <th>new_cases_smoothed</th>\n",
       "      <th>total_deaths</th>\n",
       "      <th>new_deaths</th>\n",
       "      <th>new_deaths_smoothed</th>\n",
       "      <th>...</th>\n",
       "      <th>male_smokers</th>\n",
       "      <th>handwashing_facilities</th>\n",
       "      <th>hospital_beds_per_thousand</th>\n",
       "      <th>life_expectancy</th>\n",
       "      <th>human_development_index</th>\n",
       "      <th>population</th>\n",
       "      <th>excess_mortality_cumulative_absolute</th>\n",
       "      <th>excess_mortality_cumulative</th>\n",
       "      <th>excess_mortality</th>\n",
       "      <th>excess_mortality_cumulative_per_million</th>\n",
       "    </tr>\n",
       "  </thead>\n",
       "  <tbody>\n",
       "    <tr>\n",
       "      <th>0</th>\n",
       "      <td>AFG</td>\n",
       "      <td>Asia</td>\n",
       "      <td>Afghanistan</td>\n",
       "      <td>2020-01-05</td>\n",
       "      <td>0.0</td>\n",
       "      <td>0.0</td>\n",
       "      <td>NaN</td>\n",
       "      <td>0.0</td>\n",
       "      <td>0.0</td>\n",
       "      <td>NaN</td>\n",
       "      <td>...</td>\n",
       "      <td>NaN</td>\n",
       "      <td>37.746</td>\n",
       "      <td>0.5</td>\n",
       "      <td>64.83</td>\n",
       "      <td>0.511</td>\n",
       "      <td>41128772</td>\n",
       "      <td>NaN</td>\n",
       "      <td>NaN</td>\n",
       "      <td>NaN</td>\n",
       "      <td>NaN</td>\n",
       "    </tr>\n",
       "    <tr>\n",
       "      <th>1</th>\n",
       "      <td>AFG</td>\n",
       "      <td>Asia</td>\n",
       "      <td>Afghanistan</td>\n",
       "      <td>2020-01-06</td>\n",
       "      <td>0.0</td>\n",
       "      <td>0.0</td>\n",
       "      <td>NaN</td>\n",
       "      <td>0.0</td>\n",
       "      <td>0.0</td>\n",
       "      <td>NaN</td>\n",
       "      <td>...</td>\n",
       "      <td>NaN</td>\n",
       "      <td>37.746</td>\n",
       "      <td>0.5</td>\n",
       "      <td>64.83</td>\n",
       "      <td>0.511</td>\n",
       "      <td>41128772</td>\n",
       "      <td>NaN</td>\n",
       "      <td>NaN</td>\n",
       "      <td>NaN</td>\n",
       "      <td>NaN</td>\n",
       "    </tr>\n",
       "    <tr>\n",
       "      <th>2</th>\n",
       "      <td>AFG</td>\n",
       "      <td>Asia</td>\n",
       "      <td>Afghanistan</td>\n",
       "      <td>2020-01-07</td>\n",
       "      <td>0.0</td>\n",
       "      <td>0.0</td>\n",
       "      <td>NaN</td>\n",
       "      <td>0.0</td>\n",
       "      <td>0.0</td>\n",
       "      <td>NaN</td>\n",
       "      <td>...</td>\n",
       "      <td>NaN</td>\n",
       "      <td>37.746</td>\n",
       "      <td>0.5</td>\n",
       "      <td>64.83</td>\n",
       "      <td>0.511</td>\n",
       "      <td>41128772</td>\n",
       "      <td>NaN</td>\n",
       "      <td>NaN</td>\n",
       "      <td>NaN</td>\n",
       "      <td>NaN</td>\n",
       "    </tr>\n",
       "    <tr>\n",
       "      <th>3</th>\n",
       "      <td>AFG</td>\n",
       "      <td>Asia</td>\n",
       "      <td>Afghanistan</td>\n",
       "      <td>2020-01-08</td>\n",
       "      <td>0.0</td>\n",
       "      <td>0.0</td>\n",
       "      <td>NaN</td>\n",
       "      <td>0.0</td>\n",
       "      <td>0.0</td>\n",
       "      <td>NaN</td>\n",
       "      <td>...</td>\n",
       "      <td>NaN</td>\n",
       "      <td>37.746</td>\n",
       "      <td>0.5</td>\n",
       "      <td>64.83</td>\n",
       "      <td>0.511</td>\n",
       "      <td>41128772</td>\n",
       "      <td>NaN</td>\n",
       "      <td>NaN</td>\n",
       "      <td>NaN</td>\n",
       "      <td>NaN</td>\n",
       "    </tr>\n",
       "    <tr>\n",
       "      <th>4</th>\n",
       "      <td>AFG</td>\n",
       "      <td>Asia</td>\n",
       "      <td>Afghanistan</td>\n",
       "      <td>2020-01-09</td>\n",
       "      <td>0.0</td>\n",
       "      <td>0.0</td>\n",
       "      <td>NaN</td>\n",
       "      <td>0.0</td>\n",
       "      <td>0.0</td>\n",
       "      <td>NaN</td>\n",
       "      <td>...</td>\n",
       "      <td>NaN</td>\n",
       "      <td>37.746</td>\n",
       "      <td>0.5</td>\n",
       "      <td>64.83</td>\n",
       "      <td>0.511</td>\n",
       "      <td>41128772</td>\n",
       "      <td>NaN</td>\n",
       "      <td>NaN</td>\n",
       "      <td>NaN</td>\n",
       "      <td>NaN</td>\n",
       "    </tr>\n",
       "  </tbody>\n",
       "</table>\n",
       "<p>5 rows × 67 columns</p>\n",
       "</div>"
      ],
      "text/plain": [
       "  iso_code continent     location        date  total_cases  new_cases  \\\n",
       "0      AFG      Asia  Afghanistan  2020-01-05          0.0        0.0   \n",
       "1      AFG      Asia  Afghanistan  2020-01-06          0.0        0.0   \n",
       "2      AFG      Asia  Afghanistan  2020-01-07          0.0        0.0   \n",
       "3      AFG      Asia  Afghanistan  2020-01-08          0.0        0.0   \n",
       "4      AFG      Asia  Afghanistan  2020-01-09          0.0        0.0   \n",
       "\n",
       "   new_cases_smoothed  total_deaths  new_deaths  new_deaths_smoothed  ...  \\\n",
       "0                 NaN           0.0         0.0                  NaN  ...   \n",
       "1                 NaN           0.0         0.0                  NaN  ...   \n",
       "2                 NaN           0.0         0.0                  NaN  ...   \n",
       "3                 NaN           0.0         0.0                  NaN  ...   \n",
       "4                 NaN           0.0         0.0                  NaN  ...   \n",
       "\n",
       "   male_smokers  handwashing_facilities  hospital_beds_per_thousand  \\\n",
       "0           NaN                  37.746                         0.5   \n",
       "1           NaN                  37.746                         0.5   \n",
       "2           NaN                  37.746                         0.5   \n",
       "3           NaN                  37.746                         0.5   \n",
       "4           NaN                  37.746                         0.5   \n",
       "\n",
       "   life_expectancy  human_development_index  population  \\\n",
       "0            64.83                    0.511    41128772   \n",
       "1            64.83                    0.511    41128772   \n",
       "2            64.83                    0.511    41128772   \n",
       "3            64.83                    0.511    41128772   \n",
       "4            64.83                    0.511    41128772   \n",
       "\n",
       "   excess_mortality_cumulative_absolute  excess_mortality_cumulative  \\\n",
       "0                                   NaN                          NaN   \n",
       "1                                   NaN                          NaN   \n",
       "2                                   NaN                          NaN   \n",
       "3                                   NaN                          NaN   \n",
       "4                                   NaN                          NaN   \n",
       "\n",
       "   excess_mortality  excess_mortality_cumulative_per_million  \n",
       "0               NaN                                      NaN  \n",
       "1               NaN                                      NaN  \n",
       "2               NaN                                      NaN  \n",
       "3               NaN                                      NaN  \n",
       "4               NaN                                      NaN  \n",
       "\n",
       "[5 rows x 67 columns]"
      ]
     },
     "execution_count": 4,
     "metadata": {},
     "output_type": "execute_result"
    }
   ],
   "source": [
    "# Preview the data\n",
    "covid_df.head()"
   ]
  },
  {
   "cell_type": "markdown",
   "id": "0e74222d",
   "metadata": {},
   "source": [
    "### 4. Basic Exploration"
   ]
  },
  {
   "cell_type": "code",
   "execution_count": 5,
   "id": "240685f6",
   "metadata": {},
   "outputs": [
    {
     "name": "stdout",
     "output_type": "stream",
     "text": [
      "<class 'pandas.core.frame.DataFrame'>\n",
      "RangeIndex: 429435 entries, 0 to 429434\n",
      "Data columns (total 67 columns):\n",
      " #   Column                                      Non-Null Count   Dtype  \n",
      "---  ------                                      --------------   -----  \n",
      " 0   iso_code                                    429435 non-null  object \n",
      " 1   continent                                   402910 non-null  object \n",
      " 2   location                                    429435 non-null  object \n",
      " 3   date                                        429435 non-null  object \n",
      " 4   total_cases                                 411804 non-null  float64\n",
      " 5   new_cases                                   410159 non-null  float64\n",
      " 6   new_cases_smoothed                          408929 non-null  float64\n",
      " 7   total_deaths                                411804 non-null  float64\n",
      " 8   new_deaths                                  410608 non-null  float64\n",
      " 9   new_deaths_smoothed                         409378 non-null  float64\n",
      " 10  total_cases_per_million                     411804 non-null  float64\n",
      " 11  new_cases_per_million                       410159 non-null  float64\n",
      " 12  new_cases_smoothed_per_million              408929 non-null  float64\n",
      " 13  total_deaths_per_million                    411804 non-null  float64\n",
      " 14  new_deaths_per_million                      410608 non-null  float64\n",
      " 15  new_deaths_smoothed_per_million             409378 non-null  float64\n",
      " 16  reproduction_rate                           184817 non-null  float64\n",
      " 17  icu_patients                                39116 non-null   float64\n",
      " 18  icu_patients_per_million                    39116 non-null   float64\n",
      " 19  hosp_patients                               40656 non-null   float64\n",
      " 20  hosp_patients_per_million                   40656 non-null   float64\n",
      " 21  weekly_icu_admissions                       10993 non-null   float64\n",
      " 22  weekly_icu_admissions_per_million           10993 non-null   float64\n",
      " 23  weekly_hosp_admissions                      24497 non-null   float64\n",
      " 24  weekly_hosp_admissions_per_million          24497 non-null   float64\n",
      " 25  total_tests                                 79387 non-null   float64\n",
      " 26  new_tests                                   75403 non-null   float64\n",
      " 27  total_tests_per_thousand                    79387 non-null   float64\n",
      " 28  new_tests_per_thousand                      75403 non-null   float64\n",
      " 29  new_tests_smoothed                          103965 non-null  float64\n",
      " 30  new_tests_smoothed_per_thousand             103965 non-null  float64\n",
      " 31  positive_rate                               95927 non-null   float64\n",
      " 32  tests_per_case                              94348 non-null   float64\n",
      " 33  tests_units                                 106788 non-null  object \n",
      " 34  total_vaccinations                          85417 non-null   float64\n",
      " 35  people_vaccinated                           81132 non-null   float64\n",
      " 36  people_fully_vaccinated                     78061 non-null   float64\n",
      " 37  total_boosters                              53600 non-null   float64\n",
      " 38  new_vaccinations                            70971 non-null   float64\n",
      " 39  new_vaccinations_smoothed                   195029 non-null  float64\n",
      " 40  total_vaccinations_per_hundred              85417 non-null   float64\n",
      " 41  people_vaccinated_per_hundred               81132 non-null   float64\n",
      " 42  people_fully_vaccinated_per_hundred         78061 non-null   float64\n",
      " 43  total_boosters_per_hundred                  53600 non-null   float64\n",
      " 44  new_vaccinations_smoothed_per_million       195029 non-null  float64\n",
      " 45  new_people_vaccinated_smoothed              192177 non-null  float64\n",
      " 46  new_people_vaccinated_smoothed_per_hundred  192177 non-null  float64\n",
      " 47  stringency_index                            196190 non-null  float64\n",
      " 48  population_density                          360492 non-null  float64\n",
      " 49  median_age                                  334663 non-null  float64\n",
      " 50  aged_65_older                               323270 non-null  float64\n",
      " 51  aged_70_older                               331315 non-null  float64\n",
      " 52  gdp_per_capita                              328292 non-null  float64\n",
      " 53  extreme_poverty                             211996 non-null  float64\n",
      " 54  cardiovasc_death_rate                       328865 non-null  float64\n",
      " 55  diabetes_prevalence                         345911 non-null  float64\n",
      " 56  female_smokers                              247165 non-null  float64\n",
      " 57  male_smokers                                243817 non-null  float64\n",
      " 58  handwashing_facilities                      161741 non-null  float64\n",
      " 59  hospital_beds_per_thousand                  290689 non-null  float64\n",
      " 60  life_expectancy                             390299 non-null  float64\n",
      " 61  human_development_index                     319127 non-null  float64\n",
      " 62  population                                  429435 non-null  int64  \n",
      " 63  excess_mortality_cumulative_absolute        13411 non-null   float64\n",
      " 64  excess_mortality_cumulative                 13411 non-null   float64\n",
      " 65  excess_mortality                            13411 non-null   float64\n",
      " 66  excess_mortality_cumulative_per_million     13411 non-null   float64\n",
      "dtypes: float64(61), int64(1), object(5)\n",
      "memory usage: 219.5+ MB\n"
     ]
    }
   ],
   "source": [
    "# Check the structure\n",
    "covid_df.info()"
   ]
  },
  {
   "cell_type": "code",
   "execution_count": 6,
   "id": "39a00639",
   "metadata": {},
   "outputs": [
    {
     "data": {
      "application/vnd.microsoft.datawrangler.viewer.v0+json": {
       "columns": [
        {
         "name": "index",
         "rawType": "object",
         "type": "string"
        },
        {
         "name": "total_cases",
         "rawType": "float64",
         "type": "float"
        },
        {
         "name": "new_cases",
         "rawType": "float64",
         "type": "float"
        },
        {
         "name": "new_cases_smoothed",
         "rawType": "float64",
         "type": "float"
        },
        {
         "name": "total_deaths",
         "rawType": "float64",
         "type": "float"
        },
        {
         "name": "new_deaths",
         "rawType": "float64",
         "type": "float"
        },
        {
         "name": "new_deaths_smoothed",
         "rawType": "float64",
         "type": "float"
        },
        {
         "name": "total_cases_per_million",
         "rawType": "float64",
         "type": "float"
        },
        {
         "name": "new_cases_per_million",
         "rawType": "float64",
         "type": "float"
        },
        {
         "name": "new_cases_smoothed_per_million",
         "rawType": "float64",
         "type": "float"
        },
        {
         "name": "total_deaths_per_million",
         "rawType": "float64",
         "type": "float"
        },
        {
         "name": "new_deaths_per_million",
         "rawType": "float64",
         "type": "float"
        },
        {
         "name": "new_deaths_smoothed_per_million",
         "rawType": "float64",
         "type": "float"
        },
        {
         "name": "reproduction_rate",
         "rawType": "float64",
         "type": "float"
        },
        {
         "name": "icu_patients",
         "rawType": "float64",
         "type": "float"
        },
        {
         "name": "icu_patients_per_million",
         "rawType": "float64",
         "type": "float"
        },
        {
         "name": "hosp_patients",
         "rawType": "float64",
         "type": "float"
        },
        {
         "name": "hosp_patients_per_million",
         "rawType": "float64",
         "type": "float"
        },
        {
         "name": "weekly_icu_admissions",
         "rawType": "float64",
         "type": "float"
        },
        {
         "name": "weekly_icu_admissions_per_million",
         "rawType": "float64",
         "type": "float"
        },
        {
         "name": "weekly_hosp_admissions",
         "rawType": "float64",
         "type": "float"
        },
        {
         "name": "weekly_hosp_admissions_per_million",
         "rawType": "float64",
         "type": "float"
        },
        {
         "name": "total_tests",
         "rawType": "float64",
         "type": "float"
        },
        {
         "name": "new_tests",
         "rawType": "float64",
         "type": "float"
        },
        {
         "name": "total_tests_per_thousand",
         "rawType": "float64",
         "type": "float"
        },
        {
         "name": "new_tests_per_thousand",
         "rawType": "float64",
         "type": "float"
        },
        {
         "name": "new_tests_smoothed",
         "rawType": "float64",
         "type": "float"
        },
        {
         "name": "new_tests_smoothed_per_thousand",
         "rawType": "float64",
         "type": "float"
        },
        {
         "name": "positive_rate",
         "rawType": "float64",
         "type": "float"
        },
        {
         "name": "tests_per_case",
         "rawType": "float64",
         "type": "float"
        },
        {
         "name": "total_vaccinations",
         "rawType": "float64",
         "type": "float"
        },
        {
         "name": "people_vaccinated",
         "rawType": "float64",
         "type": "float"
        },
        {
         "name": "people_fully_vaccinated",
         "rawType": "float64",
         "type": "float"
        },
        {
         "name": "total_boosters",
         "rawType": "float64",
         "type": "float"
        },
        {
         "name": "new_vaccinations",
         "rawType": "float64",
         "type": "float"
        },
        {
         "name": "new_vaccinations_smoothed",
         "rawType": "float64",
         "type": "float"
        },
        {
         "name": "total_vaccinations_per_hundred",
         "rawType": "float64",
         "type": "float"
        },
        {
         "name": "people_vaccinated_per_hundred",
         "rawType": "float64",
         "type": "float"
        },
        {
         "name": "people_fully_vaccinated_per_hundred",
         "rawType": "float64",
         "type": "float"
        },
        {
         "name": "total_boosters_per_hundred",
         "rawType": "float64",
         "type": "float"
        },
        {
         "name": "new_vaccinations_smoothed_per_million",
         "rawType": "float64",
         "type": "float"
        },
        {
         "name": "new_people_vaccinated_smoothed",
         "rawType": "float64",
         "type": "float"
        },
        {
         "name": "new_people_vaccinated_smoothed_per_hundred",
         "rawType": "float64",
         "type": "float"
        },
        {
         "name": "stringency_index",
         "rawType": "float64",
         "type": "float"
        },
        {
         "name": "population_density",
         "rawType": "float64",
         "type": "float"
        },
        {
         "name": "median_age",
         "rawType": "float64",
         "type": "float"
        },
        {
         "name": "aged_65_older",
         "rawType": "float64",
         "type": "float"
        },
        {
         "name": "aged_70_older",
         "rawType": "float64",
         "type": "float"
        },
        {
         "name": "gdp_per_capita",
         "rawType": "float64",
         "type": "float"
        },
        {
         "name": "extreme_poverty",
         "rawType": "float64",
         "type": "float"
        },
        {
         "name": "cardiovasc_death_rate",
         "rawType": "float64",
         "type": "float"
        },
        {
         "name": "diabetes_prevalence",
         "rawType": "float64",
         "type": "float"
        },
        {
         "name": "female_smokers",
         "rawType": "float64",
         "type": "float"
        },
        {
         "name": "male_smokers",
         "rawType": "float64",
         "type": "float"
        },
        {
         "name": "handwashing_facilities",
         "rawType": "float64",
         "type": "float"
        },
        {
         "name": "hospital_beds_per_thousand",
         "rawType": "float64",
         "type": "float"
        },
        {
         "name": "life_expectancy",
         "rawType": "float64",
         "type": "float"
        },
        {
         "name": "human_development_index",
         "rawType": "float64",
         "type": "float"
        },
        {
         "name": "population",
         "rawType": "float64",
         "type": "float"
        },
        {
         "name": "excess_mortality_cumulative_absolute",
         "rawType": "float64",
         "type": "float"
        },
        {
         "name": "excess_mortality_cumulative",
         "rawType": "float64",
         "type": "float"
        },
        {
         "name": "excess_mortality",
         "rawType": "float64",
         "type": "float"
        },
        {
         "name": "excess_mortality_cumulative_per_million",
         "rawType": "float64",
         "type": "float"
        }
       ],
       "conversionMethod": "pd.DataFrame",
       "ref": "ab51ca37-aa95-4b6e-9702-eb01c13d2be7",
       "rows": [
        [
         "count",
         "411804.0",
         "410159.0",
         "408929.0",
         "411804.0",
         "410608.0",
         "409378.0",
         "411804.0",
         "410159.0",
         "408929.0",
         "411804.0",
         "410608.0",
         "409378.0",
         "184817.0",
         "39116.0",
         "39116.0",
         "40656.0",
         "40656.0",
         "10993.0",
         "10993.0",
         "24497.0",
         "24497.0",
         "79387.0",
         "75403.0",
         "79387.0",
         "75403.0",
         "103965.0",
         "103965.0",
         "95927.0",
         "94348.0",
         "85417.0",
         "81132.0",
         "78061.0",
         "53600.0",
         "70971.0",
         "195029.0",
         "85417.0",
         "81132.0",
         "78061.0",
         "53600.0",
         "195029.0",
         "192177.0",
         "192177.0",
         "196190.0",
         "360492.0",
         "334663.0",
         "323270.0",
         "331315.0",
         "328292.0",
         "211996.0",
         "328865.0",
         "345911.0",
         "247165.0",
         "243817.0",
         "161741.0",
         "290689.0",
         "390299.0",
         "319127.0",
         "429435.0",
         "13411.0",
         "13411.0",
         "13411.0",
         "13411.0"
        ],
        [
         "mean",
         "7365292.354484173",
         "8017.359933586731",
         "8041.025775110106",
         "81259.57427805461",
         "71.8521387795659",
         "72.06087296337371",
         "112096.19939639488",
         "122.35707425169261",
         "122.71384407562194",
         "835.5143134185196",
         "0.7623225753029653",
         "0.7645548808191943",
         "0.9114953710968148",
         "660.9714183454341",
         "15.656340474486147",
         "3911.7415633608816",
         "125.98800656729635",
         "317.8941144364596",
         "9.67194350950605",
         "4291.723313058742",
         "82.61912989345635",
         "21104573.93801252",
         "67285.41211888121",
         "924.2547618627733",
         "3.2724657904857897",
         "142178.3636993219",
         "2.826308834703987",
         "0.09816250586383399",
         "2403.632807266715",
         "561697983.4254072",
         "248706410.74005324",
         "228663910.07339132",
         "150581058.90156716",
         "739864.0267433177",
         "283875.815135185",
         "124.27955758221432",
         "53.50140881526402",
         "48.68018216522975",
         "36.30148861940299",
         "1851.477595639623",
         "106070.69886614944",
         "0.0749797322260208",
         "42.87756032417554",
         "394.0730953391476",
         "30.456295736307865",
         "8.684103300646518",
         "5.486843025519522",
         "18904.182985546402",
         "13.924729240174345",
         "264.6393870402749",
         "8.556055112442218",
         "10.772465179131348",
         "33.09772304638315",
         "50.64926392194929",
         "3.106912273942254",
         "73.702098365612",
         "0.722139167165423",
         "152033640.39627418",
         "56047.65349992528",
         "9.76643128774886",
         "10.925353068376705",
         "1772.6663995065244"
        ],
        [
         "std",
         "44775816.76671946",
         "229664.8667305908",
         "86616.11130226747",
         "441190.13823694055",
         "1368.322989700671",
         "513.6365668793387",
         "162240.41241922652",
         "1508.7785831849117",
         "559.701638472432",
         "1134.9326707289172",
         "6.98253685552758",
         "2.5465185025360073",
         "0.39992499556705774",
         "2139.615531653167",
         "22.785488764073193",
         "9845.750484741508",
         "151.1558123602273",
         "514.4129100144711",
         "13.574016514417902",
         "10919.623681068944",
         "88.39675119263573",
         "84098694.31109457",
         "247734.0045698391",
         "2195.428504333424",
         "9.033842747139177",
         "1138214.6555840857",
         "7.3082325798559165",
         "0.11597757345500818",
         "33443.660676732834",
         "1842160151.9016917",
         "800646051.1265795",
         "740376339.0430295",
         "436069655.2695473",
         "3183064.38330583",
         "1922351.903822934",
         "85.09804177253136",
         "29.37965525356049",
         "29.042282376022538",
         "30.21820775829027",
         "3117.8287311520417",
         "786688.3872564272",
         "0.1762155961289687",
         "24.87049215909811",
         "1785.4512151853653",
         "9.093554097916504",
         "6.093192990800658",
         "4.136341674121041",
         "19829.578098644124",
         "20.073912014583197",
         "120.75683553265529",
         "4.93465633273048",
         "10.761079607143957",
         "13.853947755508308",
         "31.905375445056315",
         "2.5492048190163565",
         "7.38791444627897",
         "0.14890258078452082",
         "697540771.6681002",
         "156869.07565146426",
         "12.040658432826891",
         "24.56070592968767",
         "1991.8927687294313"
        ],
        [
         "min",
         "0.0",
         "0.0",
         "0.0",
         "0.0",
         "0.0",
         "0.0",
         "0.0",
         "0.0",
         "0.0",
         "0.0",
         "0.0",
         "0.0",
         "-0.07",
         "0.0",
         "0.0",
         "0.0",
         "0.0",
         "0.0",
         "0.0",
         "0.0",
         "0.0",
         "0.0",
         "1.0",
         "0.0",
         "0.0",
         "0.0",
         "0.0",
         "0.0",
         "1.0",
         "0.0",
         "0.0",
         "1.0",
         "1.0",
         "0.0",
         "0.0",
         "0.0",
         "0.0",
         "0.0",
         "0.0",
         "0.0",
         "0.0",
         "0.0",
         "0.0",
         "0.137",
         "15.1",
         "1.144",
         "0.526",
         "661.24",
         "0.1",
         "79.37",
         "0.99",
         "0.1",
         "7.7",
         "1.188",
         "0.1",
         "53.28",
         "0.394",
         "47.0",
         "-37726.098",
         "-44.23",
         "-95.92",
         "-2936.4531"
        ],
        [
         "25%",
         "6280.75",
         "0.0",
         "0.0",
         "43.0",
         "0.0",
         "0.0",
         "1916.1005",
         "0.0",
         "0.0",
         "24.568",
         "0.0",
         "0.0",
         "0.72",
         "21.0",
         "2.328",
         "186.0",
         "30.997",
         "17.0",
         "1.549",
         "223.0",
         "23.728",
         "364654.0",
         "2244.0",
         "43.585499999999996",
         "0.286",
         "1486.0",
         "0.203",
         "0.017",
         "7.1",
         "1970788.0",
         "1050009.25",
         "964400.0",
         "602282.0",
         "2010.0",
         "279.0",
         "44.77",
         "27.88",
         "21.22",
         "5.92",
         "106.0",
         "43.0",
         "0.001",
         "22.22",
         "37.728",
         "22.2",
         "3.526",
         "2.063",
         "4227.63",
         "0.6",
         "175.695",
         "5.35",
         "1.9",
         "22.6",
         "20.859",
         "1.3",
         "69.5",
         "0.602",
         "523798.0",
         "176.500005",
         "2.06",
         "-1.5",
         "116.8722425"
        ],
        [
         "50%",
         "63653.0",
         "0.0",
         "12.0",
         "799.0",
         "0.0",
         "0.0",
         "29145.475",
         "0.0",
         "2.794",
         "295.089",
         "0.0",
         "0.0",
         "0.95",
         "90.0",
         "6.434",
         "776.0",
         "74.236",
         "92.0",
         "4.645",
         "864.0",
         "56.277",
         "2067330.0",
         "8783.0",
         "234.141",
         "0.971",
         "6570.0",
         "0.851",
         "0.055",
         "17.5",
         "14394348.0",
         "6901087.5",
         "6191345.0",
         "5765440.0",
         "20531.0",
         "3871.0",
         "130.55",
         "64.3",
         "57.92",
         "35.905",
         "605.0",
         "771.0",
         "0.014",
         "42.85",
         "88.125",
         "29.7",
         "6.293",
         "3.871",
         "12294.876",
         "2.5",
         "245.465",
         "7.2",
         "6.3",
         "33.1",
         "49.542",
         "2.5",
         "75.05",
         "0.74",
         "6336393.0",
         "6815.1987",
         "8.13",
         "5.66",
         "1270.8014"
        ],
        [
         "75%",
         "758272.0",
         "0.0",
         "313.286",
         "9574.0",
         "0.0",
         "3.143",
         "156770.19",
         "0.0",
         "56.253",
         "1283.817",
         "0.0",
         "0.357",
         "1.14",
         "413.0",
         "18.779249999999998",
         "3051.0",
         "159.75825",
         "353.0",
         "12.651",
         "3893.0",
         "109.998",
         "10248451.5",
         "37229.0",
         "894.3745",
         "2.914",
         "32205.0",
         "2.584",
         "0.1381",
         "54.6",
         "116197175.0",
         "50932952.0",
         "47731850.0",
         "40190716.25",
         "173611.5",
         "31803.0",
         "194.99",
         "77.78",
         "73.61",
         "57.62",
         "2402.0",
         "9307.0",
         "0.073",
         "62.04",
         "222.873",
         "38.7",
         "13.928",
         "8.643",
         "27216.445",
         "21.4",
         "333.436",
         "10.79",
         "19.3",
         "41.5",
         "82.502",
         "4.21",
         "79.46",
         "0.829",
         "32969520.0",
         "39128.042499999996",
         "15.16",
         "15.575",
         "2883.02415"
        ],
        [
         "max",
         "775866783.0",
         "44236227.0",
         "6319461.0",
         "7057132.0",
         "103719.0",
         "14817.0",
         "763598.6",
         "241758.23",
         "34536.89",
         "6601.11",
         "893.655",
         "127.665",
         "5.87",
         "28891.0",
         "180.675",
         "154497.0",
         "1526.846",
         "4838.0",
         "224.976",
         "153977.0",
         "717.077",
         "9214000000.0",
         "35855632.0",
         "32925.826",
         "531.062",
         "14769984.0",
         "147.603",
         "1.0",
         "1023631.9",
         "13578774356.0",
         "5631263739.0",
         "5177942957.0",
         "2817381093.0",
         "49673198.0",
         "43691814.0",
         "410.23",
         "129.07",
         "126.89",
         "150.47",
         "117113.0",
         "21071266.0",
         "11.711",
         "100.0",
         "20546.766",
         "48.2",
         "27.049",
         "18.493",
         "116935.6",
         "77.6",
         "724.417",
         "30.53",
         "44.0",
         "78.1",
         "100.0",
         "13.8",
         "86.75",
         "0.957",
         "7975105024.0",
         "1349776.4",
         "78.08",
         "378.22",
         "10293.515"
        ]
       ],
       "shape": {
        "columns": 62,
        "rows": 8
       }
      },
      "text/html": [
       "<div>\n",
       "<style scoped>\n",
       "    .dataframe tbody tr th:only-of-type {\n",
       "        vertical-align: middle;\n",
       "    }\n",
       "\n",
       "    .dataframe tbody tr th {\n",
       "        vertical-align: top;\n",
       "    }\n",
       "\n",
       "    .dataframe thead th {\n",
       "        text-align: right;\n",
       "    }\n",
       "</style>\n",
       "<table border=\"1\" class=\"dataframe\">\n",
       "  <thead>\n",
       "    <tr style=\"text-align: right;\">\n",
       "      <th></th>\n",
       "      <th>total_cases</th>\n",
       "      <th>new_cases</th>\n",
       "      <th>new_cases_smoothed</th>\n",
       "      <th>total_deaths</th>\n",
       "      <th>new_deaths</th>\n",
       "      <th>new_deaths_smoothed</th>\n",
       "      <th>total_cases_per_million</th>\n",
       "      <th>new_cases_per_million</th>\n",
       "      <th>new_cases_smoothed_per_million</th>\n",
       "      <th>total_deaths_per_million</th>\n",
       "      <th>...</th>\n",
       "      <th>male_smokers</th>\n",
       "      <th>handwashing_facilities</th>\n",
       "      <th>hospital_beds_per_thousand</th>\n",
       "      <th>life_expectancy</th>\n",
       "      <th>human_development_index</th>\n",
       "      <th>population</th>\n",
       "      <th>excess_mortality_cumulative_absolute</th>\n",
       "      <th>excess_mortality_cumulative</th>\n",
       "      <th>excess_mortality</th>\n",
       "      <th>excess_mortality_cumulative_per_million</th>\n",
       "    </tr>\n",
       "  </thead>\n",
       "  <tbody>\n",
       "    <tr>\n",
       "      <th>count</th>\n",
       "      <td>4.118040e+05</td>\n",
       "      <td>4.101590e+05</td>\n",
       "      <td>4.089290e+05</td>\n",
       "      <td>4.118040e+05</td>\n",
       "      <td>410608.000000</td>\n",
       "      <td>409378.000000</td>\n",
       "      <td>411804.000000</td>\n",
       "      <td>410159.000000</td>\n",
       "      <td>408929.000000</td>\n",
       "      <td>411804.000000</td>\n",
       "      <td>...</td>\n",
       "      <td>243817.000000</td>\n",
       "      <td>161741.000000</td>\n",
       "      <td>290689.000000</td>\n",
       "      <td>390299.000000</td>\n",
       "      <td>319127.000000</td>\n",
       "      <td>4.294350e+05</td>\n",
       "      <td>1.341100e+04</td>\n",
       "      <td>13411.000000</td>\n",
       "      <td>13411.000000</td>\n",
       "      <td>13411.000000</td>\n",
       "    </tr>\n",
       "    <tr>\n",
       "      <th>mean</th>\n",
       "      <td>7.365292e+06</td>\n",
       "      <td>8.017360e+03</td>\n",
       "      <td>8.041026e+03</td>\n",
       "      <td>8.125957e+04</td>\n",
       "      <td>71.852139</td>\n",
       "      <td>72.060873</td>\n",
       "      <td>112096.199396</td>\n",
       "      <td>122.357074</td>\n",
       "      <td>122.713844</td>\n",
       "      <td>835.514313</td>\n",
       "      <td>...</td>\n",
       "      <td>33.097723</td>\n",
       "      <td>50.649264</td>\n",
       "      <td>3.106912</td>\n",
       "      <td>73.702098</td>\n",
       "      <td>0.722139</td>\n",
       "      <td>1.520336e+08</td>\n",
       "      <td>5.604765e+04</td>\n",
       "      <td>9.766431</td>\n",
       "      <td>10.925353</td>\n",
       "      <td>1772.666400</td>\n",
       "    </tr>\n",
       "    <tr>\n",
       "      <th>std</th>\n",
       "      <td>4.477582e+07</td>\n",
       "      <td>2.296649e+05</td>\n",
       "      <td>8.661611e+04</td>\n",
       "      <td>4.411901e+05</td>\n",
       "      <td>1368.322990</td>\n",
       "      <td>513.636567</td>\n",
       "      <td>162240.412419</td>\n",
       "      <td>1508.778583</td>\n",
       "      <td>559.701638</td>\n",
       "      <td>1134.932671</td>\n",
       "      <td>...</td>\n",
       "      <td>13.853948</td>\n",
       "      <td>31.905375</td>\n",
       "      <td>2.549205</td>\n",
       "      <td>7.387914</td>\n",
       "      <td>0.148903</td>\n",
       "      <td>6.975408e+08</td>\n",
       "      <td>1.568691e+05</td>\n",
       "      <td>12.040658</td>\n",
       "      <td>24.560706</td>\n",
       "      <td>1991.892769</td>\n",
       "    </tr>\n",
       "    <tr>\n",
       "      <th>min</th>\n",
       "      <td>0.000000e+00</td>\n",
       "      <td>0.000000e+00</td>\n",
       "      <td>0.000000e+00</td>\n",
       "      <td>0.000000e+00</td>\n",
       "      <td>0.000000</td>\n",
       "      <td>0.000000</td>\n",
       "      <td>0.000000</td>\n",
       "      <td>0.000000</td>\n",
       "      <td>0.000000</td>\n",
       "      <td>0.000000</td>\n",
       "      <td>...</td>\n",
       "      <td>7.700000</td>\n",
       "      <td>1.188000</td>\n",
       "      <td>0.100000</td>\n",
       "      <td>53.280000</td>\n",
       "      <td>0.394000</td>\n",
       "      <td>4.700000e+01</td>\n",
       "      <td>-3.772610e+04</td>\n",
       "      <td>-44.230000</td>\n",
       "      <td>-95.920000</td>\n",
       "      <td>-2936.453100</td>\n",
       "    </tr>\n",
       "    <tr>\n",
       "      <th>25%</th>\n",
       "      <td>6.280750e+03</td>\n",
       "      <td>0.000000e+00</td>\n",
       "      <td>0.000000e+00</td>\n",
       "      <td>4.300000e+01</td>\n",
       "      <td>0.000000</td>\n",
       "      <td>0.000000</td>\n",
       "      <td>1916.100500</td>\n",
       "      <td>0.000000</td>\n",
       "      <td>0.000000</td>\n",
       "      <td>24.568000</td>\n",
       "      <td>...</td>\n",
       "      <td>22.600000</td>\n",
       "      <td>20.859000</td>\n",
       "      <td>1.300000</td>\n",
       "      <td>69.500000</td>\n",
       "      <td>0.602000</td>\n",
       "      <td>5.237980e+05</td>\n",
       "      <td>1.765000e+02</td>\n",
       "      <td>2.060000</td>\n",
       "      <td>-1.500000</td>\n",
       "      <td>116.872242</td>\n",
       "    </tr>\n",
       "    <tr>\n",
       "      <th>50%</th>\n",
       "      <td>6.365300e+04</td>\n",
       "      <td>0.000000e+00</td>\n",
       "      <td>1.200000e+01</td>\n",
       "      <td>7.990000e+02</td>\n",
       "      <td>0.000000</td>\n",
       "      <td>0.000000</td>\n",
       "      <td>29145.475000</td>\n",
       "      <td>0.000000</td>\n",
       "      <td>2.794000</td>\n",
       "      <td>295.089000</td>\n",
       "      <td>...</td>\n",
       "      <td>33.100000</td>\n",
       "      <td>49.542000</td>\n",
       "      <td>2.500000</td>\n",
       "      <td>75.050000</td>\n",
       "      <td>0.740000</td>\n",
       "      <td>6.336393e+06</td>\n",
       "      <td>6.815199e+03</td>\n",
       "      <td>8.130000</td>\n",
       "      <td>5.660000</td>\n",
       "      <td>1270.801400</td>\n",
       "    </tr>\n",
       "    <tr>\n",
       "      <th>75%</th>\n",
       "      <td>7.582720e+05</td>\n",
       "      <td>0.000000e+00</td>\n",
       "      <td>3.132860e+02</td>\n",
       "      <td>9.574000e+03</td>\n",
       "      <td>0.000000</td>\n",
       "      <td>3.143000</td>\n",
       "      <td>156770.190000</td>\n",
       "      <td>0.000000</td>\n",
       "      <td>56.253000</td>\n",
       "      <td>1283.817000</td>\n",
       "      <td>...</td>\n",
       "      <td>41.500000</td>\n",
       "      <td>82.502000</td>\n",
       "      <td>4.210000</td>\n",
       "      <td>79.460000</td>\n",
       "      <td>0.829000</td>\n",
       "      <td>3.296952e+07</td>\n",
       "      <td>3.912804e+04</td>\n",
       "      <td>15.160000</td>\n",
       "      <td>15.575000</td>\n",
       "      <td>2883.024150</td>\n",
       "    </tr>\n",
       "    <tr>\n",
       "      <th>max</th>\n",
       "      <td>7.758668e+08</td>\n",
       "      <td>4.423623e+07</td>\n",
       "      <td>6.319461e+06</td>\n",
       "      <td>7.057132e+06</td>\n",
       "      <td>103719.000000</td>\n",
       "      <td>14817.000000</td>\n",
       "      <td>763598.600000</td>\n",
       "      <td>241758.230000</td>\n",
       "      <td>34536.890000</td>\n",
       "      <td>6601.110000</td>\n",
       "      <td>...</td>\n",
       "      <td>78.100000</td>\n",
       "      <td>100.000000</td>\n",
       "      <td>13.800000</td>\n",
       "      <td>86.750000</td>\n",
       "      <td>0.957000</td>\n",
       "      <td>7.975105e+09</td>\n",
       "      <td>1.349776e+06</td>\n",
       "      <td>78.080000</td>\n",
       "      <td>378.220000</td>\n",
       "      <td>10293.515000</td>\n",
       "    </tr>\n",
       "  </tbody>\n",
       "</table>\n",
       "<p>8 rows × 62 columns</p>\n",
       "</div>"
      ],
      "text/plain": [
       "        total_cases     new_cases  new_cases_smoothed  total_deaths  \\\n",
       "count  4.118040e+05  4.101590e+05        4.089290e+05  4.118040e+05   \n",
       "mean   7.365292e+06  8.017360e+03        8.041026e+03  8.125957e+04   \n",
       "std    4.477582e+07  2.296649e+05        8.661611e+04  4.411901e+05   \n",
       "min    0.000000e+00  0.000000e+00        0.000000e+00  0.000000e+00   \n",
       "25%    6.280750e+03  0.000000e+00        0.000000e+00  4.300000e+01   \n",
       "50%    6.365300e+04  0.000000e+00        1.200000e+01  7.990000e+02   \n",
       "75%    7.582720e+05  0.000000e+00        3.132860e+02  9.574000e+03   \n",
       "max    7.758668e+08  4.423623e+07        6.319461e+06  7.057132e+06   \n",
       "\n",
       "          new_deaths  new_deaths_smoothed  total_cases_per_million  \\\n",
       "count  410608.000000        409378.000000            411804.000000   \n",
       "mean       71.852139            72.060873            112096.199396   \n",
       "std      1368.322990           513.636567            162240.412419   \n",
       "min         0.000000             0.000000                 0.000000   \n",
       "25%         0.000000             0.000000              1916.100500   \n",
       "50%         0.000000             0.000000             29145.475000   \n",
       "75%         0.000000             3.143000            156770.190000   \n",
       "max    103719.000000         14817.000000            763598.600000   \n",
       "\n",
       "       new_cases_per_million  new_cases_smoothed_per_million  \\\n",
       "count          410159.000000                   408929.000000   \n",
       "mean              122.357074                      122.713844   \n",
       "std              1508.778583                      559.701638   \n",
       "min                 0.000000                        0.000000   \n",
       "25%                 0.000000                        0.000000   \n",
       "50%                 0.000000                        2.794000   \n",
       "75%                 0.000000                       56.253000   \n",
       "max            241758.230000                    34536.890000   \n",
       "\n",
       "       total_deaths_per_million  ...   male_smokers  handwashing_facilities  \\\n",
       "count             411804.000000  ...  243817.000000           161741.000000   \n",
       "mean                 835.514313  ...      33.097723               50.649264   \n",
       "std                 1134.932671  ...      13.853948               31.905375   \n",
       "min                    0.000000  ...       7.700000                1.188000   \n",
       "25%                   24.568000  ...      22.600000               20.859000   \n",
       "50%                  295.089000  ...      33.100000               49.542000   \n",
       "75%                 1283.817000  ...      41.500000               82.502000   \n",
       "max                 6601.110000  ...      78.100000              100.000000   \n",
       "\n",
       "       hospital_beds_per_thousand  life_expectancy  human_development_index  \\\n",
       "count               290689.000000    390299.000000            319127.000000   \n",
       "mean                     3.106912        73.702098                 0.722139   \n",
       "std                      2.549205         7.387914                 0.148903   \n",
       "min                      0.100000        53.280000                 0.394000   \n",
       "25%                      1.300000        69.500000                 0.602000   \n",
       "50%                      2.500000        75.050000                 0.740000   \n",
       "75%                      4.210000        79.460000                 0.829000   \n",
       "max                     13.800000        86.750000                 0.957000   \n",
       "\n",
       "         population  excess_mortality_cumulative_absolute  \\\n",
       "count  4.294350e+05                          1.341100e+04   \n",
       "mean   1.520336e+08                          5.604765e+04   \n",
       "std    6.975408e+08                          1.568691e+05   \n",
       "min    4.700000e+01                         -3.772610e+04   \n",
       "25%    5.237980e+05                          1.765000e+02   \n",
       "50%    6.336393e+06                          6.815199e+03   \n",
       "75%    3.296952e+07                          3.912804e+04   \n",
       "max    7.975105e+09                          1.349776e+06   \n",
       "\n",
       "       excess_mortality_cumulative  excess_mortality  \\\n",
       "count                 13411.000000      13411.000000   \n",
       "mean                      9.766431         10.925353   \n",
       "std                      12.040658         24.560706   \n",
       "min                     -44.230000        -95.920000   \n",
       "25%                       2.060000         -1.500000   \n",
       "50%                       8.130000          5.660000   \n",
       "75%                      15.160000         15.575000   \n",
       "max                      78.080000        378.220000   \n",
       "\n",
       "       excess_mortality_cumulative_per_million  \n",
       "count                             13411.000000  \n",
       "mean                               1772.666400  \n",
       "std                                1991.892769  \n",
       "min                               -2936.453100  \n",
       "25%                                 116.872242  \n",
       "50%                                1270.801400  \n",
       "75%                                2883.024150  \n",
       "max                               10293.515000  \n",
       "\n",
       "[8 rows x 62 columns]"
      ]
     },
     "execution_count": 6,
     "metadata": {},
     "output_type": "execute_result"
    }
   ],
   "source": [
    "# Summary statistics\n",
    "covid_df.describe()"
   ]
  },
  {
   "cell_type": "code",
   "execution_count": 7,
   "id": "b86fa2d7",
   "metadata": {},
   "outputs": [
    {
     "data": {
      "text/plain": [
       "weekly_icu_admissions                   418442\n",
       "weekly_icu_admissions_per_million       418442\n",
       "excess_mortality                        416024\n",
       "excess_mortality_cumulative_absolute    416024\n",
       "excess_mortality_cumulative             416024\n",
       "dtype: int64"
      ]
     },
     "execution_count": 7,
     "metadata": {},
     "output_type": "execute_result"
    }
   ],
   "source": [
    "# Check missing values\n",
    "covid_df.isnull().sum().sort_values(ascending=False).head()"
   ]
  },
  {
   "cell_type": "code",
   "execution_count": 8,
   "id": "46e350d9",
   "metadata": {},
   "outputs": [],
   "source": [
    "# Backup of original dataset\n",
    "df = covid_df.copy()"
   ]
  },
  {
   "cell_type": "markdown",
   "id": "6f38c3f6",
   "metadata": {},
   "source": [
    "### 5. Data Cleaning\n",
    "Focus on important columns:  \n",
    "[`'location'`,\n",
    "`'date'`,\n",
    "`'total_cases'`,\n",
    "`'new_cases'`,\n",
    "`'total_deaths'`,\n",
    "`'new_deaths'`,\n",
    "`'people_vaccinated'`,\n",
    "`'people_fully_vaccinated'`,\n",
    "`'population'`]"
   ]
  },
  {
   "cell_type": "code",
   "execution_count": 9,
   "id": "5886a515",
   "metadata": {},
   "outputs": [
    {
     "data": {
      "application/vnd.microsoft.datawrangler.viewer.v0+json": {
       "columns": [
        {
         "name": "index",
         "rawType": "int64",
         "type": "integer"
        },
        {
         "name": "location",
         "rawType": "object",
         "type": "string"
        },
        {
         "name": "date",
         "rawType": "datetime64[ns]",
         "type": "datetime"
        },
        {
         "name": "total_cases",
         "rawType": "float64",
         "type": "float"
        },
        {
         "name": "new_cases",
         "rawType": "float64",
         "type": "float"
        },
        {
         "name": "total_deaths",
         "rawType": "float64",
         "type": "float"
        },
        {
         "name": "new_deaths",
         "rawType": "float64",
         "type": "float"
        },
        {
         "name": "people_vaccinated",
         "rawType": "float64",
         "type": "float"
        },
        {
         "name": "people_fully_vaccinated",
         "rawType": "float64",
         "type": "float"
        },
        {
         "name": "population",
         "rawType": "int64",
         "type": "integer"
        }
       ],
       "conversionMethod": "pd.DataFrame",
       "ref": "d0c75c86-fe5b-4626-be57-bd236bf4fb0b",
       "rows": [
        [
         "0",
         "Afghanistan",
         "2020-01-05 00:00:00",
         "0.0",
         "0.0",
         "0.0",
         "0.0",
         null,
         null,
         "41128772"
        ],
        [
         "1",
         "Afghanistan",
         "2020-01-06 00:00:00",
         "0.0",
         "0.0",
         "0.0",
         "0.0",
         null,
         null,
         "41128772"
        ],
        [
         "2",
         "Afghanistan",
         "2020-01-07 00:00:00",
         "0.0",
         "0.0",
         "0.0",
         "0.0",
         null,
         null,
         "41128772"
        ],
        [
         "3",
         "Afghanistan",
         "2020-01-08 00:00:00",
         "0.0",
         "0.0",
         "0.0",
         "0.0",
         null,
         null,
         "41128772"
        ],
        [
         "4",
         "Afghanistan",
         "2020-01-09 00:00:00",
         "0.0",
         "0.0",
         "0.0",
         "0.0",
         null,
         null,
         "41128772"
        ]
       ],
       "shape": {
        "columns": 9,
        "rows": 5
       }
      },
      "text/html": [
       "<div>\n",
       "<style scoped>\n",
       "    .dataframe tbody tr th:only-of-type {\n",
       "        vertical-align: middle;\n",
       "    }\n",
       "\n",
       "    .dataframe tbody tr th {\n",
       "        vertical-align: top;\n",
       "    }\n",
       "\n",
       "    .dataframe thead th {\n",
       "        text-align: right;\n",
       "    }\n",
       "</style>\n",
       "<table border=\"1\" class=\"dataframe\">\n",
       "  <thead>\n",
       "    <tr style=\"text-align: right;\">\n",
       "      <th></th>\n",
       "      <th>location</th>\n",
       "      <th>date</th>\n",
       "      <th>total_cases</th>\n",
       "      <th>new_cases</th>\n",
       "      <th>total_deaths</th>\n",
       "      <th>new_deaths</th>\n",
       "      <th>people_vaccinated</th>\n",
       "      <th>people_fully_vaccinated</th>\n",
       "      <th>population</th>\n",
       "    </tr>\n",
       "  </thead>\n",
       "  <tbody>\n",
       "    <tr>\n",
       "      <th>0</th>\n",
       "      <td>Afghanistan</td>\n",
       "      <td>2020-01-05</td>\n",
       "      <td>0.0</td>\n",
       "      <td>0.0</td>\n",
       "      <td>0.0</td>\n",
       "      <td>0.0</td>\n",
       "      <td>NaN</td>\n",
       "      <td>NaN</td>\n",
       "      <td>41128772</td>\n",
       "    </tr>\n",
       "    <tr>\n",
       "      <th>1</th>\n",
       "      <td>Afghanistan</td>\n",
       "      <td>2020-01-06</td>\n",
       "      <td>0.0</td>\n",
       "      <td>0.0</td>\n",
       "      <td>0.0</td>\n",
       "      <td>0.0</td>\n",
       "      <td>NaN</td>\n",
       "      <td>NaN</td>\n",
       "      <td>41128772</td>\n",
       "    </tr>\n",
       "    <tr>\n",
       "      <th>2</th>\n",
       "      <td>Afghanistan</td>\n",
       "      <td>2020-01-07</td>\n",
       "      <td>0.0</td>\n",
       "      <td>0.0</td>\n",
       "      <td>0.0</td>\n",
       "      <td>0.0</td>\n",
       "      <td>NaN</td>\n",
       "      <td>NaN</td>\n",
       "      <td>41128772</td>\n",
       "    </tr>\n",
       "    <tr>\n",
       "      <th>3</th>\n",
       "      <td>Afghanistan</td>\n",
       "      <td>2020-01-08</td>\n",
       "      <td>0.0</td>\n",
       "      <td>0.0</td>\n",
       "      <td>0.0</td>\n",
       "      <td>0.0</td>\n",
       "      <td>NaN</td>\n",
       "      <td>NaN</td>\n",
       "      <td>41128772</td>\n",
       "    </tr>\n",
       "    <tr>\n",
       "      <th>4</th>\n",
       "      <td>Afghanistan</td>\n",
       "      <td>2020-01-09</td>\n",
       "      <td>0.0</td>\n",
       "      <td>0.0</td>\n",
       "      <td>0.0</td>\n",
       "      <td>0.0</td>\n",
       "      <td>NaN</td>\n",
       "      <td>NaN</td>\n",
       "      <td>41128772</td>\n",
       "    </tr>\n",
       "  </tbody>\n",
       "</table>\n",
       "</div>"
      ],
      "text/plain": [
       "      location       date  total_cases  new_cases  total_deaths  new_deaths  \\\n",
       "0  Afghanistan 2020-01-05          0.0        0.0           0.0         0.0   \n",
       "1  Afghanistan 2020-01-06          0.0        0.0           0.0         0.0   \n",
       "2  Afghanistan 2020-01-07          0.0        0.0           0.0         0.0   \n",
       "3  Afghanistan 2020-01-08          0.0        0.0           0.0         0.0   \n",
       "4  Afghanistan 2020-01-09          0.0        0.0           0.0         0.0   \n",
       "\n",
       "   people_vaccinated  people_fully_vaccinated  population  \n",
       "0                NaN                      NaN    41128772  \n",
       "1                NaN                      NaN    41128772  \n",
       "2                NaN                      NaN    41128772  \n",
       "3                NaN                      NaN    41128772  \n",
       "4                NaN                      NaN    41128772  "
      ]
     },
     "execution_count": 9,
     "metadata": {},
     "output_type": "execute_result"
    }
   ],
   "source": [
    "# Select only the essential columns needed for analysis\n",
    "df = df[['location', 'date', 'total_cases', 'new_cases', 'total_deaths', 'new_deaths', 'people_vaccinated', 'people_fully_vaccinated', 'population']]\n",
    "\n",
    "# Convert the 'date' column from string to datetime format for easier time-based operations\n",
    "df['date'] = pd.to_datetime(df['date'])\n",
    "\n",
    "# Drop rows where 'total_cases' or 'total_deaths' are missing, as these are critical for analysis\n",
    "df = df.dropna(subset=['total_cases', 'total_deaths'])\n",
    "\n",
    "# Define a list of continent and world-level entries to exclude\n",
    "continents = ['Africa', 'Asia', 'Europe', 'European Union', 'North America', 'Oceania', 'South America', 'World']\n",
    "\n",
    "# Remove rows where the 'location' is a continent or 'World', keeping only country-level data\n",
    "df = df[~df['location'].isin(continents)]\n",
    "\n",
    "# Display the first few rows of the cleaned dataset\n",
    "df.head()"
   ]
  },
  {
   "cell_type": "markdown",
   "id": "0110ad10",
   "metadata": {},
   "source": [
    "### 6. Latest Data Snapshot"
   ]
  },
  {
   "cell_type": "code",
   "execution_count": 10,
   "id": "687c0967",
   "metadata": {},
   "outputs": [
    {
     "data": {
      "application/vnd.microsoft.datawrangler.viewer.v0+json": {
       "columns": [
        {
         "name": "index",
         "rawType": "int64",
         "type": "integer"
        },
        {
         "name": "location",
         "rawType": "object",
         "type": "string"
        },
        {
         "name": "total_cases",
         "rawType": "float64",
         "type": "float"
        },
        {
         "name": "total_deaths",
         "rawType": "float64",
         "type": "float"
        },
        {
         "name": "people_vaccinated",
         "rawType": "float64",
         "type": "float"
        },
        {
         "name": "people_fully_vaccinated",
         "rawType": "float64",
         "type": "float"
        }
       ],
       "conversionMethod": "pd.DataFrame",
       "ref": "3660add5-1572-453e-bcad-ebfa867fd22d",
       "rows": [
        [
         "166872",
         "High-income countries",
         "429044049.0",
         "2997359.0",
         null,
         null
        ],
        [
         "409811",
         "Upper-middle-income countries",
         "251753518.0",
         "2824452.0",
         null,
         null
        ],
        [
         "123276",
         "European Union (27)",
         "185822587.0",
         "1262988.0",
         null,
         null
        ],
        [
         "405124",
         "United States",
         "103436829.0",
         "1193165.0",
         null,
         null
        ],
        [
         "75343",
         "China",
         "99373219.0",
         "122304.0",
         null,
         null
        ],
        [
         "222800",
         "Lower-middle-income countries",
         "91954400.0",
         "1188026.0",
         null,
         null
        ],
        [
         "175222",
         "India",
         "45041748.0",
         "533623.0",
         "1027438900.0",
         "951990527.0"
        ],
        [
         "132040",
         "France",
         "38997490.0",
         "168091.0",
         null,
         null
        ],
        [
         "142084",
         "Germany",
         "38437756.0",
         "174979.0",
         null,
         null
        ],
        [
         "51907",
         "Brazil",
         "37511921.0",
         "702116.0",
         null,
         null
        ]
       ],
       "shape": {
        "columns": 5,
        "rows": 10
       }
      },
      "text/html": [
       "<div>\n",
       "<style scoped>\n",
       "    .dataframe tbody tr th:only-of-type {\n",
       "        vertical-align: middle;\n",
       "    }\n",
       "\n",
       "    .dataframe tbody tr th {\n",
       "        vertical-align: top;\n",
       "    }\n",
       "\n",
       "    .dataframe thead th {\n",
       "        text-align: right;\n",
       "    }\n",
       "</style>\n",
       "<table border=\"1\" class=\"dataframe\">\n",
       "  <thead>\n",
       "    <tr style=\"text-align: right;\">\n",
       "      <th></th>\n",
       "      <th>location</th>\n",
       "      <th>total_cases</th>\n",
       "      <th>total_deaths</th>\n",
       "      <th>people_vaccinated</th>\n",
       "      <th>people_fully_vaccinated</th>\n",
       "    </tr>\n",
       "  </thead>\n",
       "  <tbody>\n",
       "    <tr>\n",
       "      <th>166872</th>\n",
       "      <td>High-income countries</td>\n",
       "      <td>429044049.0</td>\n",
       "      <td>2997359.0</td>\n",
       "      <td>NaN</td>\n",
       "      <td>NaN</td>\n",
       "    </tr>\n",
       "    <tr>\n",
       "      <th>409811</th>\n",
       "      <td>Upper-middle-income countries</td>\n",
       "      <td>251753518.0</td>\n",
       "      <td>2824452.0</td>\n",
       "      <td>NaN</td>\n",
       "      <td>NaN</td>\n",
       "    </tr>\n",
       "    <tr>\n",
       "      <th>123276</th>\n",
       "      <td>European Union (27)</td>\n",
       "      <td>185822587.0</td>\n",
       "      <td>1262988.0</td>\n",
       "      <td>NaN</td>\n",
       "      <td>NaN</td>\n",
       "    </tr>\n",
       "    <tr>\n",
       "      <th>405124</th>\n",
       "      <td>United States</td>\n",
       "      <td>103436829.0</td>\n",
       "      <td>1193165.0</td>\n",
       "      <td>NaN</td>\n",
       "      <td>NaN</td>\n",
       "    </tr>\n",
       "    <tr>\n",
       "      <th>75343</th>\n",
       "      <td>China</td>\n",
       "      <td>99373219.0</td>\n",
       "      <td>122304.0</td>\n",
       "      <td>NaN</td>\n",
       "      <td>NaN</td>\n",
       "    </tr>\n",
       "    <tr>\n",
       "      <th>222800</th>\n",
       "      <td>Lower-middle-income countries</td>\n",
       "      <td>91954400.0</td>\n",
       "      <td>1188026.0</td>\n",
       "      <td>NaN</td>\n",
       "      <td>NaN</td>\n",
       "    </tr>\n",
       "    <tr>\n",
       "      <th>175222</th>\n",
       "      <td>India</td>\n",
       "      <td>45041748.0</td>\n",
       "      <td>533623.0</td>\n",
       "      <td>1.027439e+09</td>\n",
       "      <td>951990527.0</td>\n",
       "    </tr>\n",
       "    <tr>\n",
       "      <th>132040</th>\n",
       "      <td>France</td>\n",
       "      <td>38997490.0</td>\n",
       "      <td>168091.0</td>\n",
       "      <td>NaN</td>\n",
       "      <td>NaN</td>\n",
       "    </tr>\n",
       "    <tr>\n",
       "      <th>142084</th>\n",
       "      <td>Germany</td>\n",
       "      <td>38437756.0</td>\n",
       "      <td>174979.0</td>\n",
       "      <td>NaN</td>\n",
       "      <td>NaN</td>\n",
       "    </tr>\n",
       "    <tr>\n",
       "      <th>51907</th>\n",
       "      <td>Brazil</td>\n",
       "      <td>37511921.0</td>\n",
       "      <td>702116.0</td>\n",
       "      <td>NaN</td>\n",
       "      <td>NaN</td>\n",
       "    </tr>\n",
       "  </tbody>\n",
       "</table>\n",
       "</div>"
      ],
      "text/plain": [
       "                             location  total_cases  total_deaths  \\\n",
       "166872          High-income countries  429044049.0     2997359.0   \n",
       "409811  Upper-middle-income countries  251753518.0     2824452.0   \n",
       "123276            European Union (27)  185822587.0     1262988.0   \n",
       "405124                  United States  103436829.0     1193165.0   \n",
       "75343                           China   99373219.0      122304.0   \n",
       "222800  Lower-middle-income countries   91954400.0     1188026.0   \n",
       "175222                          India   45041748.0      533623.0   \n",
       "132040                         France   38997490.0      168091.0   \n",
       "142084                        Germany   38437756.0      174979.0   \n",
       "51907                          Brazil   37511921.0      702116.0   \n",
       "\n",
       "        people_vaccinated  people_fully_vaccinated  \n",
       "166872                NaN                      NaN  \n",
       "409811                NaN                      NaN  \n",
       "123276                NaN                      NaN  \n",
       "405124                NaN                      NaN  \n",
       "75343                 NaN                      NaN  \n",
       "222800                NaN                      NaN  \n",
       "175222       1.027439e+09              951990527.0  \n",
       "132040                NaN                      NaN  \n",
       "142084                NaN                      NaN  \n",
       "51907                 NaN                      NaN  "
      ]
     },
     "execution_count": 10,
     "metadata": {},
     "output_type": "execute_result"
    }
   ],
   "source": [
    "# After creating latest_df\n",
    "latest_df = df.sort_values('date').groupby('location').tail(1)\n",
    "\n",
    "# Drop missing values for total_cases and total_deaths from latest_df\n",
    "latest_df = latest_df.dropna(subset=['total_cases', 'total_deaths'])\n",
    "\n",
    "# safely sort and display\n",
    "latest_df[['location', 'total_cases', 'total_deaths', 'people_vaccinated', 'people_fully_vaccinated']].sort_values('total_cases', ascending=False).head(10)\n"
   ]
  },
  {
   "cell_type": "markdown",
   "id": "e13b6dcd",
   "metadata": {},
   "source": [
    "## Data Visualization"
   ]
  },
  {
   "cell_type": "markdown",
   "id": "9efc776b",
   "metadata": {},
   "source": [
    "### 10 Most Important Questions + Solutions"
   ]
  },
  {
   "cell_type": "markdown",
   "id": "8d10be76",
   "metadata": {},
   "source": [
    "📌 1. Which countries have the highest total COVID-19 cases?"
   ]
  },
  {
   "cell_type": "code",
   "execution_count": 11,
   "id": "df911b41",
   "metadata": {},
   "outputs": [
    {
     "data": {
      "image/png": "[encoded data removed]",
      "text/plain": [
       "<Figure size 1200x600 with 1 Axes>"
      ]
     },
     "metadata": {},
     "output_type": "display_data"
    }
   ],
   "source": [
    "# Sort the latest data by 'total_cases' in descending order and select the top 10 countries\n",
    "top10_cases = latest_df.sort_values('total_cases', ascending=False).head(10)\n",
    "\n",
    "# Set the figure size for the plot\n",
    "plt.figure(figsize=(12,6))\n",
    "\n",
    "# Create a horizontal barplot showing total COVID-19 cases for the top 10 countries\n",
    "sns.barplot(x='total_cases', y='location', data=top10_cases, palette='Reds_r')\n",
    "\n",
    "# Set the title and axis labels with font sizes\n",
    "plt.title(\"Top 10 Countries by Total COVID-19 Cases\", fontsize=16)\n",
    "plt.xlabel(\"Total Cases\", fontsize=14)\n",
    "plt.ylabel(\"Country\", fontsize=14)\n",
    "\n",
    "# Rotate the country names (y-axis labels) by 45 degrees for better readability\n",
    "plt.yticks(rotation=45, fontsize=12)\n",
    "\n",
    "# Display the plot\n",
    "plt.show()"
   ]
  },
  {
   "cell_type": "markdown",
   "id": "d79a5ee3",
   "metadata": {},
   "source": [
    "📌 2. Which countries have the highest total deaths?"
   ]
  },
  {
   "cell_type": "code",
   "execution_count": 12,
   "id": "e77c738d",
   "metadata": {},
   "outputs": [
    {
     "data": {
      "image/png": "[encoded data removed]",
      "text/plain": [
       "<Figure size 1200x600 with 1 Axes>"
      ]
     },
     "metadata": {},
     "output_type": "display_data"
    }
   ],
   "source": [
    "# Sort the latest data by 'total_deaths' in descending order and select the top 10 countries\n",
    "top10_deaths = latest_df.sort_values('total_deaths', ascending=False).head(10)\n",
    "\n",
    "# Set the figure size for the plot\n",
    "plt.figure(figsize=(12,6))\n",
    "\n",
    "# Create a horizontal barplot showing total deaths for the top 10 countries\n",
    "sns.barplot(x=\"total_deaths\", y=\"location\", data=top10_deaths, palette='Reds_r')\n",
    "\n",
    "# Set the title and axis labels with font sizes\n",
    "plt.title(\"Top 10 Countries by Total Deaths\", fontsize=16)\n",
    "plt.xlabel(\"Total Case\", fontsize=14)\n",
    "plt.ylabel(\"Country\", fontsize=14)\n",
    "\n",
    "# Rotate the country names (y-axis labels) by 45 degrees for better readability\n",
    "plt.yticks(rotation=45, fontsize=12)\n",
    "\n",
    "# Display the plot\n",
    "plt.show()"
   ]
  },
  {
   "cell_type": "markdown",
   "id": "95c7ae56",
   "metadata": {},
   "source": [
    "📌 3. What is the trend of total cases over time globally?"
   ]
  },
  {
   "cell_type": "code",
   "execution_count": 13,
   "id": "bb041fe5",
   "metadata": {},
   "outputs": [
    {
     "data": {
      "image/png": "[encoded data removed]",
      "text/plain": [
       "<Figure size 1400x700 with 1 Axes>"
      ]
     },
     "metadata": {},
     "output_type": "display_data"
    }
   ],
   "source": [
    "# Group the dataset by 'date' and calculate the sum of 'total_cases' for each date to get the global trend\n",
    "global_trend = df.groupby('date')[['total_cases']].sum()\n",
    "\n",
    "# Set the figure size for the line plot\n",
    "plt.figure(figsize=(14,7))\n",
    "\n",
    "# Create a line plot showing the global total COVID-19 cases over time\n",
    "sns.lineplot(data=global_trend, x=global_trend.index, y='total_cases')\n",
    "\n",
    "# Set the title and axis labels with appropriate font sizes\n",
    "plt.title(\"Global Total COVID-19 Cases Over Time\", fontsize=16)\n",
    "plt.xlabel(\"Date\", fontsize=14)\n",
    "plt.ylabel(\"Total Cases\", fontsize=14)\n",
    "\n",
    "# Add gridlines to the plot for better readability\n",
    "plt.grid(True)\n",
    "\n",
    "# Display the plot\n",
    "plt.show()"
   ]
  },
  {
   "cell_type": "markdown",
   "id": "e1ab8893",
   "metadata": {},
   "source": [
    "📌 4. How did vaccination progress globally?"
   ]
  },
  {
   "cell_type": "code",
   "execution_count": 14,
   "id": "14ab6ca8",
   "metadata": {},
   "outputs": [
    {
     "data": {
      "image/png": "[encoded data removed]",
      "text/plain": [
       "<Figure size 1400x700 with 1 Axes>"
      ]
     },
     "metadata": {},
     "output_type": "display_data"
    }
   ],
   "source": [
    "# Group the dataset by 'date' and calculate the sum of 'people_vaccinated' for each date to get the global vaccination trend\n",
    "global_vaccine = df.groupby('date')[['people_vaccinated']].sum()\n",
    "\n",
    "# Set the figure size for the line plot\n",
    "plt.figure(figsize=(14,7))\n",
    "\n",
    "# Create a line plot showing the global vaccination progress over time\n",
    "sns.lineplot(data=global_vaccine, x=global_vaccine.index, y='people_vaccinated', color='green')\n",
    "\n",
    "# Set the title and axis labels with appropriate font sizes\n",
    "plt.title('Global Vaccine Progress Over Time', fontsize=16)\n",
    "plt.xlabel(\"Date\", fontsize=14)\n",
    "plt.ylabel(\"People Vaccinated\", fontsize=14)\n",
    "\n",
    "# Add gridlines to the plot for better readability\n",
    "plt.grid(True)\n",
    "\n",
    "# Display the plot\n",
    "plt.show()"
   ]
  },
  {
   "cell_type": "markdown",
   "id": "ca4a34c2",
   "metadata": {},
   "source": [
    "📌 5. Mortality rate (deaths per case) comparison between countries?"
   ]
  },
  {
   "cell_type": "code",
   "execution_count": 15,
   "id": "6ca2d223",
   "metadata": {},
   "outputs": [
    {
     "data": {
      "image/png": "[encoded data removed]",
      "text/plain": [
       "<Figure size 1200x600 with 1 Axes>"
      ]
     },
     "metadata": {},
     "output_type": "display_data"
    }
   ],
   "source": [
    "latest_df['mortality_rate'] = (latest_df['total_deaths'] / latest_df['total_cases']) * 100\n",
    "\n",
    "top10_mortality = latest_df.sort_values('mortality_rate', ascending=False).head(10)\n",
    "\n",
    "plt.figure(figsize=(12, 6))\n",
    "sns.barplot(x='mortality_rate', y='location', data=top10_mortality, palette='Purples_r')\n",
    "plt.title(\"Top 10 Countries by Mortality Rate (%)\", fontsize=16)\n",
    "plt.xlabel(\"Mortality Rate (%)\", fontsize=14)\n",
    "plt.ylabel('Country', fontsize=14)\n",
    "\n",
    "plt.yticks(rotation=45, fontsize=12)\n",
    "plt.show()"
   ]
  },
  {
   "cell_type": "markdown",
   "id": "46331b6d",
   "metadata": {},
   "source": [
    "📌 6. New cases trend in a particular country (e.g., India)"
   ]
  },
  {
   "cell_type": "code",
   "execution_count": 16,
   "id": "b7fc54e4",
   "metadata": {},
   "outputs": [
    {
     "data": {
      "image/png": "[encoded data removed]",
      "text/plain": [
       "<Figure size 1400x700 with 1 Axes>"
      ]
     },
     "metadata": {},
     "output_type": "display_data"
    }
   ],
   "source": [
    "# Filter the dataset to include only data for India\n",
    "india_df = df[df['location'] == 'India']\n",
    "\n",
    "# Set the figure size for the line plot\n",
    "plt.figure(figsize=(14,7))\n",
    "\n",
    "# Create a line plot showing daily new COVID-19 cases in India over time\n",
    "sns.lineplot(data=india_df, x='date', y='new_cases', color='orange')\n",
    "\n",
    "# Set the title and axis labels with appropriate font sizes\n",
    "plt.title(\"Daily New COVID-19 Cases in India\", fontsize=16)\n",
    "plt.xlabel(\"Date\", fontsize=14)\n",
    "plt.ylabel('New Cases', fontsize=14)\n",
    "\n",
    "# Add gridlines to the plot for better readability\n",
    "plt.grid(True)\n",
    "\n",
    "# Display the plot\n",
    "plt.show()"
   ]
  },
  {
   "cell_type": "markdown",
   "id": "1b4598dc",
   "metadata": {},
   "source": [
    "📌 7. Fully Vaccinated vs Population Percentage - Top Countries?"
   ]
  },
  {
   "cell_type": "code",
   "execution_count": 17,
   "id": "9be5c340",
   "metadata": {},
   "outputs": [
    {
     "data": {
      "image/png": "[encoded data removed]",
      "text/plain": [
       "<Figure size 1200x600 with 1 Axes>"
      ]
     },
     "metadata": {},
     "output_type": "display_data"
    }
   ],
   "source": [
    "# Create a new column 'vaccination_rate' by calculating the percentage of fully vaccinated people in the population\n",
    "latest_df['vaccination_rate'] = (latest_df['people_fully_vaccinated'] / latest_df['population']) * 100\n",
    "\n",
    "# Sort the data by 'vaccination_rate' in descending order and select the top 10 countries\n",
    "top10_vaccinated = latest_df.sort_values('vaccination_rate', ascending=False).head(10)\n",
    "\n",
    "# Set the figure size for the bar plot\n",
    "plt.figure(figsize=(12,6))\n",
    "\n",
    "# Create a horizontal barplot showing the top 10 countries by vaccination rate\n",
    "ax = sns.barplot(x='vaccination_rate', y='location', data=top10_vaccinated, palette='Greens_r')\n",
    "\n",
    "# Set the title and axis labels with appropriate font sizes\n",
    "plt.title('Top 10 Countries by Vaccination Rate (%)', fontsize=16)\n",
    "plt.xlabel('Vaccination Rate (%)', fontsize=14)\n",
    "plt.ylabel('Country', fontsize=14)\n",
    "\n",
    "# Rotate the country names (y-axis labels) by 45 degrees and set their font size\n",
    "plt.yticks(rotation=45, fontsize=12)\n",
    "\n",
    "# Display the plot\n",
    "plt.show()"
   ]
  },
  {
   "cell_type": "markdown",
   "id": "263b405b",
   "metadata": {},
   "source": [
    "📌 8. Relationship between Vaccination and Cases (Plotly Scatter Plot)"
   ]
  },
  {
   "cell_type": "code",
   "execution_count": 18,
   "id": "d51498fc",
   "metadata": {},
   "outputs": [
    {
     "data": {
      "application/vnd.plotly.v1+json": {
       "config": {
        "plotlyServerURL": "https://plot.ly"
       },
       "data": [
        {
         "customdata": {
          "bdata": "AAAAAAAAAAAAAAAAAAD4fw==",
          "dtype": "f8",
          "shape": "1, 2"
         },
         "hovertemplate": "<b>%{hovertext}</b><br><br>Country=North Korea<br>People Fully Vaccinated=%{x}<br>Total Cases=%{y}<br>Total Deaths=%{customdata[0]}<br>People Vaccinated=%{customdata[1]}<extra></extra>",
         "hovertext": [
          "North Korea"
         ],
         "legendgroup": "North Korea",
         "marker": {
          "color": "#636efa",
          "size": {
           "bdata": "AAAAAAAAAAA=",
           "dtype": "f8"
          },
          "sizemode": "area",
          "sizeref": 7493.3975,
          "symbol": "circle"
         },
         "mode": "markers",
         "name": "North Korea",
         "orientation": "v",
         "showlegend": true,
         "type": "scatter",
         "x": {
          "bdata": "AAAAAAAA+H8=",
          "dtype": "f8"
         },
         "xaxis": "x",
         "y": {
          "bdata": "AAAAAAAAAAA=",
          "dtype": "f8"
         },
         "yaxis": "y"
        },
        {
         "customdata": {
          "bdata": "AAAAAABAkUAAAAAAAAD4fw==",
          "dtype": "f8",
          "shape": "1, 2"
         },
         "hovertemplate": "<b>%{hovertext}</b><br><br>Country=Martinique<br>People Fully Vaccinated=%{x}<br>Total Cases=%{y}<br>Total Deaths=%{customdata[0]}<br>People Vaccinated=%{customdata[1]}<extra></extra>",
         "hovertext": [
          "Martinique"
         ],
         "legendgroup": "Martinique",
         "marker": {
          "color": "#EF553B",
          "size": {
           "bdata": "AAAAAABAkUA=",
           "dtype": "f8"
          },
          "sizemode": "area",
          "sizeref": 7493.3975,
          "symbol": "circle"
         },
         "mode": "markers",
         "name": "Martinique",
         "orientation": "v",
         "showlegend": true,
         "type": "scatter",
         "x": {
          "bdata": "AAAAAAAA+H8=",
          "dtype": "f8"
         },
         "xaxis": "x",
         "y": {
          "bdata": "AAAAAJAeDEE=",
          "dtype": "f8"
         },
         "yaxis": "y"
        },
        {
         "customdata": {
          "bdata": "AAAAAAAANUAAAAAAAAD4fw==",
          "dtype": "f8",
          "shape": "1, 2"
         },
         "hovertemplate": "<b>%{hovertext}</b><br><br>Country=Greenland<br>People Fully Vaccinated=%{x}<br>Total Cases=%{y}<br>Total Deaths=%{customdata[0]}<br>People Vaccinated=%{customdata[1]}<extra></extra>",
         "hovertext": [
          "Greenland"
         ],
         "legendgroup": "Greenland",
         "marker": {
          "color": "#00cc96",
          "size": {
           "bdata": "AAAAAAAANUA=",
           "dtype": "f8"
          },
          "sizemode": "area",
          "sizeref": 7493.3975,
          "symbol": "circle"
         },
         "mode": "markers",
         "name": "Greenland",
         "orientation": "v",
         "showlegend": true,
         "type": "scatter",
         "x": {
          "bdata": "AAAAAAAA+H8=",
          "dtype": "f8"
         },
         "xaxis": "x",
         "y": {
          "bdata": "AAAAAIBhx0A=",
          "dtype": "f8"
         },
         "yaxis": "y"
        },
        {
         "customdata": {
          "bdata": "AAAAAAAAXUAAAAAAAAD4fw==",
          "dtype": "f8",
          "shape": "1, 2"
         },
         "hovertemplate": "<b>%{hovertext}</b><br><br>Country=Isle of Man<br>People Fully Vaccinated=%{x}<br>Total Cases=%{y}<br>Total Deaths=%{customdata[0]}<br>People Vaccinated=%{customdata[1]}<extra></extra>",
         "hovertext": [
          "Isle of Man"
         ],
         "legendgroup": "Isle of Man",
         "marker": {
          "color": "#ab63fa",
          "size": {
           "bdata": "AAAAAAAAXUA=",
           "dtype": "f8"
          },
          "sizemode": "area",
          "sizeref": 7493.3975,
          "symbol": "circle"
         },
         "mode": "markers",
         "name": "Isle of Man",
         "orientation": "v",
         "showlegend": true,
         "type": "scatter",
         "x": {
          "bdata": "AAAAAAAA+H8=",
          "dtype": "f8"
         },
         "xaxis": "x",
         "y": {
          "bdata": "AAAAAACP4kA=",
          "dtype": "f8"
         },
         "yaxis": "y"
        },
        {
         "customdata": {
          "bdata": "AAAAAACgbkAAAAAAAAD4fw==",
          "dtype": "f8",
          "shape": "1, 2"
         },
         "hovertemplate": "<b>%{hovertext}</b><br><br>Country=Nicaragua<br>People Fully Vaccinated=%{x}<br>Total Cases=%{y}<br>Total Deaths=%{customdata[0]}<br>People Vaccinated=%{customdata[1]}<extra></extra>",
         "hovertext": [
          "Nicaragua"
         ],
         "legendgroup": "Nicaragua",
         "marker": {
          "color": "#FFA15A",
          "size": {
           "bdata": "AAAAAACgbkA=",
           "dtype": "f8"
          },
          "sizemode": "area",
          "sizeref": 7493.3975,
          "symbol": "circle"
         },
         "mode": "markers",
         "name": "Nicaragua",
         "orientation": "v",
         "showlegend": true,
         "type": "scatter",
         "x": {
          "bdata": "AAAAAAAA+H8=",
          "dtype": "f8"
         },
         "xaxis": "x",
         "y": {
          "bdata": "AAAAAICcz0A=",
          "dtype": "f8"
         },
         "yaxis": "y"
        },
        {
         "customdata": {
          "bdata": "AAAAAFjIA0EAAAAAAAD4fw==",
          "dtype": "f8",
          "shape": "1, 2"
         },
         "hovertemplate": "<b>%{hovertext}</b><br><br>Country=Indonesia<br>People Fully Vaccinated=%{x}<br>Total Cases=%{y}<br>Total Deaths=%{customdata[0]}<br>People Vaccinated=%{customdata[1]}<extra></extra>",
         "hovertext": [
          "Indonesia"
         ],
         "legendgroup": "Indonesia",
         "marker": {
          "color": "#19d3f3",
          "size": {
           "bdata": "AAAAAFjIA0E=",
           "dtype": "f8"
          },
          "sizemode": "area",
          "sizeref": 7493.3975,
          "symbol": "circle"
         },
         "mode": "markers",
         "name": "Indonesia",
         "orientation": "v",
         "showlegend": true,
         "type": "scatter",
         "x": {
          "bdata": "AAAAAAAA+H8=",
          "dtype": "f8"
         },
         "xaxis": "x",
         "y": {
          "bdata": "AAAAwFUNWkE=",
          "dtype": "f8"
         },
         "yaxis": "y"
        },
        {
         "customdata": {
          "bdata": "AAAAAAApw0AAAAAAAAD4fw==",
          "dtype": "f8",
          "shape": "1, 2"
         },
         "hovertemplate": "<b>%{hovertext}</b><br><br>Country=Lithuania<br>People Fully Vaccinated=%{x}<br>Total Cases=%{y}<br>Total Deaths=%{customdata[0]}<br>People Vaccinated=%{customdata[1]}<extra></extra>",
         "hovertext": [
          "Lithuania"
         ],
         "legendgroup": "Lithuania",
         "marker": {
          "color": "#FF6692",
          "size": {
           "bdata": "AAAAAAApw0A=",
           "dtype": "f8"
          },
          "sizemode": "area",
          "sizeref": 7493.3975,
          "symbol": "circle"
         },
         "mode": "markers",
         "name": "Lithuania",
         "orientation": "v",
         "showlegend": true,
         "type": "scatter",
         "x": {
          "bdata": "AAAAAAAA+H8=",
          "dtype": "f8"
         },
         "xaxis": "x",
         "y": {
          "bdata": "AAAAAAvlNEE=",
          "dtype": "f8"
         },
         "yaxis": "y"
        },
        {
         "customdata": {
          "bdata": "AAAAAAAAkEAAAAAAAAD4fw==",
          "dtype": "f8",
          "shape": "1, 2"
         },
         "hovertemplate": "<b>%{hovertext}</b><br><br>Country=Kyrgyzstan<br>People Fully Vaccinated=%{x}<br>Total Cases=%{y}<br>Total Deaths=%{customdata[0]}<br>People Vaccinated=%{customdata[1]}<extra></extra>",
         "hovertext": [
          "Kyrgyzstan"
         ],
         "legendgroup": "Kyrgyzstan",
         "marker": {
          "color": "#B6E880",
          "size": {
           "bdata": "AAAAAAAAkEA=",
           "dtype": "f8"
          },
          "sizemode": "area",
          "sizeref": 7493.3975,
          "symbol": "circle"
         },
         "mode": "markers",
         "name": "Kyrgyzstan",
         "orientation": "v",
         "showlegend": true,
         "type": "scatter",
         "x": {
          "bdata": "AAAAAAAA+H8=",
          "dtype": "f8"
         },
         "xaxis": "x",
         "y": {
          "bdata": "AAAAAJC39UA=",
          "dtype": "f8"
         },
         "yaxis": "y"
        },
        {
         "customdata": {
          "bdata": "AAAAAADAbUAAAAAAAAD4fw==",
          "dtype": "f8",
          "shape": "1, 2"
         },
         "hovertemplate": "<b>%{hovertext}</b><br><br>Country=Grenada<br>People Fully Vaccinated=%{x}<br>Total Cases=%{y}<br>Total Deaths=%{customdata[0]}<br>People Vaccinated=%{customdata[1]}<extra></extra>",
         "hovertext": [
          "Grenada"
         ],
         "legendgroup": "Grenada",
         "marker": {
          "color": "#FF97FF",
          "size": {
           "bdata": "AAAAAADAbUA=",
           "dtype": "f8"
          },
          "sizemode": "area",
          "sizeref": 7493.3975,
          "symbol": "circle"
         },
         "mode": "markers",
         "name": "Grenada",
         "orientation": "v",
         "showlegend": true,
         "type": "scatter",
         "x": {
          "bdata": "AAAAAAAA+H8=",
          "dtype": "f8"
         },
         "xaxis": "x",
         "y": {
          "bdata": "AAAAAEA700A=",
          "dtype": "f8"
         },
         "yaxis": "y"
        },
        {
         "customdata": {
          "bdata": "AAAAAABAUEAAAAAAAAD4fw==",
          "dtype": "f8",
          "shape": "1, 2"
         },
         "hovertemplate": "<b>%{hovertext}</b><br><br>Country=Micronesia (country)<br>People Fully Vaccinated=%{x}<br>Total Cases=%{y}<br>Total Deaths=%{customdata[0]}<br>People Vaccinated=%{customdata[1]}<extra></extra>",
         "hovertext": [
          "Micronesia (country)"
         ],
         "legendgroup": "Micronesia (country)",
         "marker": {
          "color": "#FECB52",
          "size": {
           "bdata": "AAAAAABAUEA=",
           "dtype": "f8"
          },
          "sizemode": "area",
          "sizeref": 7493.3975,
          "symbol": "circle"
         },
         "mode": "markers",
         "name": "Micronesia (country)",
         "orientation": "v",
         "showlegend": true,
         "type": "scatter",
         "x": {
          "bdata": "AAAAAAAA+H8=",
          "dtype": "f8"
         },
         "xaxis": "x",
         "y": {
          "bdata": "AAAAAEAF30A=",
          "dtype": "f8"
         },
         "yaxis": "y"
        },
        {
         "customdata": {
          "bdata": "AAAAABhcBUEAAAAAAAD4fw==",
          "dtype": "f8",
          "shape": "1, 2"
         },
         "hovertemplate": "<b>%{hovertext}</b><br><br>Country=Germany<br>People Fully Vaccinated=%{x}<br>Total Cases=%{y}<br>Total Deaths=%{customdata[0]}<br>People Vaccinated=%{customdata[1]}<extra></extra>",
         "hovertext": [
          "Germany"
         ],
         "legendgroup": "Germany",
         "marker": {
          "color": "#636efa",
          "size": {
           "bdata": "AAAAABhcBUE=",
           "dtype": "f8"
          },
          "sizemode": "area",
          "sizeref": 7493.3975,
          "symbol": "circle"
         },
         "mode": "markers",
         "name": "Germany",
         "orientation": "v",
         "showlegend": true,
         "type": "scatter",
         "x": {
          "bdata": "AAAAAAAA+H8=",
          "dtype": "f8"
         },
         "xaxis": "x",
         "y": {
          "bdata": "AAAA4BtUgkE=",
          "dtype": "f8"
         },
         "yaxis": "y"
        },
        {
         "customdata": {
          "bdata": "AAAAAAD4hEAAAAAAAAD4fw==",
          "dtype": "f8",
          "shape": "1, 2"
         },
         "hovertemplate": "<b>%{hovertext}</b><br><br>Country=Laos<br>People Fully Vaccinated=%{x}<br>Total Cases=%{y}<br>Total Deaths=%{customdata[0]}<br>People Vaccinated=%{customdata[1]}<extra></extra>",
         "hovertext": [
          "Laos"
         ],
         "legendgroup": "Laos",
         "marker": {
          "color": "#EF553B",
          "size": {
           "bdata": "AAAAAAD4hEA=",
           "dtype": "f8"
          },
          "sizemode": "area",
          "sizeref": 7493.3975,
          "symbol": "circle"
         },
         "mode": "markers",
         "name": "Laos",
         "orientation": "v",
         "showlegend": true,
         "type": "scatter",
         "x": {
          "bdata": "AAAAAAAA+H8=",
          "dtype": "f8"
         },
         "xaxis": "x",
         "y": {
          "bdata": "AAAAAKC9CkE=",
          "dtype": "f8"
         },
         "yaxis": "y"
        },
        {
         "customdata": {
          "bdata": "AAAAAAAoj0AAAAAAAAD4fw==",
          "dtype": "f8",
          "shape": "1, 2"
         },
         "hovertemplate": "<b>%{hovertext}</b><br><br>Country=Mauritania<br>People Fully Vaccinated=%{x}<br>Total Cases=%{y}<br>Total Deaths=%{customdata[0]}<br>People Vaccinated=%{customdata[1]}<extra></extra>",
         "hovertext": [
          "Mauritania"
         ],
         "legendgroup": "Mauritania",
         "marker": {
          "color": "#00cc96",
          "size": {
           "bdata": "AAAAAAAoj0A=",
           "dtype": "f8"
          },
          "sizemode": "area",
          "sizeref": 7493.3975,
          "symbol": "circle"
         },
         "mode": "markers",
         "name": "Mauritania",
         "orientation": "v",
         "showlegend": true,
         "type": "scatter",
         "x": {
          "bdata": "AAAAAAAA+H8=",
          "dtype": "f8"
         },
         "xaxis": "x",
         "y": {
          "bdata": "AAAAAAAw70A=",
          "dtype": "f8"
         },
         "yaxis": "y"
        },
        {
         "customdata": {
          "bdata": "AAAAAAAAAAAAAAAAAAD4fw==",
          "dtype": "f8",
          "shape": "1, 2"
         },
         "hovertemplate": "<b>%{hovertext}</b><br><br>Country=Niue<br>People Fully Vaccinated=%{x}<br>Total Cases=%{y}<br>Total Deaths=%{customdata[0]}<br>People Vaccinated=%{customdata[1]}<extra></extra>",
         "hovertext": [
          "Niue"
         ],
         "legendgroup": "Niue",
         "marker": {
          "color": "#ab63fa",
          "size": {
           "bdata": "AAAAAAAAAAA=",
           "dtype": "f8"
          },
          "sizemode": "area",
          "sizeref": 7493.3975,
          "symbol": "circle"
         },
         "mode": "markers",
         "name": "Niue",
         "orientation": "v",
         "showlegend": true,
         "type": "scatter",
         "x": {
          "bdata": "AAAAAAAA+H8=",
          "dtype": "f8"
         },
         "xaxis": "x",
         "y": {
          "bdata": "AAAAAADIkEA=",
          "dtype": "f8"
         },
         "yaxis": "y"
        },
        {
         "customdata": {
          "bdata": "AAAAAAAluUAAAAAAAAD4fw==",
          "dtype": "f8",
          "shape": "1, 2"
         },
         "hovertemplate": "<b>%{hovertext}</b><br><br>Country=Libya<br>People Fully Vaccinated=%{x}<br>Total Cases=%{y}<br>Total Deaths=%{customdata[0]}<br>People Vaccinated=%{customdata[1]}<extra></extra>",
         "hovertext": [
          "Libya"
         ],
         "legendgroup": "Libya",
         "marker": {
          "color": "#FFA15A",
          "size": {
           "bdata": "AAAAAAAluUA=",
           "dtype": "f8"
          },
          "sizemode": "area",
          "sizeref": 7493.3975,
          "symbol": "circle"
         },
         "mode": "markers",
         "name": "Libya",
         "orientation": "v",
         "showlegend": true,
         "type": "scatter",
         "x": {
          "bdata": "AAAAAAAA+H8=",
          "dtype": "f8"
         },
         "xaxis": "x",
         "y": {
          "bdata": "AAAAABT2HkE=",
          "dtype": "f8"
         },
         "yaxis": "y"
        },
        {
         "customdata": {
          "bdata": "AAAAAABAXEAAAAAAAAD4fw==",
          "dtype": "f8",
          "shape": "1, 2"
         },
         "hovertemplate": "<b>%{hovertext}</b><br><br>Country=Gibraltar<br>People Fully Vaccinated=%{x}<br>Total Cases=%{y}<br>Total Deaths=%{customdata[0]}<br>People Vaccinated=%{customdata[1]}<extra></extra>",
         "hovertext": [
          "Gibraltar"
         ],
         "legendgroup": "Gibraltar",
         "marker": {
          "color": "#19d3f3",
          "size": {
           "bdata": "AAAAAABAXEA=",
           "dtype": "f8"
          },
          "sizemode": "area",
          "sizeref": 7493.3975,
          "symbol": "circle"
         },
         "mode": "markers",
         "name": "Gibraltar",
         "orientation": "v",
         "showlegend": true,
         "type": "scatter",
         "x": {
          "bdata": "AAAAAAAA+H8=",
          "dtype": "f8"
         },
         "xaxis": "x",
         "y": {
          "bdata": "AAAAAIAR1EA=",
          "dtype": "f8"
         },
         "yaxis": "y"
        },
        {
         "customdata": {
          "bdata": "AAAAAAAzvUAAAAAAAAD4fw==",
          "dtype": "f8",
          "shape": "1, 2"
         },
         "hovertemplate": "<b>%{hovertext}</b><br><br>Country=Latvia<br>People Fully Vaccinated=%{x}<br>Total Cases=%{y}<br>Total Deaths=%{customdata[0]}<br>People Vaccinated=%{customdata[1]}<extra></extra>",
         "hovertext": [
          "Latvia"
         ],
         "legendgroup": "Latvia",
         "marker": {
          "color": "#FF6692",
          "size": {
           "bdata": "AAAAAAAzvUA=",
           "dtype": "f8"
          },
          "sizemode": "area",
          "sizeref": 7493.3975,
          "symbol": "circle"
         },
         "mode": "markers",
         "name": "Latvia",
         "orientation": "v",
         "showlegend": true,
         "type": "scatter",
         "x": {
          "bdata": "AAAAAAAA+H8=",
          "dtype": "f8"
         },
         "xaxis": "x",
         "y": {
          "bdata": "AAAAAMrWLUE=",
          "dtype": "f8"
         },
         "yaxis": "y"
        },
        {
         "customdata": {
          "bdata": "AAAAAMDH2EAAAAAAAAD4fw==",
          "dtype": "f8",
          "shape": "1, 2"
         },
         "hovertemplate": "<b>%{hovertext}</b><br><br>Country=Iraq<br>People Fully Vaccinated=%{x}<br>Total Cases=%{y}<br>Total Deaths=%{customdata[0]}<br>People Vaccinated=%{customdata[1]}<extra></extra>",
         "hovertext": [
          "Iraq"
         ],
         "legendgroup": "Iraq",
         "marker": {
          "color": "#B6E880",
          "size": {
           "bdata": "AAAAAMDH2EA=",
           "dtype": "f8"
          },
          "sizemode": "area",
          "sizeref": 7493.3975,
          "symbol": "circle"
         },
         "mode": "markers",
         "name": "Iraq",
         "orientation": "v",
         "showlegend": true,
         "type": "scatter",
         "x": {
          "bdata": "AAAAAAAA+H8=",
          "dtype": "f8"
         },
         "xaxis": "x",
         "y": {
          "bdata": "AAAAgITPQkE=",
          "dtype": "f8"
         },
         "yaxis": "y"
        },
        {
         "customdata": {
          "bdata": "AAAAAACmqEAAAAAAAAD4fw==",
          "dtype": "f8",
          "shape": "1, 2"
         },
         "hovertemplate": "<b>%{hovertext}</b><br><br>Country=Nigeria<br>People Fully Vaccinated=%{x}<br>Total Cases=%{y}<br>Total Deaths=%{customdata[0]}<br>People Vaccinated=%{customdata[1]}<extra></extra>",
         "hovertext": [
          "Nigeria"
         ],
         "legendgroup": "Nigeria",
         "marker": {
          "color": "#FF97FF",
          "size": {
           "bdata": "AAAAAACmqEA=",
           "dtype": "f8"
          },
          "sizemode": "area",
          "sizeref": 7493.3975,
          "symbol": "circle"
         },
         "mode": "markers",
         "name": "Nigeria",
         "orientation": "v",
         "showlegend": true,
         "type": "scatter",
         "x": {
          "bdata": "AAAAAAAA+H8=",
          "dtype": "f8"
         },
         "xaxis": "x",
         "y": {
          "bdata": "AAAAANBOEEE=",
          "dtype": "f8"
         },
         "yaxis": "y"
        },
        {
         "customdata": {
          "bdata": "AAAAAADYlkAAAAAAAAD4fw==",
          "dtype": "f8",
          "shape": "1, 2"
         },
         "hovertemplate": "<b>%{hovertext}</b><br><br>Country=Ghana<br>People Fully Vaccinated=%{x}<br>Total Cases=%{y}<br>Total Deaths=%{customdata[0]}<br>People Vaccinated=%{customdata[1]}<extra></extra>",
         "hovertext": [
          "Ghana"
         ],
         "legendgroup": "Ghana",
         "marker": {
          "color": "#FECB52",
          "size": {
           "bdata": "AAAAAADYlkA=",
           "dtype": "f8"
          },
          "sizemode": "area",
          "sizeref": 7493.3975,
          "symbol": "circle"
         },
         "mode": "markers",
         "name": "Ghana",
         "orientation": "v",
         "showlegend": true,
         "type": "scatter",
         "x": {
          "bdata": "AAAAAAAA+H8=",
          "dtype": "f8"
         },
         "xaxis": "x",
         "y": {
          "bdata": "AAAAAPAABUE=",
          "dtype": "f8"
         },
         "yaxis": "y"
        },
        {
         "customdata": {
          "bdata": "AAAAAFxrFEEAAAAAAAD4fw==",
          "dtype": "f8",
          "shape": "1, 2"
         },
         "hovertemplate": "<b>%{hovertext}</b><br><br>Country=Mexico<br>People Fully Vaccinated=%{x}<br>Total Cases=%{y}<br>Total Deaths=%{customdata[0]}<br>People Vaccinated=%{customdata[1]}<extra></extra>",
         "hovertext": [
          "Mexico"
         ],
         "legendgroup": "Mexico",
         "marker": {
          "color": "#636efa",
          "size": {
           "bdata": "AAAAAFxrFEE=",
           "dtype": "f8"
          },
          "sizemode": "area",
          "sizeref": 7493.3975,
          "symbol": "circle"
         },
         "mode": "markers",
         "name": "Mexico",
         "orientation": "v",
         "showlegend": true,
         "type": "scatter",
         "x": {
          "bdata": "AAAAAAAA+H8=",
          "dtype": "f8"
         },
         "xaxis": "x",
         "y": {
          "bdata": "AAAAgOAQXUE=",
          "dtype": "f8"
         },
         "yaxis": "y"
        },
        {
         "customdata": {
          "bdata": "AAAAAABgZ0AAAAAAAAD4fw==",
          "dtype": "f8",
          "shape": "1, 2"
         },
         "hovertemplate": "<b>%{hovertext}</b><br><br>Country=Mayotte<br>People Fully Vaccinated=%{x}<br>Total Cases=%{y}<br>Total Deaths=%{customdata[0]}<br>People Vaccinated=%{customdata[1]}<extra></extra>",
         "hovertext": [
          "Mayotte"
         ],
         "legendgroup": "Mayotte",
         "marker": {
          "color": "#EF553B",
          "size": {
           "bdata": "AAAAAABgZ0A=",
           "dtype": "f8"
          },
          "sizemode": "area",
          "sizeref": 7493.3975,
          "symbol": "circle"
         },
         "mode": "markers",
         "name": "Mayotte",
         "orientation": "v",
         "showlegend": true,
         "type": "scatter",
         "x": {
          "bdata": "AAAAAAAA+H8=",
          "dtype": "f8"
         },
         "xaxis": "x",
         "y": {
          "bdata": "AAAAAGCF5EA=",
          "dtype": "f8"
         },
         "yaxis": "y"
        },
        {
         "customdata": {
          "bdata": "AAAAAIBhxUAAAAAAAAD4fw==",
          "dtype": "f8",
          "shape": "1, 2"
         },
         "hovertemplate": "<b>%{hovertext}</b><br><br>Country=Lebanon<br>People Fully Vaccinated=%{x}<br>Total Cases=%{y}<br>Total Deaths=%{customdata[0]}<br>People Vaccinated=%{customdata[1]}<extra></extra>",
         "hovertext": [
          "Lebanon"
         ],
         "legendgroup": "Lebanon",
         "marker": {
          "color": "#00cc96",
          "size": {
           "bdata": "AAAAAIBhxUA=",
           "dtype": "f8"
          },
          "sizemode": "area",
          "sizeref": 7493.3975,
          "symbol": "circle"
         },
         "mode": "markers",
         "name": "Lebanon",
         "orientation": "v",
         "showlegend": true,
         "type": "scatter",
         "x": {
          "bdata": "AAAAAAAA+H8=",
          "dtype": "f8"
         },
         "xaxis": "x",
         "y": {
          "bdata": "AAAAAGDrMkE=",
          "dtype": "f8"
         },
         "yaxis": "y"
        },
        {
         "customdata": {
          "bdata": "AAAAAKjsAUEAAAAAAAD4fw==",
          "dtype": "f8",
          "shape": "1, 2"
         },
         "hovertemplate": "<b>%{hovertext}</b><br><br>Country=Iran<br>People Fully Vaccinated=%{x}<br>Total Cases=%{y}<br>Total Deaths=%{customdata[0]}<br>People Vaccinated=%{customdata[1]}<extra></extra>",
         "hovertext": [
          "Iran"
         ],
         "legendgroup": "Iran",
         "marker": {
          "color": "#ab63fa",
          "size": {
           "bdata": "AAAAAKjsAUE=",
           "dtype": "f8"
          },
          "sizemode": "area",
          "sizeref": 7493.3975,
          "symbol": "circle"
         },
         "mode": "markers",
         "name": "Iran",
         "orientation": "v",
         "showlegend": true,
         "type": "scatter",
         "x": {
          "bdata": "AAAAAAAA+H8=",
          "dtype": "f8"
         },
         "xaxis": "x",
         "y": {
          "bdata": "AAAAwBUZXUE=",
          "dtype": "f8"
         },
         "yaxis": "y"
        },
        {
         "customdata": {
          "bdata": "AAAAAABgckAAAAAAAAD4fw==",
          "dtype": "f8",
          "shape": "1, 2"
         },
         "hovertemplate": "<b>%{hovertext}</b><br><br>Country=Liberia<br>People Fully Vaccinated=%{x}<br>Total Cases=%{y}<br>Total Deaths=%{customdata[0]}<br>People Vaccinated=%{customdata[1]}<extra></extra>",
         "hovertext": [
          "Liberia"
         ],
         "legendgroup": "Liberia",
         "marker": {
          "color": "#FFA15A",
          "size": {
           "bdata": "AAAAAABgckA=",
           "dtype": "f8"
          },
          "sizemode": "area",
          "sizeref": 7493.3975,
          "symbol": "circle"
         },
         "mode": "markers",
         "name": "Liberia",
         "orientation": "v",
         "showlegend": true,
         "type": "scatter",
         "x": {
          "bdata": "AAAAAAAA+H8=",
          "dtype": "f8"
         },
         "xaxis": "x",
         "y": {
          "bdata": "AAAAAAD6vkA=",
          "dtype": "f8"
         },
         "yaxis": "y"
        },
        {
         "customdata": {
          "bdata": "AAAAAEAr40AAAAAAAAD4fw==",
          "dtype": "f8",
          "shape": "1, 2"
         },
         "hovertemplate": "<b>%{hovertext}</b><br><br>Country=Greece<br>People Fully Vaccinated=%{x}<br>Total Cases=%{y}<br>Total Deaths=%{customdata[0]}<br>People Vaccinated=%{customdata[1]}<extra></extra>",
         "hovertext": [
          "Greece"
         ],
         "legendgroup": "Greece",
         "marker": {
          "color": "#19d3f3",
          "size": {
           "bdata": "AAAAAEAr40A=",
           "dtype": "f8"
          },
          "sizemode": "area",
          "sizeref": 7493.3975,
          "symbol": "circle"
         },
         "mode": "markers",
         "name": "Greece",
         "orientation": "v",
         "showlegend": true,
         "type": "scatter",
         "x": {
          "bdata": "AAAAAAAA+H8=",
          "dtype": "f8"
         },
         "xaxis": "x",
         "y": {
          "bdata": "AAAAQLSkVUE=",
          "dtype": "f8"
         },
         "yaxis": "y"
        },
        {
         "customdata": {
          "bdata": "AAAAAABAVkAAAAAAAAD4fw==",
          "dtype": "f8",
          "shape": "1, 2"
         },
         "hovertemplate": "<b>%{hovertext}</b><br><br>Country=Liechtenstein<br>People Fully Vaccinated=%{x}<br>Total Cases=%{y}<br>Total Deaths=%{customdata[0]}<br>People Vaccinated=%{customdata[1]}<extra></extra>",
         "hovertext": [
          "Liechtenstein"
         ],
         "legendgroup": "Liechtenstein",
         "marker": {
          "color": "#FF6692",
          "size": {
           "bdata": "AAAAAABAVkA=",
           "dtype": "f8"
          },
          "sizemode": "area",
          "sizeref": 7493.3975,
          "symbol": "circle"
         },
         "mode": "markers",
         "name": "Liechtenstein",
         "orientation": "v",
         "showlegend": true,
         "type": "scatter",
         "x": {
          "bdata": "AAAAAAAA+H8=",
          "dtype": "f8"
         },
         "xaxis": "x",
         "y": {
          "bdata": "AAAAAAAV1UA=",
          "dtype": "f8"
         },
         "yaxis": "y"
        },
        {
         "customdata": {
          "bdata": "AAAAAACwc0AAAAAAAAD4fw==",
          "dtype": "f8",
          "shape": "1, 2"
         },
         "hovertemplate": "<b>%{hovertext}</b><br><br>Country=Niger<br>People Fully Vaccinated=%{x}<br>Total Cases=%{y}<br>Total Deaths=%{customdata[0]}<br>People Vaccinated=%{customdata[1]}<extra></extra>",
         "hovertext": [
          "Niger"
         ],
         "legendgroup": "Niger",
         "marker": {
          "color": "#B6E880",
          "size": {
           "bdata": "AAAAAACwc0A=",
           "dtype": "f8"
          },
          "sizemode": "area",
          "sizeref": 7493.3975,
          "symbol": "circle"
         },
         "mode": "markers",
         "name": "Niger",
         "orientation": "v",
         "showlegend": true,
         "type": "scatter",
         "x": {
          "bdata": "AAAAAAAA+H8=",
          "dtype": "f8"
         },
         "xaxis": "x",
         "y": {
          "bdata": "AAAAAACXwkA=",
          "dtype": "f8"
         },
         "yaxis": "y"
        },
        {
         "customdata": {
          "bdata": "AAAAAIDRyEAAAAAAAAD4fw==",
          "dtype": "f8",
          "shape": "1, 2"
         },
         "hovertemplate": "<b>%{hovertext}</b><br><br>Country=Israel<br>People Fully Vaccinated=%{x}<br>Total Cases=%{y}<br>Total Deaths=%{customdata[0]}<br>People Vaccinated=%{customdata[1]}<extra></extra>",
         "hovertext": [
          "Israel"
         ],
         "legendgroup": "Israel",
         "marker": {
          "color": "#FF97FF",
          "size": {
           "bdata": "AAAAAIDRyEA=",
           "dtype": "f8"
          },
          "sizemode": "area",
          "sizeref": 7493.3975,
          "symbol": "circle"
         },
         "mode": "markers",
         "name": "Israel",
         "orientation": "v",
         "showlegend": true,
         "type": "scatter",
         "x": {
          "bdata": "AAAAAAAA+H8=",
          "dtype": "f8"
         },
         "xaxis": "x",
         "y": {
          "bdata": "AAAAgBV4UkE=",
          "dtype": "f8"
         },
         "yaxis": "y"
        },
        {
         "customdata": {
          "bdata": "AAAAgDfeRkEAAAAAAAD4fw==",
          "dtype": "f8",
          "shape": "1, 2"
         },
         "hovertemplate": "<b>%{hovertext}</b><br><br>Country=High-income countries<br>People Fully Vaccinated=%{x}<br>Total Cases=%{y}<br>Total Deaths=%{customdata[0]}<br>People Vaccinated=%{customdata[1]}<extra></extra>",
         "hovertext": [
          "High-income countries"
         ],
         "legendgroup": "High-income countries",
         "marker": {
          "color": "#FECB52",
          "size": {
           "bdata": "AAAAgDfeRkE=",
           "dtype": "f8"
          },
          "sizemode": "area",
          "sizeref": 7493.3975,
          "symbol": "circle"
         },
         "mode": "markers",
         "name": "High-income countries",
         "orientation": "v",
         "showlegend": true,
         "type": "scatter",
         "x": {
          "bdata": "AAAAAAAA+H8=",
          "dtype": "f8"
         },
         "xaxis": "x",
         "y": {
          "bdata": "AAAAUbGSuUE=",
          "dtype": "f8"
         },
         "yaxis": "y"
        },
        {
         "customdata": {
          "bdata": "AAAAAAAAMUAAAAAAAAD4fw==",
          "dtype": "f8",
          "shape": "1, 2"
         },
         "hovertemplate": "<b>%{hovertext}</b><br><br>Country=Marshall Islands<br>People Fully Vaccinated=%{x}<br>Total Cases=%{y}<br>Total Deaths=%{customdata[0]}<br>People Vaccinated=%{customdata[1]}<extra></extra>",
         "hovertext": [
          "Marshall Islands"
         ],
         "legendgroup": "Marshall Islands",
         "marker": {
          "color": "#636efa",
          "size": {
           "bdata": "AAAAAAAAMUA=",
           "dtype": "f8"
          },
          "sizemode": "area",
          "sizeref": 7493.3975,
          "symbol": "circle"
         },
         "mode": "markers",
         "name": "Marshall Islands",
         "orientation": "v",
         "showlegend": true,
         "type": "scatter",
         "x": {
          "bdata": "AAAAAAAA+H8=",
          "dtype": "f8"
         },
         "xaxis": "x",
         "y": {
          "bdata": "AAAAAIDUz0A=",
          "dtype": "f8"
         },
         "yaxis": "y"
        },
        {
         "customdata": {
          "bdata": "AAAAANgVCEEAAAAAAAD4fw==",
          "dtype": "f8",
          "shape": "1, 2"
         },
         "hovertemplate": "<b>%{hovertext}</b><br><br>Country=Italy<br>People Fully Vaccinated=%{x}<br>Total Cases=%{y}<br>Total Deaths=%{customdata[0]}<br>People Vaccinated=%{customdata[1]}<extra></extra>",
         "hovertext": [
          "Italy"
         ],
         "legendgroup": "Italy",
         "marker": {
          "color": "#EF553B",
          "size": {
           "bdata": "AAAAANgVCEE=",
           "dtype": "f8"
          },
          "sizemode": "area",
          "sizeref": 7493.3975,
          "symbol": "circle"
         },
         "mode": "markers",
         "name": "Italy",
         "orientation": "v",
         "showlegend": true,
         "type": "scatter",
         "x": {
          "bdata": "AAAAAAAA+H8=",
          "dtype": "f8"
         },
         "xaxis": "x",
         "y": {
          "bdata": "AAAAYFmKeUE=",
          "dtype": "f8"
         },
         "yaxis": "y"
        },
        {
         "customdata": {
          "bdata": "AAAAAABAfUAAAAAAAAD4fw==",
          "dtype": "f8",
          "shape": "1, 2"
         },
         "hovertemplate": "<b>%{hovertext}</b><br><br>Country=Guinea<br>People Fully Vaccinated=%{x}<br>Total Cases=%{y}<br>Total Deaths=%{customdata[0]}<br>People Vaccinated=%{customdata[1]}<extra></extra>",
         "hovertext": [
          "Guinea"
         ],
         "legendgroup": "Guinea",
         "marker": {
          "color": "#00cc96",
          "size": {
           "bdata": "AAAAAABAfUA=",
           "dtype": "f8"
          },
          "sizemode": "area",
          "sizeref": 7493.3975,
          "symbol": "circle"
         },
         "mode": "markers",
         "name": "Guinea",
         "orientation": "v",
         "showlegend": true,
         "type": "scatter",
         "x": {
          "bdata": "AAAAAAAA+H8=",
          "dtype": "f8"
         },
         "xaxis": "x",
         "y": {
          "bdata": "AAAAAIDV4kA=",
          "dtype": "f8"
         },
         "yaxis": "y"
        },
        {
         "customdata": {
          "bdata": "AAAAAAAMsEAAAAAAAAD4fw==",
          "dtype": "f8",
          "shape": "1, 2"
         },
         "hovertemplate": "<b>%{hovertext}</b><br><br>Country=Namibia<br>People Fully Vaccinated=%{x}<br>Total Cases=%{y}<br>Total Deaths=%{customdata[0]}<br>People Vaccinated=%{customdata[1]}<extra></extra>",
         "hovertext": [
          "Namibia"
         ],
         "legendgroup": "Namibia",
         "marker": {
          "color": "#ab63fa",
          "size": {
           "bdata": "AAAAAAAMsEA=",
           "dtype": "f8"
          },
          "sizemode": "area",
          "sizeref": 7493.3975,
          "symbol": "circle"
         },
         "mode": "markers",
         "name": "Namibia",
         "orientation": "v",
         "showlegend": true,
         "type": "scatter",
         "x": {
          "bdata": "AAAAAAAA+H8=",
          "dtype": "f8"
         },
         "xaxis": "x",
         "y": {
          "bdata": "AAAAAKgPBUE=",
          "dtype": "f8"
         },
         "yaxis": "y"
        },
        {
         "customdata": {
          "bdata": "AAAAAAA5tkAAAAAAAAD4fw==",
          "dtype": "f8",
          "shape": "1, 2"
         },
         "hovertemplate": "<b>%{hovertext}</b><br><br>Country=Kenya<br>People Fully Vaccinated=%{x}<br>Total Cases=%{y}<br>Total Deaths=%{customdata[0]}<br>People Vaccinated=%{customdata[1]}<extra></extra>",
         "hovertext": [
          "Kenya"
         ],
         "legendgroup": "Kenya",
         "marker": {
          "color": "#FFA15A",
          "size": {
           "bdata": "AAAAAAA5tkA=",
           "dtype": "f8"
          },
          "sizemode": "area",
          "sizeref": 7493.3975,
          "symbol": "circle"
         },
         "mode": "markers",
         "name": "Kenya",
         "orientation": "v",
         "showlegend": true,
         "type": "scatter",
         "x": {
          "bdata": "AAAAAAAA+H8=",
          "dtype": "f8"
         },
         "xaxis": "x",
         "y": {
          "bdata": "AAAAAKgAFUE=",
          "dtype": "f8"
         },
         "yaxis": "y"
        },
        {
         "customdata": {
          "bdata": "AAAAAAAIw0AAAAAAAAD4fw==",
          "dtype": "f8",
          "shape": "1, 2"
         },
         "hovertemplate": "<b>%{hovertext}</b><br><br>Country=Ireland<br>People Fully Vaccinated=%{x}<br>Total Cases=%{y}<br>Total Deaths=%{customdata[0]}<br>People Vaccinated=%{customdata[1]}<extra></extra>",
         "hovertext": [
          "Ireland"
         ],
         "legendgroup": "Ireland",
         "marker": {
          "color": "#19d3f3",
          "size": {
           "bdata": "AAAAAAAIw0A=",
           "dtype": "f8"
          },
          "sizemode": "area",
          "sizeref": 7493.3975,
          "symbol": "circle"
         },
         "mode": "markers",
         "name": "Ireland",
         "orientation": "v",
         "showlegend": true,
         "type": "scatter",
         "x": {
          "bdata": "AAAAAAAA+H8=",
          "dtype": "f8"
         },
         "xaxis": "x",
         "y": {
          "bdata": "AAAAAMCgOkE=",
          "dtype": "f8"
         },
         "yaxis": "y"
        },
        {
         "customdata": {
          "bdata": "AAAAAGA88kAAAAAAAAD4fw==",
          "dtype": "f8",
          "shape": "1, 2"
         },
         "hovertemplate": "<b>%{hovertext}</b><br><br>Country=Japan<br>People Fully Vaccinated=%{x}<br>Total Cases=%{y}<br>Total Deaths=%{customdata[0]}<br>People Vaccinated=%{customdata[1]}<extra></extra>",
         "hovertext": [
          "Japan"
         ],
         "legendgroup": "Japan",
         "marker": {
          "color": "#FF6692",
          "size": {
           "bdata": "AAAAAGA88kA=",
           "dtype": "f8"
          },
          "sizemode": "area",
          "sizeref": 7493.3975,
          "symbol": "circle"
         },
         "mode": "markers",
         "name": "Japan",
         "orientation": "v",
         "showlegend": true,
         "type": "scatter",
         "x": {
          "bdata": "AAAAAAAA+H8=",
          "dtype": "f8"
         },
         "xaxis": "x",
         "y": {
          "bdata": "AAAAoGkegEE=",
          "dtype": "f8"
         },
         "yaxis": "y"
        },
        {
         "customdata": {
          "bdata": "AAAAAAAgZkAAAAAAAAD4fw==",
          "dtype": "f8",
          "shape": "1, 2"
         },
         "hovertemplate": "<b>%{hovertext}</b><br><br>Country=Guinea-Bissau<br>People Fully Vaccinated=%{x}<br>Total Cases=%{y}<br>Total Deaths=%{customdata[0]}<br>People Vaccinated=%{customdata[1]}<extra></extra>",
         "hovertext": [
          "Guinea-Bissau"
         ],
         "legendgroup": "Guinea-Bissau",
         "marker": {
          "color": "#B6E880",
          "size": {
           "bdata": "AAAAAAAgZkA=",
           "dtype": "f8"
          },
          "sizemode": "area",
          "sizeref": 7493.3975,
          "symbol": "circle"
         },
         "mode": "markers",
         "name": "Guinea-Bissau",
         "orientation": "v",
         "showlegend": true,
         "type": "scatter",
         "x": {
          "bdata": "AAAAAAAA+H8=",
          "dtype": "f8"
         },
         "xaxis": "x",
         "y": {
          "bdata": "AAAAAADHwkA=",
          "dtype": "f8"
         },
         "yaxis": "y"
        },
        {
         "customdata": {
          "bdata": "AAAAAIAJ00AAAAAAAAD4fw==",
          "dtype": "f8",
          "shape": "1, 2"
         },
         "hovertemplate": "<b>%{hovertext}</b><br><br>Country=Myanmar<br>People Fully Vaccinated=%{x}<br>Total Cases=%{y}<br>Total Deaths=%{customdata[0]}<br>People Vaccinated=%{customdata[1]}<extra></extra>",
         "hovertext": [
          "Myanmar"
         ],
         "legendgroup": "Myanmar",
         "marker": {
          "color": "#FF97FF",
          "size": {
           "bdata": "AAAAAIAJ00A=",
           "dtype": "f8"
          },
          "sizemode": "area",
          "sizeref": 7493.3975,
          "symbol": "circle"
         },
         "mode": "markers",
         "name": "Myanmar",
         "orientation": "v",
         "showlegend": true,
         "type": "scatter",
         "x": {
          "bdata": "AAAAAAAA+H8=",
          "dtype": "f8"
         },
         "xaxis": "x",
         "y": {
          "bdata": "AAAAAIqeI0E=",
          "dtype": "f8"
         },
         "yaxis": "y"
        },
        {
         "customdata": {
          "bdata": "AAAAAAA4h0AAAAAAAAD4fw==",
          "dtype": "f8",
          "shape": "1, 2"
         },
         "hovertemplate": "<b>%{hovertext}</b><br><br>Country=Mali<br>People Fully Vaccinated=%{x}<br>Total Cases=%{y}<br>Total Deaths=%{customdata[0]}<br>People Vaccinated=%{customdata[1]}<extra></extra>",
         "hovertext": [
          "Mali"
         ],
         "legendgroup": "Mali",
         "marker": {
          "color": "#FECB52",
          "size": {
           "bdata": "AAAAAAA4h0A=",
           "dtype": "f8"
          },
          "sizemode": "area",
          "sizeref": 7493.3975,
          "symbol": "circle"
         },
         "mode": "markers",
         "name": "Mali",
         "orientation": "v",
         "showlegend": true,
         "type": "scatter",
         "x": {
          "bdata": "AAAAAAAA+H8=",
          "dtype": "f8"
         },
         "xaxis": "x",
         "y": {
          "bdata": "AAAAAMAx4EA=",
          "dtype": "f8"
         },
         "yaxis": "y"
        },
        {
         "customdata": {
          "bdata": "AAAAAAD8pEAAAAAAAAD4fw==",
          "dtype": "f8",
          "shape": "1, 2"
         },
         "hovertemplate": "<b>%{hovertext}</b><br><br>Country=Malawi<br>People Fully Vaccinated=%{x}<br>Total Cases=%{y}<br>Total Deaths=%{customdata[0]}<br>People Vaccinated=%{customdata[1]}<extra></extra>",
         "hovertext": [
          "Malawi"
         ],
         "legendgroup": "Malawi",
         "marker": {
          "color": "#636efa",
          "size": {
           "bdata": "AAAAAAD8pEA=",
           "dtype": "f8"
          },
          "sizemode": "area",
          "sizeref": 7493.3975,
          "symbol": "circle"
         },
         "mode": "markers",
         "name": "Malawi",
         "orientation": "v",
         "showlegend": true,
         "type": "scatter",
         "x": {
          "bdata": "AAAAAAAA+H8=",
          "dtype": "f8"
         },
         "xaxis": "x",
         "y": {
          "bdata": "AAAAAADF9UA=",
          "dtype": "f8"
         },
         "yaxis": "y"
        },
        {
         "customdata": {
          "bdata": "AAAAAABQlkAAAAAAAAD4fw==",
          "dtype": "f8",
          "shape": "1, 2"
         },
         "hovertemplate": "<b>%{hovertext}</b><br><br>Country=Madagascar<br>People Fully Vaccinated=%{x}<br>Total Cases=%{y}<br>Total Deaths=%{customdata[0]}<br>People Vaccinated=%{customdata[1]}<extra></extra>",
         "hovertext": [
          "Madagascar"
         ],
         "legendgroup": "Madagascar",
         "marker": {
          "color": "#EF553B",
          "size": {
           "bdata": "AAAAAABQlkA=",
           "dtype": "f8"
          },
          "sizemode": "area",
          "sizeref": 7493.3975,
          "symbol": "circle"
         },
         "mode": "markers",
         "name": "Madagascar",
         "orientation": "v",
         "showlegend": true,
         "type": "scatter",
         "x": {
          "bdata": "AAAAAAAA+H8=",
          "dtype": "f8"
         },
         "xaxis": "x",
         "y": {
          "bdata": "AAAAAHC98EA=",
          "dtype": "f8"
         },
         "yaxis": "y"
        },
        {
         "customdata": {
          "bdata": "AAAAAACg0kAAAAAAAAD4fw==",
          "dtype": "f8",
          "shape": "1, 2"
         },
         "hovertemplate": "<b>%{hovertext}</b><br><br>Country=Kazakhstan<br>People Fully Vaccinated=%{x}<br>Total Cases=%{y}<br>Total Deaths=%{customdata[0]}<br>People Vaccinated=%{customdata[1]}<extra></extra>",
         "hovertext": [
          "Kazakhstan"
         ],
         "legendgroup": "Kazakhstan",
         "marker": {
          "color": "#00cc96",
          "size": {
           "bdata": "AAAAAACg0kA=",
           "dtype": "f8"
          },
          "sizemode": "area",
          "sizeref": 7493.3975,
          "symbol": "circle"
         },
         "mode": "markers",
         "name": "Kazakhstan",
         "orientation": "v",
         "showlegend": true,
         "type": "scatter",
         "x": {
          "bdata": "AAAAAAAA+H8=",
          "dtype": "f8"
         },
         "xaxis": "x",
         "y": {
          "bdata": "AAAAAHL0NkE=",
          "dtype": "f8"
         },
         "yaxis": "y"
        },
        {
         "customdata": {
          "bdata": "AAAAAAC1xUAAAAAAAAD4fw==",
          "dtype": "f8",
          "shape": "1, 2"
         },
         "hovertemplate": "<b>%{hovertext}</b><br><br>Country=Honduras<br>People Fully Vaccinated=%{x}<br>Total Cases=%{y}<br>Total Deaths=%{customdata[0]}<br>People Vaccinated=%{customdata[1]}<extra></extra>",
         "hovertext": [
          "Honduras"
         ],
         "legendgroup": "Honduras",
         "marker": {
          "color": "#ab63fa",
          "size": {
           "bdata": "AAAAAAC1xUA=",
           "dtype": "f8"
          },
          "sizemode": "area",
          "sizeref": 7493.3975,
          "symbol": "circle"
         },
         "mode": "markers",
         "name": "Honduras",
         "orientation": "v",
         "showlegend": true,
         "type": "scatter",
         "x": {
          "bdata": "AAAAAAAA+H8=",
          "dtype": "f8"
         },
         "xaxis": "x",
         "y": {
          "bdata": "AAAAAADdHEE=",
          "dtype": "f8"
         },
         "yaxis": "y"
        },
        {
         "customdata": {
          "bdata": "AAAAAABYlEAAAAAAAAD4fw==",
          "dtype": "f8",
          "shape": "1, 2"
         },
         "hovertemplate": "<b>%{hovertext}</b><br><br>Country=Guyana<br>People Fully Vaccinated=%{x}<br>Total Cases=%{y}<br>Total Deaths=%{customdata[0]}<br>People Vaccinated=%{customdata[1]}<extra></extra>",
         "hovertext": [
          "Guyana"
         ],
         "legendgroup": "Guyana",
         "marker": {
          "color": "#FFA15A",
          "size": {
           "bdata": "AAAAAABYlEA=",
           "dtype": "f8"
          },
          "sizemode": "area",
          "sizeref": 7493.3975,
          "symbol": "circle"
         },
         "mode": "markers",
         "name": "Guyana",
         "orientation": "v",
         "showlegend": true,
         "type": "scatter",
         "x": {
          "bdata": "AAAAAAAA+H8=",
          "dtype": "f8"
         },
         "xaxis": "x",
         "y": {
          "bdata": "AAAAALAs8kA=",
          "dtype": "f8"
         },
         "yaxis": "y"
        },
        {
         "customdata": {
          "bdata": "AAAAAACYoUAAAAAAAAD4fw==",
          "dtype": "f8",
          "shape": "1, 2"
         },
         "hovertemplate": "<b>%{hovertext}</b><br><br>Country=Mozambique<br>People Fully Vaccinated=%{x}<br>Total Cases=%{y}<br>Total Deaths=%{customdata[0]}<br>People Vaccinated=%{customdata[1]}<extra></extra>",
         "hovertext": [
          "Mozambique"
         ],
         "legendgroup": "Mozambique",
         "marker": {
          "color": "#19d3f3",
          "size": {
           "bdata": "AAAAAACYoUA=",
           "dtype": "f8"
          },
          "sizemode": "area",
          "sizeref": 7493.3975,
          "symbol": "circle"
         },
         "mode": "markers",
         "name": "Mozambique",
         "orientation": "v",
         "showlegend": true,
         "type": "scatter",
         "x": {
          "bdata": "AAAAAAAA+H8=",
          "dtype": "f8"
         },
         "xaxis": "x",
         "y": {
          "bdata": "AAAAAJiLDEE=",
          "dtype": "f8"
         },
         "yaxis": "y"
        },
        {
         "customdata": {
          "bdata": "AAAAAOA84kAAAACAw9V6QQ==",
          "dtype": "f8",
          "shape": "1, 2"
         },
         "hovertemplate": "<b>%{hovertext}</b><br><br>Country=Malaysia<br>People Fully Vaccinated=%{x}<br>Total Cases=%{y}<br>Total Deaths=%{customdata[0]}<br>People Vaccinated=%{customdata[1]}<extra></extra>",
         "hovertext": [
          "Malaysia"
         ],
         "legendgroup": "Malaysia",
         "marker": {
          "color": "#FF6692",
          "size": {
           "bdata": "AAAAAOA84kA=",
           "dtype": "f8"
          },
          "sizemode": "area",
          "sizeref": 7493.3975,
          "symbol": "circle"
         },
         "mode": "markers",
         "name": "Malaysia",
         "orientation": "v",
         "showlegend": true,
         "type": "scatter",
         "x": {
          "bdata": "AAAAAFpGekE=",
          "dtype": "f8"
         },
         "xaxis": "x",
         "y": {
          "bdata": "AAAAgPhAVEE=",
          "dtype": "f8"
         },
         "yaxis": "y"
        },
        {
         "customdata": {
          "bdata": "AAAAAACVy0AAAAAAAAD4fw==",
          "dtype": "f8",
          "shape": "1, 2"
         },
         "hovertemplate": "<b>%{hovertext}</b><br><br>Country=Jordan<br>People Fully Vaccinated=%{x}<br>Total Cases=%{y}<br>Total Deaths=%{customdata[0]}<br>People Vaccinated=%{customdata[1]}<extra></extra>",
         "hovertext": [
          "Jordan"
         ],
         "legendgroup": "Jordan",
         "marker": {
          "color": "#B6E880",
          "size": {
           "bdata": "AAAAAACVy0A=",
           "dtype": "f8"
          },
          "sizemode": "area",
          "sizeref": 7493.3975,
          "symbol": "circle"
         },
         "mode": "markers",
         "name": "Jordan",
         "orientation": "v",
         "showlegend": true,
         "type": "scatter",
         "x": {
          "bdata": "AAAAAAAA+H8=",
          "dtype": "f8"
         },
         "xaxis": "x",
         "y": {
          "bdata": "AAAAADWoOkE=",
          "dtype": "f8"
         },
         "yaxis": "y"
        },
        {
         "customdata": {
          "bdata": "AAAAAADgikAAAAAAAAD4fw==",
          "dtype": "f8",
          "shape": "1, 2"
         },
         "hovertemplate": "<b>%{hovertext}</b><br><br>Country=Haiti<br>People Fully Vaccinated=%{x}<br>Total Cases=%{y}<br>Total Deaths=%{customdata[0]}<br>People Vaccinated=%{customdata[1]}<extra></extra>",
         "hovertext": [
          "Haiti"
         ],
         "legendgroup": "Haiti",
         "marker": {
          "color": "#FF97FF",
          "size": {
           "bdata": "AAAAAADgikA=",
           "dtype": "f8"
          },
          "sizemode": "area",
          "sizeref": 7493.3975,
          "symbol": "circle"
         },
         "mode": "markers",
         "name": "Haiti",
         "orientation": "v",
         "showlegend": true,
         "type": "scatter",
         "x": {
          "bdata": "AAAAAAAA+H8=",
          "dtype": "f8"
         },
         "xaxis": "x",
         "y": {
          "bdata": "AAAAAADT4EA=",
          "dtype": "f8"
         },
         "yaxis": "y"
        },
        {
         "customdata": {
          "bdata": "AAAAAIDYz0AAAAAAAAD4fw==",
          "dtype": "f8",
          "shape": "1, 2"
         },
         "hovertemplate": "<b>%{hovertext}</b><br><br>Country=Morocco<br>People Fully Vaccinated=%{x}<br>Total Cases=%{y}<br>Total Deaths=%{customdata[0]}<br>People Vaccinated=%{customdata[1]}<extra></extra>",
         "hovertext": [
          "Morocco"
         ],
         "legendgroup": "Morocco",
         "marker": {
          "color": "#FECB52",
          "size": {
           "bdata": "AAAAAIDYz0A=",
           "dtype": "f8"
          },
          "sizemode": "area",
          "sizeref": 7493.3975,
          "symbol": "circle"
         },
         "mode": "markers",
         "name": "Morocco",
         "orientation": "v",
         "showlegend": true,
         "type": "scatter",
         "x": {
          "bdata": "AAAAAAAA+H8=",
          "dtype": "f8"
         },
         "xaxis": "x",
         "y": {
          "bdata": "AAAAAIuEM0E=",
          "dtype": "f8"
         },
         "yaxis": "y"
        },
        {
         "customdata": {
          "bdata": "AAAAAAAgZEAAAAAAAAD4fw==",
          "dtype": "f8",
          "shape": "1, 2"
         },
         "hovertemplate": "<b>%{hovertext}</b><br><br>Country=Jersey<br>People Fully Vaccinated=%{x}<br>Total Cases=%{y}<br>Total Deaths=%{customdata[0]}<br>People Vaccinated=%{customdata[1]}<extra></extra>",
         "hovertext": [
          "Jersey"
         ],
         "legendgroup": "Jersey",
         "marker": {
          "color": "#636efa",
          "size": {
           "bdata": "AAAAAAAgZEA=",
           "dtype": "f8"
          },
          "sizemode": "area",
          "sizeref": 7493.3975,
          "symbol": "circle"
         },
         "mode": "markers",
         "name": "Jersey",
         "orientation": "v",
         "showlegend": true,
         "type": "scatter",
         "x": {
          "bdata": "AAAAAAAA+H8=",
          "dtype": "f8"
         },
         "xaxis": "x",
         "y": {
          "bdata": "AAAAAHA18EA=",
          "dtype": "f8"
         },
         "yaxis": "y"
        },
        {
         "customdata": {
          "bdata": "AAAAAAAAIEAAAAAAAAD4fw==",
          "dtype": "f8",
          "shape": "1, 2"
         },
         "hovertemplate": "<b>%{hovertext}</b><br><br>Country=Montserrat<br>People Fully Vaccinated=%{x}<br>Total Cases=%{y}<br>Total Deaths=%{customdata[0]}<br>People Vaccinated=%{customdata[1]}<extra></extra>",
         "hovertext": [
          "Montserrat"
         ],
         "legendgroup": "Montserrat",
         "marker": {
          "color": "#EF553B",
          "size": {
           "bdata": "AAAAAAAAIEA=",
           "dtype": "f8"
          },
          "sizemode": "area",
          "sizeref": 7493.3975,
          "symbol": "circle"
         },
         "mode": "markers",
         "name": "Montserrat",
         "orientation": "v",
         "showlegend": true,
         "type": "scatter",
         "x": {
          "bdata": "AAAAAAAA+H8=",
          "dtype": "f8"
         },
         "xaxis": "x",
         "y": {
          "bdata": "AAAAAADslUA=",
          "dtype": "f8"
         },
         "yaxis": "y"
        },
        {
         "customdata": {
          "bdata": "AAAAAAC8pEAAAAAAAAD4fw==",
          "dtype": "f8",
          "shape": "1, 2"
         },
         "hovertemplate": "<b>%{hovertext}</b><br><br>Country=Montenegro<br>People Fully Vaccinated=%{x}<br>Total Cases=%{y}<br>Total Deaths=%{customdata[0]}<br>People Vaccinated=%{customdata[1]}<extra></extra>",
         "hovertext": [
          "Montenegro"
         ],
         "legendgroup": "Montenegro",
         "marker": {
          "color": "#00cc96",
          "size": {
           "bdata": "AAAAAAC8pEA=",
           "dtype": "f8"
          },
          "sizemode": "area",
          "sizeref": 7493.3975,
          "symbol": "circle"
         },
         "mode": "markers",
         "name": "Montenegro",
         "orientation": "v",
         "showlegend": true,
         "type": "scatter",
         "x": {
          "bdata": "AAAAAAAA+H8=",
          "dtype": "f8"
         },
         "xaxis": "x",
         "y": {
          "bdata": "AAAAAICsDkE=",
          "dtype": "f8"
         },
         "yaxis": "y"
        },
        {
         "customdata": {
          "bdata": "AAAAAAC8sEAAAAAAAAD4fw==",
          "dtype": "f8",
          "shape": "1, 2"
         },
         "hovertemplate": "<b>%{hovertext}</b><br><br>Country=New Zealand<br>People Fully Vaccinated=%{x}<br>Total Cases=%{y}<br>Total Deaths=%{customdata[0]}<br>People Vaccinated=%{customdata[1]}<extra></extra>",
         "hovertext": [
          "New Zealand"
         ],
         "legendgroup": "New Zealand",
         "marker": {
          "color": "#ab63fa",
          "size": {
           "bdata": "AAAAAAC8sEA=",
           "dtype": "f8"
          },
          "sizemode": "area",
          "sizeref": 7493.3975,
          "symbol": "circle"
         },
         "mode": "markers",
         "name": "New Zealand",
         "orientation": "v",
         "showlegend": true,
         "type": "scatter",
         "x": {
          "bdata": "AAAAAAAA+H8=",
          "dtype": "f8"
         },
         "xaxis": "x",
         "y": {
          "bdata": "AAAAAGQiREE=",
          "dtype": "f8"
         },
         "yaxis": "y"
        },
        {
         "customdata": {
          "bdata": "AAAAAKDz50AAAAAAAAD4fw==",
          "dtype": "f8",
          "shape": "1, 2"
         },
         "hovertemplate": "<b>%{hovertext}</b><br><br>Country=Hungary<br>People Fully Vaccinated=%{x}<br>Total Cases=%{y}<br>Total Deaths=%{customdata[0]}<br>People Vaccinated=%{customdata[1]}<extra></extra>",
         "hovertext": [
          "Hungary"
         ],
         "legendgroup": "Hungary",
         "marker": {
          "color": "#FFA15A",
          "size": {
           "bdata": "AAAAAKDz50A=",
           "dtype": "f8"
          },
          "sizemode": "area",
          "sizeref": 7493.3975,
          "symbol": "circle"
         },
         "mode": "markers",
         "name": "Hungary",
         "orientation": "v",
         "showlegend": true,
         "type": "scatter",
         "x": {
          "bdata": "AAAAAAAA+H8=",
          "dtype": "f8"
         },
         "xaxis": "x",
         "y": {
          "bdata": "AAAAAAgFQUE=",
          "dtype": "f8"
         },
         "yaxis": "y"
        },
        {
         "customdata": {
          "bdata": "AAAAAAAA8D8AAAAAAAD4fw==",
          "dtype": "f8",
          "shape": "1, 2"
         },
         "hovertemplate": "<b>%{hovertext}</b><br><br>Country=Nauru<br>People Fully Vaccinated=%{x}<br>Total Cases=%{y}<br>Total Deaths=%{customdata[0]}<br>People Vaccinated=%{customdata[1]}<extra></extra>",
         "hovertext": [
          "Nauru"
         ],
         "legendgroup": "Nauru",
         "marker": {
          "color": "#19d3f3",
          "size": {
           "bdata": "AAAAAAAA8D8=",
           "dtype": "f8"
          },
          "sizemode": "area",
          "sizeref": 7493.3975,
          "symbol": "circle"
         },
         "mode": "markers",
         "name": "Nauru",
         "orientation": "v",
         "showlegend": true,
         "type": "scatter",
         "x": {
          "bdata": "AAAAAAAA+H8=",
          "dtype": "f8"
         },
         "xaxis": "x",
         "y": {
          "bdata": "AAAAAAARtUA=",
          "dtype": "f8"
         },
         "yaxis": "y"
        },
        {
         "customdata": {
          "bdata": "AAAAACBB5UAAAAAAAAD4fw==",
          "dtype": "f8",
          "shape": "1, 2"
         },
         "hovertemplate": "<b>%{hovertext}</b><br><br>Country=Low-income countries<br>People Fully Vaccinated=%{x}<br>Total Cases=%{y}<br>Total Deaths=%{customdata[0]}<br>People Vaccinated=%{customdata[1]}<extra></extra>",
         "hovertext": [
          "Low-income countries"
         ],
         "legendgroup": "Low-income countries",
         "marker": {
          "color": "#FF6692",
          "size": {
           "bdata": "AAAAACBB5UA=",
           "dtype": "f8"
          },
          "sizemode": "area",
          "sizeref": 7493.3975,
          "symbol": "circle"
         },
         "mode": "markers",
         "name": "Low-income countries",
         "orientation": "v",
         "showlegend": true,
         "type": "scatter",
         "x": {
          "bdata": "AAAAAAAA+H8=",
          "dtype": "f8"
         },
         "xaxis": "x",
         "y": {
          "bdata": "AAAAAA6rPUE=",
          "dtype": "f8"
         },
         "yaxis": "y"
        },
        {
         "customdata": {
          "bdata": "AAAAAADoj0AAAAAAAAD4fw==",
          "dtype": "f8",
          "shape": "1, 2"
         },
         "hovertemplate": "<b>%{hovertext}</b><br><br>Country=Guadeloupe<br>People Fully Vaccinated=%{x}<br>Total Cases=%{y}<br>Total Deaths=%{customdata[0]}<br>People Vaccinated=%{customdata[1]}<extra></extra>",
         "hovertext": [
          "Guadeloupe"
         ],
         "legendgroup": "Guadeloupe",
         "marker": {
          "color": "#B6E880",
          "size": {
           "bdata": "AAAAAADoj0A=",
           "dtype": "f8"
          },
          "sizemode": "area",
          "sizeref": 7493.3975,
          "symbol": "circle"
         },
         "mode": "markers",
         "name": "Guadeloupe",
         "orientation": "v",
         "showlegend": true,
         "type": "scatter",
         "x": {
          "bdata": "AAAAAAAA+H8=",
          "dtype": "f8"
         },
         "xaxis": "x",
         "y": {
          "bdata": "AAAAABjPCEE=",
          "dtype": "f8"
         },
         "yaxis": "y"
        },
        {
         "customdata": {
          "bdata": "AAAAAAAUpEAAAAAAAAD4fw==",
          "dtype": "f8",
          "shape": "1, 2"
         },
         "hovertemplate": "<b>%{hovertext}</b><br><br>Country=Kuwait<br>People Fully Vaccinated=%{x}<br>Total Cases=%{y}<br>Total Deaths=%{customdata[0]}<br>People Vaccinated=%{customdata[1]}<extra></extra>",
         "hovertext": [
          "Kuwait"
         ],
         "legendgroup": "Kuwait",
         "marker": {
          "color": "#FF97FF",
          "size": {
           "bdata": "AAAAAAAUpEA=",
           "dtype": "f8"
          },
          "sizemode": "area",
          "sizeref": 7493.3975,
          "symbol": "circle"
         },
         "mode": "markers",
         "name": "Kuwait",
         "orientation": "v",
         "showlegend": true,
         "type": "scatter",
         "x": {
          "bdata": "AAAAAAAA+H8=",
          "dtype": "f8"
         },
         "xaxis": "x",
         "y": {
          "bdata": "AAAAADRdJEE=",
          "dtype": "f8"
         },
         "yaxis": "y"
        },
        {
         "customdata": {
          "bdata": "AAAAAIDqx0AAAAAAAAD4fw==",
          "dtype": "f8",
          "shape": "1, 2"
         },
         "hovertemplate": "<b>%{hovertext}</b><br><br>Country=Moldova<br>People Fully Vaccinated=%{x}<br>Total Cases=%{y}<br>Total Deaths=%{customdata[0]}<br>People Vaccinated=%{customdata[1]}<extra></extra>",
         "hovertext": [
          "Moldova"
         ],
         "legendgroup": "Moldova",
         "marker": {
          "color": "#FECB52",
          "size": {
           "bdata": "AAAAAIDqx0A=",
           "dtype": "f8"
          },
          "sizemode": "area",
          "sizeref": 7493.3975,
          "symbol": "circle"
         },
         "mode": "markers",
         "name": "Moldova",
         "orientation": "v",
         "showlegend": true,
         "type": "scatter",
         "x": {
          "bdata": "AAAAAAAA+H8=",
          "dtype": "f8"
         },
         "xaxis": "x",
         "y": {
          "bdata": "AAAAAKB0I0E=",
          "dtype": "f8"
         },
         "yaxis": "y"
        },
        {
         "customdata": {
          "bdata": "AAAAAACgc0AAAAAAAAD4fw==",
          "dtype": "f8",
          "shape": "1, 2"
         },
         "hovertemplate": "<b>%{hovertext}</b><br><br>Country=New Caledonia<br>People Fully Vaccinated=%{x}<br>Total Cases=%{y}<br>Total Deaths=%{customdata[0]}<br>People Vaccinated=%{customdata[1]}<extra></extra>",
         "hovertext": [
          "New Caledonia"
         ],
         "legendgroup": "New Caledonia",
         "marker": {
          "color": "#636efa",
          "size": {
           "bdata": "AAAAAACgc0A=",
           "dtype": "f8"
          },
          "sizemode": "area",
          "sizeref": 7493.3975,
          "symbol": "circle"
         },
         "mode": "markers",
         "name": "New Caledonia",
         "orientation": "v",
         "showlegend": true,
         "type": "scatter",
         "x": {
          "bdata": "AAAAAAAA+H8=",
          "dtype": "f8"
         },
         "xaxis": "x",
         "y": {
          "bdata": "AAAAADCS80A=",
          "dtype": "f8"
         },
         "yaxis": "y"
        },
        {
         "customdata": {
          "bdata": "AAAAAO5IIEEAAACavJ7OQQ==",
          "dtype": "f8",
          "shape": "1, 2"
         },
         "hovertemplate": "<b>%{hovertext}</b><br><br>Country=India<br>People Fully Vaccinated=%{x}<br>Total Cases=%{y}<br>Total Deaths=%{customdata[0]}<br>People Vaccinated=%{customdata[1]}<extra></extra>",
         "hovertext": [
          "India"
         ],
         "legendgroup": "India",
         "marker": {
          "color": "#EF553B",
          "size": {
           "bdata": "AAAAAO5IIEE=",
           "dtype": "f8"
          },
          "sizemode": "area",
          "sizeref": 7493.3975,
          "symbol": "circle"
         },
         "mode": "markers",
         "name": "India",
         "orientation": "v",
         "showlegend": true,
         "type": "scatter",
         "x": {
          "bdata": "AACAfxxfzEE=",
          "dtype": "f8"
         },
         "xaxis": "x",
         "y": {
          "bdata": "AAAAoEJ6hUE=",
          "dtype": "f8"
         },
         "yaxis": "y"
        },
        {
         "customdata": {
          "bdata": "AAAAAADAc0AAAAAAAAD4fw==",
          "dtype": "f8",
          "shape": "1, 2"
         },
         "hovertemplate": "<b>%{hovertext}</b><br><br>Country=Maldives<br>People Fully Vaccinated=%{x}<br>Total Cases=%{y}<br>Total Deaths=%{customdata[0]}<br>People Vaccinated=%{customdata[1]}<extra></extra>",
         "hovertext": [
          "Maldives"
         ],
         "legendgroup": "Maldives",
         "marker": {
          "color": "#00cc96",
          "size": {
           "bdata": "AAAAAADAc0A=",
           "dtype": "f8"
          },
          "sizemode": "area",
          "sizeref": 7493.3975,
          "symbol": "circle"
         },
         "mode": "markers",
         "name": "Maldives",
         "orientation": "v",
         "showlegend": true,
         "type": "scatter",
         "x": {
          "bdata": "AAAAAAAA+H8=",
          "dtype": "f8"
         },
         "xaxis": "x",
         "y": {
          "bdata": "AAAAADDKBkE=",
          "dtype": "f8"
         },
         "yaxis": "y"
        },
        {
         "customdata": {
          "bdata": "AAAAAAAwekAAAAAAAAD4fw==",
          "dtype": "f8",
          "shape": "1, 2"
         },
         "hovertemplate": "<b>%{hovertext}</b><br><br>Country=Guam<br>People Fully Vaccinated=%{x}<br>Total Cases=%{y}<br>Total Deaths=%{customdata[0]}<br>People Vaccinated=%{customdata[1]}<extra></extra>",
         "hovertext": [
          "Guam"
         ],
         "legendgroup": "Guam",
         "marker": {
          "color": "#ab63fa",
          "size": {
           "bdata": "AAAAAAAwekA=",
           "dtype": "f8"
          },
          "sizemode": "area",
          "sizeref": 7493.3975,
          "symbol": "circle"
         },
         "mode": "markers",
         "name": "Guam",
         "orientation": "v",
         "showlegend": true,
         "type": "scatter",
         "x": {
          "bdata": "AAAAAAAA+H8=",
          "dtype": "f8"
         },
         "xaxis": "x",
         "y": {
          "bdata": "AAAAAOCH6UA=",
          "dtype": "f8"
         },
         "yaxis": "y"
        },
        {
         "customdata": {
          "bdata": "AAAAALogMkEAAAAAAAD4fw==",
          "dtype": "f8",
          "shape": "1, 2"
         },
         "hovertemplate": "<b>%{hovertext}</b><br><br>Country=Lower-middle-income countries<br>People Fully Vaccinated=%{x}<br>Total Cases=%{y}<br>Total Deaths=%{customdata[0]}<br>People Vaccinated=%{customdata[1]}<extra></extra>",
         "hovertext": [
          "Lower-middle-income countries"
         ],
         "legendgroup": "Lower-middle-income countries",
         "marker": {
          "color": "#FFA15A",
          "size": {
           "bdata": "AAAAALogMkE=",
           "dtype": "f8"
          },
          "sizemode": "area",
          "sizeref": 7493.3975,
          "symbol": "circle"
         },
         "mode": "markers",
         "name": "Lower-middle-income countries",
         "orientation": "v",
         "showlegend": true,
         "type": "scatter",
         "x": {
          "bdata": "AAAAAAAA+H8=",
          "dtype": "f8"
         },
         "xaxis": "x",
         "y": {
          "bdata": "AAAAgHPslUE=",
          "dtype": "f8"
         },
         "yaxis": "y"
        },
        {
         "customdata": {
          "bdata": "AAAAAACwoEAAAAAAAAD4fw==",
          "dtype": "f8",
          "shape": "1, 2"
         },
         "hovertemplate": "<b>%{hovertext}</b><br><br>Country=Mongolia<br>People Fully Vaccinated=%{x}<br>Total Cases=%{y}<br>Total Deaths=%{customdata[0]}<br>People Vaccinated=%{customdata[1]}<extra></extra>",
         "hovertext": [
          "Mongolia"
         ],
         "legendgroup": "Mongolia",
         "marker": {
          "color": "#19d3f3",
          "size": {
           "bdata": "AAAAAACwoEA=",
           "dtype": "f8"
          },
          "sizemode": "area",
          "sizeref": 7493.3975,
          "symbol": "circle"
         },
         "mode": "markers",
         "name": "Mongolia",
         "orientation": "v",
         "showlegend": true,
         "type": "scatter",
         "x": {
          "bdata": "AAAAAAAA+H8=",
          "dtype": "f8"
         },
         "xaxis": "x",
         "y": {
          "bdata": "AAAAAELeLkE=",
          "dtype": "f8"
         },
         "yaxis": "y"
        },
        {
         "customdata": {
          "bdata": "AAAAAIBy1kAAAAAAAAD4fw==",
          "dtype": "f8",
          "shape": "1, 2"
         },
         "hovertemplate": "<b>%{hovertext}</b><br><br>Country=Netherlands<br>People Fully Vaccinated=%{x}<br>Total Cases=%{y}<br>Total Deaths=%{customdata[0]}<br>People Vaccinated=%{customdata[1]}<extra></extra>",
         "hovertext": [
          "Netherlands"
         ],
         "legendgroup": "Netherlands",
         "marker": {
          "color": "#FF6692",
          "size": {
           "bdata": "AAAAAIBy1kA=",
           "dtype": "f8"
          },
          "sizemode": "area",
          "sizeref": 7493.3975,
          "symbol": "circle"
         },
         "mode": "markers",
         "name": "Netherlands",
         "orientation": "v",
         "showlegend": true,
         "type": "scatter",
         "x": {
          "bdata": "AAAAAAAA+H8=",
          "dtype": "f8"
         },
         "xaxis": "x",
         "y": {
          "bdata": "AAAAAMF6YEE=",
          "dtype": "f8"
         },
         "yaxis": "y"
        },
        {
         "customdata": {
          "bdata": "AAAAAADAUEAAAAAAAAD4fw==",
          "dtype": "f8",
          "shape": "1, 2"
         },
         "hovertemplate": "<b>%{hovertext}</b><br><br>Country=Monaco<br>People Fully Vaccinated=%{x}<br>Total Cases=%{y}<br>Total Deaths=%{customdata[0]}<br>People Vaccinated=%{customdata[1]}<extra></extra>",
         "hovertext": [
          "Monaco"
         ],
         "legendgroup": "Monaco",
         "marker": {
          "color": "#B6E880",
          "size": {
           "bdata": "AAAAAADAUEA=",
           "dtype": "f8"
          },
          "sizemode": "area",
          "sizeref": 7493.3975,
          "symbol": "circle"
         },
         "mode": "markers",
         "name": "Monaco",
         "orientation": "v",
         "showlegend": true,
         "type": "scatter",
         "x": {
          "bdata": "AAAAAAAA+H8=",
          "dtype": "f8"
         },
         "xaxis": "x",
         "y": {
          "bdata": "AAAAAEDH0EA=",
          "dtype": "f8"
         },
         "yaxis": "y"
        },
        {
         "customdata": {
          "bdata": "AAAAAMC600AAAAAAAAD4fw==",
          "dtype": "f8",
          "shape": "1, 2"
         },
         "hovertemplate": "<b>%{hovertext}</b><br><br>Country=Guatemala<br>People Fully Vaccinated=%{x}<br>Total Cases=%{y}<br>Total Deaths=%{customdata[0]}<br>People Vaccinated=%{customdata[1]}<extra></extra>",
         "hovertext": [
          "Guatemala"
         ],
         "legendgroup": "Guatemala",
         "marker": {
          "color": "#FF97FF",
          "size": {
           "bdata": "AAAAAMC600A=",
           "dtype": "f8"
          },
          "sizemode": "area",
          "sizeref": 7493.3975,
          "symbol": "circle"
         },
         "mode": "markers",
         "name": "Guatemala",
         "orientation": "v",
         "showlegend": true,
         "type": "scatter",
         "x": {
          "bdata": "AAAAAAAA+H8=",
          "dtype": "f8"
         },
         "xaxis": "x",
         "y": {
          "bdata": "AAAAAEMUM0E=",
          "dtype": "f8"
         },
         "yaxis": "y"
        },
        {
         "customdata": {
          "bdata": "AAAAAABAZ0AAAAAAAAD4fw==",
          "dtype": "f8",
          "shape": "1, 2"
         },
         "hovertemplate": "<b>%{hovertext}</b><br><br>Country=Iceland<br>People Fully Vaccinated=%{x}<br>Total Cases=%{y}<br>Total Deaths=%{customdata[0]}<br>People Vaccinated=%{customdata[1]}<extra></extra>",
         "hovertext": [
          "Iceland"
         ],
         "legendgroup": "Iceland",
         "marker": {
          "color": "#FECB52",
          "size": {
           "bdata": "AAAAAABAZ0A=",
           "dtype": "f8"
          },
          "sizemode": "area",
          "sizeref": 7493.3975,
          "symbol": "circle"
         },
         "mode": "markers",
         "name": "Iceland",
         "orientation": "v",
         "showlegend": true,
         "type": "scatter",
         "x": {
          "bdata": "AAAAAAAA+H8=",
          "dtype": "f8"
         },
         "xaxis": "x",
         "y": {
          "bdata": "AAAAADCuCUE=",
          "dtype": "f8"
         },
         "yaxis": "y"
        },
        {
         "customdata": {
          "bdata": "AAAAAIB/x0AAAAAAAAD4fw==",
          "dtype": "f8",
          "shape": "1, 2"
         },
         "hovertemplate": "<b>%{hovertext}</b><br><br>Country=Nepal<br>People Fully Vaccinated=%{x}<br>Total Cases=%{y}<br>Total Deaths=%{customdata[0]}<br>People Vaccinated=%{customdata[1]}<extra></extra>",
         "hovertext": [
          "Nepal"
         ],
         "legendgroup": "Nepal",
         "marker": {
          "color": "#636efa",
          "size": {
           "bdata": "AAAAAIB/x0A=",
           "dtype": "f8"
          },
          "sizemode": "area",
          "sizeref": 7493.3975,
          "symbol": "circle"
         },
         "mode": "markers",
         "name": "Nepal",
         "orientation": "v",
         "showlegend": true,
         "type": "scatter",
         "x": {
          "bdata": "AAAAAAAA+H8=",
          "dtype": "f8"
         },
         "xaxis": "x",
         "y": {
          "bdata": "AAAAAHSfLkE=",
          "dtype": "f8"
         },
         "yaxis": "y"
        },
        {
         "customdata": {
          "bdata": "AAAAAAA2rEAAAAAAAAD4fw==",
          "dtype": "f8",
          "shape": "1, 2"
         },
         "hovertemplate": "<b>%{hovertext}</b><br><br>Country=Jamaica<br>People Fully Vaccinated=%{x}<br>Total Cases=%{y}<br>Total Deaths=%{customdata[0]}<br>People Vaccinated=%{customdata[1]}<extra></extra>",
         "hovertext": [
          "Jamaica"
         ],
         "legendgroup": "Jamaica",
         "marker": {
          "color": "#EF553B",
          "size": {
           "bdata": "AAAAAAA2rEA=",
           "dtype": "f8"
          },
          "sizemode": "area",
          "sizeref": 7493.3975,
          "symbol": "circle"
         },
         "mode": "markers",
         "name": "Jamaica",
         "orientation": "v",
         "showlegend": true,
         "type": "scatter",
         "x": {
          "bdata": "AAAAAAAA+H8=",
          "dtype": "f8"
         },
         "xaxis": "x",
         "y": {
          "bdata": "AAAAAOgvA0E=",
          "dtype": "f8"
         },
         "yaxis": "y"
        },
        {
         "customdata": {
          "bdata": "AAAAAABAj0AAAAAAAAD4fw==",
          "dtype": "f8",
          "shape": "1, 2"
         },
         "hovertemplate": "<b>%{hovertext}</b><br><br>Country=Luxembourg<br>People Fully Vaccinated=%{x}<br>Total Cases=%{y}<br>Total Deaths=%{customdata[0]}<br>People Vaccinated=%{customdata[1]}<extra></extra>",
         "hovertext": [
          "Luxembourg"
         ],
         "legendgroup": "Luxembourg",
         "marker": {
          "color": "#00cc96",
          "size": {
           "bdata": "AAAAAABAj0A=",
           "dtype": "f8"
          },
          "sizemode": "area",
          "sizeref": 7493.3975,
          "symbol": "circle"
         },
         "mode": "markers",
         "name": "Luxembourg",
         "orientation": "v",
         "showlegend": true,
         "type": "scatter",
         "x": {
          "bdata": "AAAAAAAA+H8=",
          "dtype": "f8"
         },
         "xaxis": "x",
         "y": {
          "bdata": "AAAAABgFGEE=",
          "dtype": "f8"
         },
         "yaxis": "y"
        },
        {
         "customdata": {
          "bdata": "AAAAAAAAOEAAAAAAAAD4fw==",
          "dtype": "f8",
          "shape": "1, 2"
         },
         "hovertemplate": "<b>%{hovertext}</b><br><br>Country=Kiribati<br>People Fully Vaccinated=%{x}<br>Total Cases=%{y}<br>Total Deaths=%{customdata[0]}<br>People Vaccinated=%{customdata[1]}<extra></extra>",
         "hovertext": [
          "Kiribati"
         ],
         "legendgroup": "Kiribati",
         "marker": {
          "color": "#ab63fa",
          "size": {
           "bdata": "AAAAAAAAOEA=",
           "dtype": "f8"
          },
          "sizemode": "area",
          "sizeref": 7493.3975,
          "symbol": "circle"
         },
         "mode": "markers",
         "name": "Kiribati",
         "orientation": "v",
         "showlegend": true,
         "type": "scatter",
         "x": {
          "bdata": "AAAAAAAA+H8=",
          "dtype": "f8"
         },
         "xaxis": "x",
         "y": {
          "bdata": "AAAAAADds0A=",
          "dtype": "f8"
         },
         "yaxis": "y"
        },
        {
         "customdata": {
          "bdata": "AAAAAADQjEAAAAAAAAD4fw==",
          "dtype": "f8",
          "shape": "1, 2"
         },
         "hovertemplate": "<b>%{hovertext}</b><br><br>Country=Malta<br>People Fully Vaccinated=%{x}<br>Total Cases=%{y}<br>Total Deaths=%{customdata[0]}<br>People Vaccinated=%{customdata[1]}<extra></extra>",
         "hovertext": [
          "Malta"
         ],
         "legendgroup": "Malta",
         "marker": {
          "color": "#FFA15A",
          "size": {
           "bdata": "AAAAAADQjEA=",
           "dtype": "f8"
          },
          "sizemode": "area",
          "sizeref": 7493.3975,
          "symbol": "circle"
         },
         "mode": "markers",
         "name": "Malta",
         "orientation": "v",
         "showlegend": true,
         "type": "scatter",
         "x": {
          "bdata": "AAAAAAAA+H8=",
          "dtype": "f8"
         },
         "xaxis": "x",
         "y": {
          "bdata": "AAAAAMD6/UA=",
          "dtype": "f8"
         },
         "yaxis": "y"
        },
        {
         "customdata": {
          "bdata": "AAAAAADAUEAAAAAAAAD4fw==",
          "dtype": "f8",
          "shape": "1, 2"
         },
         "hovertemplate": "<b>%{hovertext}</b><br><br>Country=Guernsey<br>People Fully Vaccinated=%{x}<br>Total Cases=%{y}<br>Total Deaths=%{customdata[0]}<br>People Vaccinated=%{customdata[1]}<extra></extra>",
         "hovertext": [
          "Guernsey"
         ],
         "legendgroup": "Guernsey",
         "marker": {
          "color": "#19d3f3",
          "size": {
           "bdata": "AAAAAADAUEA=",
           "dtype": "f8"
          },
          "sizemode": "area",
          "sizeref": 7493.3975,
          "symbol": "circle"
         },
         "mode": "markers",
         "name": "Guernsey",
         "orientation": "v",
         "showlegend": true,
         "type": "scatter",
         "x": {
          "bdata": "AAAAAAAA+H8=",
          "dtype": "f8"
         },
         "xaxis": "x",
         "y": {
          "bdata": "AAAAAMA/4UA=",
          "dtype": "f8"
         },
         "yaxis": "y"
        },
        {
         "customdata": {
          "bdata": "AAAAAAAYqUAAAAAAAAD4fw==",
          "dtype": "f8",
          "shape": "1, 2"
         },
         "hovertemplate": "<b>%{hovertext}</b><br><br>Country=Kosovo<br>People Fully Vaccinated=%{x}<br>Total Cases=%{y}<br>Total Deaths=%{customdata[0]}<br>People Vaccinated=%{customdata[1]}<extra></extra>",
         "hovertext": [
          "Kosovo"
         ],
         "legendgroup": "Kosovo",
         "marker": {
          "color": "#FF6692",
          "size": {
           "bdata": "AAAAAAAYqUA=",
           "dtype": "f8"
          },
          "sizemode": "area",
          "sizeref": 7493.3975,
          "symbol": "circle"
         },
         "mode": "markers",
         "name": "Kosovo",
         "orientation": "v",
         "showlegend": true,
         "type": "scatter",
         "x": {
          "bdata": "AAAAAAAA+H8=",
          "dtype": "f8"
         },
         "xaxis": "x",
         "y": {
          "bdata": "AAAAAJy9EEE=",
          "dtype": "f8"
         },
         "yaxis": "y"
        },
        {
         "customdata": {
          "bdata": "AAAAAADEkEAAAAAAAAD4fw==",
          "dtype": "f8",
          "shape": "1, 2"
         },
         "hovertemplate": "<b>%{hovertext}</b><br><br>Country=Mauritius<br>People Fully Vaccinated=%{x}<br>Total Cases=%{y}<br>Total Deaths=%{customdata[0]}<br>People Vaccinated=%{customdata[1]}<extra></extra>",
         "hovertext": [
          "Mauritius"
         ],
         "legendgroup": "Mauritius",
         "marker": {
          "color": "#B6E880",
          "size": {
           "bdata": "AAAAAADEkEA=",
           "dtype": "f8"
          },
          "sizemode": "area",
          "sizeref": 7493.3975,
          "symbol": "circle"
         },
         "mode": "markers",
         "name": "Mauritius",
         "orientation": "v",
         "showlegend": true,
         "type": "scatter",
         "x": {
          "bdata": "AAAAAAAA+H8=",
          "dtype": "f8"
         },
         "xaxis": "x",
         "y": {
          "bdata": "AAAAAJwHFEE=",
          "dtype": "f8"
         },
         "yaxis": "y"
        },
        {
         "customdata": {
          "bdata": "AAAAAADar0AAAAAAAAD4fw==",
          "dtype": "f8",
          "shape": "1, 2"
         },
         "hovertemplate": "<b>%{hovertext}</b><br><br>Country=Zambia<br>People Fully Vaccinated=%{x}<br>Total Cases=%{y}<br>Total Deaths=%{customdata[0]}<br>People Vaccinated=%{customdata[1]}<extra></extra>",
         "hovertext": [
          "Zambia"
         ],
         "legendgroup": "Zambia",
         "marker": {
          "color": "#FF97FF",
          "size": {
           "bdata": "AAAAAADar0A=",
           "dtype": "f8"
          },
          "sizemode": "area",
          "sizeref": 7493.3975,
          "symbol": "circle"
         },
         "mode": "markers",
         "name": "Zambia",
         "orientation": "v",
         "showlegend": true,
         "type": "scatter",
         "x": {
          "bdata": "AAAAAAAA+H8=",
          "dtype": "f8"
         },
         "xaxis": "x",
         "y": {
          "bdata": "AAAAAEhaFUE=",
          "dtype": "f8"
         },
         "yaxis": "y"
        },
        {
         "customdata": {
          "bdata": "AAAAAIC/0EAAAAAAAAD4fw==",
          "dtype": "f8",
          "shape": "1, 2"
         },
         "hovertemplate": "<b>%{hovertext}</b><br><br>Country=Georgia<br>People Fully Vaccinated=%{x}<br>Total Cases=%{y}<br>Total Deaths=%{customdata[0]}<br>People Vaccinated=%{customdata[1]}<extra></extra>",
         "hovertext": [
          "Georgia"
         ],
         "legendgroup": "Georgia",
         "marker": {
          "color": "#FECB52",
          "size": {
           "bdata": "AAAAAIC/0EA=",
           "dtype": "f8"
          },
          "sizemode": "area",
          "sizeref": 7493.3975,
          "symbol": "circle"
         },
         "mode": "markers",
         "name": "Georgia",
         "orientation": "v",
         "showlegend": true,
         "type": "scatter",
         "x": {
          "bdata": "AAAAAAAA+H8=",
          "dtype": "f8"
         },
         "xaxis": "x",
         "y": {
          "bdata": "AAAAAL9vPEE=",
          "dtype": "f8"
         },
         "yaxis": "y"
        },
        {
         "customdata": {
          "bdata": "AAAAAAC2qEAAAAAAAAD4fw==",
          "dtype": "f8",
          "shape": "1, 2"
         },
         "hovertemplate": "<b>%{hovertext}</b><br><br>Country=Syria<br>People Fully Vaccinated=%{x}<br>Total Cases=%{y}<br>Total Deaths=%{customdata[0]}<br>People Vaccinated=%{customdata[1]}<extra></extra>",
         "hovertext": [
          "Syria"
         ],
         "legendgroup": "Syria",
         "marker": {
          "color": "#636efa",
          "size": {
           "bdata": "AAAAAAC2qEA=",
           "dtype": "f8"
          },
          "sizemode": "area",
          "sizeref": 7493.3975,
          "symbol": "circle"
         },
         "mode": "markers",
         "name": "Syria",
         "orientation": "v",
         "showlegend": true,
         "type": "scatter",
         "x": {
          "bdata": "AAAAAAAA+H8=",
          "dtype": "f8"
         },
         "xaxis": "x",
         "y": {
          "bdata": "AAAAAOAJ7EA=",
          "dtype": "f8"
         },
         "yaxis": "y"
        },
        {
         "customdata": {
          "bdata": "AAAAAADipUAAAAAAAAD4fw==",
          "dtype": "f8",
          "shape": "1, 2"
         },
         "hovertemplate": "<b>%{hovertext}</b><br><br>Country=Botswana<br>People Fully Vaccinated=%{x}<br>Total Cases=%{y}<br>Total Deaths=%{customdata[0]}<br>People Vaccinated=%{customdata[1]}<extra></extra>",
         "hovertext": [
          "Botswana"
         ],
         "legendgroup": "Botswana",
         "marker": {
          "color": "#EF553B",
          "size": {
           "bdata": "AAAAAADipUA=",
           "dtype": "f8"
          },
          "sizemode": "area",
          "sizeref": 7493.3975,
          "symbol": "circle"
         },
         "mode": "markers",
         "name": "Botswana",
         "orientation": "v",
         "showlegend": true,
         "type": "scatter",
         "x": {
          "bdata": "AAAAAAAA+H8=",
          "dtype": "f8"
         },
         "xaxis": "x",
         "y": {
          "bdata": "AAAAACAvFEE=",
          "dtype": "f8"
         },
         "yaxis": "y"
        },
        {
         "customdata": {
          "bdata": "AAAAAABAX0AAAAAAAAD4fw==",
          "dtype": "f8",
          "shape": "1, 2"
         },
         "hovertemplate": "<b>%{hovertext}</b><br><br>Country=Tajikistan<br>People Fully Vaccinated=%{x}<br>Total Cases=%{y}<br>Total Deaths=%{customdata[0]}<br>People Vaccinated=%{customdata[1]}<extra></extra>",
         "hovertext": [
          "Tajikistan"
         ],
         "legendgroup": "Tajikistan",
         "marker": {
          "color": "#00cc96",
          "size": {
           "bdata": "AAAAAABAX0A=",
           "dtype": "f8"
          },
          "sizemode": "area",
          "sizeref": 7493.3975,
          "symbol": "circle"
         },
         "mode": "markers",
         "name": "Tajikistan",
         "orientation": "v",
         "showlegend": true,
         "type": "scatter",
         "x": {
          "bdata": "AAAAAAAA+H8=",
          "dtype": "f8"
         },
         "xaxis": "x",
         "y": {
          "bdata": "AAAAAIBe0UA=",
          "dtype": "f8"
         },
         "yaxis": "y"
        },
        {
         "customdata": {
          "bdata": "AAAAAAAC0EAAAAAAAAD4fw==",
          "dtype": "f8",
          "shape": "1, 2"
         },
         "hovertemplate": "<b>%{hovertext}</b><br><br>Country=Bosnia and Herzegovina<br>People Fully Vaccinated=%{x}<br>Total Cases=%{y}<br>Total Deaths=%{customdata[0]}<br>People Vaccinated=%{customdata[1]}<extra></extra>",
         "hovertext": [
          "Bosnia and Herzegovina"
         ],
         "legendgroup": "Bosnia and Herzegovina",
         "marker": {
          "color": "#ab63fa",
          "size": {
           "bdata": "AAAAAAAC0EA=",
           "dtype": "f8"
          },
          "sizemode": "area",
          "sizeref": 7493.3975,
          "symbol": "circle"
         },
         "mode": "markers",
         "name": "Bosnia and Herzegovina",
         "orientation": "v",
         "showlegend": true,
         "type": "scatter",
         "x": {
          "bdata": "AAAAAAAA+H8=",
          "dtype": "f8"
         },
         "xaxis": "x",
         "y": {
          "bdata": "AAAAAEijGEE=",
          "dtype": "f8"
         },
         "yaxis": "y"
        },
        {
         "customdata": {
          "bdata": "AAAAAABwikAAAAAAAAD4fw==",
          "dtype": "f8",
          "shape": "1, 2"
         },
         "hovertemplate": "<b>%{hovertext}</b><br><br>Country=Tanzania<br>People Fully Vaccinated=%{x}<br>Total Cases=%{y}<br>Total Deaths=%{customdata[0]}<br>People Vaccinated=%{customdata[1]}<extra></extra>",
         "hovertext": [
          "Tanzania"
         ],
         "legendgroup": "Tanzania",
         "marker": {
          "color": "#FFA15A",
          "size": {
           "bdata": "AAAAAABwikA=",
           "dtype": "f8"
          },
          "sizemode": "area",
          "sizeref": 7493.3975,
          "symbol": "circle"
         },
         "mode": "markers",
         "name": "Tanzania",
         "orientation": "v",
         "showlegend": true,
         "type": "scatter",
         "x": {
          "bdata": "AAAAAAAA+H8=",
          "dtype": "f8"
         },
         "xaxis": "x",
         "y": {
          "bdata": "AAAAAMAb5UA=",
          "dtype": "f8"
         },
         "yaxis": "y"
        },
        {
         "customdata": {
          "bdata": "AAAAAACAREAAAAAAAAD4fw==",
          "dtype": "f8",
          "shape": "1, 2"
         },
         "hovertemplate": "<b>%{hovertext}</b><br><br>Country=Bonaire Sint Eustatius and Saba<br>People Fully Vaccinated=%{x}<br>Total Cases=%{y}<br>Total Deaths=%{customdata[0]}<br>People Vaccinated=%{customdata[1]}<extra></extra>",
         "hovertext": [
          "Bonaire Sint Eustatius and Saba"
         ],
         "legendgroup": "Bonaire Sint Eustatius and Saba",
         "marker": {
          "color": "#19d3f3",
          "size": {
           "bdata": "AAAAAACAREA=",
           "dtype": "f8"
          },
          "sizemode": "area",
          "sizeref": 7493.3975,
          "symbol": "circle"
         },
         "mode": "markers",
         "name": "Bonaire Sint Eustatius and Saba",
         "orientation": "v",
         "showlegend": true,
         "type": "scatter",
         "x": {
          "bdata": "AAAAAAAA+H8=",
          "dtype": "f8"
         },
         "xaxis": "x",
         "y": {
          "bdata": "AAAAAABJx0A=",
          "dtype": "f8"
         },
         "yaxis": "y"
        },
        {
         "customdata": {
          "bdata": "AAAAAGDz4EAAAAAAAAD4fw==",
          "dtype": "f8",
          "shape": "1, 2"
         },
         "hovertemplate": "<b>%{hovertext}</b><br><br>Country=Thailand<br>People Fully Vaccinated=%{x}<br>Total Cases=%{y}<br>Total Deaths=%{customdata[0]}<br>People Vaccinated=%{customdata[1]}<extra></extra>",
         "hovertext": [
          "Thailand"
         ],
         "legendgroup": "Thailand",
         "marker": {
          "color": "#FF6692",
          "size": {
           "bdata": "AAAAAGDz4EA=",
           "dtype": "f8"
          },
          "sizemode": "area",
          "sizeref": 7493.3975,
          "symbol": "circle"
         },
         "mode": "markers",
         "name": "Thailand",
         "orientation": "v",
         "showlegend": true,
         "type": "scatter",
         "x": {
          "bdata": "AAAAAAAA+H8=",
          "dtype": "f8"
         },
         "xaxis": "x",
         "y": {
          "bdata": "AAAAALNOUkE=",
          "dtype": "f8"
         },
         "yaxis": "y"
        },
        {
         "customdata": {
          "bdata": "AAAAAEhtJUEAAAAAAAD4fw==",
          "dtype": "f8",
          "shape": "1, 2"
         },
         "hovertemplate": "<b>%{hovertext}</b><br><br>Country=Brazil<br>People Fully Vaccinated=%{x}<br>Total Cases=%{y}<br>Total Deaths=%{customdata[0]}<br>People Vaccinated=%{customdata[1]}<extra></extra>",
         "hovertext": [
          "Brazil"
         ],
         "legendgroup": "Brazil",
         "marker": {
          "color": "#B6E880",
          "size": {
           "bdata": "AAAAAEhtJUE=",
           "dtype": "f8"
          },
          "sizemode": "area",
          "sizeref": 7493.3975,
          "symbol": "circle"
         },
         "mode": "markers",
         "name": "Brazil",
         "orientation": "v",
         "showlegend": true,
         "type": "scatter",
         "x": {
          "bdata": "AAAAAAAA+H8=",
          "dtype": "f8"
         },
         "xaxis": "x",
         "y": {
          "bdata": "AAAAiBfjgUE=",
          "dtype": "f8"
         },
         "yaxis": "y"
        },
        {
         "customdata": {
          "bdata": "AAAAAMDc1UAAAAAAAAD4fw==",
          "dtype": "f8",
          "shape": "1, 2"
         },
         "hovertemplate": "<b>%{hovertext}</b><br><br>Country=Bolivia<br>People Fully Vaccinated=%{x}<br>Total Cases=%{y}<br>Total Deaths=%{customdata[0]}<br>People Vaccinated=%{customdata[1]}<extra></extra>",
         "hovertext": [
          "Bolivia"
         ],
         "legendgroup": "Bolivia",
         "marker": {
          "color": "#FF97FF",
          "size": {
           "bdata": "AAAAAMDc1UA=",
           "dtype": "f8"
          },
          "sizemode": "area",
          "sizeref": 7493.3975,
          "symbol": "circle"
         },
         "mode": "markers",
         "name": "Bolivia",
         "orientation": "v",
         "showlegend": true,
         "type": "scatter",
         "x": {
          "bdata": "AAAAAAAA+H8=",
          "dtype": "f8"
         },
         "xaxis": "x",
         "y": {
          "bdata": "AAAAAPN+MkE=",
          "dtype": "f8"
         },
         "yaxis": "y"
        },
        {
         "customdata": {
          "bdata": "AAAAAAAANUAAAAAAAAD4fw==",
          "dtype": "f8",
          "shape": "1, 2"
         },
         "hovertemplate": "<b>%{hovertext}</b><br><br>Country=Bhutan<br>People Fully Vaccinated=%{x}<br>Total Cases=%{y}<br>Total Deaths=%{customdata[0]}<br>People Vaccinated=%{customdata[1]}<extra></extra>",
         "hovertext": [
          "Bhutan"
         ],
         "legendgroup": "Bhutan",
         "marker": {
          "color": "#FECB52",
          "size": {
           "bdata": "AAAAAAAANUA=",
           "dtype": "f8"
          },
          "sizemode": "area",
          "sizeref": 7493.3975,
          "symbol": "circle"
         },
         "mode": "markers",
         "name": "Bhutan",
         "orientation": "v",
         "showlegend": true,
         "type": "scatter",
         "x": {
          "bdata": "AAAAAAAA+H8=",
          "dtype": "f8"
         },
         "xaxis": "x",
         "y": {
          "bdata": "AAAAACCd7kA=",
          "dtype": "f8"
         },
         "yaxis": "y"
        },
        {
         "customdata": {
          "bdata": "AAAAAAAAAAAAAAAAAAD4fw==",
          "dtype": "f8",
          "shape": "1, 2"
         },
         "hovertemplate": "<b>%{hovertext}</b><br><br>Country=Tokelau<br>People Fully Vaccinated=%{x}<br>Total Cases=%{y}<br>Total Deaths=%{customdata[0]}<br>People Vaccinated=%{customdata[1]}<extra></extra>",
         "hovertext": [
          "Tokelau"
         ],
         "legendgroup": "Tokelau",
         "marker": {
          "color": "#636efa",
          "size": {
           "bdata": "AAAAAAAAAAA=",
           "dtype": "f8"
          },
          "sizemode": "area",
          "sizeref": 7493.3975,
          "symbol": "circle"
         },
         "mode": "markers",
         "name": "Tokelau",
         "orientation": "v",
         "showlegend": true,
         "type": "scatter",
         "x": {
          "bdata": "AAAAAAAA+H8=",
          "dtype": "f8"
         },
         "xaxis": "x",
         "y": {
          "bdata": "AAAAAAAAVEA=",
          "dtype": "f8"
         },
         "yaxis": "y"
        },
        {
         "customdata": {
          "bdata": "AAAAAACgZEAAAAAAAAD4fw==",
          "dtype": "f8",
          "shape": "1, 2"
         },
         "hovertemplate": "<b>%{hovertext}</b><br><br>Country=Bermuda<br>People Fully Vaccinated=%{x}<br>Total Cases=%{y}<br>Total Deaths=%{customdata[0]}<br>People Vaccinated=%{customdata[1]}<extra></extra>",
         "hovertext": [
          "Bermuda"
         ],
         "legendgroup": "Bermuda",
         "marker": {
          "color": "#EF553B",
          "size": {
           "bdata": "AAAAAACgZEA=",
           "dtype": "f8"
          },
          "sizemode": "area",
          "sizeref": 7493.3975,
          "symbol": "circle"
         },
         "mode": "markers",
         "name": "Bermuda",
         "orientation": "v",
         "showlegend": true,
         "type": "scatter",
         "x": {
          "bdata": "AAAAAAAA+H8=",
          "dtype": "f8"
         },
         "xaxis": "x",
         "y": {
          "bdata": "AAAAAABr0kA=",
          "dtype": "f8"
         },
         "yaxis": "y"
        },
        {
         "customdata": {
          "bdata": "AAAAAAAAKEAAAAAAAAD4fw==",
          "dtype": "f8",
          "shape": "1, 2"
         },
         "hovertemplate": "<b>%{hovertext}</b><br><br>Country=Tonga<br>People Fully Vaccinated=%{x}<br>Total Cases=%{y}<br>Total Deaths=%{customdata[0]}<br>People Vaccinated=%{customdata[1]}<extra></extra>",
         "hovertext": [
          "Tonga"
         ],
         "legendgroup": "Tonga",
         "marker": {
          "color": "#00cc96",
          "size": {
           "bdata": "AAAAAAAAKEA=",
           "dtype": "f8"
          },
          "sizemode": "area",
          "sizeref": 7493.3975,
          "symbol": "circle"
         },
         "mode": "markers",
         "name": "Tonga",
         "orientation": "v",
         "showlegend": true,
         "type": "scatter",
         "x": {
          "bdata": "AAAAAAAA+H8=",
          "dtype": "f8"
         },
         "xaxis": "x",
         "y": {
          "bdata": "AAAAAACU0EA=",
          "dtype": "f8"
         },
         "yaxis": "y"
        },
        {
         "customdata": {
          "bdata": "AAAAAABgZEAAAAAAAAD4fw==",
          "dtype": "f8",
          "shape": "1, 2"
         },
         "hovertemplate": "<b>%{hovertext}</b><br><br>Country=Benin<br>People Fully Vaccinated=%{x}<br>Total Cases=%{y}<br>Total Deaths=%{customdata[0]}<br>People Vaccinated=%{customdata[1]}<extra></extra>",
         "hovertext": [
          "Benin"
         ],
         "legendgroup": "Benin",
         "marker": {
          "color": "#ab63fa",
          "size": {
           "bdata": "AAAAAABgZEA=",
           "dtype": "f8"
          },
          "sizemode": "area",
          "sizeref": 7493.3975,
          "symbol": "circle"
         },
         "mode": "markers",
         "name": "Benin",
         "orientation": "v",
         "showlegend": true,
         "type": "scatter",
         "x": {
          "bdata": "AAAAAAAA+H8=",
          "dtype": "f8"
         },
         "xaxis": "x",
         "y": {
          "bdata": "AAAAAABh20A=",
          "dtype": "f8"
         },
         "yaxis": "y"
        },
        {
         "customdata": {
          "bdata": "AAAAAAAmsUAAAAAAAAD4fw==",
          "dtype": "f8",
          "shape": "1, 2"
         },
         "hovertemplate": "<b>%{hovertext}</b><br><br>Country=Trinidad and Tobago<br>People Fully Vaccinated=%{x}<br>Total Cases=%{y}<br>Total Deaths=%{customdata[0]}<br>People Vaccinated=%{customdata[1]}<extra></extra>",
         "hovertext": [
          "Trinidad and Tobago"
         ],
         "legendgroup": "Trinidad and Tobago",
         "marker": {
          "color": "#FFA15A",
          "size": {
           "bdata": "AAAAAAAmsUA=",
           "dtype": "f8"
          },
          "sizemode": "area",
          "sizeref": 7493.3975,
          "symbol": "circle"
         },
         "mode": "markers",
         "name": "Trinidad and Tobago",
         "orientation": "v",
         "showlegend": true,
         "type": "scatter",
         "x": {
          "bdata": "AAAAAAAA+H8=",
          "dtype": "f8"
         },
         "xaxis": "x",
         "y": {
          "bdata": "AAAAAEBgB0E=",
          "dtype": "f8"
         },
         "yaxis": "y"
        },
        {
         "customdata": {
          "bdata": "AAAAAACAhUAAAAAAAAD4fw==",
          "dtype": "f8",
          "shape": "1, 2"
         },
         "hovertemplate": "<b>%{hovertext}</b><br><br>Country=Belize<br>People Fully Vaccinated=%{x}<br>Total Cases=%{y}<br>Total Deaths=%{customdata[0]}<br>People Vaccinated=%{customdata[1]}<extra></extra>",
         "hovertext": [
          "Belize"
         ],
         "legendgroup": "Belize",
         "marker": {
          "color": "#19d3f3",
          "size": {
           "bdata": "AAAAAACAhUA=",
           "dtype": "f8"
          },
          "sizemode": "area",
          "sizeref": 7493.3975,
          "symbol": "circle"
         },
         "mode": "markers",
         "name": "Belize",
         "orientation": "v",
         "showlegend": true,
         "type": "scatter",
         "x": {
          "bdata": "AAAAAAAA+H8=",
          "dtype": "f8"
         },
         "xaxis": "x",
         "y": {
          "bdata": "AAAAAGBv8UA=",
          "dtype": "f8"
         },
         "yaxis": "y"
        },
        {
         "customdata": {
          "bdata": "AAAAAAAgckAAAAAAAAD4fw==",
          "dtype": "f8",
          "shape": "1, 2"
         },
         "hovertemplate": "<b>%{hovertext}</b><br><br>Country=Togo<br>People Fully Vaccinated=%{x}<br>Total Cases=%{y}<br>Total Deaths=%{customdata[0]}<br>People Vaccinated=%{customdata[1]}<extra></extra>",
         "hovertext": [
          "Togo"
         ],
         "legendgroup": "Togo",
         "marker": {
          "color": "#FF6692",
          "size": {
           "bdata": "AAAAAAAgckA=",
           "dtype": "f8"
          },
          "sizemode": "area",
          "sizeref": 7493.3975,
          "symbol": "circle"
         },
         "mode": "markers",
         "name": "Togo",
         "orientation": "v",
         "showlegend": true,
         "type": "scatter",
         "x": {
          "bdata": "AAAAAAAA+H8=",
          "dtype": "f8"
         },
         "xaxis": "x",
         "y": {
          "bdata": "AAAAAEBN40A=",
          "dtype": "f8"
         },
         "yaxis": "y"
        },
        {
         "customdata": {
          "bdata": "AAAAAMC73EAAAAAAAAD4fw==",
          "dtype": "f8",
          "shape": "1, 2"
         },
         "hovertemplate": "<b>%{hovertext}</b><br><br>Country=Tunisia<br>People Fully Vaccinated=%{x}<br>Total Cases=%{y}<br>Total Deaths=%{customdata[0]}<br>People Vaccinated=%{customdata[1]}<extra></extra>",
         "hovertext": [
          "Tunisia"
         ],
         "legendgroup": "Tunisia",
         "marker": {
          "color": "#B6E880",
          "size": {
           "bdata": "AAAAAMC73EA=",
           "dtype": "f8"
          },
          "sizemode": "area",
          "sizeref": 7493.3975,
          "symbol": "circle"
         },
         "mode": "markers",
         "name": "Tunisia",
         "orientation": "v",
         "showlegend": true,
         "type": "scatter",
         "x": {
          "bdata": "AAAAAAAA+H8=",
          "dtype": "f8"
         },
         "xaxis": "x",
         "y": {
          "bdata": "AAAAAFGZMUE=",
          "dtype": "f8"
         },
         "yaxis": "y"
        },
        {
         "customdata": {
          "bdata": "AAAAAACty0AAAAAAAAD4fw==",
          "dtype": "f8",
          "shape": "1, 2"
         },
         "hovertemplate": "<b>%{hovertext}</b><br><br>Country=Switzerland<br>People Fully Vaccinated=%{x}<br>Total Cases=%{y}<br>Total Deaths=%{customdata[0]}<br>People Vaccinated=%{customdata[1]}<extra></extra>",
         "hovertext": [
          "Switzerland"
         ],
         "legendgroup": "Switzerland",
         "marker": {
          "color": "#FF97FF",
          "size": {
           "bdata": "AAAAAACty0A=",
           "dtype": "f8"
          },
          "sizemode": "area",
          "sizeref": 7493.3975,
          "symbol": "circle"
         },
         "mode": "markers",
         "name": "Switzerland",
         "orientation": "v",
         "showlegend": true,
         "type": "scatter",
         "x": {
          "bdata": "AAAAAAAA+H8=",
          "dtype": "f8"
         },
         "xaxis": "x",
         "y": {
          "bdata": "AAAAAGMBUUE=",
          "dtype": "f8"
         },
         "yaxis": "y"
        },
        {
         "customdata": {
          "bdata": "AAAAAMDB2kAAAAAAAAD4fw==",
          "dtype": "f8",
          "shape": "1, 2"
         },
         "hovertemplate": "<b>%{hovertext}</b><br><br>Country=Sweden<br>People Fully Vaccinated=%{x}<br>Total Cases=%{y}<br>Total Deaths=%{customdata[0]}<br>People Vaccinated=%{customdata[1]}<extra></extra>",
         "hovertext": [
          "Sweden"
         ],
         "legendgroup": "Sweden",
         "marker": {
          "color": "#FECB52",
          "size": {
           "bdata": "AAAAAMDB2kA=",
           "dtype": "f8"
          },
          "sizemode": "area",
          "sizeref": 7493.3975,
          "symbol": "circle"
         },
         "mode": "markers",
         "name": "Sweden",
         "orientation": "v",
         "showlegend": true,
         "type": "scatter",
         "x": {
          "bdata": "AAAAAAAA+H8=",
          "dtype": "f8"
         },
         "xaxis": "x",
         "y": {
          "bdata": "AAAAgDYFRUE=",
          "dtype": "f8"
         },
         "yaxis": "y"
        },
        {
         "customdata": {
          "bdata": "AAAAAABElUAAAAAAAAD4fw==",
          "dtype": "f8",
          "shape": "1, 2"
         },
         "hovertemplate": "<b>%{hovertext}</b><br><br>Country=Somalia<br>People Fully Vaccinated=%{x}<br>Total Cases=%{y}<br>Total Deaths=%{customdata[0]}<br>People Vaccinated=%{customdata[1]}<extra></extra>",
         "hovertext": [
          "Somalia"
         ],
         "legendgroup": "Somalia",
         "marker": {
          "color": "#636efa",
          "size": {
           "bdata": "AAAAAABElUA=",
           "dtype": "f8"
          },
          "sizemode": "area",
          "sizeref": 7493.3975,
          "symbol": "circle"
         },
         "mode": "markers",
         "name": "Somalia",
         "orientation": "v",
         "showlegend": true,
         "type": "scatter",
         "x": {
          "bdata": "AAAAAAAA+H8=",
          "dtype": "f8"
         },
         "xaxis": "x",
         "y": {
          "bdata": "AAAAAICx2kA=",
          "dtype": "f8"
         },
         "yaxis": "y"
        },
        {
         "customdata": {
          "bdata": "AAAAAAAQekAAAAAAAAD4fw==",
          "dtype": "f8",
          "shape": "1, 2"
         },
         "hovertemplate": "<b>%{hovertext}</b><br><br>Country=Cape Verde<br>People Fully Vaccinated=%{x}<br>Total Cases=%{y}<br>Total Deaths=%{customdata[0]}<br>People Vaccinated=%{customdata[1]}<extra></extra>",
         "hovertext": [
          "Cape Verde"
         ],
         "legendgroup": "Cape Verde",
         "marker": {
          "color": "#EF553B",
          "size": {
           "bdata": "AAAAAAAQekA=",
           "dtype": "f8"
          },
          "sizemode": "area",
          "sizeref": 7493.3975,
          "symbol": "circle"
         },
         "mode": "markers",
         "name": "Cape Verde",
         "orientation": "v",
         "showlegend": true,
         "type": "scatter",
         "x": {
          "bdata": "AAAAAAAA+H8=",
          "dtype": "f8"
         },
         "xaxis": "x",
         "y": {
          "bdata": "AAAAAEB770A=",
          "dtype": "f8"
         },
         "yaxis": "y"
        },
        {
         "customdata": {
          "bdata": "AAAAADAM+UAAAAAAAAD4fw==",
          "dtype": "f8",
          "shape": "1, 2"
         },
         "hovertemplate": "<b>%{hovertext}</b><br><br>Country=South Africa<br>People Fully Vaccinated=%{x}<br>Total Cases=%{y}<br>Total Deaths=%{customdata[0]}<br>People Vaccinated=%{customdata[1]}<extra></extra>",
         "hovertext": [
          "South Africa"
         ],
         "legendgroup": "South Africa",
         "marker": {
          "color": "#00cc96",
          "size": {
           "bdata": "AAAAADAM+UA=",
           "dtype": "f8"
          },
          "sizemode": "area",
          "sizeref": 7493.3975,
          "symbol": "circle"
         },
         "mode": "markers",
         "name": "South Africa",
         "orientation": "v",
         "showlegend": true,
         "type": "scatter",
         "x": {
          "bdata": "AAAAAAAA+H8=",
          "dtype": "f8"
         },
         "xaxis": "x",
         "y": {
          "bdata": "AAAAgJ4ST0E=",
          "dtype": "f8"
         },
         "yaxis": "y"
        },
        {
         "customdata": {
          "bdata": "AAAAAED+6kAAAAAAAAD4fw==",
          "dtype": "f8",
          "shape": "1, 2"
         },
         "hovertemplate": "<b>%{hovertext}</b><br><br>Country=Canada<br>People Fully Vaccinated=%{x}<br>Total Cases=%{y}<br>Total Deaths=%{customdata[0]}<br>People Vaccinated=%{customdata[1]}<extra></extra>",
         "hovertext": [
          "Canada"
         ],
         "legendgroup": "Canada",
         "marker": {
          "color": "#ab63fa",
          "size": {
           "bdata": "AAAAAED+6kA=",
           "dtype": "f8"
          },
          "sizemode": "area",
          "sizeref": 7493.3975,
          "symbol": "circle"
         },
         "mode": "markers",
         "name": "Canada",
         "orientation": "v",
         "showlegend": true,
         "type": "scatter",
         "x": {
          "bdata": "AAAAAAAA+H8=",
          "dtype": "f8"
         },
         "xaxis": "x",
         "y": {
          "bdata": "AAAAwBtiUkE=",
          "dtype": "f8"
         },
         "yaxis": "y"
        },
        {
         "customdata": {
          "bdata": "AAAAAMCL4UAAAAAAAAD4fw==",
          "dtype": "f8",
          "shape": "1, 2"
         },
         "hovertemplate": "<b>%{hovertext}</b><br><br>Country=South Korea<br>People Fully Vaccinated=%{x}<br>Total Cases=%{y}<br>Total Deaths=%{customdata[0]}<br>People Vaccinated=%{customdata[1]}<extra></extra>",
         "hovertext": [
          "South Korea"
         ],
         "legendgroup": "South Korea",
         "marker": {
          "color": "#FFA15A",
          "size": {
           "bdata": "AAAAAMCL4UA=",
           "dtype": "f8"
          },
          "sizemode": "area",
          "sizeref": 7493.3975,
          "symbol": "circle"
         },
         "mode": "markers",
         "name": "South Korea",
         "orientation": "v",
         "showlegend": true,
         "type": "scatter",
         "x": {
          "bdata": "AAAAAAAA+H8=",
          "dtype": "f8"
         },
         "xaxis": "x",
         "y": {
          "bdata": "AAAACDN8gEE=",
          "dtype": "f8"
         },
         "yaxis": "y"
        },
        {
         "customdata": {
          "bdata": "AAAAAADYnkAAAAAAAAD4fw==",
          "dtype": "f8",
          "shape": "1, 2"
         },
         "hovertemplate": "<b>%{hovertext}</b><br><br>Country=Cameroon<br>People Fully Vaccinated=%{x}<br>Total Cases=%{y}<br>Total Deaths=%{customdata[0]}<br>People Vaccinated=%{customdata[1]}<extra></extra>",
         "hovertext": [
          "Cameroon"
         ],
         "legendgroup": "Cameroon",
         "marker": {
          "color": "#19d3f3",
          "size": {
           "bdata": "AAAAAADYnkA=",
           "dtype": "f8"
          },
          "sizemode": "area",
          "sizeref": 7493.3975,
          "symbol": "circle"
         },
         "mode": "markers",
         "name": "Cameroon",
         "orientation": "v",
         "showlegend": true,
         "type": "scatter",
         "x": {
          "bdata": "AAAAAAAA+H8=",
          "dtype": "f8"
         },
         "xaxis": "x",
         "y": {
          "bdata": "AAAAAOCT/kA=",
          "dtype": "f8"
         },
         "yaxis": "y"
        },
        {
         "customdata": {
          "bdata": "AAAAAABgYkAAAAAAAAD4fw==",
          "dtype": "f8",
          "shape": "1, 2"
         },
         "hovertemplate": "<b>%{hovertext}</b><br><br>Country=South Sudan<br>People Fully Vaccinated=%{x}<br>Total Cases=%{y}<br>Total Deaths=%{customdata[0]}<br>People Vaccinated=%{customdata[1]}<extra></extra>",
         "hovertext": [
          "South Sudan"
         ],
         "legendgroup": "South Sudan",
         "marker": {
          "color": "#FF6692",
          "size": {
           "bdata": "AAAAAABgYkA=",
           "dtype": "f8"
          },
          "sizemode": "area",
          "sizeref": 7493.3975,
          "symbol": "circle"
         },
         "mode": "markers",
         "name": "South Sudan",
         "orientation": "v",
         "showlegend": true,
         "type": "scatter",
         "x": {
          "bdata": "AAAAAAAA+H8=",
          "dtype": "f8"
         },
         "xaxis": "x",
         "y": {
          "bdata": "AAAAAMBh0kA=",
          "dtype": "f8"
         },
         "yaxis": "y"
        },
        {
         "customdata": {
          "bdata": "AAAAAAAAUEAAAAAAAAD4fw==",
          "dtype": "f8",
          "shape": "1, 2"
         },
         "hovertemplate": "<b>%{hovertext}</b><br><br>Country=British Virgin Islands<br>People Fully Vaccinated=%{x}<br>Total Cases=%{y}<br>Total Deaths=%{customdata[0]}<br>People Vaccinated=%{customdata[1]}<extra></extra>",
         "hovertext": [
          "British Virgin Islands"
         ],
         "legendgroup": "British Virgin Islands",
         "marker": {
          "color": "#B6E880",
          "size": {
           "bdata": "AAAAAAAAUEA=",
           "dtype": "f8"
          },
          "sizemode": "area",
          "sizeref": 7493.3975,
          "symbol": "circle"
         },
         "mode": "markers",
         "name": "British Virgin Islands",
         "orientation": "v",
         "showlegend": true,
         "type": "scatter",
         "x": {
          "bdata": "AAAAAAAA+H8=",
          "dtype": "f8"
         },
         "xaxis": "x",
         "y": {
          "bdata": "AAAAAACFvUA=",
          "dtype": "f8"
         },
         "yaxis": "y"
        },
        {
         "customdata": {
          "bdata": "AAAAAADgp0AAAAAAAAD4fw==",
          "dtype": "f8",
          "shape": "1, 2"
         },
         "hovertemplate": "<b>%{hovertext}</b><br><br>Country=Cambodia<br>People Fully Vaccinated=%{x}<br>Total Cases=%{y}<br>Total Deaths=%{customdata[0]}<br>People Vaccinated=%{customdata[1]}<extra></extra>",
         "hovertext": [
          "Cambodia"
         ],
         "legendgroup": "Cambodia",
         "marker": {
          "color": "#FF97FF",
          "size": {
           "bdata": "AAAAAADgp0A=",
           "dtype": "f8"
          },
          "sizemode": "area",
          "sizeref": 7493.3975,
          "symbol": "circle"
         },
         "mode": "markers",
         "name": "Cambodia",
         "orientation": "v",
         "showlegend": true,
         "type": "scatter",
         "x": {
          "bdata": "AAAAAAAA+H8=",
          "dtype": "f8"
         },
         "xaxis": "x",
         "y": {
          "bdata": "AAAAALgBAUE=",
          "dtype": "f8"
         },
         "yaxis": "y"
        },
        {
         "customdata": {
          "bdata": "AAAAAAAALkAAAAAAAAD4fw==",
          "dtype": "f8",
          "shape": "1, 2"
         },
         "hovertemplate": "<b>%{hovertext}</b><br><br>Country=Burundi<br>People Fully Vaccinated=%{x}<br>Total Cases=%{y}<br>Total Deaths=%{customdata[0]}<br>People Vaccinated=%{customdata[1]}<extra></extra>",
         "hovertext": [
          "Burundi"
         ],
         "legendgroup": "Burundi",
         "marker": {
          "color": "#FECB52",
          "size": {
           "bdata": "AAAAAAAALkA=",
           "dtype": "f8"
          },
          "sizemode": "area",
          "sizeref": 7493.3975,
          "symbol": "circle"
         },
         "mode": "markers",
         "name": "Burundi",
         "orientation": "v",
         "showlegend": true,
         "type": "scatter",
         "x": {
          "bdata": "AAAAAAAA+H8=",
          "dtype": "f8"
         },
         "xaxis": "x",
         "y": {
          "bdata": "AAAAACCl6kA=",
          "dtype": "f8"
         },
         "yaxis": "y"
        },
        {
         "customdata": {
          "bdata": "AAAAAMCC0EAAAAAAAAD4fw==",
          "dtype": "f8",
          "shape": "1, 2"
         },
         "hovertemplate": "<b>%{hovertext}</b><br><br>Country=Sri Lanka<br>People Fully Vaccinated=%{x}<br>Total Cases=%{y}<br>Total Deaths=%{customdata[0]}<br>People Vaccinated=%{customdata[1]}<extra></extra>",
         "hovertext": [
          "Sri Lanka"
         ],
         "legendgroup": "Sri Lanka",
         "marker": {
          "color": "#636efa",
          "size": {
           "bdata": "AAAAAMCC0EA=",
           "dtype": "f8"
          },
          "sizemode": "area",
          "sizeref": 7493.3975,
          "symbol": "circle"
         },
         "mode": "markers",
         "name": "Sri Lanka",
         "orientation": "v",
         "showlegend": true,
         "type": "scatter",
         "x": {
          "bdata": "AAAAAAAA+H8=",
          "dtype": "f8"
         },
         "xaxis": "x",
         "y": {
          "bdata": "AAAAADyIJEE=",
          "dtype": "f8"
         },
         "yaxis": "y"
        },
        {
         "customdata": {
          "bdata": "AAAAAAAAeUAAAAAAAAD4fw==",
          "dtype": "f8",
          "shape": "1, 2"
         },
         "hovertemplate": "<b>%{hovertext}</b><br><br>Country=Burkina Faso<br>People Fully Vaccinated=%{x}<br>Total Cases=%{y}<br>Total Deaths=%{customdata[0]}<br>People Vaccinated=%{customdata[1]}<extra></extra>",
         "hovertext": [
          "Burkina Faso"
         ],
         "legendgroup": "Burkina Faso",
         "marker": {
          "color": "#EF553B",
          "size": {
           "bdata": "AAAAAAAAeUA=",
           "dtype": "f8"
          },
          "sizemode": "area",
          "sizeref": 7493.3975,
          "symbol": "circle"
         },
         "mode": "markers",
         "name": "Burkina Faso",
         "orientation": "v",
         "showlegend": true,
         "type": "scatter",
         "x": {
          "bdata": "AAAAAAAA+H8=",
          "dtype": "f8"
         },
         "xaxis": "x",
         "y": {
          "bdata": "AAAAAMCe1UA=",
          "dtype": "f8"
         },
         "yaxis": "y"
        },
        {
         "customdata": {
          "bdata": "AAAAAAC2s0AAAAAAAAD4fw==",
          "dtype": "f8",
          "shape": "1, 2"
         },
         "hovertemplate": "<b>%{hovertext}</b><br><br>Country=Sudan<br>People Fully Vaccinated=%{x}<br>Total Cases=%{y}<br>Total Deaths=%{customdata[0]}<br>People Vaccinated=%{customdata[1]}<extra></extra>",
         "hovertext": [
          "Sudan"
         ],
         "legendgroup": "Sudan",
         "marker": {
          "color": "#00cc96",
          "size": {
           "bdata": "AAAAAAC2s0A=",
           "dtype": "f8"
          },
          "sizemode": "area",
          "sizeref": 7493.3975,
          "symbol": "circle"
         },
         "mode": "markers",
         "name": "Sudan",
         "orientation": "v",
         "showlegend": true,
         "type": "scatter",
         "x": {
          "bdata": "AAAAAAAA+H8=",
          "dtype": "f8"
         },
         "xaxis": "x",
         "y": {
          "bdata": "AAAAACA/70A=",
          "dtype": "f8"
         },
         "yaxis": "y"
        },
        {
         "customdata": {
          "bdata": "AAAAAIDl4kAAAAAAAAD4fw==",
          "dtype": "f8",
          "shape": "1, 2"
         },
         "hovertemplate": "<b>%{hovertext}</b><br><br>Country=Bulgaria<br>People Fully Vaccinated=%{x}<br>Total Cases=%{y}<br>Total Deaths=%{customdata[0]}<br>People Vaccinated=%{customdata[1]}<extra></extra>",
         "hovertext": [
          "Bulgaria"
         ],
         "legendgroup": "Bulgaria",
         "marker": {
          "color": "#ab63fa",
          "size": {
           "bdata": "AAAAAIDl4kA=",
           "dtype": "f8"
          },
          "sizemode": "area",
          "sizeref": 7493.3975,
          "symbol": "circle"
         },
         "mode": "markers",
         "name": "Bulgaria",
         "orientation": "v",
         "showlegend": true,
         "type": "scatter",
         "x": {
          "bdata": "AAAAAAAA+H8=",
          "dtype": "f8"
         },
         "xaxis": "x",
         "y": {
          "bdata": "AAAAAERLNEE=",
          "dtype": "f8"
         },
         "yaxis": "y"
        },
        {
         "customdata": {
          "bdata": "AAAAAAD4lUAAAAAAAAD4fw==",
          "dtype": "f8",
          "shape": "1, 2"
         },
         "hovertemplate": "<b>%{hovertext}</b><br><br>Country=Suriname<br>People Fully Vaccinated=%{x}<br>Total Cases=%{y}<br>Total Deaths=%{customdata[0]}<br>People Vaccinated=%{customdata[1]}<extra></extra>",
         "hovertext": [
          "Suriname"
         ],
         "legendgroup": "Suriname",
         "marker": {
          "color": "#FFA15A",
          "size": {
           "bdata": "AAAAAAD4lUA=",
           "dtype": "f8"
          },
          "sizemode": "area",
          "sizeref": 7493.3975,
          "symbol": "circle"
         },
         "mode": "markers",
         "name": "Suriname",
         "orientation": "v",
         "showlegend": true,
         "type": "scatter",
         "x": {
          "bdata": "AAAAAAAA+H8=",
          "dtype": "f8"
         },
         "xaxis": "x",
         "y": {
          "bdata": "AAAAAFAk9EA=",
          "dtype": "f8"
         },
         "yaxis": "y"
        },
        {
         "customdata": {
          "bdata": "AAAAAABgZkAAAAAAAAD4fw==",
          "dtype": "f8",
          "shape": "1, 2"
         },
         "hovertemplate": "<b>%{hovertext}</b><br><br>Country=Brunei<br>People Fully Vaccinated=%{x}<br>Total Cases=%{y}<br>Total Deaths=%{customdata[0]}<br>People Vaccinated=%{customdata[1]}<extra></extra>",
         "hovertext": [
          "Brunei"
         ],
         "legendgroup": "Brunei",
         "marker": {
          "color": "#19d3f3",
          "size": {
           "bdata": "AAAAAABgZkA=",
           "dtype": "f8"
          },
          "sizemode": "area",
          "sizeref": 7493.3975,
          "symbol": "circle"
         },
         "mode": "markers",
         "name": "Brunei",
         "orientation": "v",
         "showlegend": true,
         "type": "scatter",
         "x": {
          "bdata": "AAAAAAAA+H8=",
          "dtype": "f8"
         },
         "xaxis": "x",
         "y": {
          "bdata": "AAAAACw5FUE=",
          "dtype": "f8"
         },
         "yaxis": "y"
        },
        {
         "customdata": {
          "bdata": "AAAAAMC//UAAAAAAAAD4fw==",
          "dtype": "f8",
          "shape": "1, 2"
         },
         "hovertemplate": "<b>%{hovertext}</b><br><br>Country=Spain<br>People Fully Vaccinated=%{x}<br>Total Cases=%{y}<br>Total Deaths=%{customdata[0]}<br>People Vaccinated=%{customdata[1]}<extra></extra>",
         "hovertext": [
          "Spain"
         ],
         "legendgroup": "Spain",
         "marker": {
          "color": "#FF6692",
          "size": {
           "bdata": "AAAAAMC//UA=",
           "dtype": "f8"
          },
          "sizemode": "area",
          "sizeref": 7493.3975,
          "symbol": "circle"
         },
         "mode": "markers",
         "name": "Spain",
         "orientation": "v",
         "showlegend": true,
         "type": "scatter",
         "x": {
          "bdata": "AAAAAAAA+H8=",
          "dtype": "f8"
         },
         "xaxis": "x",
         "y": {
          "bdata": "AAAAgFaqakE=",
          "dtype": "f8"
         },
         "yaxis": "y"
        },
        {
         "customdata": {
          "bdata": "AAAAAACAQkAAAAAAAAD4fw==",
          "dtype": "f8",
          "shape": "1, 2"
         },
         "hovertemplate": "<b>%{hovertext}</b><br><br>Country=Cayman Islands<br>People Fully Vaccinated=%{x}<br>Total Cases=%{y}<br>Total Deaths=%{customdata[0]}<br>People Vaccinated=%{customdata[1]}<extra></extra>",
         "hovertext": [
          "Cayman Islands"
         ],
         "legendgroup": "Cayman Islands",
         "marker": {
          "color": "#B6E880",
          "size": {
           "bdata": "AAAAAACAQkA=",
           "dtype": "f8"
          },
          "sizemode": "area",
          "sizeref": 7493.3975,
          "symbol": "circle"
         },
         "mode": "markers",
         "name": "Cayman Islands",
         "orientation": "v",
         "showlegend": true,
         "type": "scatter",
         "x": {
          "bdata": "AAAAAAAA+H8=",
          "dtype": "f8"
         },
         "xaxis": "x",
         "y": {
          "bdata": "AAAAAAC83kA=",
          "dtype": "f8"
         },
         "yaxis": "y"
        },
        {
         "customdata": {
          "bdata": "AAAAAGDE4EAAAAAAAAD4fw==",
          "dtype": "f8",
          "shape": "1, 2"
         },
         "hovertemplate": "<b>%{hovertext}</b><br><br>Country=Belgium<br>People Fully Vaccinated=%{x}<br>Total Cases=%{y}<br>Total Deaths=%{customdata[0]}<br>People Vaccinated=%{customdata[1]}<extra></extra>",
         "hovertext": [
          "Belgium"
         ],
         "legendgroup": "Belgium",
         "marker": {
          "color": "#FF97FF",
          "size": {
           "bdata": "AAAAAGDE4EA=",
           "dtype": "f8"
          },
          "sizemode": "area",
          "sizeref": 7493.3975,
          "symbol": "circle"
         },
         "mode": "markers",
         "name": "Belgium",
         "orientation": "v",
         "showlegend": true,
         "type": "scatter",
         "x": {
          "bdata": "AAAAAAAA+H8=",
          "dtype": "f8"
         },
         "xaxis": "x",
         "y": {
          "bdata": "AAAAQJ+WUkE=",
          "dtype": "f8"
         },
         "yaxis": "y"
        },
        {
         "customdata": {
          "bdata": "AAAAAADOu0AAAAAAAAD4fw==",
          "dtype": "f8",
          "shape": "1, 2"
         },
         "hovertemplate": "<b>%{hovertext}</b><br><br>Country=Belarus<br>People Fully Vaccinated=%{x}<br>Total Cases=%{y}<br>Total Deaths=%{customdata[0]}<br>People Vaccinated=%{customdata[1]}<extra></extra>",
         "hovertext": [
          "Belarus"
         ],
         "legendgroup": "Belarus",
         "marker": {
          "color": "#FECB52",
          "size": {
           "bdata": "AAAAAADOu0A=",
           "dtype": "f8"
          },
          "sizemode": "area",
          "sizeref": 7493.3975,
          "symbol": "circle"
         },
         "mode": "markers",
         "name": "Belarus",
         "orientation": "v",
         "showlegend": true,
         "type": "scatter",
         "x": {
          "bdata": "AAAAAAAA+H8=",
          "dtype": "f8"
         },
         "xaxis": "x",
         "y": {
          "bdata": "AAAAAOpVLkE=",
          "dtype": "f8"
         },
         "yaxis": "y"
        },
        {
         "customdata": {
          "bdata": "AAAAAAACvkAAAAAAAAD4fw==",
          "dtype": "f8",
          "shape": "1, 2"
         },
         "hovertemplate": "<b>%{hovertext}</b><br><br>Country=Uruguay<br>People Fully Vaccinated=%{x}<br>Total Cases=%{y}<br>Total Deaths=%{customdata[0]}<br>People Vaccinated=%{customdata[1]}<extra></extra>",
         "hovertext": [
          "Uruguay"
         ],
         "legendgroup": "Uruguay",
         "marker": {
          "color": "#636efa",
          "size": {
           "bdata": "AAAAAAACvkA=",
           "dtype": "f8"
          },
          "sizemode": "area",
          "sizeref": 7493.3975,
          "symbol": "circle"
         },
         "mode": "markers",
         "name": "Uruguay",
         "orientation": "v",
         "showlegend": true,
         "type": "scatter",
         "x": {
          "bdata": "AAAAAAAA+H8=",
          "dtype": "f8"
         },
         "xaxis": "x",
         "y": {
          "bdata": "AAAAAITHL0E=",
          "dtype": "f8"
         },
         "yaxis": "y"
        },
        {
         "customdata": {
          "bdata": "AAAAAABAYkAAAAAAAAD4fw==",
          "dtype": "f8",
          "shape": "1, 2"
         },
         "hovertemplate": "<b>%{hovertext}</b><br><br>Country=Antigua and Barbuda<br>People Fully Vaccinated=%{x}<br>Total Cases=%{y}<br>Total Deaths=%{customdata[0]}<br>People Vaccinated=%{customdata[1]}<extra></extra>",
         "hovertext": [
          "Antigua and Barbuda"
         ],
         "legendgroup": "Antigua and Barbuda",
         "marker": {
          "color": "#EF553B",
          "size": {
           "bdata": "AAAAAABAYkA=",
           "dtype": "f8"
          },
          "sizemode": "area",
          "sizeref": 7493.3975,
          "symbol": "circle"
         },
         "mode": "markers",
         "name": "Antigua and Barbuda",
         "orientation": "v",
         "showlegend": true,
         "type": "scatter",
         "x": {
          "bdata": "AAAAAAAA+H8=",
          "dtype": "f8"
         },
         "xaxis": "x",
         "y": {
          "bdata": "AAAAAADJwUA=",
          "dtype": "f8"
         },
         "yaxis": "y"
        },
        {
         "customdata": {
          "bdata": "AAAAAADAj0AAAAAAAAD4fw==",
          "dtype": "f8",
          "shape": "1, 2"
         },
         "hovertemplate": "<b>%{hovertext}</b><br><br>Country=Uzbekistan<br>People Fully Vaccinated=%{x}<br>Total Cases=%{y}<br>Total Deaths=%{customdata[0]}<br>People Vaccinated=%{customdata[1]}<extra></extra>",
         "hovertext": [
          "Uzbekistan"
         ],
         "legendgroup": "Uzbekistan",
         "marker": {
          "color": "#00cc96",
          "size": {
           "bdata": "AAAAAADAj0A=",
           "dtype": "f8"
          },
          "sizemode": "area",
          "sizeref": 7493.3975,
          "symbol": "circle"
         },
         "mode": "markers",
         "name": "Uzbekistan",
         "orientation": "v",
         "showlegend": true,
         "type": "scatter",
         "x": {
          "bdata": "AAAAAAAA+H8=",
          "dtype": "f8"
         },
         "xaxis": "x",
         "y": {
          "bdata": "AAAAAEhfBUE=",
          "dtype": "f8"
         },
         "yaxis": "y"
        },
        {
         "customdata": {
          "bdata": "AAAAAAAAKEAAAAAAAAD4fw==",
          "dtype": "f8",
          "shape": "1, 2"
         },
         "hovertemplate": "<b>%{hovertext}</b><br><br>Country=Anguilla<br>People Fully Vaccinated=%{x}<br>Total Cases=%{y}<br>Total Deaths=%{customdata[0]}<br>People Vaccinated=%{customdata[1]}<extra></extra>",
         "hovertext": [
          "Anguilla"
         ],
         "legendgroup": "Anguilla",
         "marker": {
          "color": "#ab63fa",
          "size": {
           "bdata": "AAAAAAAAKEA=",
           "dtype": "f8"
          },
          "sizemode": "area",
          "sizeref": 7493.3975,
          "symbol": "circle"
         },
         "mode": "markers",
         "name": "Anguilla",
         "orientation": "v",
         "showlegend": true,
         "type": "scatter",
         "x": {
          "bdata": "AAAAAAAA+H8=",
          "dtype": "f8"
         },
         "xaxis": "x",
         "y": {
          "bdata": "AAAAAACArkA=",
          "dtype": "f8"
         },
         "yaxis": "y"
        },
        {
         "customdata": {
          "bdata": "AAAAAAAALEAAAAAAAAD4fw==",
          "dtype": "f8",
          "shape": "1, 2"
         },
         "hovertemplate": "<b>%{hovertext}</b><br><br>Country=Vanuatu<br>People Fully Vaccinated=%{x}<br>Total Cases=%{y}<br>Total Deaths=%{customdata[0]}<br>People Vaccinated=%{customdata[1]}<extra></extra>",
         "hovertext": [
          "Vanuatu"
         ],
         "legendgroup": "Vanuatu",
         "marker": {
          "color": "#FFA15A",
          "size": {
           "bdata": "AAAAAAAALEA=",
           "dtype": "f8"
          },
          "sizemode": "area",
          "sizeref": 7493.3975,
          "symbol": "circle"
         },
         "mode": "markers",
         "name": "Vanuatu",
         "orientation": "v",
         "showlegend": true,
         "type": "scatter",
         "x": {
          "bdata": "AAAAAAAA+H8=",
          "dtype": "f8"
         },
         "xaxis": "x",
         "y": {
          "bdata": "AAAAAIB5x0A=",
          "dtype": "f8"
         },
         "yaxis": "y"
        },
        {
         "customdata": {
          "bdata": "AAAAAABEnkAAAAAAAAD4fw==",
          "dtype": "f8",
          "shape": "1, 2"
         },
         "hovertemplate": "<b>%{hovertext}</b><br><br>Country=Angola<br>People Fully Vaccinated=%{x}<br>Total Cases=%{y}<br>Total Deaths=%{customdata[0]}<br>People Vaccinated=%{customdata[1]}<extra></extra>",
         "hovertext": [
          "Angola"
         ],
         "legendgroup": "Angola",
         "marker": {
          "color": "#19d3f3",
          "size": {
           "bdata": "AAAAAABEnkA=",
           "dtype": "f8"
          },
          "sizemode": "area",
          "sizeref": 7493.3975,
          "symbol": "circle"
         },
         "mode": "markers",
         "name": "Angola",
         "orientation": "v",
         "showlegend": true,
         "type": "scatter",
         "x": {
          "bdata": "AAAAAAAA+H8=",
          "dtype": "f8"
         },
         "xaxis": "x",
         "y": {
          "bdata": "AAAAAJA9+kA=",
          "dtype": "f8"
         },
         "yaxis": "y"
        },
        {
         "customdata": {
          "bdata": "AAAAAAAAAAAAAAAAAAD4fw==",
          "dtype": "f8",
          "shape": "1, 2"
         },
         "hovertemplate": "<b>%{hovertext}</b><br><br>Country=Vatican<br>People Fully Vaccinated=%{x}<br>Total Cases=%{y}<br>Total Deaths=%{customdata[0]}<br>People Vaccinated=%{customdata[1]}<extra></extra>",
         "hovertext": [
          "Vatican"
         ],
         "legendgroup": "Vatican",
         "marker": {
          "color": "#FF6692",
          "size": {
           "bdata": "AAAAAAAAAAA=",
           "dtype": "f8"
          },
          "sizemode": "area",
          "sizeref": 7493.3975,
          "symbol": "circle"
         },
         "mode": "markers",
         "name": "Vatican",
         "orientation": "v",
         "showlegend": true,
         "type": "scatter",
         "x": {
          "bdata": "AAAAAAAA+H8=",
          "dtype": "f8"
         },
         "xaxis": "x",
         "y": {
          "bdata": "AAAAAAAAOkA=",
          "dtype": "f8"
         },
         "yaxis": "y"
        },
        {
         "customdata": {
          "bdata": "AAAAAHDm/0AAAAAAAAD4fw==",
          "dtype": "f8",
          "shape": "1, 2"
         },
         "hovertemplate": "<b>%{hovertext}</b><br><br>Country=Argentina<br>People Fully Vaccinated=%{x}<br>Total Cases=%{y}<br>Total Deaths=%{customdata[0]}<br>People Vaccinated=%{customdata[1]}<extra></extra>",
         "hovertext": [
          "Argentina"
         ],
         "legendgroup": "Argentina",
         "marker": {
          "color": "#B6E880",
          "size": {
           "bdata": "AAAAAHDm/0A=",
           "dtype": "f8"
          },
          "sizemode": "area",
          "sizeref": 7493.3975,
          "symbol": "circle"
         },
         "mode": "markers",
         "name": "Argentina",
         "orientation": "v",
         "showlegend": true,
         "type": "scatter",
         "x": {
          "bdata": "AAAAAAAA+H8=",
          "dtype": "f8"
         },
         "xaxis": "x",
         "y": {
          "bdata": "AAAAQDxEY0E=",
          "dtype": "f8"
         },
         "yaxis": "y"
        },
        {
         "customdata": {
          "bdata": "AAAAAADgY0AAAAAAAAD4fw==",
          "dtype": "f8",
          "shape": "1, 2"
         },
         "hovertemplate": "<b>%{hovertext}</b><br><br>Country=Andorra<br>People Fully Vaccinated=%{x}<br>Total Cases=%{y}<br>Total Deaths=%{customdata[0]}<br>People Vaccinated=%{customdata[1]}<extra></extra>",
         "hovertext": [
          "Andorra"
         ],
         "legendgroup": "Andorra",
         "marker": {
          "color": "#FF97FF",
          "size": {
           "bdata": "AAAAAADgY0A=",
           "dtype": "f8"
          },
          "sizemode": "area",
          "sizeref": 7493.3975,
          "symbol": "circle"
         },
         "mode": "markers",
         "name": "Andorra",
         "orientation": "v",
         "showlegend": true,
         "type": "scatter",
         "x": {
          "bdata": "AAAAAAAA+H8=",
          "dtype": "f8"
         },
         "xaxis": "x",
         "y": {
          "bdata": "AAAAAOBx50A=",
          "dtype": "f8"
         },
         "yaxis": "y"
        },
        {
         "customdata": {
          "bdata": "AAAAAAAAQUAAAAAAAAD4fw==",
          "dtype": "f8",
          "shape": "1, 2"
         },
         "hovertemplate": "<b>%{hovertext}</b><br><br>Country=American Samoa<br>People Fully Vaccinated=%{x}<br>Total Cases=%{y}<br>Total Deaths=%{customdata[0]}<br>People Vaccinated=%{customdata[1]}<extra></extra>",
         "hovertext": [
          "American Samoa"
         ],
         "legendgroup": "American Samoa",
         "marker": {
          "color": "#FECB52",
          "size": {
           "bdata": "AAAAAAAAQUA=",
           "dtype": "f8"
          },
          "sizemode": "area",
          "sizeref": 7493.3975,
          "symbol": "circle"
         },
         "mode": "markers",
         "name": "American Samoa",
         "orientation": "v",
         "showlegend": true,
         "type": "scatter",
         "x": {
          "bdata": "AAAAAAAA+H8=",
          "dtype": "f8"
         },
         "xaxis": "x",
         "y": {
          "bdata": "AAAAAIBTwEA=",
          "dtype": "f8"
         },
         "yaxis": "y"
        },
        {
         "customdata": {
          "bdata": "AAAAAMAY5UAAAAAAAAD4fw==",
          "dtype": "f8",
          "shape": "1, 2"
         },
         "hovertemplate": "<b>%{hovertext}</b><br><br>Country=Vietnam<br>People Fully Vaccinated=%{x}<br>Total Cases=%{y}<br>Total Deaths=%{customdata[0]}<br>People Vaccinated=%{customdata[1]}<extra></extra>",
         "hovertext": [
          "Vietnam"
         ],
         "legendgroup": "Vietnam",
         "marker": {
          "color": "#636efa",
          "size": {
           "bdata": "AAAAAMAY5UA=",
           "dtype": "f8"
          },
          "sizemode": "area",
          "sizeref": 7493.3975,
          "symbol": "circle"
         },
         "mode": "markers",
         "name": "Vietnam",
         "orientation": "v",
         "showlegend": true,
         "type": "scatter",
         "x": {
          "bdata": "AAAAAAAA+H8=",
          "dtype": "f8"
         },
         "xaxis": "x",
         "y": {
          "bdata": "AAAAAMgrZkE=",
          "dtype": "f8"
         },
         "yaxis": "y"
        },
        {
         "customdata": {
          "bdata": "AAAAAADhukAAAAAAAAD4fw==",
          "dtype": "f8",
          "shape": "1, 2"
         },
         "hovertemplate": "<b>%{hovertext}</b><br><br>Country=Algeria<br>People Fully Vaccinated=%{x}<br>Total Cases=%{y}<br>Total Deaths=%{customdata[0]}<br>People Vaccinated=%{customdata[1]}<extra></extra>",
         "hovertext": [
          "Algeria"
         ],
         "legendgroup": "Algeria",
         "marker": {
          "color": "#EF553B",
          "size": {
           "bdata": "AAAAAADhukA=",
           "dtype": "f8"
          },
          "sizemode": "area",
          "sizeref": 7493.3975,
          "symbol": "circle"
         },
         "mode": "markers",
         "name": "Algeria",
         "orientation": "v",
         "showlegend": true,
         "type": "scatter",
         "x": {
          "bdata": "AAAAAAAA+H8=",
          "dtype": "f8"
         },
         "xaxis": "x",
         "y": {
          "bdata": "AAAAACycEEE=",
          "dtype": "f8"
         },
         "yaxis": "y"
        },
        {
         "customdata": {
          "bdata": "AAAAAAAAIkAAAAAAAAD4fw==",
          "dtype": "f8",
          "shape": "1, 2"
         },
         "hovertemplate": "<b>%{hovertext}</b><br><br>Country=Wallis and Futuna<br>People Fully Vaccinated=%{x}<br>Total Cases=%{y}<br>Total Deaths=%{customdata[0]}<br>People Vaccinated=%{customdata[1]}<extra></extra>",
         "hovertext": [
          "Wallis and Futuna"
         ],
         "legendgroup": "Wallis and Futuna",
         "marker": {
          "color": "#00cc96",
          "size": {
           "bdata": "AAAAAAAAIkA=",
           "dtype": "f8"
          },
          "sizemode": "area",
          "sizeref": 7493.3975,
          "symbol": "circle"
         },
         "mode": "markers",
         "name": "Wallis and Futuna",
         "orientation": "v",
         "showlegend": true,
         "type": "scatter",
         "x": {
          "bdata": "AAAAAAAA+H8=",
          "dtype": "f8"
         },
         "xaxis": "x",
         "y": {
          "bdata": "AAAAAABgrUA=",
          "dtype": "f8"
         },
         "yaxis": "y"
        },
        {
         "customdata": {
          "bdata": "AAAAAAAqrEAAAAAAAAD4fw==",
          "dtype": "f8",
          "shape": "1, 2"
         },
         "hovertemplate": "<b>%{hovertext}</b><br><br>Country=Albania<br>People Fully Vaccinated=%{x}<br>Total Cases=%{y}<br>Total Deaths=%{customdata[0]}<br>People Vaccinated=%{customdata[1]}<extra></extra>",
         "hovertext": [
          "Albania"
         ],
         "legendgroup": "Albania",
         "marker": {
          "color": "#ab63fa",
          "size": {
           "bdata": "AAAAAAAqrEA=",
           "dtype": "f8"
          },
          "sizemode": "area",
          "sizeref": 7493.3975,
          "symbol": "circle"
         },
         "mode": "markers",
         "name": "Albania",
         "orientation": "v",
         "showlegend": true,
         "type": "scatter",
         "x": {
          "bdata": "AAAAAAAA+H8=",
          "dtype": "f8"
         },
         "xaxis": "x",
         "y": {
          "bdata": "AAAAABxzFEE=",
          "dtype": "f8"
         },
         "yaxis": "y"
        },
        {
         "customdata": {
          "bdata": "AAAAAADeoEAAAAAAAAD4fw==",
          "dtype": "f8",
          "shape": "1, 2"
         },
         "hovertemplate": "<b>%{hovertext}</b><br><br>Country=Yemen<br>People Fully Vaccinated=%{x}<br>Total Cases=%{y}<br>Total Deaths=%{customdata[0]}<br>People Vaccinated=%{customdata[1]}<extra></extra>",
         "hovertext": [
          "Yemen"
         ],
         "legendgroup": "Yemen",
         "marker": {
          "color": "#FFA15A",
          "size": {
           "bdata": "AAAAAADeoEA=",
           "dtype": "f8"
          },
          "sizemode": "area",
          "sizeref": 7493.3975,
          "symbol": "circle"
         },
         "mode": "markers",
         "name": "Yemen",
         "orientation": "v",
         "showlegend": true,
         "type": "scatter",
         "x": {
          "bdata": "AAAAAAAA+H8=",
          "dtype": "f8"
         },
         "xaxis": "x",
         "y": {
          "bdata": "AAAAAIBUx0A=",
          "dtype": "f8"
         },
         "yaxis": "y"
        },
        {
         "customdata": {
          "bdata": "AAAAAAA+v0AAAAAAAAD4fw==",
          "dtype": "f8",
          "shape": "1, 2"
         },
         "hovertemplate": "<b>%{hovertext}</b><br><br>Country=Afghanistan<br>People Fully Vaccinated=%{x}<br>Total Cases=%{y}<br>Total Deaths=%{customdata[0]}<br>People Vaccinated=%{customdata[1]}<extra></extra>",
         "hovertext": [
          "Afghanistan"
         ],
         "legendgroup": "Afghanistan",
         "marker": {
          "color": "#19d3f3",
          "size": {
           "bdata": "AAAAAAA+v0A=",
           "dtype": "f8"
          },
          "sizemode": "area",
          "sizeref": 7493.3975,
          "symbol": "circle"
         },
         "mode": "markers",
         "name": "Afghanistan",
         "orientation": "v",
         "showlegend": true,
         "type": "scatter",
         "x": {
          "bdata": "AAAAAAAA+H8=",
          "dtype": "f8"
         },
         "xaxis": "x",
         "y": {
          "bdata": "AAAAAHC2DEE=",
          "dtype": "f8"
         },
         "yaxis": "y"
        },
        {
         "customdata": {
          "bdata": "AAAAAADgtkAAAAAAAAD4fw==",
          "dtype": "f8",
          "shape": "1, 2"
         },
         "hovertemplate": "<b>%{hovertext}</b><br><br>Country=Venezuela<br>People Fully Vaccinated=%{x}<br>Total Cases=%{y}<br>Total Deaths=%{customdata[0]}<br>People Vaccinated=%{customdata[1]}<extra></extra>",
         "hovertext": [
          "Venezuela"
         ],
         "legendgroup": "Venezuela",
         "marker": {
          "color": "#FF6692",
          "size": {
           "bdata": "AAAAAADgtkA=",
           "dtype": "f8"
          },
          "sizemode": "area",
          "sizeref": 7493.3975,
          "symbol": "circle"
         },
         "mode": "markers",
         "name": "Venezuela",
         "orientation": "v",
         "showlegend": true,
         "type": "scatter",
         "x": {
          "bdata": "AAAAAAAA+H8=",
          "dtype": "f8"
         },
         "xaxis": "x",
         "y": {
          "bdata": "AAAAAO7dIEE=",
          "dtype": "f8"
         },
         "yaxis": "y"
        },
        {
         "customdata": {
          "bdata": "AAAAALDC+EAAAAAAAAD4fw==",
          "dtype": "f8",
          "shape": "1, 2"
         },
         "hovertemplate": "<b>%{hovertext}</b><br><br>Country=Turkey<br>People Fully Vaccinated=%{x}<br>Total Cases=%{y}<br>Total Deaths=%{customdata[0]}<br>People Vaccinated=%{customdata[1]}<extra></extra>",
         "hovertext": [
          "Turkey"
         ],
         "legendgroup": "Turkey",
         "marker": {
          "color": "#B6E880",
          "size": {
           "bdata": "AAAAALDC+EA=",
           "dtype": "f8"
          },
          "sizemode": "area",
          "sizeref": 7493.3975,
          "symbol": "circle"
         },
         "mode": "markers",
         "name": "Turkey",
         "orientation": "v",
         "showlegend": true,
         "type": "scatter",
         "x": {
          "bdata": "AAAAAAAA+H8=",
          "dtype": "f8"
         },
         "xaxis": "x",
         "y": {
          "bdata": "AAAA4Io3cEE=",
          "dtype": "f8"
         },
         "yaxis": "y"
        },
        {
         "customdata": {
          "bdata": "AAAAAIKMRUEAAAAAAAD4fw==",
          "dtype": "f8",
          "shape": "1, 2"
         },
         "hovertemplate": "<b>%{hovertext}</b><br><br>Country=Upper-middle-income countries<br>People Fully Vaccinated=%{x}<br>Total Cases=%{y}<br>Total Deaths=%{customdata[0]}<br>People Vaccinated=%{customdata[1]}<extra></extra>",
         "hovertext": [
          "Upper-middle-income countries"
         ],
         "legendgroup": "Upper-middle-income countries",
         "marker": {
          "color": "#FF97FF",
          "size": {
           "bdata": "AAAAAIKMRUE=",
           "dtype": "f8"
          },
          "sizemode": "area",
          "sizeref": 7493.3975,
          "symbol": "circle"
         },
         "mode": "markers",
         "name": "Upper-middle-income countries",
         "orientation": "v",
         "showlegend": true,
         "type": "scatter",
         "x": {
          "bdata": "AAAAAAAA+H8=",
          "dtype": "f8"
         },
         "xaxis": "x",
         "y": {
          "bdata": "AAAAXOgCrkE=",
          "dtype": "f8"
         },
         "yaxis": "y"
        },
        {
         "customdata": {
          "bdata": "AAAAAACAYEAAAAAAAAD4fw==",
          "dtype": "f8",
          "shape": "1, 2"
         },
         "hovertemplate": "<b>%{hovertext}</b><br><br>Country=United States Virgin Islands<br>People Fully Vaccinated=%{x}<br>Total Cases=%{y}<br>Total Deaths=%{customdata[0]}<br>People Vaccinated=%{customdata[1]}<extra></extra>",
         "hovertext": [
          "United States Virgin Islands"
         ],
         "legendgroup": "United States Virgin Islands",
         "marker": {
          "color": "#FECB52",
          "size": {
           "bdata": "AAAAAACAYEA=",
           "dtype": "f8"
          },
          "sizemode": "area",
          "sizeref": 7493.3975,
          "symbol": "circle"
         },
         "mode": "markers",
         "name": "United States Virgin Islands",
         "orientation": "v",
         "showlegend": true,
         "type": "scatter",
         "x": {
          "bdata": "AAAAAAAA+H8=",
          "dtype": "f8"
         },
         "xaxis": "x",
         "y": {
          "bdata": "AAAAAEDL2EA=",
          "dtype": "f8"
         },
         "yaxis": "y"
        },
        {
         "customdata": {
          "bdata": "AAAAAAAAAAAAAAAAAAD4fw==",
          "dtype": "f8",
          "shape": "1, 2"
         },
         "hovertemplate": "<b>%{hovertext}</b><br><br>Country=Turkmenistan<br>People Fully Vaccinated=%{x}<br>Total Cases=%{y}<br>Total Deaths=%{customdata[0]}<br>People Vaccinated=%{customdata[1]}<extra></extra>",
         "hovertext": [
          "Turkmenistan"
         ],
         "legendgroup": "Turkmenistan",
         "marker": {
          "color": "#636efa",
          "size": {
           "bdata": "AAAAAAAAAAA=",
           "dtype": "f8"
          },
          "sizemode": "area",
          "sizeref": 7493.3975,
          "symbol": "circle"
         },
         "mode": "markers",
         "name": "Turkmenistan",
         "orientation": "v",
         "showlegend": true,
         "type": "scatter",
         "x": {
          "bdata": "AAAAAAAA+H8=",
          "dtype": "f8"
         },
         "xaxis": "x",
         "y": {
          "bdata": "AAAAAAAAAAA=",
          "dtype": "f8"
         },
         "yaxis": "y"
        },
        {
         "customdata": {
          "bdata": "AAAAAACIgkAAAAAAAAD4fw==",
          "dtype": "f8",
          "shape": "1, 2"
         },
         "hovertemplate": "<b>%{hovertext}</b><br><br>Country=Barbados<br>People Fully Vaccinated=%{x}<br>Total Cases=%{y}<br>Total Deaths=%{customdata[0]}<br>People Vaccinated=%{customdata[1]}<extra></extra>",
         "hovertext": [
          "Barbados"
         ],
         "legendgroup": "Barbados",
         "marker": {
          "color": "#EF553B",
          "size": {
           "bdata": "AAAAAACIgkA=",
           "dtype": "f8"
          },
          "sizemode": "area",
          "sizeref": 7493.3975,
          "symbol": "circle"
         },
         "mode": "markers",
         "name": "Barbados",
         "orientation": "v",
         "showlegend": true,
         "type": "scatter",
         "x": {
          "bdata": "AAAAAAAA+H8=",
          "dtype": "f8"
         },
         "xaxis": "x",
         "y": {
          "bdata": "AAAAAGCC+kA=",
          "dtype": "f8"
         },
         "yaxis": "y"
        },
        {
         "customdata": {
          "bdata": "AAAAAAAAREAAAAAAAAD4fw==",
          "dtype": "f8",
          "shape": "1, 2"
         },
         "hovertemplate": "<b>%{hovertext}</b><br><br>Country=Turks and Caicos Islands<br>People Fully Vaccinated=%{x}<br>Total Cases=%{y}<br>Total Deaths=%{customdata[0]}<br>People Vaccinated=%{customdata[1]}<extra></extra>",
         "hovertext": [
          "Turks and Caicos Islands"
         ],
         "legendgroup": "Turks and Caicos Islands",
         "marker": {
          "color": "#00cc96",
          "size": {
           "bdata": "AAAAAAAAREA=",
           "dtype": "f8"
          },
          "sizemode": "area",
          "sizeref": 7493.3975,
          "symbol": "circle"
         },
         "mode": "markers",
         "name": "Turks and Caicos Islands",
         "orientation": "v",
         "showlegend": true,
         "type": "scatter",
         "x": {
          "bdata": "AAAAAAAA+H8=",
          "dtype": "f8"
         },
         "xaxis": "x",
         "y": {
          "bdata": "AAAAAACVukA=",
          "dtype": "f8"
         },
         "yaxis": "y"
        },
        {
         "customdata": {
          "bdata": "AAAAAMDO3EAAAAAAAAD4fw==",
          "dtype": "f8",
          "shape": "1, 2"
         },
         "hovertemplate": "<b>%{hovertext}</b><br><br>Country=Bangladesh<br>People Fully Vaccinated=%{x}<br>Total Cases=%{y}<br>Total Deaths=%{customdata[0]}<br>People Vaccinated=%{customdata[1]}<extra></extra>",
         "hovertext": [
          "Bangladesh"
         ],
         "legendgroup": "Bangladesh",
         "marker": {
          "color": "#ab63fa",
          "size": {
           "bdata": "AAAAAMDO3EA=",
           "dtype": "f8"
          },
          "sizemode": "area",
          "sizeref": 7493.3975,
          "symbol": "circle"
         },
         "mode": "markers",
         "name": "Bangladesh",
         "orientation": "v",
         "showlegend": true,
         "type": "scatter",
         "x": {
          "bdata": "AAAAAAAA+H8=",
          "dtype": "f8"
         },
         "xaxis": "x",
         "y": {
          "bdata": "AAAAABRNP0E=",
          "dtype": "f8"
         },
         "yaxis": "y"
        },
        {
         "customdata": {
          "bdata": "AAAAAAAA8D8AAAAAAAD4fw==",
          "dtype": "f8",
          "shape": "1, 2"
         },
         "hovertemplate": "<b>%{hovertext}</b><br><br>Country=Tuvalu<br>People Fully Vaccinated=%{x}<br>Total Cases=%{y}<br>Total Deaths=%{customdata[0]}<br>People Vaccinated=%{customdata[1]}<extra></extra>",
         "hovertext": [
          "Tuvalu"
         ],
         "legendgroup": "Tuvalu",
         "marker": {
          "color": "#FFA15A",
          "size": {
           "bdata": "AAAAAAAA8D8=",
           "dtype": "f8"
          },
          "sizemode": "area",
          "sizeref": 7493.3975,
          "symbol": "circle"
         },
         "mode": "markers",
         "name": "Tuvalu",
         "orientation": "v",
         "showlegend": true,
         "type": "scatter",
         "x": {
          "bdata": "AAAAAAAA+H8=",
          "dtype": "f8"
         },
         "xaxis": "x",
         "y": {
          "bdata": "AAAAAAD+pkA=",
          "dtype": "f8"
         },
         "yaxis": "y"
        },
        {
         "customdata": {
          "bdata": "AAAAAAAAmEAAAAAAAAD4fw==",
          "dtype": "f8",
          "shape": "1, 2"
         },
         "hovertemplate": "<b>%{hovertext}</b><br><br>Country=Bahrain<br>People Fully Vaccinated=%{x}<br>Total Cases=%{y}<br>Total Deaths=%{customdata[0]}<br>People Vaccinated=%{customdata[1]}<extra></extra>",
         "hovertext": [
          "Bahrain"
         ],
         "legendgroup": "Bahrain",
         "marker": {
          "color": "#19d3f3",
          "size": {
           "bdata": "AAAAAAAAmEA=",
           "dtype": "f8"
          },
          "sizemode": "area",
          "sizeref": 7493.3975,
          "symbol": "circle"
         },
         "mode": "markers",
         "name": "Bahrain",
         "orientation": "v",
         "showlegend": true,
         "type": "scatter",
         "x": {
          "bdata": "AAAAAAAA+H8=",
          "dtype": "f8"
         },
         "xaxis": "x",
         "y": {
          "bdata": "AAAAAExCJUE=",
          "dtype": "f8"
         },
         "yaxis": "y"
        },
        {
         "customdata": {
          "bdata": "AAAAAABgrEAAAAAAAAD4fw==",
          "dtype": "f8",
          "shape": "1, 2"
         },
         "hovertemplate": "<b>%{hovertext}</b><br><br>Country=Uganda<br>People Fully Vaccinated=%{x}<br>Total Cases=%{y}<br>Total Deaths=%{customdata[0]}<br>People Vaccinated=%{customdata[1]}<extra></extra>",
         "hovertext": [
          "Uganda"
         ],
         "legendgroup": "Uganda",
         "marker": {
          "color": "#FF6692",
          "size": {
           "bdata": "AAAAAABgrEA=",
           "dtype": "f8"
          },
          "sizemode": "area",
          "sizeref": 7493.3975,
          "symbol": "circle"
         },
         "mode": "markers",
         "name": "Uganda",
         "orientation": "v",
         "showlegend": true,
         "type": "scatter",
         "x": {
          "bdata": "AAAAAAAA+H8=",
          "dtype": "f8"
         },
         "xaxis": "x",
         "y": {
          "bdata": "AAAAANADBUE=",
          "dtype": "f8"
         },
         "yaxis": "y"
        },
        {
         "customdata": {
          "bdata": "AAAAAIAkwUAAAAAAAAD4fw==",
          "dtype": "f8",
          "shape": "1, 2"
         },
         "hovertemplate": "<b>%{hovertext}</b><br><br>Country=Armenia<br>People Fully Vaccinated=%{x}<br>Total Cases=%{y}<br>Total Deaths=%{customdata[0]}<br>People Vaccinated=%{customdata[1]}<extra></extra>",
         "hovertext": [
          "Armenia"
         ],
         "legendgroup": "Armenia",
         "marker": {
          "color": "#B6E880",
          "size": {
           "bdata": "AAAAAIAkwUA=",
           "dtype": "f8"
          },
          "sizemode": "area",
          "sizeref": 7493.3975,
          "symbol": "circle"
         },
         "mode": "markers",
         "name": "Armenia",
         "orientation": "v",
         "showlegend": true,
         "type": "scatter",
         "x": {
          "bdata": "AAAAAAAA+H8=",
          "dtype": "f8"
         },
         "xaxis": "x",
         "y": {
          "bdata": "AAAAAMSaG0E=",
          "dtype": "f8"
         },
         "yaxis": "y"
        },
        {
         "customdata": {
          "bdata": "AAAAAACIikAAAAAAAAD4fw==",
          "dtype": "f8",
          "shape": "1, 2"
         },
         "hovertemplate": "<b>%{hovertext}</b><br><br>Country=Bahamas<br>People Fully Vaccinated=%{x}<br>Total Cases=%{y}<br>Total Deaths=%{customdata[0]}<br>People Vaccinated=%{customdata[1]}<extra></extra>",
         "hovertext": [
          "Bahamas"
         ],
         "legendgroup": "Bahamas",
         "marker": {
          "color": "#FF97FF",
          "size": {
           "bdata": "AAAAAACIikA=",
           "dtype": "f8"
          },
          "sizemode": "area",
          "sizeref": 7493.3975,
          "symbol": "circle"
         },
         "mode": "markers",
         "name": "Bahamas",
         "orientation": "v",
         "showlegend": true,
         "type": "scatter",
         "x": {
          "bdata": "AAAAAAAA+H8=",
          "dtype": "f8"
         },
         "xaxis": "x",
         "y": {
          "bdata": "AAAAAOAa40A=",
          "dtype": "f8"
         },
         "yaxis": "y"
        },
        {
         "customdata": {
          "bdata": "AAAAAIA4xEAAAAAAAAD4fw==",
          "dtype": "f8",
          "shape": "1, 2"
         },
         "hovertemplate": "<b>%{hovertext}</b><br><br>Country=Azerbaijan<br>People Fully Vaccinated=%{x}<br>Total Cases=%{y}<br>Total Deaths=%{customdata[0]}<br>People Vaccinated=%{customdata[1]}<extra></extra>",
         "hovertext": [
          "Azerbaijan"
         ],
         "legendgroup": "Azerbaijan",
         "marker": {
          "color": "#FECB52",
          "size": {
           "bdata": "AAAAAIA4xEA=",
           "dtype": "f8"
          },
          "sizemode": "area",
          "sizeref": 7493.3975,
          "symbol": "circle"
         },
         "mode": "markers",
         "name": "Azerbaijan",
         "orientation": "v",
         "showlegend": true,
         "type": "scatter",
         "x": {
          "bdata": "AAAAAAAA+H8=",
          "dtype": "f8"
         },
         "xaxis": "x",
         "y": {
          "bdata": "AAAAAFqBKUE=",
          "dtype": "f8"
         },
         "yaxis": "y"
        },
        {
         "customdata": {
          "bdata": "AAAAAABaokAAAAAAAAD4fw==",
          "dtype": "f8",
          "shape": "1, 2"
         },
         "hovertemplate": "<b>%{hovertext}</b><br><br>Country=United Arab Emirates<br>People Fully Vaccinated=%{x}<br>Total Cases=%{y}<br>Total Deaths=%{customdata[0]}<br>People Vaccinated=%{customdata[1]}<extra></extra>",
         "hovertext": [
          "United Arab Emirates"
         ],
         "legendgroup": "United Arab Emirates",
         "marker": {
          "color": "#636efa",
          "size": {
           "bdata": "AAAAAABaokA=",
           "dtype": "f8"
          },
          "sizemode": "area",
          "sizeref": 7493.3975,
          "symbol": "circle"
         },
         "mode": "markers",
         "name": "United Arab Emirates",
         "orientation": "v",
         "showlegend": true,
         "type": "scatter",
         "x": {
          "bdata": "AAAAAAAA+H8=",
          "dtype": "f8"
         },
         "xaxis": "x",
         "y": {
          "bdata": "AAAAABZIMEE=",
          "dtype": "f8"
         },
         "yaxis": "y"
        },
        {
         "customdata": {
          "bdata": "AAAAAIAB1kAAAAAAAAD4fw==",
          "dtype": "f8",
          "shape": "1, 2"
         },
         "hovertemplate": "<b>%{hovertext}</b><br><br>Country=Austria<br>People Fully Vaccinated=%{x}<br>Total Cases=%{y}<br>Total Deaths=%{customdata[0]}<br>People Vaccinated=%{customdata[1]}<extra></extra>",
         "hovertext": [
          "Austria"
         ],
         "legendgroup": "Austria",
         "marker": {
          "color": "#EF553B",
          "size": {
           "bdata": "AAAAAIAB1kA=",
           "dtype": "f8"
          },
          "sizemode": "area",
          "sizeref": 7493.3975,
          "symbol": "circle"
         },
         "mode": "markers",
         "name": "Austria",
         "orientation": "v",
         "showlegend": true,
         "type": "scatter",
         "x": {
          "bdata": "AAAAAAAA+H8=",
          "dtype": "f8"
         },
         "xaxis": "x",
         "y": {
          "bdata": "AAAAAOMzV0E=",
          "dtype": "f8"
         },
         "yaxis": "y"
        },
        {
         "customdata": {
          "bdata": "AAAAAIBVDEEAAAAAAAD4fw==",
          "dtype": "f8",
          "shape": "1, 2"
         },
         "hovertemplate": "<b>%{hovertext}</b><br><br>Country=United Kingdom<br>People Fully Vaccinated=%{x}<br>Total Cases=%{y}<br>Total Deaths=%{customdata[0]}<br>People Vaccinated=%{customdata[1]}<extra></extra>",
         "hovertext": [
          "United Kingdom"
         ],
         "legendgroup": "United Kingdom",
         "marker": {
          "color": "#00cc96",
          "size": {
           "bdata": "AAAAAIBVDEE=",
           "dtype": "f8"
          },
          "sizemode": "area",
          "sizeref": 7493.3975,
          "symbol": "circle"
         },
         "mode": "markers",
         "name": "United Kingdom",
         "orientation": "v",
         "showlegend": true,
         "type": "scatter",
         "x": {
          "bdata": "AAAAAAAA+H8=",
          "dtype": "f8"
         },
         "xaxis": "x",
         "y": {
          "bdata": "AAAAUFLRd0E=",
          "dtype": "f8"
         },
         "yaxis": "y"
        },
        {
         "customdata": {
          "bdata": "AAAAAACl2EAAAAAAAAD4fw==",
          "dtype": "f8",
          "shape": "1, 2"
         },
         "hovertemplate": "<b>%{hovertext}</b><br><br>Country=Australia<br>People Fully Vaccinated=%{x}<br>Total Cases=%{y}<br>Total Deaths=%{customdata[0]}<br>People Vaccinated=%{customdata[1]}<extra></extra>",
         "hovertext": [
          "Australia"
         ],
         "legendgroup": "Australia",
         "marker": {
          "color": "#ab63fa",
          "size": {
           "bdata": "AAAAAACl2EA=",
           "dtype": "f8"
          },
          "sizemode": "area",
          "sizeref": 7493.3975,
          "symbol": "circle"
         },
         "mode": "markers",
         "name": "Australia",
         "orientation": "v",
         "showlegend": true,
         "type": "scatter",
         "x": {
          "bdata": "AAAAAAAA+H8=",
          "dtype": "f8"
         },
         "xaxis": "x",
         "y": {
          "bdata": "AAAAIJWfZkE=",
          "dtype": "f8"
         },
         "yaxis": "y"
        },
        {
         "customdata": {
          "bdata": "AAAAAM00MkEAAAAAAAD4fw==",
          "dtype": "f8",
          "shape": "1, 2"
         },
         "hovertemplate": "<b>%{hovertext}</b><br><br>Country=United States<br>People Fully Vaccinated=%{x}<br>Total Cases=%{y}<br>Total Deaths=%{customdata[0]}<br>People Vaccinated=%{customdata[1]}<extra></extra>",
         "hovertext": [
          "United States"
         ],
         "legendgroup": "United States",
         "marker": {
          "color": "#FFA15A",
          "size": {
           "bdata": "AAAAAM00MkE=",
           "dtype": "f8"
          },
          "sizemode": "area",
          "sizeref": 7493.3975,
          "symbol": "circle"
         },
         "mode": "markers",
         "name": "United States",
         "orientation": "v",
         "showlegend": true,
         "type": "scatter",
         "x": {
          "bdata": "AAAAAAAA+H8=",
          "dtype": "f8"
         },
         "xaxis": "x",
         "y": {
          "bdata": "AAAAdEipmEE=",
          "dtype": "f8"
         },
         "yaxis": "y"
        },
        {
         "customdata": {
          "bdata": "AAAAAABAckAAAAAAAAD4fw==",
          "dtype": "f8",
          "shape": "1, 2"
         },
         "hovertemplate": "<b>%{hovertext}</b><br><br>Country=Aruba<br>People Fully Vaccinated=%{x}<br>Total Cases=%{y}<br>Total Deaths=%{customdata[0]}<br>People Vaccinated=%{customdata[1]}<extra></extra>",
         "hovertext": [
          "Aruba"
         ],
         "legendgroup": "Aruba",
         "marker": {
          "color": "#19d3f3",
          "size": {
           "bdata": "AAAAAABAckA=",
           "dtype": "f8"
          },
          "sizemode": "area",
          "sizeref": 7493.3975,
          "symbol": "circle"
         },
         "mode": "markers",
         "name": "Aruba",
         "orientation": "v",
         "showlegend": true,
         "type": "scatter",
         "x": {
          "bdata": "AAAAAAAA+H8=",
          "dtype": "f8"
         },
         "xaxis": "x",
         "y": {
          "bdata": "AAAAAACY5UA=",
          "dtype": "f8"
         },
         "yaxis": "y"
        },
        {
         "customdata": {
          "bdata": "AAAAAADW+kAAAAAAAAD4fw==",
          "dtype": "f8",
          "shape": "1, 2"
         },
         "hovertemplate": "<b>%{hovertext}</b><br><br>Country=Ukraine<br>People Fully Vaccinated=%{x}<br>Total Cases=%{y}<br>Total Deaths=%{customdata[0]}<br>People Vaccinated=%{customdata[1]}<extra></extra>",
         "hovertext": [
          "Ukraine"
         ],
         "legendgroup": "Ukraine",
         "marker": {
          "color": "#FF6692",
          "size": {
           "bdata": "AAAAAADW+kA=",
           "dtype": "f8"
          },
          "sizemode": "area",
          "sizeref": 7493.3975,
          "symbol": "circle"
         },
         "mode": "markers",
         "name": "Ukraine",
         "orientation": "v",
         "showlegend": true,
         "type": "scatter",
         "x": {
          "bdata": "AAAAAAAA+H8=",
          "dtype": "f8"
         },
         "xaxis": "x",
         "y": {
          "bdata": "AAAAQBobVUE=",
          "dtype": "f8"
         },
         "yaxis": "y"
        },
        {
         "customdata": {
          "bdata": "AAAAAADgaEAAAAAAAAD4fw==",
          "dtype": "f8",
          "shape": "1, 2"
         },
         "hovertemplate": "<b>%{hovertext}</b><br><br>Country=Solomon Islands<br>People Fully Vaccinated=%{x}<br>Total Cases=%{y}<br>Total Deaths=%{customdata[0]}<br>People Vaccinated=%{customdata[1]}<extra></extra>",
         "hovertext": [
          "Solomon Islands"
         ],
         "legendgroup": "Solomon Islands",
         "marker": {
          "color": "#B6E880",
          "size": {
           "bdata": "AAAAAADgaEA=",
           "dtype": "f8"
          },
          "sizemode": "area",
          "sizeref": 7493.3975,
          "symbol": "circle"
         },
         "mode": "markers",
         "name": "Solomon Islands",
         "orientation": "v",
         "showlegend": true,
         "type": "scatter",
         "x": {
          "bdata": "AAAAAAAA+H8=",
          "dtype": "f8"
         },
         "xaxis": "x",
         "y": {
          "bdata": "AAAAAIBY2UA=",
          "dtype": "f8"
         },
         "yaxis": "y"
        },
        {
         "customdata": {
          "bdata": "AAAAAABAXEAAAAAAAAD4fw==",
          "dtype": "f8",
          "shape": "1, 2"
         },
         "hovertemplate": "<b>%{hovertext}</b><br><br>Country=Central African Republic<br>People Fully Vaccinated=%{x}<br>Total Cases=%{y}<br>Total Deaths=%{customdata[0]}<br>People Vaccinated=%{customdata[1]}<extra></extra>",
         "hovertext": [
          "Central African Republic"
         ],
         "legendgroup": "Central African Republic",
         "marker": {
          "color": "#FF97FF",
          "size": {
           "bdata": "AAAAAABAXEA=",
           "dtype": "f8"
          },
          "sizemode": "area",
          "sizeref": 7493.3975,
          "symbol": "circle"
         },
         "mode": "markers",
         "name": "Central African Republic",
         "orientation": "v",
         "showlegend": true,
         "type": "scatter",
         "x": {
          "bdata": "AAAAAAAA+H8=",
          "dtype": "f8"
         },
         "xaxis": "x",
         "y": {
          "bdata": "AAAAAIAozkA=",
          "dtype": "f8"
         },
         "yaxis": "y"
        },
        {
         "customdata": {
          "bdata": "AAAAAICxw0AAAAAAAAD4fw==",
          "dtype": "f8",
          "shape": "1, 2"
         },
         "hovertemplate": "<b>%{hovertext}</b><br><br>Country=Slovenia<br>People Fully Vaccinated=%{x}<br>Total Cases=%{y}<br>Total Deaths=%{customdata[0]}<br>People Vaccinated=%{customdata[1]}<extra></extra>",
         "hovertext": [
          "Slovenia"
         ],
         "legendgroup": "Slovenia",
         "marker": {
          "color": "#FECB52",
          "size": {
           "bdata": "AAAAAICxw0A=",
           "dtype": "f8"
          },
          "sizemode": "area",
          "sizeref": 7493.3975,
          "symbol": "circle"
         },
         "mode": "markers",
         "name": "Slovenia",
         "orientation": "v",
         "showlegend": true,
         "type": "scatter",
         "x": {
          "bdata": "AAAAAAAA+H8=",
          "dtype": "f8"
         },
         "xaxis": "x",
         "y": {
          "bdata": "AAAAACazNEE=",
          "dtype": "f8"
         },
         "yaxis": "y"
        },
        {
         "customdata": {
          "bdata": "AAAAAABT8EAAAAAAAAD4fw==",
          "dtype": "f8",
          "shape": "1, 2"
         },
         "hovertemplate": "<b>%{hovertext}</b><br><br>Country=Philippines<br>People Fully Vaccinated=%{x}<br>Total Cases=%{y}<br>Total Deaths=%{customdata[0]}<br>People Vaccinated=%{customdata[1]}<extra></extra>",
         "hovertext": [
          "Philippines"
         ],
         "legendgroup": "Philippines",
         "marker": {
          "color": "#636efa",
          "size": {
           "bdata": "AAAAAABT8EA=",
           "dtype": "f8"
          },
          "sizemode": "area",
          "sizeref": 7493.3975,
          "symbol": "circle"
         },
         "mode": "markers",
         "name": "Philippines",
         "orientation": "v",
         "showlegend": true,
         "type": "scatter",
         "x": {
          "bdata": "AAAAAAAA+H8=",
          "dtype": "f8"
         },
         "xaxis": "x",
         "y": {
          "bdata": "AAAAgK+WT0E=",
          "dtype": "f8"
         },
         "yaxis": "y"
        },
        {
         "customdata": {
          "bdata": "AAAAAACWvUAAAAAAAAD4fw==",
          "dtype": "f8",
          "shape": "1, 2"
         },
         "hovertemplate": "<b>%{hovertext}</b><br><br>Country=Ethiopia<br>People Fully Vaccinated=%{x}<br>Total Cases=%{y}<br>Total Deaths=%{customdata[0]}<br>People Vaccinated=%{customdata[1]}<extra></extra>",
         "hovertext": [
          "Ethiopia"
         ],
         "legendgroup": "Ethiopia",
         "marker": {
          "color": "#EF553B",
          "size": {
           "bdata": "AAAAAACWvUA=",
           "dtype": "f8"
          },
          "sizemode": "area",
          "sizeref": 7493.3975,
          "symbol": "circle"
         },
         "mode": "markers",
         "name": "Ethiopia",
         "orientation": "v",
         "showlegend": true,
         "type": "scatter",
         "x": {
          "bdata": "AAAAAAAA+H8=",
          "dtype": "f8"
         },
         "xaxis": "x",
         "y": {
          "bdata": "AAAAACSXHkE=",
          "dtype": "f8"
         },
         "yaxis": "y"
        },
        {
         "customdata": {
          "bdata": "AAAAAAAAAAAAAAAAAAD4fw==",
          "dtype": "f8",
          "shape": "1, 2"
         },
         "hovertemplate": "<b>%{hovertext}</b><br><br>Country=Pitcairn<br>People Fully Vaccinated=%{x}<br>Total Cases=%{y}<br>Total Deaths=%{customdata[0]}<br>People Vaccinated=%{customdata[1]}<extra></extra>",
         "hovertext": [
          "Pitcairn"
         ],
         "legendgroup": "Pitcairn",
         "marker": {
          "color": "#00cc96",
          "size": {
           "bdata": "AAAAAAAAAAA=",
           "dtype": "f8"
          },
          "sizemode": "area",
          "sizeref": 7493.3975,
          "symbol": "circle"
         },
         "mode": "markers",
         "name": "Pitcairn",
         "orientation": "v",
         "showlegend": true,
         "type": "scatter",
         "x": {
          "bdata": "AAAAAAAA+H8=",
          "dtype": "f8"
         },
         "xaxis": "x",
         "y": {
          "bdata": "AAAAAAAAEEA=",
          "dtype": "f8"
         },
         "yaxis": "y"
        },
        {
         "customdata": {
          "bdata": "AAAAAABMlkAAAAAAAAD4fw==",
          "dtype": "f8",
          "shape": "1, 2"
         },
         "hovertemplate": "<b>%{hovertext}</b><br><br>Country=Eswatini<br>People Fully Vaccinated=%{x}<br>Total Cases=%{y}<br>Total Deaths=%{customdata[0]}<br>People Vaccinated=%{customdata[1]}<extra></extra>",
         "hovertext": [
          "Eswatini"
         ],
         "legendgroup": "Eswatini",
         "marker": {
          "color": "#ab63fa",
          "size": {
           "bdata": "AAAAAABMlkA=",
           "dtype": "f8"
          },
          "sizemode": "area",
          "sizeref": 7493.3975,
          "symbol": "circle"
         },
         "mode": "markers",
         "name": "Eswatini",
         "orientation": "v",
         "showlegend": true,
         "type": "scatter",
         "x": {
          "bdata": "AAAAAAAA+H8=",
          "dtype": "f8"
         },
         "xaxis": "x",
         "y": {
          "bdata": "AAAAAMBl8kA=",
          "dtype": "f8"
         },
         "yaxis": "y"
        },
        {
         "customdata": {
          "bdata": "AAAAAGB5/UAAAAAAAAD4fw==",
          "dtype": "f8",
          "shape": "1, 2"
         },
         "hovertemplate": "<b>%{hovertext}</b><br><br>Country=Poland<br>People Fully Vaccinated=%{x}<br>Total Cases=%{y}<br>Total Deaths=%{customdata[0]}<br>People Vaccinated=%{customdata[1]}<extra></extra>",
         "hovertext": [
          "Poland"
         ],
         "legendgroup": "Poland",
         "marker": {
          "color": "#FFA15A",
          "size": {
           "bdata": "AAAAAGB5/UA=",
           "dtype": "f8"
          },
          "sizemode": "area",
          "sizeref": 7493.3975,
          "symbol": "circle"
         },
         "mode": "markers",
         "name": "Poland",
         "orientation": "v",
         "showlegend": true,
         "type": "scatter",
         "x": {
          "bdata": "AAAAAAAA+H8=",
          "dtype": "f8"
         },
         "xaxis": "x",
         "y": {
          "bdata": "AAAAwHNyWUE=",
          "dtype": "f8"
         },
         "yaxis": "y"
        },
        {
         "customdata": {
          "bdata": "AAAAAABsp0AAAAAAAAD4fw==",
          "dtype": "f8",
          "shape": "1, 2"
         },
         "hovertemplate": "<b>%{hovertext}</b><br><br>Country=Estonia<br>People Fully Vaccinated=%{x}<br>Total Cases=%{y}<br>Total Deaths=%{customdata[0]}<br>People Vaccinated=%{customdata[1]}<extra></extra>",
         "hovertext": [
          "Estonia"
         ],
         "legendgroup": "Estonia",
         "marker": {
          "color": "#19d3f3",
          "size": {
           "bdata": "AAAAAABsp0A=",
           "dtype": "f8"
          },
          "sizemode": "area",
          "sizeref": 7493.3975,
          "symbol": "circle"
         },
         "mode": "markers",
         "name": "Estonia",
         "orientation": "v",
         "showlegend": true,
         "type": "scatter",
         "x": {
          "bdata": "AAAAAAAA+H8=",
          "dtype": "f8"
         },
         "xaxis": "x",
         "y": {
          "bdata": "AAAAAE6hIkE=",
          "dtype": "f8"
         },
         "yaxis": "y"
        },
        {
         "customdata": {
          "bdata": "AAAAAEAi3EAAAAAAAAD4fw==",
          "dtype": "f8",
          "shape": "1, 2"
         },
         "hovertemplate": "<b>%{hovertext}</b><br><br>Country=Portugal<br>People Fully Vaccinated=%{x}<br>Total Cases=%{y}<br>Total Deaths=%{customdata[0]}<br>People Vaccinated=%{customdata[1]}<extra></extra>",
         "hovertext": [
          "Portugal"
         ],
         "legendgroup": "Portugal",
         "marker": {
          "color": "#FF6692",
          "size": {
           "bdata": "AAAAAEAi3EA=",
           "dtype": "f8"
          },
          "sizemode": "area",
          "sizeref": 7493.3975,
          "symbol": "circle"
         },
         "mode": "markers",
         "name": "Portugal",
         "orientation": "v",
         "showlegend": true,
         "type": "scatter",
         "x": {
          "bdata": "AAAAAAAA+H8=",
          "dtype": "f8"
         },
         "xaxis": "x",
         "y": {
          "bdata": "AAAAQFubVUE=",
          "dtype": "f8"
         },
         "yaxis": "y"
        },
        {
         "customdata": {
          "bdata": "AAAAAIxFM0EAAAAAAAD4fw==",
          "dtype": "f8",
          "shape": "1, 2"
         },
         "hovertemplate": "<b>%{hovertext}</b><br><br>Country=European Union (27)<br>People Fully Vaccinated=%{x}<br>Total Cases=%{y}<br>Total Deaths=%{customdata[0]}<br>People Vaccinated=%{customdata[1]}<extra></extra>",
         "hovertext": [
          "European Union (27)"
         ],
         "legendgroup": "European Union (27)",
         "marker": {
          "color": "#B6E880",
          "size": {
           "bdata": "AAAAAIxFM0E=",
           "dtype": "f8"
          },
          "sizemode": "area",
          "sizeref": 7493.3975,
          "symbol": "circle"
         },
         "mode": "markers",
         "name": "European Union (27)",
         "orientation": "v",
         "showlegend": true,
         "type": "scatter",
         "x": {
          "bdata": "AAAAAAAA+H8=",
          "dtype": "f8"
         },
         "xaxis": "x",
         "y": {
          "bdata": "AAAA9tompkE=",
          "dtype": "f8"
         },
         "yaxis": "y"
        },
        {
         "customdata": {
          "bdata": "AAAAAADAWUAAAAAAAAD4fw==",
          "dtype": "f8",
          "shape": "1, 2"
         },
         "hovertemplate": "<b>%{hovertext}</b><br><br>Country=Eritrea<br>People Fully Vaccinated=%{x}<br>Total Cases=%{y}<br>Total Deaths=%{customdata[0]}<br>People Vaccinated=%{customdata[1]}<extra></extra>",
         "hovertext": [
          "Eritrea"
         ],
         "legendgroup": "Eritrea",
         "marker": {
          "color": "#FF97FF",
          "size": {
           "bdata": "AAAAAADAWUA=",
           "dtype": "f8"
          },
          "sizemode": "area",
          "sizeref": 7493.3975,
          "symbol": "circle"
         },
         "mode": "markers",
         "name": "Eritrea",
         "orientation": "v",
         "showlegend": true,
         "type": "scatter",
         "x": {
          "bdata": "AAAAAAAA+H8=",
          "dtype": "f8"
         },
         "xaxis": "x",
         "y": {
          "bdata": "AAAAAIDmw0A=",
          "dtype": "f8"
         },
         "yaxis": "y"
        },
        {
         "customdata": {
          "bdata": "AAAAAADgZkAAAAAAAAD4fw==",
          "dtype": "f8",
          "shape": "1, 2"
         },
         "hovertemplate": "<b>%{hovertext}</b><br><br>Country=Equatorial Guinea<br>People Fully Vaccinated=%{x}<br>Total Cases=%{y}<br>Total Deaths=%{customdata[0]}<br>People Vaccinated=%{customdata[1]}<extra></extra>",
         "hovertext": [
          "Equatorial Guinea"
         ],
         "legendgroup": "Equatorial Guinea",
         "marker": {
          "color": "#FECB52",
          "size": {
           "bdata": "AAAAAADgZkA=",
           "dtype": "f8"
          },
          "sizemode": "area",
          "sizeref": 7493.3975,
          "symbol": "circle"
         },
         "mode": "markers",
         "name": "Equatorial Guinea",
         "orientation": "v",
         "showlegend": true,
         "type": "scatter",
         "x": {
          "bdata": "AAAAAAAA+H8=",
          "dtype": "f8"
         },
         "xaxis": "x",
         "y": {
          "bdata": "AAAAAIC60EA=",
          "dtype": "f8"
         },
         "yaxis": "y"
        },
        {
         "customdata": {
          "bdata": "AAAAAACQhUAAAAAAAAD4fw==",
          "dtype": "f8",
          "shape": "1, 2"
         },
         "hovertemplate": "<b>%{hovertext}</b><br><br>Country=Qatar<br>People Fully Vaccinated=%{x}<br>Total Cases=%{y}<br>Total Deaths=%{customdata[0]}<br>People Vaccinated=%{customdata[1]}<extra></extra>",
         "hovertext": [
          "Qatar"
         ],
         "legendgroup": "Qatar",
         "marker": {
          "color": "#636efa",
          "size": {
           "bdata": "AAAAAACQhUA=",
           "dtype": "f8"
          },
          "sizemode": "area",
          "sizeref": 7493.3975,
          "symbol": "circle"
         },
         "mode": "markers",
         "name": "Qatar",
         "orientation": "v",
         "showlegend": true,
         "type": "scatter",
         "x": {
          "bdata": "AAAAAAAA+H8=",
          "dtype": "f8"
         },
         "xaxis": "x",
         "y": {
          "bdata": "AAAAAHBnH0E=",
          "dtype": "f8"
         },
         "yaxis": "y"
        },
        {
         "customdata": {
          "bdata": "AAAAAACGsEAAAAAAAAD4fw==",
          "dtype": "f8",
          "shape": "1, 2"
         },
         "hovertemplate": "<b>%{hovertext}</b><br><br>Country=El Salvador<br>People Fully Vaccinated=%{x}<br>Total Cases=%{y}<br>Total Deaths=%{customdata[0]}<br>People Vaccinated=%{customdata[1]}<extra></extra>",
         "hovertext": [
          "El Salvador"
         ],
         "legendgroup": "El Salvador",
         "marker": {
          "color": "#EF553B",
          "size": {
           "bdata": "AAAAAACGsEA=",
           "dtype": "f8"
          },
          "sizemode": "area",
          "sizeref": 7493.3975,
          "symbol": "circle"
         },
         "mode": "markers",
         "name": "El Salvador",
         "orientation": "v",
         "showlegend": true,
         "type": "scatter",
         "x": {
          "bdata": "AAAAAAAA+H8=",
          "dtype": "f8"
         },
         "xaxis": "x",
         "y": {
          "bdata": "AAAAAACmCEE=",
          "dtype": "f8"
         },
         "yaxis": "y"
        },
        {
         "customdata": {
          "bdata": "AAAAAADIjEAAAAAAAAD4fw==",
          "dtype": "f8",
          "shape": "1, 2"
         },
         "hovertemplate": "<b>%{hovertext}</b><br><br>Country=Reunion<br>People Fully Vaccinated=%{x}<br>Total Cases=%{y}<br>Total Deaths=%{customdata[0]}<br>People Vaccinated=%{customdata[1]}<extra></extra>",
         "hovertext": [
          "Reunion"
         ],
         "legendgroup": "Reunion",
         "marker": {
          "color": "#00cc96",
          "size": {
           "bdata": "AAAAAADIjEA=",
           "dtype": "f8"
          },
          "sizemode": "area",
          "sizeref": 7493.3975,
          "symbol": "circle"
         },
         "mode": "markers",
         "name": "Reunion",
         "orientation": "v",
         "showlegend": true,
         "type": "scatter",
         "x": {
          "bdata": "AAAAAAAA+H8=",
          "dtype": "f8"
         },
         "xaxis": "x",
         "y": {
          "bdata": "AAAAAAwwHkE=",
          "dtype": "f8"
         },
         "yaxis": "y"
        },
        {
         "customdata": {
          "bdata": "AAAAAIA/2EAAAAAAAAD4fw==",
          "dtype": "f8",
          "shape": "1, 2"
         },
         "hovertemplate": "<b>%{hovertext}</b><br><br>Country=Egypt<br>People Fully Vaccinated=%{x}<br>Total Cases=%{y}<br>Total Deaths=%{customdata[0]}<br>People Vaccinated=%{customdata[1]}<extra></extra>",
         "hovertext": [
          "Egypt"
         ],
         "legendgroup": "Egypt",
         "marker": {
          "color": "#ab63fa",
          "size": {
           "bdata": "AAAAAIA/2EA=",
           "dtype": "f8"
          },
          "sizemode": "area",
          "sizeref": 7493.3975,
          "symbol": "circle"
         },
         "mode": "markers",
         "name": "Egypt",
         "orientation": "v",
         "showlegend": true,
         "type": "scatter",
         "x": {
          "bdata": "AAAAAAAA+H8=",
          "dtype": "f8"
         },
         "xaxis": "x",
         "y": {
          "bdata": "AAAAANx+H0E=",
          "dtype": "f8"
         },
         "yaxis": "y"
        },
        {
         "customdata": {
          "bdata": "AAAAAJDN8EAAAAAAAAD4fw==",
          "dtype": "f8",
          "shape": "1, 2"
         },
         "hovertemplate": "<b>%{hovertext}</b><br><br>Country=Romania<br>People Fully Vaccinated=%{x}<br>Total Cases=%{y}<br>Total Deaths=%{customdata[0]}<br>People Vaccinated=%{customdata[1]}<extra></extra>",
         "hovertext": [
          "Romania"
         ],
         "legendgroup": "Romania",
         "marker": {
          "color": "#FFA15A",
          "size": {
           "bdata": "AAAAAJDN8EA=",
           "dtype": "f8"
          },
          "sizemode": "area",
          "sizeref": 7493.3975,
          "symbol": "circle"
         },
         "mode": "markers",
         "name": "Romania",
         "orientation": "v",
         "showlegend": true,
         "type": "scatter",
         "x": {
          "bdata": "AAAAAAAA+H8=",
          "dtype": "f8"
         },
         "xaxis": "x",
         "y": {
          "bdata": "AAAAgDkFS0E=",
          "dtype": "f8"
         },
         "yaxis": "y"
        },
        {
         "customdata": {
          "bdata": "AAAAAECa4UAAAAAAAAD4fw==",
          "dtype": "f8",
          "shape": "1, 2"
         },
         "hovertemplate": "<b>%{hovertext}</b><br><br>Country=Ecuador<br>People Fully Vaccinated=%{x}<br>Total Cases=%{y}<br>Total Deaths=%{customdata[0]}<br>People Vaccinated=%{customdata[1]}<extra></extra>",
         "hovertext": [
          "Ecuador"
         ],
         "legendgroup": "Ecuador",
         "marker": {
          "color": "#19d3f3",
          "size": {
           "bdata": "AAAAAECa4UA=",
           "dtype": "f8"
          },
          "sizemode": "area",
          "sizeref": 7493.3975,
          "symbol": "circle"
         },
         "mode": "markers",
         "name": "Ecuador",
         "orientation": "v",
         "showlegend": true,
         "type": "scatter",
         "x": {
          "bdata": "AAAAAAAA+H8=",
          "dtype": "f8"
         },
         "xaxis": "x",
         "y": {
          "bdata": "AAAAAMVwMEE=",
          "dtype": "f8"
         },
         "yaxis": "y"
        },
        {
         "customdata": {
          "bdata": "AAAAAAAyt0AAAAAAAAD4fw==",
          "dtype": "f8",
          "shape": "1, 2"
         },
         "hovertemplate": "<b>%{hovertext}</b><br><br>Country=Puerto Rico<br>People Fully Vaccinated=%{x}<br>Total Cases=%{y}<br>Total Deaths=%{customdata[0]}<br>People Vaccinated=%{customdata[1]}<extra></extra>",
         "hovertext": [
          "Puerto Rico"
         ],
         "legendgroup": "Puerto Rico",
         "marker": {
          "color": "#FF6692",
          "size": {
           "bdata": "AAAAAAAyt0A=",
           "dtype": "f8"
          },
          "sizemode": "area",
          "sizeref": 7493.3975,
          "symbol": "circle"
         },
         "mode": "markers",
         "name": "Puerto Rico",
         "orientation": "v",
         "showlegend": true,
         "type": "scatter",
         "x": {
          "bdata": "AAAAAAAA+H8=",
          "dtype": "f8"
         },
         "xaxis": "x",
         "y": {
          "bdata": "AAAAAGkdM0E=",
          "dtype": "f8"
         },
         "yaxis": "y"
        },
        {
         "customdata": {
          "bdata": "AAAAANCbGEEAAAAAAAD4fw==",
          "dtype": "f8",
          "shape": "1, 2"
         },
         "hovertemplate": "<b>%{hovertext}</b><br><br>Country=Russia<br>People Fully Vaccinated=%{x}<br>Total Cases=%{y}<br>Total Deaths=%{customdata[0]}<br>People Vaccinated=%{customdata[1]}<extra></extra>",
         "hovertext": [
          "Russia"
         ],
         "legendgroup": "Russia",
         "marker": {
          "color": "#B6E880",
          "size": {
           "bdata": "AAAAANCbGEE=",
           "dtype": "f8"
          },
          "sizemode": "area",
          "sizeref": 7493.3975,
          "symbol": "circle"
         },
         "mode": "markers",
         "name": "Russia",
         "orientation": "v",
         "showlegend": true,
         "type": "scatter",
         "x": {
          "bdata": "AAAAAAAA+H8=",
          "dtype": "f8"
         },
         "xaxis": "x",
         "y": {
          "bdata": "AAAAgPskd0E=",
          "dtype": "f8"
         },
         "yaxis": "y"
        },
        {
         "customdata": {
          "bdata": "AAAAAHj5CkEAAAAAAAD4fw==",
          "dtype": "f8",
          "shape": "1, 2"
         },
         "hovertemplate": "<b>%{hovertext}</b><br><br>Country=Peru<br>People Fully Vaccinated=%{x}<br>Total Cases=%{y}<br>Total Deaths=%{customdata[0]}<br>People Vaccinated=%{customdata[1]}<extra></extra>",
         "hovertext": [
          "Peru"
         ],
         "legendgroup": "Peru",
         "marker": {
          "color": "#FF97FF",
          "size": {
           "bdata": "AAAAAHj5CkE=",
           "dtype": "f8"
          },
          "sizemode": "area",
          "sizeref": 7493.3975,
          "symbol": "circle"
         },
         "mode": "markers",
         "name": "Peru",
         "orientation": "v",
         "showlegend": true,
         "type": "scatter",
         "x": {
          "bdata": "AAAAAAAA+H8=",
          "dtype": "f8"
         },
         "xaxis": "x",
         "y": {
          "bdata": "AAAAQOBEUUE=",
          "dtype": "f8"
         },
         "yaxis": "y"
        },
        {
         "customdata": {
          "bdata": "AAAAAABq00AAAAAAAAD4fw==",
          "dtype": "f8",
          "shape": "1, 2"
         },
         "hovertemplate": "<b>%{hovertext}</b><br><br>Country=Paraguay<br>People Fully Vaccinated=%{x}<br>Total Cases=%{y}<br>Total Deaths=%{customdata[0]}<br>People Vaccinated=%{customdata[1]}<extra></extra>",
         "hovertext": [
          "Paraguay"
         ],
         "legendgroup": "Paraguay",
         "marker": {
          "color": "#FECB52",
          "size": {
           "bdata": "AAAAAABq00A=",
           "dtype": "f8"
          },
          "sizemode": "area",
          "sizeref": 7493.3975,
          "symbol": "circle"
         },
         "mode": "markers",
         "name": "Paraguay",
         "orientation": "v",
         "showlegend": true,
         "type": "scatter",
         "x": {
          "bdata": "AAAAAAAA+H8=",
          "dtype": "f8"
         },
         "xaxis": "x",
         "y": {
          "bdata": "AAAAAB50JkE=",
          "dtype": "f8"
         },
         "yaxis": "y"
        },
        {
         "customdata": {
          "bdata": "AAAAAACAREAAAAAAAAD4fw==",
          "dtype": "f8",
          "shape": "1, 2"
         },
         "hovertemplate": "<b>%{hovertext}</b><br><br>Country=Northern Mariana Islands<br>People Fully Vaccinated=%{x}<br>Total Cases=%{y}<br>Total Deaths=%{customdata[0]}<br>People Vaccinated=%{customdata[1]}<extra></extra>",
         "hovertext": [
          "Northern Mariana Islands"
         ],
         "legendgroup": "Northern Mariana Islands",
         "marker": {
          "color": "#636efa",
          "size": {
           "bdata": "AAAAAACAREA=",
           "dtype": "f8"
          },
          "sizemode": "area",
          "sizeref": 7493.3975,
          "symbol": "circle"
         },
         "mode": "markers",
         "name": "Northern Mariana Islands",
         "orientation": "v",
         "showlegend": true,
         "type": "scatter",
         "x": {
          "bdata": "AAAAAAAA+H8=",
          "dtype": "f8"
         },
         "xaxis": "x",
         "y": {
          "bdata": "AAAAAAAgzUA=",
          "dtype": "f8"
         },
         "yaxis": "y"
        },
        {
         "customdata": {
          "bdata": "AAAAAABAd0AAAAAAAAD4fw==",
          "dtype": "f8",
          "shape": "1, 2"
         },
         "hovertemplate": "<b>%{hovertext}</b><br><br>Country=Gambia<br>People Fully Vaccinated=%{x}<br>Total Cases=%{y}<br>Total Deaths=%{customdata[0]}<br>People Vaccinated=%{customdata[1]}<extra></extra>",
         "hovertext": [
          "Gambia"
         ],
         "legendgroup": "Gambia",
         "marker": {
          "color": "#EF553B",
          "size": {
           "bdata": "AAAAAABAd0A=",
           "dtype": "f8"
          },
          "sizemode": "area",
          "sizeref": 7493.3975,
          "symbol": "circle"
         },
         "mode": "markers",
         "name": "Gambia",
         "orientation": "v",
         "showlegend": true,
         "type": "scatter",
         "x": {
          "bdata": "AAAAAAAA+H8=",
          "dtype": "f8"
         },
         "xaxis": "x",
         "y": {
          "bdata": "AAAAAICpyEA=",
          "dtype": "f8"
         },
         "yaxis": "y"
        },
        {
         "customdata": {
          "bdata": "AAAAAABktkAAAAAAAAD4fw==",
          "dtype": "f8",
          "shape": "1, 2"
         },
         "hovertemplate": "<b>%{hovertext}</b><br><br>Country=Norway<br>People Fully Vaccinated=%{x}<br>Total Cases=%{y}<br>Total Deaths=%{customdata[0]}<br>People Vaccinated=%{customdata[1]}<extra></extra>",
         "hovertext": [
          "Norway"
         ],
         "legendgroup": "Norway",
         "marker": {
          "color": "#00cc96",
          "size": {
           "bdata": "AAAAAABktkA=",
           "dtype": "f8"
          },
          "sizemode": "area",
          "sizeref": 7493.3975,
          "symbol": "circle"
         },
         "mode": "markers",
         "name": "Norway",
         "orientation": "v",
         "showlegend": true,
         "type": "scatter",
         "x": {
          "bdata": "AAAAAAAA+H8=",
          "dtype": "f8"
         },
         "xaxis": "x",
         "y": {
          "bdata": "AAAAAMcUN0E=",
          "dtype": "f8"
         },
         "yaxis": "y"
        },
        {
         "customdata": {
          "bdata": "AAAAAAAwc0AAAAAAAAD4fw==",
          "dtype": "f8",
          "shape": "1, 2"
         },
         "hovertemplate": "<b>%{hovertext}</b><br><br>Country=Gabon<br>People Fully Vaccinated=%{x}<br>Total Cases=%{y}<br>Total Deaths=%{customdata[0]}<br>People Vaccinated=%{customdata[1]}<extra></extra>",
         "hovertext": [
          "Gabon"
         ],
         "legendgroup": "Gabon",
         "marker": {
          "color": "#ab63fa",
          "size": {
           "bdata": "AAAAAAAwc0A=",
           "dtype": "f8"
          },
          "sizemode": "area",
          "sizeref": 7493.3975,
          "symbol": "circle"
         },
         "mode": "markers",
         "name": "Gabon",
         "orientation": "v",
         "showlegend": true,
         "type": "scatter",
         "x": {
          "bdata": "AAAAAAAA+H8=",
          "dtype": "f8"
         },
         "xaxis": "x",
         "y": {
          "bdata": "AAAAAGDz50A=",
          "dtype": "f8"
         },
         "yaxis": "y"
        },
        {
         "customdata": {
          "bdata": "AAAAAAAUskAAAAAAAAD4fw==",
          "dtype": "f8",
          "shape": "1, 2"
         },
         "hovertemplate": "<b>%{hovertext}</b><br><br>Country=Oman<br>People Fully Vaccinated=%{x}<br>Total Cases=%{y}<br>Total Deaths=%{customdata[0]}<br>People Vaccinated=%{customdata[1]}<extra></extra>",
         "hovertext": [
          "Oman"
         ],
         "legendgroup": "Oman",
         "marker": {
          "color": "#FFA15A",
          "size": {
           "bdata": "AAAAAAAUskA=",
           "dtype": "f8"
          },
          "sizemode": "area",
          "sizeref": 7493.3975,
          "symbol": "circle"
         },
         "mode": "markers",
         "name": "Oman",
         "orientation": "v",
         "showlegend": true,
         "type": "scatter",
         "x": {
          "bdata": "AAAAAAAA+H8=",
          "dtype": "f8"
         },
         "xaxis": "x",
         "y": {
          "bdata": "AAAAAGRhGEE=",
          "dtype": "f8"
         },
         "yaxis": "y"
        },
        {
         "customdata": {
          "bdata": "AAAAAABQhEAAAAAAAAD4fw==",
          "dtype": "f8",
          "shape": "1, 2"
         },
         "hovertemplate": "<b>%{hovertext}</b><br><br>Country=French Polynesia<br>People Fully Vaccinated=%{x}<br>Total Cases=%{y}<br>Total Deaths=%{customdata[0]}<br>People Vaccinated=%{customdata[1]}<extra></extra>",
         "hovertext": [
          "French Polynesia"
         ],
         "legendgroup": "French Polynesia",
         "marker": {
          "color": "#19d3f3",
          "size": {
           "bdata": "AAAAAABQhEA=",
           "dtype": "f8"
          },
          "sizemode": "area",
          "sizeref": 7493.3975,
          "symbol": "circle"
         },
         "mode": "markers",
         "name": "French Polynesia",
         "orientation": "v",
         "showlegend": true,
         "type": "scatter",
         "x": {
          "bdata": "AAAAAAAA+H8=",
          "dtype": "f8"
         },
         "xaxis": "x",
         "y": {
          "bdata": "AAAAALBh80A=",
          "dtype": "f8"
         },
         "yaxis": "y"
        },
        {
         "customdata": {
          "bdata": "AAAAAADw3UAAAAAAAAD4fw==",
          "dtype": "f8",
          "shape": "1, 2"
         },
         "hovertemplate": "<b>%{hovertext}</b><br><br>Country=Pakistan<br>People Fully Vaccinated=%{x}<br>Total Cases=%{y}<br>Total Deaths=%{customdata[0]}<br>People Vaccinated=%{customdata[1]}<extra></extra>",
         "hovertext": [
          "Pakistan"
         ],
         "legendgroup": "Pakistan",
         "marker": {
          "color": "#FF6692",
          "size": {
           "bdata": "AAAAAADw3UA=",
           "dtype": "f8"
          },
          "sizemode": "area",
          "sizeref": 7493.3975,
          "symbol": "circle"
         },
         "mode": "markers",
         "name": "Pakistan",
         "orientation": "v",
         "showlegend": true,
         "type": "scatter",
         "x": {
          "bdata": "AAAAAAAA+H8=",
          "dtype": "f8"
         },
         "xaxis": "x",
         "y": {
          "bdata": "AAAAAFceOEE=",
          "dtype": "f8"
         },
         "yaxis": "y"
        },
        {
         "customdata": {
          "bdata": "AAAAAAAAAAAAAAAAAAD4fw==",
          "dtype": "f8",
          "shape": "1, 2"
         },
         "hovertemplate": "<b>%{hovertext}</b><br><br>Country=Falkland Islands<br>People Fully Vaccinated=%{x}<br>Total Cases=%{y}<br>Total Deaths=%{customdata[0]}<br>People Vaccinated=%{customdata[1]}<extra></extra>",
         "hovertext": [
          "Falkland Islands"
         ],
         "legendgroup": "Falkland Islands",
         "marker": {
          "color": "#B6E880",
          "size": {
           "bdata": "AAAAAAAAAAA=",
           "dtype": "f8"
          },
          "sizemode": "area",
          "sizeref": 7493.3975,
          "symbol": "circle"
         },
         "mode": "markers",
         "name": "Falkland Islands",
         "orientation": "v",
         "showlegend": true,
         "type": "scatter",
         "x": {
          "bdata": "AAAAAAAA+H8=",
          "dtype": "f8"
         },
         "xaxis": "x",
         "y": {
          "bdata": "AAAAAAAMnkA=",
          "dtype": "f8"
         },
         "yaxis": "y"
        },
        {
         "customdata": {
          "bdata": "AAAAAADQeUAAAAAAAAD4fw==",
          "dtype": "f8",
          "shape": "1, 2"
         },
         "hovertemplate": "<b>%{hovertext}</b><br><br>Country=French Guiana<br>People Fully Vaccinated=%{x}<br>Total Cases=%{y}<br>Total Deaths=%{customdata[0]}<br>People Vaccinated=%{customdata[1]}<extra></extra>",
         "hovertext": [
          "French Guiana"
         ],
         "legendgroup": "French Guiana",
         "marker": {
          "color": "#FF97FF",
          "size": {
           "bdata": "AAAAAADQeUA=",
           "dtype": "f8"
          },
          "sizemode": "area",
          "sizeref": 7493.3975,
          "symbol": "circle"
         },
         "mode": "markers",
         "name": "French Guiana",
         "orientation": "v",
         "showlegend": true,
         "type": "scatter",
         "x": {
          "bdata": "AAAAAAAA+H8=",
          "dtype": "f8"
         },
         "xaxis": "x",
         "y": {
          "bdata": "AAAAAJDv90A=",
          "dtype": "f8"
         },
         "yaxis": "y"
        },
        {
         "customdata": {
          "bdata": "AAAAANiEBEEAAAAAAAD4fw==",
          "dtype": "f8",
          "shape": "1, 2"
         },
         "hovertemplate": "<b>%{hovertext}</b><br><br>Country=France<br>People Fully Vaccinated=%{x}<br>Total Cases=%{y}<br>Total Deaths=%{customdata[0]}<br>People Vaccinated=%{customdata[1]}<extra></extra>",
         "hovertext": [
          "France"
         ],
         "legendgroup": "France",
         "marker": {
          "color": "#FECB52",
          "size": {
           "bdata": "AAAAANiEBEE=",
           "dtype": "f8"
          },
          "sizemode": "area",
          "sizeref": 7493.3975,
          "symbol": "circle"
         },
         "mode": "markers",
         "name": "France",
         "orientation": "v",
         "showlegend": true,
         "type": "scatter",
         "x": {
          "bdata": "AAAAAAAA+H8=",
          "dtype": "f8"
         },
         "xaxis": "x",
         "y": {
          "bdata": "AAAAkG+YgkE=",
          "dtype": "f8"
         },
         "yaxis": "y"
        },
        {
         "customdata": {
          "bdata": "AAAAAABMtkAAAAAAAAD4fw==",
          "dtype": "f8",
          "shape": "1, 2"
         },
         "hovertemplate": "<b>%{hovertext}</b><br><br>Country=Palestine<br>People Fully Vaccinated=%{x}<br>Total Cases=%{y}<br>Total Deaths=%{customdata[0]}<br>People Vaccinated=%{customdata[1]}<extra></extra>",
         "hovertext": [
          "Palestine"
         ],
         "legendgroup": "Palestine",
         "marker": {
          "color": "#636efa",
          "size": {
           "bdata": "AAAAAABMtkA=",
           "dtype": "f8"
          },
          "sizemode": "area",
          "sizeref": 7493.3975,
          "symbol": "circle"
         },
         "mode": "markers",
         "name": "Palestine",
         "orientation": "v",
         "showlegend": true,
         "type": "scatter",
         "x": {
          "bdata": "AAAAAAAA+H8=",
          "dtype": "f8"
         },
         "xaxis": "x",
         "y": {
          "bdata": "AAAAAPh1JUE=",
          "dtype": "f8"
         },
         "yaxis": "y"
        },
        {
         "customdata": {
          "bdata": "AAAAAABlxkAAAAAAAAD4fw==",
          "dtype": "f8",
          "shape": "1, 2"
         },
         "hovertemplate": "<b>%{hovertext}</b><br><br>Country=Finland<br>People Fully Vaccinated=%{x}<br>Total Cases=%{y}<br>Total Deaths=%{customdata[0]}<br>People Vaccinated=%{customdata[1]}<extra></extra>",
         "hovertext": [
          "Finland"
         ],
         "legendgroup": "Finland",
         "marker": {
          "color": "#EF553B",
          "size": {
           "bdata": "AAAAAABlxkA=",
           "dtype": "f8"
          },
          "sizemode": "area",
          "sizeref": 7493.3975,
          "symbol": "circle"
         },
         "mode": "markers",
         "name": "Finland",
         "orientation": "v",
         "showlegend": true,
         "type": "scatter",
         "x": {
          "bdata": "AAAAAAAA+H8=",
          "dtype": "f8"
         },
         "xaxis": "x",
         "y": {
          "bdata": "AAAAAEDiNkE=",
          "dtype": "f8"
         },
         "yaxis": "y"
        },
        {
         "customdata": {
          "bdata": "AAAAAAAWwUAAAAAAAAD4fw==",
          "dtype": "f8",
          "shape": "1, 2"
         },
         "hovertemplate": "<b>%{hovertext}</b><br><br>Country=Panama<br>People Fully Vaccinated=%{x}<br>Total Cases=%{y}<br>Total Deaths=%{customdata[0]}<br>People Vaccinated=%{customdata[1]}<extra></extra>",
         "hovertext": [
          "Panama"
         ],
         "legendgroup": "Panama",
         "marker": {
          "color": "#00cc96",
          "size": {
           "bdata": "AAAAAAAWwUA=",
           "dtype": "f8"
          },
          "sizemode": "area",
          "sizeref": 7493.3975,
          "symbol": "circle"
         },
         "mode": "markers",
         "name": "Panama",
         "orientation": "v",
         "showlegend": true,
         "type": "scatter",
         "x": {
          "bdata": "AAAAAAAA+H8=",
          "dtype": "f8"
         },
         "xaxis": "x",
         "y": {
          "bdata": "AAAAAKriL0E=",
          "dtype": "f8"
         },
         "yaxis": "y"
        },
        {
         "customdata": {
          "bdata": "AAAAAACoi0AAAAAAAAD4fw==",
          "dtype": "f8",
          "shape": "1, 2"
         },
         "hovertemplate": "<b>%{hovertext}</b><br><br>Country=Fiji<br>People Fully Vaccinated=%{x}<br>Total Cases=%{y}<br>Total Deaths=%{customdata[0]}<br>People Vaccinated=%{customdata[1]}<extra></extra>",
         "hovertext": [
          "Fiji"
         ],
         "legendgroup": "Fiji",
         "marker": {
          "color": "#ab63fa",
          "size": {
           "bdata": "AAAAAACoi0A=",
           "dtype": "f8"
          },
          "sizemode": "area",
          "sizeref": 7493.3975,
          "symbol": "circle"
         },
         "mode": "markers",
         "name": "Fiji",
         "orientation": "v",
         "showlegend": true,
         "type": "scatter",
         "x": {
          "bdata": "AAAAAAAA+H8=",
          "dtype": "f8"
         },
         "xaxis": "x",
         "y": {
          "bdata": "AAAAAHDb8EA=",
          "dtype": "f8"
         },
         "yaxis": "y"
        },
        {
         "customdata": {
          "bdata": "AAAAAADwhEAAAAAAAAD4fw==",
          "dtype": "f8",
          "shape": "1, 2"
         },
         "hovertemplate": "<b>%{hovertext}</b><br><br>Country=Papua New Guinea<br>People Fully Vaccinated=%{x}<br>Total Cases=%{y}<br>Total Deaths=%{customdata[0]}<br>People Vaccinated=%{customdata[1]}<extra></extra>",
         "hovertext": [
          "Papua New Guinea"
         ],
         "legendgroup": "Papua New Guinea",
         "marker": {
          "color": "#FFA15A",
          "size": {
           "bdata": "AAAAAADwhEA=",
           "dtype": "f8"
          },
          "sizemode": "area",
          "sizeref": 7493.3975,
          "symbol": "circle"
         },
         "mode": "markers",
         "name": "Papua New Guinea",
         "orientation": "v",
         "showlegend": true,
         "type": "scatter",
         "x": {
          "bdata": "AAAAAAAA+H8=",
          "dtype": "f8"
         },
         "xaxis": "x",
         "y": {
          "bdata": "AAAAAADi5kA=",
          "dtype": "f8"
         },
         "yaxis": "y"
        },
        {
         "customdata": {
          "bdata": "AAAAAAAAPEAAAAAAAAD4fw==",
          "dtype": "f8",
          "shape": "1, 2"
         },
         "hovertemplate": "<b>%{hovertext}</b><br><br>Country=Faroe Islands<br>People Fully Vaccinated=%{x}<br>Total Cases=%{y}<br>Total Deaths=%{customdata[0]}<br>People Vaccinated=%{customdata[1]}<extra></extra>",
         "hovertext": [
          "Faroe Islands"
         ],
         "legendgroup": "Faroe Islands",
         "marker": {
          "color": "#19d3f3",
          "size": {
           "bdata": "AAAAAAAAPEA=",
           "dtype": "f8"
          },
          "sizemode": "area",
          "sizeref": 7493.3975,
          "symbol": "circle"
         },
         "mode": "markers",
         "name": "Faroe Islands",
         "orientation": "v",
         "showlegend": true,
         "type": "scatter",
         "x": {
          "bdata": "AAAAAAAA+H8=",
          "dtype": "f8"
         },
         "xaxis": "x",
         "y": {
          "bdata": "AAAAAEDs4EA=",
          "dtype": "f8"
         },
         "yaxis": "y"
        },
        {
         "customdata": {
          "bdata": "AAAAAAAAJEAAAAAAAAD4fw==",
          "dtype": "f8",
          "shape": "1, 2"
         },
         "hovertemplate": "<b>%{hovertext}</b><br><br>Country=Palau<br>People Fully Vaccinated=%{x}<br>Total Cases=%{y}<br>Total Deaths=%{customdata[0]}<br>People Vaccinated=%{customdata[1]}<extra></extra>",
         "hovertext": [
          "Palau"
         ],
         "legendgroup": "Palau",
         "marker": {
          "color": "#FF6692",
          "size": {
           "bdata": "AAAAAAAAJEA=",
           "dtype": "f8"
          },
          "sizemode": "area",
          "sizeref": 7493.3975,
          "symbol": "circle"
         },
         "mode": "markers",
         "name": "Palau",
         "orientation": "v",
         "showlegend": true,
         "type": "scatter",
         "x": {
          "bdata": "AAAAAAAA+H8=",
          "dtype": "f8"
         },
         "xaxis": "x",
         "y": {
          "bdata": "AAAAAADkuEA=",
          "dtype": "f8"
         },
         "yaxis": "y"
        },
        {
         "customdata": {
          "bdata": "AAAAAABAYUAAAAAAAAD4fw==",
          "dtype": "f8",
          "shape": "1, 2"
         },
         "hovertemplate": "<b>%{hovertext}</b><br><br>Country=East Timor<br>People Fully Vaccinated=%{x}<br>Total Cases=%{y}<br>Total Deaths=%{customdata[0]}<br>People Vaccinated=%{customdata[1]}<extra></extra>",
         "hovertext": [
          "East Timor"
         ],
         "legendgroup": "East Timor",
         "marker": {
          "color": "#B6E880",
          "size": {
           "bdata": "AAAAAABAYUA=",
           "dtype": "f8"
          },
          "sizemode": "area",
          "sizeref": 7493.3975,
          "symbol": "circle"
         },
         "mode": "markers",
         "name": "East Timor",
         "orientation": "v",
         "showlegend": true,
         "type": "scatter",
         "x": {
          "bdata": "AAAAAAAA+H8=",
          "dtype": "f8"
         },
         "xaxis": "x",
         "y": {
          "bdata": "AAAAAADp1kA=",
          "dtype": "f8"
         },
         "yaxis": "y"
        },
        {
         "customdata": {
          "bdata": "AAAAAADwlkAAAAAAAAD4fw==",
          "dtype": "f8",
          "shape": "1, 2"
         },
         "hovertemplate": "<b>%{hovertext}</b><br><br>Country=Rwanda<br>People Fully Vaccinated=%{x}<br>Total Cases=%{y}<br>Total Deaths=%{customdata[0]}<br>People Vaccinated=%{customdata[1]}<extra></extra>",
         "hovertext": [
          "Rwanda"
         ],
         "legendgroup": "Rwanda",
         "marker": {
          "color": "#FF97FF",
          "size": {
           "bdata": "AAAAAADwlkA=",
           "dtype": "f8"
          },
          "sizemode": "area",
          "sizeref": 7493.3975,
          "symbol": "circle"
         },
         "mode": "markers",
         "name": "Rwanda",
         "orientation": "v",
         "showlegend": true,
         "type": "scatter",
         "x": {
          "bdata": "AAAAAAAA+H8=",
          "dtype": "f8"
         },
         "xaxis": "x",
         "y": {
          "bdata": "AAAAAIBEAEE=",
          "dtype": "f8"
         },
         "yaxis": "y"
        },
        {
         "customdata": {
          "bdata": "AAAAAAAohkAAAAAAAAD4fw==",
          "dtype": "f8",
          "shape": "1, 2"
         },
         "hovertemplate": "<b>%{hovertext}</b><br><br>Country=Lesotho<br>People Fully Vaccinated=%{x}<br>Total Cases=%{y}<br>Total Deaths=%{customdata[0]}<br>People Vaccinated=%{customdata[1]}<extra></extra>",
         "hovertext": [
          "Lesotho"
         ],
         "legendgroup": "Lesotho",
         "marker": {
          "color": "#FECB52",
          "size": {
           "bdata": "AAAAAAAohkA=",
           "dtype": "f8"
          },
          "sizemode": "area",
          "sizeref": 7493.3975,
          "symbol": "circle"
         },
         "mode": "markers",
         "name": "Lesotho",
         "orientation": "v",
         "showlegend": true,
         "type": "scatter",
         "x": {
          "bdata": "AAAAAAAA+H8=",
          "dtype": "f8"
         },
         "xaxis": "x",
         "y": {
          "bdata": "AAAAAECl4UA=",
          "dtype": "f8"
         },
         "yaxis": "y"
        },
        {
         "customdata": {
          "bdata": "AAAAAADXwkAAAAAAAAD4fw==",
          "dtype": "f8",
          "shape": "1, 2"
         },
         "hovertemplate": "<b>%{hovertext}</b><br><br>Country=Saudi Arabia<br>People Fully Vaccinated=%{x}<br>Total Cases=%{y}<br>Total Deaths=%{customdata[0]}<br>People Vaccinated=%{customdata[1]}<extra></extra>",
         "hovertext": [
          "Saudi Arabia"
         ],
         "legendgroup": "Saudi Arabia",
         "marker": {
          "color": "#636efa",
          "size": {
           "bdata": "AAAAAADXwkA=",
           "dtype": "f8"
          },
          "sizemode": "area",
          "sizeref": 7493.3975,
          "symbol": "circle"
         },
         "mode": "markers",
         "name": "Saudi Arabia",
         "orientation": "v",
         "showlegend": true,
         "type": "scatter",
         "x": {
          "bdata": "AAAAAAAA+H8=",
          "dtype": "f8"
         },
         "xaxis": "x",
         "y": {
          "bdata": "AAAAAPqtKUE=",
          "dtype": "f8"
         },
         "yaxis": "y"
        },
        {
         "customdata": {
          "bdata": "AAAAAABOwkAAAAAAAAD4fw==",
          "dtype": "f8",
          "shape": "1, 2"
         },
         "hovertemplate": "<b>%{hovertext}</b><br><br>Country=Costa Rica<br>People Fully Vaccinated=%{x}<br>Total Cases=%{y}<br>Total Deaths=%{customdata[0]}<br>People Vaccinated=%{customdata[1]}<extra></extra>",
         "hovertext": [
          "Costa Rica"
         ],
         "legendgroup": "Costa Rica",
         "marker": {
          "color": "#EF553B",
          "size": {
           "bdata": "AAAAAABOwkA=",
           "dtype": "f8"
          },
          "sizemode": "area",
          "sizeref": 7493.3975,
          "symbol": "circle"
         },
         "mode": "markers",
         "name": "Costa Rica",
         "orientation": "v",
         "showlegend": true,
         "type": "scatter",
         "x": {
          "bdata": "AAAAAAAA+H8=",
          "dtype": "f8"
         },
         "xaxis": "x",
         "y": {
          "bdata": "AAAAAA3XMkE=",
          "dtype": "f8"
         },
         "yaxis": "y"
        },
        {
         "customdata": {
          "bdata": "AAAAAADMnkAAAAAAAAD4fw==",
          "dtype": "f8",
          "shape": "1, 2"
         },
         "hovertemplate": "<b>%{hovertext}</b><br><br>Country=Senegal<br>People Fully Vaccinated=%{x}<br>Total Cases=%{y}<br>Total Deaths=%{customdata[0]}<br>People Vaccinated=%{customdata[1]}<extra></extra>",
         "hovertext": [
          "Senegal"
         ],
         "legendgroup": "Senegal",
         "marker": {
          "color": "#00cc96",
          "size": {
           "bdata": "AAAAAADMnkA=",
           "dtype": "f8"
          },
          "sizemode": "area",
          "sizeref": 7493.3975,
          "symbol": "circle"
         },
         "mode": "markers",
         "name": "Senegal",
         "orientation": "v",
         "showlegend": true,
         "type": "scatter",
         "x": {
          "bdata": "AAAAAAAA+H8=",
          "dtype": "f8"
         },
         "xaxis": "x",
         "y": {
          "bdata": "AAAAANDY9UA=",
          "dtype": "f8"
         },
         "yaxis": "y"
        },
        {
         "customdata": {
          "bdata": "AAAAAAAAAEAAAAAAAAD4fw==",
          "dtype": "f8",
          "shape": "1, 2"
         },
         "hovertemplate": "<b>%{hovertext}</b><br><br>Country=Cook Islands<br>People Fully Vaccinated=%{x}<br>Total Cases=%{y}<br>Total Deaths=%{customdata[0]}<br>People Vaccinated=%{customdata[1]}<extra></extra>",
         "hovertext": [
          "Cook Islands"
         ],
         "legendgroup": "Cook Islands",
         "marker": {
          "color": "#ab63fa",
          "size": {
           "bdata": "AAAAAAAAAEA=",
           "dtype": "f8"
          },
          "sizemode": "area",
          "sizeref": 7493.3975,
          "symbol": "circle"
         },
         "mode": "markers",
         "name": "Cook Islands",
         "orientation": "v",
         "showlegend": true,
         "type": "scatter",
         "x": {
          "bdata": "AAAAAAAA+H8=",
          "dtype": "f8"
         },
         "xaxis": "x",
         "y": {
          "bdata": "AAAAAACxvEA=",
          "dtype": "f8"
         },
         "yaxis": "y"
        },
        {
         "customdata": {
          "bdata": "AAAAAECi0UAAAAAAAAD4fw==",
          "dtype": "f8",
          "shape": "1, 2"
         },
         "hovertemplate": "<b>%{hovertext}</b><br><br>Country=Serbia<br>People Fully Vaccinated=%{x}<br>Total Cases=%{y}<br>Total Deaths=%{customdata[0]}<br>People Vaccinated=%{customdata[1]}<extra></extra>",
         "hovertext": [
          "Serbia"
         ],
         "legendgroup": "Serbia",
         "marker": {
          "color": "#FFA15A",
          "size": {
           "bdata": "AAAAAECi0UA=",
           "dtype": "f8"
          },
          "sizemode": "area",
          "sizeref": 7493.3975,
          "symbol": "circle"
         },
         "mode": "markers",
         "name": "Serbia",
         "orientation": "v",
         "showlegend": true,
         "type": "scatter",
         "x": {
          "bdata": "AAAAAAAA+H8=",
          "dtype": "f8"
         },
         "xaxis": "x",
         "y": {
          "bdata": "AAAAANe1Q0E=",
          "dtype": "f8"
         },
         "yaxis": "y"
        },
        {
         "customdata": {
          "bdata": "AAAAAABQeEAAAAAAAAD4fw==",
          "dtype": "f8",
          "shape": "1, 2"
         },
         "hovertemplate": "<b>%{hovertext}</b><br><br>Country=Congo<br>People Fully Vaccinated=%{x}<br>Total Cases=%{y}<br>Total Deaths=%{customdata[0]}<br>People Vaccinated=%{customdata[1]}<extra></extra>",
         "hovertext": [
          "Congo"
         ],
         "legendgroup": "Congo",
         "marker": {
          "color": "#19d3f3",
          "size": {
           "bdata": "AAAAAABQeEA=",
           "dtype": "f8"
          },
          "sizemode": "area",
          "sizeref": 7493.3975,
          "symbol": "circle"
         },
         "mode": "markers",
         "name": "Congo",
         "orientation": "v",
         "showlegend": true,
         "type": "scatter",
         "x": {
          "bdata": "AAAAAAAA+H8=",
          "dtype": "f8"
         },
         "xaxis": "x",
         "y": {
          "bdata": "AAAAAMCi2EA=",
          "dtype": "f8"
         },
         "yaxis": "y"
        },
        {
         "customdata": {
          "bdata": "AAAAAACAZUAAAAAAAAD4fw==",
          "dtype": "f8",
          "shape": "1, 2"
         },
         "hovertemplate": "<b>%{hovertext}</b><br><br>Country=Seychelles<br>People Fully Vaccinated=%{x}<br>Total Cases=%{y}<br>Total Deaths=%{customdata[0]}<br>People Vaccinated=%{customdata[1]}<extra></extra>",
         "hovertext": [
          "Seychelles"
         ],
         "legendgroup": "Seychelles",
         "marker": {
          "color": "#FF6692",
          "size": {
           "bdata": "AAAAAACAZUA=",
           "dtype": "f8"
          },
          "sizemode": "area",
          "sizeref": 7493.3975,
          "symbol": "circle"
         },
         "mode": "markers",
         "name": "Seychelles",
         "orientation": "v",
         "showlegend": true,
         "type": "scatter",
         "x": {
          "bdata": "AAAAAAAA+H8=",
          "dtype": "f8"
         },
         "xaxis": "x",
         "y": {
          "bdata": "AAAAAMBV6UA=",
          "dtype": "f8"
         },
         "yaxis": "y"
        },
        {
         "customdata": {
          "bdata": "AAAAAAAYikAAAAAAAAD4fw==",
          "dtype": "f8",
          "shape": "1, 2"
         },
         "hovertemplate": "<b>%{hovertext}</b><br><br>Country=Cote d'Ivoire<br>People Fully Vaccinated=%{x}<br>Total Cases=%{y}<br>Total Deaths=%{customdata[0]}<br>People Vaccinated=%{customdata[1]}<extra></extra>",
         "hovertext": [
          "Cote d'Ivoire"
         ],
         "legendgroup": "Cote d'Ivoire",
         "marker": {
          "color": "#B6E880",
          "size": {
           "bdata": "AAAAAAAYikA=",
           "dtype": "f8"
          },
          "sizemode": "area",
          "sizeref": 7493.3975,
          "symbol": "circle"
         },
         "mode": "markers",
         "name": "Cote d'Ivoire",
         "orientation": "v",
         "showlegend": true,
         "type": "scatter",
         "x": {
          "bdata": "AAAAAAAA+H8=",
          "dtype": "f8"
         },
         "xaxis": "x",
         "y": {
          "bdata": "AAAAACCX9UA=",
          "dtype": "f8"
         },
         "yaxis": "y"
        },
        {
         "customdata": {
          "bdata": "AAAAAAAAZEAAAAAAAAD4fw==",
          "dtype": "f8",
          "shape": "1, 2"
         },
         "hovertemplate": "<b>%{hovertext}</b><br><br>Country=Comoros<br>People Fully Vaccinated=%{x}<br>Total Cases=%{y}<br>Total Deaths=%{customdata[0]}<br>People Vaccinated=%{customdata[1]}<extra></extra>",
         "hovertext": [
          "Comoros"
         ],
         "legendgroup": "Comoros",
         "marker": {
          "color": "#FF97FF",
          "size": {
           "bdata": "AAAAAAAAZEA=",
           "dtype": "f8"
          },
          "sizemode": "area",
          "sizeref": 7493.3975,
          "symbol": "circle"
         },
         "mode": "markers",
         "name": "Comoros",
         "orientation": "v",
         "showlegend": true,
         "type": "scatter",
         "x": {
          "bdata": "AAAAAAAA+H8=",
          "dtype": "f8"
         },
         "xaxis": "x",
         "y": {
          "bdata": "AAAAAIDKwUA=",
          "dtype": "f8"
         },
         "yaxis": "y"
        },
        {
         "customdata": {
          "bdata": "AAAAADhsAUEAAAAAAAD4fw==",
          "dtype": "f8",
          "shape": "1, 2"
         },
         "hovertemplate": "<b>%{hovertext}</b><br><br>Country=Colombia<br>People Fully Vaccinated=%{x}<br>Total Cases=%{y}<br>Total Deaths=%{customdata[0]}<br>People Vaccinated=%{customdata[1]}<extra></extra>",
         "hovertext": [
          "Colombia"
         ],
         "legendgroup": "Colombia",
         "marker": {
          "color": "#FECB52",
          "size": {
           "bdata": "AAAAADhsAUE=",
           "dtype": "f8"
          },
          "sizemode": "area",
          "sizeref": 7493.3975,
          "symbol": "circle"
         },
         "mode": "markers",
         "name": "Colombia",
         "orientation": "v",
         "showlegend": true,
         "type": "scatter",
         "x": {
          "bdata": "AAAAAAAA+H8=",
          "dtype": "f8"
         },
         "xaxis": "x",
         "y": {
          "bdata": "AAAAABFiWEE=",
          "dtype": "f8"
         },
         "yaxis": "y"
        },
        {
         "customdata": {
          "bdata": "AAAAAACgn0AAAAAAAAD4fw==",
          "dtype": "f8",
          "shape": "1, 2"
         },
         "hovertemplate": "<b>%{hovertext}</b><br><br>Country=Singapore<br>People Fully Vaccinated=%{x}<br>Total Cases=%{y}<br>Total Deaths=%{customdata[0]}<br>People Vaccinated=%{customdata[1]}<extra></extra>",
         "hovertext": [
          "Singapore"
         ],
         "legendgroup": "Singapore",
         "marker": {
          "color": "#636efa",
          "size": {
           "bdata": "AAAAAACgn0A=",
           "dtype": "f8"
          },
          "sizemode": "area",
          "sizeref": 7493.3975,
          "symbol": "circle"
         },
         "mode": "markers",
         "name": "Singapore",
         "orientation": "v",
         "showlegend": true,
         "type": "scatter",
         "x": {
          "bdata": "AAAAAAAA+H8=",
          "dtype": "f8"
         },
         "xaxis": "x",
         "y": {
          "bdata": "AAAAgGXvRkE=",
          "dtype": "f8"
         },
         "yaxis": "y"
        },
        {
         "customdata": {
          "bdata": "AAAAAADc/UAAAAAAAAD4fw==",
          "dtype": "f8",
          "shape": "1, 2"
         },
         "hovertemplate": "<b>%{hovertext}</b><br><br>Country=China<br>People Fully Vaccinated=%{x}<br>Total Cases=%{y}<br>Total Deaths=%{customdata[0]}<br>People Vaccinated=%{customdata[1]}<extra></extra>",
         "hovertext": [
          "China"
         ],
         "legendgroup": "China",
         "marker": {
          "color": "#EF553B",
          "size": {
           "bdata": "AAAAAADc/UA=",
           "dtype": "f8"
          },
          "sizemode": "area",
          "sizeref": 7493.3975,
          "symbol": "circle"
         },
         "mode": "markers",
         "name": "China",
         "orientation": "v",
         "showlegend": true,
         "type": "scatter",
         "x": {
          "bdata": "AAAAAAAA+H8=",
          "dtype": "f8"
         },
         "xaxis": "x",
         "y": {
          "bdata": "AAAAjEKxl0E=",
          "dtype": "f8"
         },
         "yaxis": "y"
        },
        {
         "customdata": {
          "bdata": "AAAAAAAAV0AAAAAAAAD4fw==",
          "dtype": "f8",
          "shape": "1, 2"
         },
         "hovertemplate": "<b>%{hovertext}</b><br><br>Country=Sint Maarten (Dutch part)<br>People Fully Vaccinated=%{x}<br>Total Cases=%{y}<br>Total Deaths=%{customdata[0]}<br>People Vaccinated=%{customdata[1]}<extra></extra>",
         "hovertext": [
          "Sint Maarten (Dutch part)"
         ],
         "legendgroup": "Sint Maarten (Dutch part)",
         "marker": {
          "color": "#00cc96",
          "size": {
           "bdata": "AAAAAAAAV0A=",
           "dtype": "f8"
          },
          "sizemode": "area",
          "sizeref": 7493.3975,
          "symbol": "circle"
         },
         "mode": "markers",
         "name": "Sint Maarten (Dutch part)",
         "orientation": "v",
         "showlegend": true,
         "type": "scatter",
         "x": {
          "bdata": "AAAAAAAA+H8=",
          "dtype": "f8"
         },
         "xaxis": "x",
         "y": {
          "bdata": "AAAAAICVxUA=",
          "dtype": "f8"
         },
         "yaxis": "y"
        },
        {
         "customdata": {
          "bdata": "AAAAAECh7kAAAAAAAAD4fw==",
          "dtype": "f8",
          "shape": "1, 2"
         },
         "hovertemplate": "<b>%{hovertext}</b><br><br>Country=Chile<br>People Fully Vaccinated=%{x}<br>Total Cases=%{y}<br>Total Deaths=%{customdata[0]}<br>People Vaccinated=%{customdata[1]}<extra></extra>",
         "hovertext": [
          "Chile"
         ],
         "legendgroup": "Chile",
         "marker": {
          "color": "#ab63fa",
          "size": {
           "bdata": "AAAAAECh7kA=",
           "dtype": "f8"
          },
          "sizemode": "area",
          "sizeref": 7493.3975,
          "symbol": "circle"
         },
         "mode": "markers",
         "name": "Chile",
         "orientation": "v",
         "showlegend": true,
         "type": "scatter",
         "x": {
          "bdata": "AAAAAAAA+H8=",
          "dtype": "f8"
         },
         "xaxis": "x",
         "y": {
          "bdata": "AAAAgImaVEE=",
          "dtype": "f8"
         },
         "yaxis": "y"
        },
        {
         "customdata": {
          "bdata": "AAAAAMC61EAAAAAAAAD4fw==",
          "dtype": "f8",
          "shape": "1, 2"
         },
         "hovertemplate": "<b>%{hovertext}</b><br><br>Country=Slovakia<br>People Fully Vaccinated=%{x}<br>Total Cases=%{y}<br>Total Deaths=%{customdata[0]}<br>People Vaccinated=%{customdata[1]}<extra></extra>",
         "hovertext": [
          "Slovakia"
         ],
         "legendgroup": "Slovakia",
         "marker": {
          "color": "#FFA15A",
          "size": {
           "bdata": "AAAAAMC61EA=",
           "dtype": "f8"
          },
          "sizemode": "area",
          "sizeref": 7493.3975,
          "symbol": "circle"
         },
         "mode": "markers",
         "name": "Slovakia",
         "orientation": "v",
         "showlegend": true,
         "type": "scatter",
         "x": {
          "bdata": "AAAAAAAA+H8=",
          "dtype": "f8"
         },
         "xaxis": "x",
         "y": {
          "bdata": "AAAAAPKnPEE=",
          "dtype": "f8"
         },
         "yaxis": "y"
        },
        {
         "customdata": {
          "bdata": "AAAAAABAaEAAAAAAAAD4fw==",
          "dtype": "f8",
          "shape": "1, 2"
         },
         "hovertemplate": "<b>%{hovertext}</b><br><br>Country=Chad<br>People Fully Vaccinated=%{x}<br>Total Cases=%{y}<br>Total Deaths=%{customdata[0]}<br>People Vaccinated=%{customdata[1]}<extra></extra>",
         "hovertext": [
          "Chad"
         ],
         "legendgroup": "Chad",
         "marker": {
          "color": "#19d3f3",
          "size": {
           "bdata": "AAAAAABAaEA=",
           "dtype": "f8"
          },
          "sizemode": "area",
          "sizeref": 7493.3975,
          "symbol": "circle"
         },
         "mode": "markers",
         "name": "Chad",
         "orientation": "v",
         "showlegend": true,
         "type": "scatter",
         "x": {
          "bdata": "AAAAAAAA+H8=",
          "dtype": "f8"
         },
         "xaxis": "x",
         "y": {
          "bdata": "AAAAAAAWvkA=",
          "dtype": "f8"
         },
         "yaxis": "y"
        },
        {
         "customdata": {
          "bdata": "AAAAAABAX0AAAAAAAAD4fw==",
          "dtype": "f8",
          "shape": "1, 2"
         },
         "hovertemplate": "<b>%{hovertext}</b><br><br>Country=Sierra Leone<br>People Fully Vaccinated=%{x}<br>Total Cases=%{y}<br>Total Deaths=%{customdata[0]}<br>People Vaccinated=%{customdata[1]}<extra></extra>",
         "hovertext": [
          "Sierra Leone"
         ],
         "legendgroup": "Sierra Leone",
         "marker": {
          "color": "#FF6692",
          "size": {
           "bdata": "AAAAAABAX0A=",
           "dtype": "f8"
          },
          "sizemode": "area",
          "sizeref": 7493.3975,
          "symbol": "circle"
         },
         "mode": "markers",
         "name": "Sierra Leone",
         "orientation": "v",
         "showlegend": true,
         "type": "scatter",
         "x": {
          "bdata": "AAAAAAAA+H8=",
          "dtype": "f8"
         },
         "xaxis": "x",
         "y": {
          "bdata": "AAAAAAArv0A=",
          "dtype": "f8"
         },
         "yaxis": "y"
        },
        {
         "customdata": {
          "bdata": "AAAAAAAAVEAAAAAAAAD4fw==",
          "dtype": "f8",
          "shape": "1, 2"
         },
         "hovertemplate": "<b>%{hovertext}</b><br><br>Country=Sao Tome and Principe<br>People Fully Vaccinated=%{x}<br>Total Cases=%{y}<br>Total Deaths=%{customdata[0]}<br>People Vaccinated=%{customdata[1]}<extra></extra>",
         "hovertext": [
          "Sao Tome and Principe"
         ],
         "legendgroup": "Sao Tome and Principe",
         "marker": {
          "color": "#B6E880",
          "size": {
           "bdata": "AAAAAAAAVEA=",
           "dtype": "f8"
          },
          "sizemode": "area",
          "sizeref": 7493.3975,
          "symbol": "circle"
         },
         "mode": "markers",
         "name": "Sao Tome and Principe",
         "orientation": "v",
         "showlegend": true,
         "type": "scatter",
         "x": {
          "bdata": "AAAAAAAA+H8=",
          "dtype": "f8"
         },
         "xaxis": "x",
         "y": {
          "bdata": "AAAAAABzukA=",
          "dtype": "f8"
         },
         "yaxis": "y"
        },
        {
         "customdata": {
          "bdata": "AAAAAABQ0kAAAAAAAAD4fw==",
          "dtype": "f8",
          "shape": "1, 2"
         },
         "hovertemplate": "<b>%{hovertext}</b><br><br>Country=Croatia<br>People Fully Vaccinated=%{x}<br>Total Cases=%{y}<br>Total Deaths=%{customdata[0]}<br>People Vaccinated=%{customdata[1]}<extra></extra>",
         "hovertext": [
          "Croatia"
         ],
         "legendgroup": "Croatia",
         "marker": {
          "color": "#FF97FF",
          "size": {
           "bdata": "AAAAAABQ0kA=",
           "dtype": "f8"
          },
          "sizemode": "area",
          "sizeref": 7493.3975,
          "symbol": "circle"
         },
         "mode": "markers",
         "name": "Croatia",
         "orientation": "v",
         "showlegend": true,
         "type": "scatter",
         "x": {
          "bdata": "AAAAAAAA+H8=",
          "dtype": "f8"
         },
         "xaxis": "x",
         "y": {
          "bdata": "AAAAABgZNEE=",
          "dtype": "f8"
         },
         "yaxis": "y"
        },
        {
         "customdata": {
          "bdata": "AAAAAACAX0AAAAAAAAD4fw==",
          "dtype": "f8",
          "shape": "1, 2"
         },
         "hovertemplate": "<b>%{hovertext}</b><br><br>Country=San Marino<br>People Fully Vaccinated=%{x}<br>Total Cases=%{y}<br>Total Deaths=%{customdata[0]}<br>People Vaccinated=%{customdata[1]}<extra></extra>",
         "hovertext": [
          "San Marino"
         ],
         "legendgroup": "San Marino",
         "marker": {
          "color": "#FECB52",
          "size": {
           "bdata": "AAAAAACAX0A=",
           "dtype": "f8"
          },
          "sizemode": "area",
          "sizeref": 7493.3975,
          "symbol": "circle"
         },
         "mode": "markers",
         "name": "San Marino",
         "orientation": "v",
         "showlegend": true,
         "type": "scatter",
         "x": {
          "bdata": "AAAAAAAA+H8=",
          "dtype": "f8"
         },
         "xaxis": "x",
         "y": {
          "bdata": "AAAAAACz2EA=",
          "dtype": "f8"
         },
         "yaxis": "y"
        },
        {
         "customdata": {
          "bdata": "AAAAAAAgsUAAAAAAAAD4fw==",
          "dtype": "f8",
          "shape": "1, 2"
         },
         "hovertemplate": "<b>%{hovertext}</b><br><br>Country=Dominican Republic<br>People Fully Vaccinated=%{x}<br>Total Cases=%{y}<br>Total Deaths=%{customdata[0]}<br>People Vaccinated=%{customdata[1]}<extra></extra>",
         "hovertext": [
          "Dominican Republic"
         ],
         "legendgroup": "Dominican Republic",
         "marker": {
          "color": "#636efa",
          "size": {
           "bdata": "AAAAAAAgsUA=",
           "dtype": "f8"
          },
          "sizemode": "area",
          "sizeref": 7493.3975,
          "symbol": "circle"
         },
         "mode": "markers",
         "name": "Dominican Republic",
         "orientation": "v",
         "showlegend": true,
         "type": "scatter",
         "x": {
          "bdata": "AAAAAAAA+H8=",
          "dtype": "f8"
         },
         "xaxis": "x",
         "y": {
          "bdata": "AAAAAN4sJEE=",
          "dtype": "f8"
         },
         "yaxis": "y"
        },
        {
         "customdata": {
          "bdata": "AAAAAAAAFEAAAAAAAAD4fw==",
          "dtype": "f8",
          "shape": "1, 2"
         },
         "hovertemplate": "<b>%{hovertext}</b><br><br>Country=Saint Barthelemy<br>People Fully Vaccinated=%{x}<br>Total Cases=%{y}<br>Total Deaths=%{customdata[0]}<br>People Vaccinated=%{customdata[1]}<extra></extra>",
         "hovertext": [
          "Saint Barthelemy"
         ],
         "legendgroup": "Saint Barthelemy",
         "marker": {
          "color": "#EF553B",
          "size": {
           "bdata": "AAAAAAAAFEA=",
           "dtype": "f8"
          },
          "sizemode": "area",
          "sizeref": 7493.3975,
          "symbol": "circle"
         },
         "mode": "markers",
         "name": "Saint Barthelemy",
         "orientation": "v",
         "showlegend": true,
         "type": "scatter",
         "x": {
          "bdata": "AAAAAAAA+H8=",
          "dtype": "f8"
         },
         "xaxis": "x",
         "y": {
          "bdata": "AAAAAACDtUA=",
          "dtype": "f8"
         },
         "yaxis": "y"
        },
        {
         "customdata": {
          "bdata": "AAAAAACAUkAAAAAAAAD4fw==",
          "dtype": "f8",
          "shape": "1, 2"
         },
         "hovertemplate": "<b>%{hovertext}</b><br><br>Country=Dominica<br>People Fully Vaccinated=%{x}<br>Total Cases=%{y}<br>Total Deaths=%{customdata[0]}<br>People Vaccinated=%{customdata[1]}<extra></extra>",
         "hovertext": [
          "Dominica"
         ],
         "legendgroup": "Dominica",
         "marker": {
          "color": "#00cc96",
          "size": {
           "bdata": "AAAAAACAUkA=",
           "dtype": "f8"
          },
          "sizemode": "area",
          "sizeref": 7493.3975,
          "symbol": "circle"
         },
         "mode": "markers",
         "name": "Dominica",
         "orientation": "v",
         "showlegend": true,
         "type": "scatter",
         "x": {
          "bdata": "AAAAAAAA+H8=",
          "dtype": "f8"
         },
         "xaxis": "x",
         "y": {
          "bdata": "AAAAAIBXz0A=",
          "dtype": "f8"
         },
         "yaxis": "y"
        },
        {
         "customdata": {
          "bdata": "AAAAAAAAAAAAAAAAAAD4fw==",
          "dtype": "f8",
          "shape": "1, 2"
         },
         "hovertemplate": "<b>%{hovertext}</b><br><br>Country=Saint Helena<br>People Fully Vaccinated=%{x}<br>Total Cases=%{y}<br>Total Deaths=%{customdata[0]}<br>People Vaccinated=%{customdata[1]}<extra></extra>",
         "hovertext": [
          "Saint Helena"
         ],
         "legendgroup": "Saint Helena",
         "marker": {
          "color": "#ab63fa",
          "size": {
           "bdata": "AAAAAAAAAAA=",
           "dtype": "f8"
          },
          "sizemode": "area",
          "sizeref": 7493.3975,
          "symbol": "circle"
         },
         "mode": "markers",
         "name": "Saint Helena",
         "orientation": "v",
         "showlegend": true,
         "type": "scatter",
         "x": {
          "bdata": "AAAAAAAA+H8=",
          "dtype": "f8"
         },
         "xaxis": "x",
         "y": {
          "bdata": "AAAAAADsoEA=",
          "dtype": "f8"
         },
         "yaxis": "y"
        },
        {
         "customdata": {
          "bdata": "AAAAAACgZ0AAAAAAAAD4fw==",
          "dtype": "f8",
          "shape": "1, 2"
         },
         "hovertemplate": "<b>%{hovertext}</b><br><br>Country=Djibouti<br>People Fully Vaccinated=%{x}<br>Total Cases=%{y}<br>Total Deaths=%{customdata[0]}<br>People Vaccinated=%{customdata[1]}<extra></extra>",
         "hovertext": [
          "Djibouti"
         ],
         "legendgroup": "Djibouti",
         "marker": {
          "color": "#FFA15A",
          "size": {
           "bdata": "AAAAAACgZ0A=",
           "dtype": "f8"
          },
          "sizemode": "area",
          "sizeref": 7493.3975,
          "symbol": "circle"
         },
         "mode": "markers",
         "name": "Djibouti",
         "orientation": "v",
         "showlegend": true,
         "type": "scatter",
         "x": {
          "bdata": "AAAAAAAA+H8=",
          "dtype": "f8"
         },
         "xaxis": "x",
         "y": {
          "bdata": "AAAAAAClzkA=",
          "dtype": "f8"
         },
         "yaxis": "y"
        },
        {
         "customdata": {
          "bdata": "AAAAAAAAR0AAAAAAAAD4fw==",
          "dtype": "f8",
          "shape": "1, 2"
         },
         "hovertemplate": "<b>%{hovertext}</b><br><br>Country=Saint Kitts and Nevis<br>People Fully Vaccinated=%{x}<br>Total Cases=%{y}<br>Total Deaths=%{customdata[0]}<br>People Vaccinated=%{customdata[1]}<extra></extra>",
         "hovertext": [
          "Saint Kitts and Nevis"
         ],
         "legendgroup": "Saint Kitts and Nevis",
         "marker": {
          "color": "#19d3f3",
          "size": {
           "bdata": "AAAAAAAAR0A=",
           "dtype": "f8"
          },
          "sizemode": "area",
          "sizeref": 7493.3975,
          "symbol": "circle"
         },
         "mode": "markers",
         "name": "Saint Kitts and Nevis",
         "orientation": "v",
         "showlegend": true,
         "type": "scatter",
         "x": {
          "bdata": "AAAAAAAA+H8=",
          "dtype": "f8"
         },
         "xaxis": "x",
         "y": {
          "bdata": "AAAAAADPuUA=",
          "dtype": "f8"
         },
         "yaxis": "y"
        },
        {
         "customdata": {
          "bdata": "AAAAAIDuwkAAAAAAAAD4fw==",
          "dtype": "f8",
          "shape": "1, 2"
         },
         "hovertemplate": "<b>%{hovertext}</b><br><br>Country=Denmark<br>People Fully Vaccinated=%{x}<br>Total Cases=%{y}<br>Total Deaths=%{customdata[0]}<br>People Vaccinated=%{customdata[1]}<extra></extra>",
         "hovertext": [
          "Denmark"
         ],
         "legendgroup": "Denmark",
         "marker": {
          "color": "#FF6692",
          "size": {
           "bdata": "AAAAAIDuwkA=",
           "dtype": "f8"
          },
          "sizemode": "area",
          "sizeref": 7493.3975,
          "symbol": "circle"
         },
         "mode": "markers",
         "name": "Denmark",
         "orientation": "v",
         "showlegend": true,
         "type": "scatter",
         "x": {
          "bdata": "AAAAAAAA+H8=",
          "dtype": "f8"
         },
         "xaxis": "x",
         "y": {
          "bdata": "AAAAgE82SkE=",
          "dtype": "f8"
         },
         "yaxis": "y"
        },
        {
         "customdata": {
          "bdata": "AAAAAACgeUAAAAAAAAD4fw==",
          "dtype": "f8",
          "shape": "1, 2"
         },
         "hovertemplate": "<b>%{hovertext}</b><br><br>Country=Saint Lucia<br>People Fully Vaccinated=%{x}<br>Total Cases=%{y}<br>Total Deaths=%{customdata[0]}<br>People Vaccinated=%{customdata[1]}<extra></extra>",
         "hovertext": [
          "Saint Lucia"
         ],
         "legendgroup": "Saint Lucia",
         "marker": {
          "color": "#B6E880",
          "size": {
           "bdata": "AAAAAACgeUA=",
           "dtype": "f8"
          },
          "sizemode": "area",
          "sizeref": 7493.3975,
          "symbol": "circle"
         },
         "mode": "markers",
         "name": "Saint Lucia",
         "orientation": "v",
         "showlegend": true,
         "type": "scatter",
         "x": {
          "bdata": "AAAAAAAA+H8=",
          "dtype": "f8"
         },
         "xaxis": "x",
         "y": {
          "bdata": "AAAAAICS3UA=",
          "dtype": "f8"
         },
         "yaxis": "y"
        },
        {
         "customdata": {
          "bdata": "AAAAAAAIl0AAAAAAAAD4fw==",
          "dtype": "f8",
          "shape": "1, 2"
         },
         "hovertemplate": "<b>%{hovertext}</b><br><br>Country=Democratic Republic of Congo<br>People Fully Vaccinated=%{x}<br>Total Cases=%{y}<br>Total Deaths=%{customdata[0]}<br>People Vaccinated=%{customdata[1]}<extra></extra>",
         "hovertext": [
          "Democratic Republic of Congo"
         ],
         "legendgroup": "Democratic Republic of Congo",
         "marker": {
          "color": "#FF97FF",
          "size": {
           "bdata": "AAAAAAAIl0A=",
           "dtype": "f8"
          },
          "sizemode": "area",
          "sizeref": 7493.3975,
          "symbol": "circle"
         },
         "mode": "markers",
         "name": "Democratic Republic of Congo",
         "orientation": "v",
         "showlegend": true,
         "type": "scatter",
         "x": {
          "bdata": "AAAAAAAA+H8=",
          "dtype": "f8"
         },
         "xaxis": "x",
         "y": {
          "bdata": "AAAAABCp+EA=",
          "dtype": "f8"
         },
         "yaxis": "y"
        },
        {
         "customdata": {
          "bdata": "AAAAAAAAR0AAAAAAAAD4fw==",
          "dtype": "f8",
          "shape": "1, 2"
         },
         "hovertemplate": "<b>%{hovertext}</b><br><br>Country=Saint Martin (French part)<br>People Fully Vaccinated=%{x}<br>Total Cases=%{y}<br>Total Deaths=%{customdata[0]}<br>People Vaccinated=%{customdata[1]}<extra></extra>",
         "hovertext": [
          "Saint Martin (French part)"
         ],
         "legendgroup": "Saint Martin (French part)",
         "marker": {
          "color": "#FECB52",
          "size": {
           "bdata": "AAAAAAAAR0A=",
           "dtype": "f8"
          },
          "sizemode": "area",
          "sizeref": 7493.3975,
          "symbol": "circle"
         },
         "mode": "markers",
         "name": "Saint Martin (French part)",
         "orientation": "v",
         "showlegend": true,
         "type": "scatter",
         "x": {
          "bdata": "AAAAAAAA+H8=",
          "dtype": "f8"
         },
         "xaxis": "x",
         "y": {
          "bdata": "AAAAAAASyEA=",
          "dtype": "f8"
         },
         "yaxis": "y"
        },
        {
         "customdata": {
          "bdata": "AAAAAKA+5UAAAAAAAAD4fw==",
          "dtype": "f8",
          "shape": "1, 2"
         },
         "hovertemplate": "<b>%{hovertext}</b><br><br>Country=Czechia<br>People Fully Vaccinated=%{x}<br>Total Cases=%{y}<br>Total Deaths=%{customdata[0]}<br>People Vaccinated=%{customdata[1]}<extra></extra>",
         "hovertext": [
          "Czechia"
         ],
         "legendgroup": "Czechia",
         "marker": {
          "color": "#636efa",
          "size": {
           "bdata": "AAAAAKA+5UA=",
           "dtype": "f8"
          },
          "sizemode": "area",
          "sizeref": 7493.3975,
          "symbol": "circle"
         },
         "mode": "markers",
         "name": "Czechia",
         "orientation": "v",
         "showlegend": true,
         "type": "scatter",
         "x": {
          "bdata": "AAAAAAAA+H8=",
          "dtype": "f8"
         },
         "xaxis": "x",
         "y": {
          "bdata": "AAAAwE8qUkE=",
          "dtype": "f8"
         },
         "yaxis": "y"
        },
        {
         "customdata": {
          "bdata": "AAAAAAAAAEAAAAAAAAD4fw==",
          "dtype": "f8",
          "shape": "1, 2"
         },
         "hovertemplate": "<b>%{hovertext}</b><br><br>Country=Saint Pierre and Miquelon<br>People Fully Vaccinated=%{x}<br>Total Cases=%{y}<br>Total Deaths=%{customdata[0]}<br>People Vaccinated=%{customdata[1]}<extra></extra>",
         "hovertext": [
          "Saint Pierre and Miquelon"
         ],
         "legendgroup": "Saint Pierre and Miquelon",
         "marker": {
          "color": "#EF553B",
          "size": {
           "bdata": "AAAAAAAAAEA=",
           "dtype": "f8"
          },
          "sizemode": "area",
          "sizeref": 7493.3975,
          "symbol": "circle"
         },
         "mode": "markers",
         "name": "Saint Pierre and Miquelon",
         "orientation": "v",
         "showlegend": true,
         "type": "scatter",
         "x": {
          "bdata": "AAAAAAAA+H8=",
          "dtype": "f8"
         },
         "xaxis": "x",
         "y": {
          "bdata": "AAAAAADEqkA=",
          "dtype": "f8"
         },
         "yaxis": "y"
        },
        {
         "customdata": {
          "bdata": "AAAAAACslkAAAAAAAAD4fw==",
          "dtype": "f8",
          "shape": "1, 2"
         },
         "hovertemplate": "<b>%{hovertext}</b><br><br>Country=Cyprus<br>People Fully Vaccinated=%{x}<br>Total Cases=%{y}<br>Total Deaths=%{customdata[0]}<br>People Vaccinated=%{customdata[1]}<extra></extra>",
         "hovertext": [
          "Cyprus"
         ],
         "legendgroup": "Cyprus",
         "marker": {
          "color": "#00cc96",
          "size": {
           "bdata": "AAAAAACslkA=",
           "dtype": "f8"
          },
          "sizemode": "area",
          "sizeref": 7493.3975,
          "symbol": "circle"
         },
         "mode": "markers",
         "name": "Cyprus",
         "orientation": "v",
         "showlegend": true,
         "type": "scatter",
         "x": {
          "bdata": "AAAAAAAA+H8=",
          "dtype": "f8"
         },
         "xaxis": "x",
         "y": {
          "bdata": "AAAAALRAJUE=",
          "dtype": "f8"
         },
         "yaxis": "y"
        },
        {
         "customdata": {
          "bdata": "AAAAAAAAX0AAAAAAAAD4fw==",
          "dtype": "f8",
          "shape": "1, 2"
         },
         "hovertemplate": "<b>%{hovertext}</b><br><br>Country=Saint Vincent and the Grenadines<br>People Fully Vaccinated=%{x}<br>Total Cases=%{y}<br>Total Deaths=%{customdata[0]}<br>People Vaccinated=%{customdata[1]}<extra></extra>",
         "hovertext": [
          "Saint Vincent and the Grenadines"
         ],
         "legendgroup": "Saint Vincent and the Grenadines",
         "marker": {
          "color": "#ab63fa",
          "size": {
           "bdata": "AAAAAAAAX0A=",
           "dtype": "f8"
          },
          "sizemode": "area",
          "sizeref": 7493.3975,
          "symbol": "circle"
         },
         "mode": "markers",
         "name": "Saint Vincent and the Grenadines",
         "orientation": "v",
         "showlegend": true,
         "type": "scatter",
         "x": {
          "bdata": "AAAAAAAA+H8=",
          "dtype": "f8"
         },
         "xaxis": "x",
         "y": {
          "bdata": "AAAAAADlwkA=",
          "dtype": "f8"
         },
         "yaxis": "y"
        },
        {
         "customdata": {
          "bdata": "AAAAAAAQc0AAAAAAAAD4fw==",
          "dtype": "f8",
          "shape": "1, 2"
         },
         "hovertemplate": "<b>%{hovertext}</b><br><br>Country=Curacao<br>People Fully Vaccinated=%{x}<br>Total Cases=%{y}<br>Total Deaths=%{customdata[0]}<br>People Vaccinated=%{customdata[1]}<extra></extra>",
         "hovertext": [
          "Curacao"
         ],
         "legendgroup": "Curacao",
         "marker": {
          "color": "#FFA15A",
          "size": {
           "bdata": "AAAAAAAQc0A=",
           "dtype": "f8"
          },
          "sizemode": "area",
          "sizeref": 7493.3975,
          "symbol": "circle"
         },
         "mode": "markers",
         "name": "Curacao",
         "orientation": "v",
         "showlegend": true,
         "type": "scatter",
         "x": {
          "bdata": "AAAAAAAA+H8=",
          "dtype": "f8"
         },
         "xaxis": "x",
         "y": {
          "bdata": "AAAAAGBn5kA=",
          "dtype": "f8"
         },
         "yaxis": "y"
        },
        {
         "customdata": {
          "bdata": "AAAAAAAAP0AAAAAAAAD4fw==",
          "dtype": "f8",
          "shape": "1, 2"
         },
         "hovertemplate": "<b>%{hovertext}</b><br><br>Country=Samoa<br>People Fully Vaccinated=%{x}<br>Total Cases=%{y}<br>Total Deaths=%{customdata[0]}<br>People Vaccinated=%{customdata[1]}<extra></extra>",
         "hovertext": [
          "Samoa"
         ],
         "legendgroup": "Samoa",
         "marker": {
          "color": "#19d3f3",
          "size": {
           "bdata": "AAAAAAAAP0A=",
           "dtype": "f8"
          },
          "sizemode": "area",
          "sizeref": 7493.3975,
          "symbol": "circle"
         },
         "mode": "markers",
         "name": "Samoa",
         "orientation": "v",
         "showlegend": true,
         "type": "scatter",
         "x": {
          "bdata": "AAAAAAAA+H8=",
          "dtype": "f8"
         },
         "xaxis": "x",
         "y": {
          "bdata": "AAAAAECo0EA=",
          "dtype": "f8"
         },
         "yaxis": "y"
        },
        {
         "customdata": {
          "bdata": "AAAAAACpwEAAAAAAAAD4fw==",
          "dtype": "f8",
          "shape": "1, 2"
         },
         "hovertemplate": "<b>%{hovertext}</b><br><br>Country=Cuba<br>People Fully Vaccinated=%{x}<br>Total Cases=%{y}<br>Total Deaths=%{customdata[0]}<br>People Vaccinated=%{customdata[1]}<extra></extra>",
         "hovertext": [
          "Cuba"
         ],
         "legendgroup": "Cuba",
         "marker": {
          "color": "#FF6692",
          "size": {
           "bdata": "AAAAAACpwEA=",
           "dtype": "f8"
          },
          "sizemode": "area",
          "sizeref": 7493.3975,
          "symbol": "circle"
         },
         "mode": "markers",
         "name": "Cuba",
         "orientation": "v",
         "showlegend": true,
         "type": "scatter",
         "x": {
          "bdata": "AAAAAAAA+H8=",
          "dtype": "f8"
         },
         "xaxis": "x",
         "y": {
          "bdata": "AAAAAD7+MEE=",
          "dtype": "f8"
         },
         "yaxis": "y"
        },
        {
         "customdata": {
          "bdata": "AAAAAAB9w0AAAAAAAAD4fw==",
          "dtype": "f8",
          "shape": "1, 2"
         },
         "hovertemplate": "<b>%{hovertext}</b><br><br>Country=North Macedonia<br>People Fully Vaccinated=%{x}<br>Total Cases=%{y}<br>Total Deaths=%{customdata[0]}<br>People Vaccinated=%{customdata[1]}<extra></extra>",
         "hovertext": [
          "North Macedonia"
         ],
         "legendgroup": "North Macedonia",
         "marker": {
          "color": "#B6E880",
          "size": {
           "bdata": "AAAAAAB9w0A=",
           "dtype": "f8"
          },
          "sizemode": "area",
          "sizeref": 7493.3975,
          "symbol": "circle"
         },
         "mode": "markers",
         "name": "North Macedonia",
         "orientation": "v",
         "showlegend": true,
         "type": "scatter",
         "x": {
          "bdata": "AAAAAAAA+H8=",
          "dtype": "f8"
         },
         "xaxis": "x",
         "y": {
          "bdata": "AAAAADBrFUE=",
          "dtype": "f8"
         },
         "yaxis": "y"
        },
        {
         "customdata": {
          "bdata": "AAAAAABstkAAAAAAAAD4fw==",
          "dtype": "f8",
          "shape": "1, 2"
         },
         "hovertemplate": "<b>%{hovertext}</b><br><br>Country=Zimbabwe<br>People Fully Vaccinated=%{x}<br>Total Cases=%{y}<br>Total Deaths=%{customdata[0]}<br>People Vaccinated=%{customdata[1]}<extra></extra>",
         "hovertext": [
          "Zimbabwe"
         ],
         "legendgroup": "Zimbabwe",
         "marker": {
          "color": "#FF97FF",
          "size": {
           "bdata": "AAAAAABstkA=",
           "dtype": "f8"
          },
          "sizemode": "area",
          "sizeref": 7493.3975,
          "symbol": "circle"
         },
         "mode": "markers",
         "name": "Zimbabwe",
         "orientation": "v",
         "showlegend": true,
         "type": "scatter",
         "x": {
          "bdata": "AAAAAAAA+H8=",
          "dtype": "f8"
         },
         "xaxis": "x",
         "y": {
          "bdata": "AAAAAEhCEEE=",
          "dtype": "f8"
         },
         "yaxis": "y"
        }
       ],
       "layout": {
        "legend": {
         "itemsizing": "constant",
         "title": {
          "text": "Country"
         },
         "tracegroupgap": 0
        },
        "template": {
         "data": {
          "bar": [
           {
            "error_x": {
             "color": "#f2f5fa"
            },
            "error_y": {
             "color": "#f2f5fa"
            },
            "marker": {
             "line": {
              "color": "rgb(17,17,17)",
              "width": 0.5
             },
             "pattern": {
              "fillmode": "overlay",
              "size": 10,
              "solidity": 0.2
             }
            },
            "type": "bar"
           }
          ],
          "barpolar": [
           {
            "marker": {
             "line": {
              "color": "rgb(17,17,17)",
              "width": 0.5
             },
             "pattern": {
              "fillmode": "overlay",
              "size": 10,
              "solidity": 0.2
             }
            },
            "type": "barpolar"
           }
          ],
          "carpet": [
           {
            "aaxis": {
             "endlinecolor": "#A2B1C6",
             "gridcolor": "#506784",
             "linecolor": "#506784",
             "minorgridcolor": "#506784",
             "startlinecolor": "#A2B1C6"
            },
            "baxis": {
             "endlinecolor": "#A2B1C6",
             "gridcolor": "#506784",
             "linecolor": "#506784",
             "minorgridcolor": "#506784",
             "startlinecolor": "#A2B1C6"
            },
            "type": "carpet"
           }
          ],
          "choropleth": [
           {
            "colorbar": {
             "outlinewidth": 0,
             "ticks": ""
            },
            "type": "choropleth"
           }
          ],
          "contour": [
           {
            "colorbar": {
             "outlinewidth": 0,
             "ticks": ""
            },
            "colorscale": [
             [
              0,
              "#0d0887"
             ],
             [
              0.1111111111111111,
              "#46039f"
             ],
             [
              0.2222222222222222,
              "#7201a8"
             ],
             [
              0.3333333333333333,
              "#9c179e"
             ],
             [
              0.4444444444444444,
              "#bd3786"
             ],
             [
              0.5555555555555556,
              "#d8576b"
             ],
             [
              0.6666666666666666,
              "#ed7953"
             ],
             [
              0.7777777777777778,
              "#fb9f3a"
             ],
             [
              0.8888888888888888,
              "#fdca26"
             ],
             [
              1,
              "#f0f921"
             ]
            ],
            "type": "contour"
           }
          ],
          "contourcarpet": [
           {
            "colorbar": {
             "outlinewidth": 0,
             "ticks": ""
            },
            "type": "contourcarpet"
           }
          ],
          "heatmap": [
           {
            "colorbar": {
             "outlinewidth": 0,
             "ticks": ""
            },
            "colorscale": [
             [
              0,
              "#0d0887"
             ],
             [
              0.1111111111111111,
              "#46039f"
             ],
             [
              0.2222222222222222,
              "#7201a8"
             ],
             [
              0.3333333333333333,
              "#9c179e"
             ],
             [
              0.4444444444444444,
              "#bd3786"
             ],
             [
              0.5555555555555556,
              "#d8576b"
             ],
             [
              0.6666666666666666,
              "#ed7953"
             ],
             [
              0.7777777777777778,
              "#fb9f3a"
             ],
             [
              0.8888888888888888,
              "#fdca26"
             ],
             [
              1,
              "#f0f921"
             ]
            ],
            "type": "heatmap"
           }
          ],
          "histogram": [
           {
            "marker": {
             "pattern": {
              "fillmode": "overlay",
              "size": 10,
              "solidity": 0.2
             }
            },
            "type": "histogram"
           }
          ],
          "histogram2d": [
           {
            "colorbar": {
             "outlinewidth": 0,
             "ticks": ""
            },
            "colorscale": [
             [
              0,
              "#0d0887"
             ],
             [
              0.1111111111111111,
              "#46039f"
             ],
             [
              0.2222222222222222,
              "#7201a8"
             ],
             [
              0.3333333333333333,
              "#9c179e"
             ],
             [
              0.4444444444444444,
              "#bd3786"
             ],
             [
              0.5555555555555556,
              "#d8576b"
             ],
             [
              0.6666666666666666,
              "#ed7953"
             ],
             [
              0.7777777777777778,
              "#fb9f3a"
             ],
             [
              0.8888888888888888,
              "#fdca26"
             ],
             [
              1,
              "#f0f921"
             ]
            ],
            "type": "histogram2d"
           }
          ],
          "histogram2dcontour": [
           {
            "colorbar": {
             "outlinewidth": 0,
             "ticks": ""
            },
            "colorscale": [
             [
              0,
              "#0d0887"
             ],
             [
              0.1111111111111111,
              "#46039f"
             ],
             [
              0.2222222222222222,
              "#7201a8"
             ],
             [
              0.3333333333333333,
              "#9c179e"
             ],
             [
              0.4444444444444444,
              "#bd3786"
             ],
             [
              0.5555555555555556,
              "#d8576b"
             ],
             [
              0.6666666666666666,
              "#ed7953"
             ],
             [
              0.7777777777777778,
              "#fb9f3a"
             ],
             [
              0.8888888888888888,
              "#fdca26"
             ],
             [
              1,
              "#f0f921"
             ]
            ],
            "type": "histogram2dcontour"
           }
          ],
          "mesh3d": [
           {
            "colorbar": {
             "outlinewidth": 0,
             "ticks": ""
            },
            "type": "mesh3d"
           }
          ],
          "parcoords": [
           {
            "line": {
             "colorbar": {
              "outlinewidth": 0,
              "ticks": ""
             }
            },
            "type": "parcoords"
           }
          ],
          "pie": [
           {
            "automargin": true,
            "type": "pie"
           }
          ],
          "scatter": [
           {
            "marker": {
             "line": {
              "color": "#283442"
             }
            },
            "type": "scatter"
           }
          ],
          "scatter3d": [
           {
            "line": {
             "colorbar": {
              "outlinewidth": 0,
              "ticks": ""
             }
            },
            "marker": {
             "colorbar": {
              "outlinewidth": 0,
              "ticks": ""
             }
            },
            "type": "scatter3d"
           }
          ],
          "scattercarpet": [
           {
            "marker": {
             "colorbar": {
              "outlinewidth": 0,
              "ticks": ""
             }
            },
            "type": "scattercarpet"
           }
          ],
          "scattergeo": [
           {
            "marker": {
             "colorbar": {
              "outlinewidth": 0,
              "ticks": ""
             }
            },
            "type": "scattergeo"
           }
          ],
          "scattergl": [
           {
            "marker": {
             "line": {
              "color": "#283442"
             }
            },
            "type": "scattergl"
           }
          ],
          "scattermap": [
           {
            "marker": {
             "colorbar": {
              "outlinewidth": 0,
              "ticks": ""
             }
            },
            "type": "scattermap"
           }
          ],
          "scattermapbox": [
           {
            "marker": {
             "colorbar": {
              "outlinewidth": 0,
              "ticks": ""
             }
            },
            "type": "scattermapbox"
           }
          ],
          "scatterpolar": [
           {
            "marker": {
             "colorbar": {
              "outlinewidth": 0,
              "ticks": ""
             }
            },
            "type": "scatterpolar"
           }
          ],
          "scatterpolargl": [
           {
            "marker": {
             "colorbar": {
              "outlinewidth": 0,
              "ticks": ""
             }
            },
            "type": "scatterpolargl"
           }
          ],
          "scatterternary": [
           {
            "marker": {
             "colorbar": {
              "outlinewidth": 0,
              "ticks": ""
             }
            },
            "type": "scatterternary"
           }
          ],
          "surface": [
           {
            "colorbar": {
             "outlinewidth": 0,
             "ticks": ""
            },
            "colorscale": [
             [
              0,
              "#0d0887"
             ],
             [
              0.1111111111111111,
              "#46039f"
             ],
             [
              0.2222222222222222,
              "#7201a8"
             ],
             [
              0.3333333333333333,
              "#9c179e"
             ],
             [
              0.4444444444444444,
              "#bd3786"
             ],
             [
              0.5555555555555556,
              "#d8576b"
             ],
             [
              0.6666666666666666,
              "#ed7953"
             ],
             [
              0.7777777777777778,
              "#fb9f3a"
             ],
             [
              0.8888888888888888,
              "#fdca26"
             ],
             [
              1,
              "#f0f921"
             ]
            ],
            "type": "surface"
           }
          ],
          "table": [
           {
            "cells": {
             "fill": {
              "color": "#506784"
             },
             "line": {
              "color": "rgb(17,17,17)"
             }
            },
            "header": {
             "fill": {
              "color": "#2a3f5f"
             },
             "line": {
              "color": "rgb(17,17,17)"
             }
            },
            "type": "table"
           }
          ]
         },
         "layout": {
          "annotationdefaults": {
           "arrowcolor": "#f2f5fa",
           "arrowhead": 0,
           "arrowwidth": 1
          },
          "autotypenumbers": "strict",
          "coloraxis": {
           "colorbar": {
            "outlinewidth": 0,
            "ticks": ""
           }
          },
          "colorscale": {
           "diverging": [
            [
             0,
             "#8e0152"
            ],
            [
             0.1,
             "#c51b7d"
            ],
            [
             0.2,
             "#de77ae"
            ],
            [
             0.3,
             "#f1b6da"
            ],
            [
             0.4,
             "#fde0ef"
            ],
            [
             0.5,
             "#f7f7f7"
            ],
            [
             0.6,
             "#e6f5d0"
            ],
            [
             0.7,
             "#b8e186"
            ],
            [
             0.8,
             "#7fbc41"
            ],
            [
             0.9,
             "#4d9221"
            ],
            [
             1,
             "#276419"
            ]
           ],
           "sequential": [
            [
             0,
             "#0d0887"
            ],
            [
             0.1111111111111111,
             "#46039f"
            ],
            [
             0.2222222222222222,
             "#7201a8"
            ],
            [
             0.3333333333333333,
             "#9c179e"
            ],
            [
             0.4444444444444444,
             "#bd3786"
            ],
            [
             0.5555555555555556,
             "#d8576b"
            ],
            [
             0.6666666666666666,
             "#ed7953"
            ],
            [
             0.7777777777777778,
             "#fb9f3a"
            ],
            [
             0.8888888888888888,
             "#fdca26"
            ],
            [
             1,
             "#f0f921"
            ]
           ],
           "sequentialminus": [
            [
             0,
             "#0d0887"
            ],
            [
             0.1111111111111111,
             "#46039f"
            ],
            [
             0.2222222222222222,
             "#7201a8"
            ],
            [
             0.3333333333333333,
             "#9c179e"
            ],
            [
             0.4444444444444444,
             "#bd3786"
            ],
            [
             0.5555555555555556,
             "#d8576b"
            ],
            [
             0.6666666666666666,
             "#ed7953"
            ],
            [
             0.7777777777777778,
             "#fb9f3a"
            ],
            [
             0.8888888888888888,
             "#fdca26"
            ],
            [
             1,
             "#f0f921"
            ]
           ]
          },
          "colorway": [
           "#636efa",
           "#EF553B",
           "#00cc96",
           "#ab63fa",
           "#FFA15A",
           "#19d3f3",
           "#FF6692",
           "#B6E880",
           "#FF97FF",
           "#FECB52"
          ],
          "font": {
           "color": "#f2f5fa"
          },
          "geo": {
           "bgcolor": "rgb(17,17,17)",
           "lakecolor": "rgb(17,17,17)",
           "landcolor": "rgb(17,17,17)",
           "showlakes": true,
           "showland": true,
           "subunitcolor": "#506784"
          },
          "hoverlabel": {
           "align": "left"
          },
          "hovermode": "closest",
          "mapbox": {
           "style": "dark"
          },
          "paper_bgcolor": "rgb(17,17,17)",
          "plot_bgcolor": "rgb(17,17,17)",
          "polar": {
           "angularaxis": {
            "gridcolor": "#506784",
            "linecolor": "#506784",
            "ticks": ""
           },
           "bgcolor": "rgb(17,17,17)",
           "radialaxis": {
            "gridcolor": "#506784",
            "linecolor": "#506784",
            "ticks": ""
           }
          },
          "scene": {
           "xaxis": {
            "backgroundcolor": "rgb(17,17,17)",
            "gridcolor": "#506784",
            "gridwidth": 2,
            "linecolor": "#506784",
            "showbackground": true,
            "ticks": "",
            "zerolinecolor": "#C8D4E3"
           },
           "yaxis": {
            "backgroundcolor": "rgb(17,17,17)",
            "gridcolor": "#506784",
            "gridwidth": 2,
            "linecolor": "#506784",
            "showbackground": true,
            "ticks": "",
            "zerolinecolor": "#C8D4E3"
           },
           "zaxis": {
            "backgroundcolor": "rgb(17,17,17)",
            "gridcolor": "#506784",
            "gridwidth": 2,
            "linecolor": "#506784",
            "showbackground": true,
            "ticks": "",
            "zerolinecolor": "#C8D4E3"
           }
          },
          "shapedefaults": {
           "line": {
            "color": "#f2f5fa"
           }
          },
          "sliderdefaults": {
           "bgcolor": "#C8D4E3",
           "bordercolor": "rgb(17,17,17)",
           "borderwidth": 1,
           "tickwidth": 0
          },
          "ternary": {
           "aaxis": {
            "gridcolor": "#506784",
            "linecolor": "#506784",
            "ticks": ""
           },
           "baxis": {
            "gridcolor": "#506784",
            "linecolor": "#506784",
            "ticks": ""
           },
           "bgcolor": "rgb(17,17,17)",
           "caxis": {
            "gridcolor": "#506784",
            "linecolor": "#506784",
            "ticks": ""
           }
          },
          "title": {
           "x": 0.05
          },
          "updatemenudefaults": {
           "bgcolor": "#506784",
           "borderwidth": 0
          },
          "xaxis": {
           "automargin": true,
           "gridcolor": "#283442",
           "linecolor": "#506784",
           "ticks": "",
           "title": {
            "standoff": 15
           },
           "zerolinecolor": "#283442",
           "zerolinewidth": 2
          },
          "yaxis": {
           "automargin": true,
           "gridcolor": "#283442",
           "linecolor": "#506784",
           "ticks": "",
           "title": {
            "standoff": 15
           },
           "zerolinecolor": "#283442",
           "zerolinewidth": 2
          }
         }
        },
        "title": {
         "text": "People Fully Vaccinated vs Total Cases"
        },
        "xaxis": {
         "anchor": "y",
         "domain": [
          0,
          1
         ],
         "title": {
          "text": "People Fully Vaccinated"
         }
        },
        "yaxis": {
         "anchor": "x",
         "domain": [
          0,
          1
         ],
         "title": {
          "text": "Total Cases"
         }
        }
       }
      }
     },
     "metadata": {},
     "output_type": "display_data"
    }
   ],
   "source": [
    "# Create a scatter plot using Plotly with 'people_fully_vaccinated' on the x-axis and 'total_cases' on the y-axis\n",
    "fig = px.scatter(latest_df, \n",
    "                 x='people_fully_vaccinated',  # x-axis: number of people fully vaccinated\n",
    "                 y='total_cases',              # y-axis: total number of COVID-19 cases\n",
    "                 color='location',             # Color the points based on the country (location)\n",
    "                 size='total_deaths',  # Points will size based on total deaths\n",
    "                 hover_name='location',       # Display the country name when hovering over a point\n",
    "                 hover_data=['total_deaths', 'people_vaccinated'],  # Display additional data on hover: total deaths and people vaccinated\n",
    "                 title='People Fully Vaccinated vs Total Cases',  # Set the plot title\n",
    "                 labels={                     # Custom labels for the axes and hover data\n",
    "                     'location': 'Country', \n",
    "                     'people_fully_vaccinated': 'People Fully Vaccinated',\n",
    "                     'total_cases': 'Total Cases',\n",
    "                     'total_deaths': 'Total Deaths',\n",
    "                     'people_vaccinated': 'People Vaccinated'\n",
    "                 },\n",
    "                 template='plotly_dark')      # Set the plot template to 'plotly_dark' for a dark theme\n",
    "\n",
    "# Display the plot\n",
    "fig.show()"
   ]
  },
  {
   "cell_type": "markdown",
   "id": "c7d69e16",
   "metadata": {},
   "source": [
    "📌 9. Interactive World Map - Total Cases (Plotly)"
   ]
  },
  {
   "cell_type": "code",
   "execution_count": 19,
   "id": "8eea1247",
   "metadata": {},
   "outputs": [
    {
     "data": {
      "application/vnd.plotly.v1+json": {
       "config": {
        "plotlyServerURL": "https://plot.ly"
       },
       "data": [
        {
         "coloraxis": "coloraxis",
         "geo": "geo",
         "hovertemplate": "<b>%{hovertext}</b><br><br>Country=%{location}<br>Total Cases=%{z}<extra></extra>",
         "hovertext": [
          "North Korea",
          "Martinique",
          "Greenland",
          "Isle of Man",
          "Nicaragua",
          "Indonesia",
          "Lithuania",
          "Kyrgyzstan",
          "Grenada",
          "Micronesia (country)",
          "Germany",
          "Laos",
          "Mauritania",
          "Niue",
          "Libya",
          "Gibraltar",
          "Latvia",
          "Iraq",
          "Nigeria",
          "Ghana",
          "Mexico",
          "Mayotte",
          "Lebanon",
          "Iran",
          "Liberia",
          "Greece",
          "Liechtenstein",
          "Niger",
          "Israel",
          "High-income countries",
          "Marshall Islands",
          "Italy",
          "Guinea",
          "Namibia",
          "Kenya",
          "Ireland",
          "Japan",
          "Guinea-Bissau",
          "Myanmar",
          "Mali",
          "Malawi",
          "Madagascar",
          "Kazakhstan",
          "Honduras",
          "Guyana",
          "Mozambique",
          "Malaysia",
          "Jordan",
          "Haiti",
          "Morocco",
          "Jersey",
          "Montserrat",
          "Montenegro",
          "New Zealand",
          "Hungary",
          "Nauru",
          "Low-income countries",
          "Guadeloupe",
          "Kuwait",
          "Moldova",
          "New Caledonia",
          "India",
          "Maldives",
          "Guam",
          "Lower-middle-income countries",
          "Mongolia",
          "Netherlands",
          "Monaco",
          "Guatemala",
          "Iceland",
          "Nepal",
          "Jamaica",
          "Luxembourg",
          "Kiribati",
          "Malta",
          "Guernsey",
          "Kosovo",
          "Mauritius",
          "Zambia",
          "Georgia",
          "Syria",
          "Botswana",
          "Tajikistan",
          "Bosnia and Herzegovina",
          "Tanzania",
          "Bonaire Sint Eustatius and Saba",
          "Thailand",
          "Brazil",
          "Bolivia",
          "Bhutan",
          "Tokelau",
          "Bermuda",
          "Tonga",
          "Benin",
          "Trinidad and Tobago",
          "Belize",
          "Togo",
          "Tunisia",
          "Switzerland",
          "Sweden",
          "Somalia",
          "Cape Verde",
          "South Africa",
          "Canada",
          "South Korea",
          "Cameroon",
          "South Sudan",
          "British Virgin Islands",
          "Cambodia",
          "Burundi",
          "Sri Lanka",
          "Burkina Faso",
          "Sudan",
          "Bulgaria",
          "Suriname",
          "Brunei",
          "Spain",
          "Cayman Islands",
          "Belgium",
          "Belarus",
          "Uruguay",
          "Antigua and Barbuda",
          "Uzbekistan",
          "Anguilla",
          "Vanuatu",
          "Angola",
          "Vatican",
          "Argentina",
          "Andorra",
          "American Samoa",
          "Vietnam",
          "Algeria",
          "Wallis and Futuna",
          "Albania",
          "Yemen",
          "Afghanistan",
          "Venezuela",
          "Turkey",
          "Upper-middle-income countries",
          "United States Virgin Islands",
          "Turkmenistan",
          "Barbados",
          "Turks and Caicos Islands",
          "Bangladesh",
          "Tuvalu",
          "Bahrain",
          "Uganda",
          "Armenia",
          "Bahamas",
          "Azerbaijan",
          "United Arab Emirates",
          "Austria",
          "United Kingdom",
          "Australia",
          "United States",
          "Aruba",
          "Ukraine",
          "Solomon Islands",
          "Central African Republic",
          "Slovenia",
          "Philippines",
          "Ethiopia",
          "Pitcairn",
          "Eswatini",
          "Poland",
          "Estonia",
          "Portugal",
          "European Union (27)",
          "Eritrea",
          "Equatorial Guinea",
          "Qatar",
          "El Salvador",
          "Reunion",
          "Egypt",
          "Romania",
          "Ecuador",
          "Puerto Rico",
          "Russia",
          "Peru",
          "Paraguay",
          "Northern Mariana Islands",
          "Gambia",
          "Norway",
          "Gabon",
          "Oman",
          "French Polynesia",
          "Pakistan",
          "Falkland Islands",
          "French Guiana",
          "France",
          "Palestine",
          "Finland",
          "Panama",
          "Fiji",
          "Papua New Guinea",
          "Faroe Islands",
          "Palau",
          "East Timor",
          "Rwanda",
          "Lesotho",
          "Saudi Arabia",
          "Costa Rica",
          "Senegal",
          "Cook Islands",
          "Serbia",
          "Congo",
          "Seychelles",
          "Cote d'Ivoire",
          "Comoros",
          "Colombia",
          "Singapore",
          "China",
          "Sint Maarten (Dutch part)",
          "Chile",
          "Slovakia",
          "Chad",
          "Sierra Leone",
          "Sao Tome and Principe",
          "Croatia",
          "San Marino",
          "Dominican Republic",
          "Saint Barthelemy",
          "Dominica",
          "Saint Helena",
          "Djibouti",
          "Saint Kitts and Nevis",
          "Denmark",
          "Saint Lucia",
          "Democratic Republic of Congo",
          "Saint Martin (French part)",
          "Czechia",
          "Saint Pierre and Miquelon",
          "Cyprus",
          "Saint Vincent and the Grenadines",
          "Curacao",
          "Samoa",
          "Cuba",
          "North Macedonia",
          "Zimbabwe"
         ],
         "locationmode": "country names",
         "locations": [
          "North Korea",
          "Martinique",
          "Greenland",
          "Isle of Man",
          "Nicaragua",
          "Indonesia",
          "Lithuania",
          "Kyrgyzstan",
          "Grenada",
          "Micronesia (country)",
          "Germany",
          "Laos",
          "Mauritania",
          "Niue",
          "Libya",
          "Gibraltar",
          "Latvia",
          "Iraq",
          "Nigeria",
          "Ghana",
          "Mexico",
          "Mayotte",
          "Lebanon",
          "Iran",
          "Liberia",
          "Greece",
          "Liechtenstein",
          "Niger",
          "Israel",
          "High-income countries",
          "Marshall Islands",
          "Italy",
          "Guinea",
          "Namibia",
          "Kenya",
          "Ireland",
          "Japan",
          "Guinea-Bissau",
          "Myanmar",
          "Mali",
          "Malawi",
          "Madagascar",
          "Kazakhstan",
          "Honduras",
          "Guyana",
          "Mozambique",
          "Malaysia",
          "Jordan",
          "Haiti",
          "Morocco",
          "Jersey",
          "Montserrat",
          "Montenegro",
          "New Zealand",
          "Hungary",
          "Nauru",
          "Low-income countries",
          "Guadeloupe",
          "Kuwait",
          "Moldova",
          "New Caledonia",
          "India",
          "Maldives",
          "Guam",
          "Lower-middle-income countries",
          "Mongolia",
          "Netherlands",
          "Monaco",
          "Guatemala",
          "Iceland",
          "Nepal",
          "Jamaica",
          "Luxembourg",
          "Kiribati",
          "Malta",
          "Guernsey",
          "Kosovo",
          "Mauritius",
          "Zambia",
          "Georgia",
          "Syria",
          "Botswana",
          "Tajikistan",
          "Bosnia and Herzegovina",
          "Tanzania",
          "Bonaire Sint Eustatius and Saba",
          "Thailand",
          "Brazil",
          "Bolivia",
          "Bhutan",
          "Tokelau",
          "Bermuda",
          "Tonga",
          "Benin",
          "Trinidad and Tobago",
          "Belize",
          "Togo",
          "Tunisia",
          "Switzerland",
          "Sweden",
          "Somalia",
          "Cape Verde",
          "South Africa",
          "Canada",
          "South Korea",
          "Cameroon",
          "South Sudan",
          "British Virgin Islands",
          "Cambodia",
          "Burundi",
          "Sri Lanka",
          "Burkina Faso",
          "Sudan",
          "Bulgaria",
          "Suriname",
          "Brunei",
          "Spain",
          "Cayman Islands",
          "Belgium",
          "Belarus",
          "Uruguay",
          "Antigua and Barbuda",
          "Uzbekistan",
          "Anguilla",
          "Vanuatu",
          "Angola",
          "Vatican",
          "Argentina",
          "Andorra",
          "American Samoa",
          "Vietnam",
          "Algeria",
          "Wallis and Futuna",
          "Albania",
          "Yemen",
          "Afghanistan",
          "Venezuela",
          "Turkey",
          "Upper-middle-income countries",
          "United States Virgin Islands",
          "Turkmenistan",
          "Barbados",
          "Turks and Caicos Islands",
          "Bangladesh",
          "Tuvalu",
          "Bahrain",
          "Uganda",
          "Armenia",
          "Bahamas",
          "Azerbaijan",
          "United Arab Emirates",
          "Austria",
          "United Kingdom",
          "Australia",
          "United States",
          "Aruba",
          "Ukraine",
          "Solomon Islands",
          "Central African Republic",
          "Slovenia",
          "Philippines",
          "Ethiopia",
          "Pitcairn",
          "Eswatini",
          "Poland",
          "Estonia",
          "Portugal",
          "European Union (27)",
          "Eritrea",
          "Equatorial Guinea",
          "Qatar",
          "El Salvador",
          "Reunion",
          "Egypt",
          "Romania",
          "Ecuador",
          "Puerto Rico",
          "Russia",
          "Peru",
          "Paraguay",
          "Northern Mariana Islands",
          "Gambia",
          "Norway",
          "Gabon",
          "Oman",
          "French Polynesia",
          "Pakistan",
          "Falkland Islands",
          "French Guiana",
          "France",
          "Palestine",
          "Finland",
          "Panama",
          "Fiji",
          "Papua New Guinea",
          "Faroe Islands",
          "Palau",
          "East Timor",
          "Rwanda",
          "Lesotho",
          "Saudi Arabia",
          "Costa Rica",
          "Senegal",
          "Cook Islands",
          "Serbia",
          "Congo",
          "Seychelles",
          "Cote d'Ivoire",
          "Comoros",
          "Colombia",
          "Singapore",
          "China",
          "Sint Maarten (Dutch part)",
          "Chile",
          "Slovakia",
          "Chad",
          "Sierra Leone",
          "Sao Tome and Principe",
          "Croatia",
          "San Marino",
          "Dominican Republic",
          "Saint Barthelemy",
          "Dominica",
          "Saint Helena",
          "Djibouti",
          "Saint Kitts and Nevis",
          "Denmark",
          "Saint Lucia",
          "Democratic Republic of Congo",
          "Saint Martin (French part)",
          "Czechia",
          "Saint Pierre and Miquelon",
          "Cyprus",
          "Saint Vincent and the Grenadines",
          "Curacao",
          "Samoa",
          "Cuba",
          "North Macedonia",
          "Zimbabwe"
         ],
         "name": "",
         "type": "choropleth",
         "z": {
          "bdata": "AAAAAAAAAAAAAAAAkB4MQQAAAACAYcdAAAAAAACP4kAAAAAAgJzPQAAAAMBVDVpBAAAAAAvlNEEAAAAAkLf1QAAAAABAO9NAAAAAAEAF30AAAADgG1SCQQAAAACgvQpBAAAAAAAw70AAAAAAAMiQQAAAAAAU9h5BAAAAAIAR1EAAAAAAytYtQQAAAICEz0JBAAAAANBOEEEAAAAA8AAFQQAAAIDgEF1BAAAAAGCF5EAAAAAAYOsyQQAAAMAVGV1BAAAAAAD6vkAAAABAtKRVQQAAAAAAFdVAAAAAAACXwkAAAACAFXhSQQAAAFGxkrlBAAAAAIDUz0AAAABgWYp5QQAAAACA1eJAAAAAAKgPBUEAAAAAqAAVQQAAAADAoDpBAAAAoGkegEEAAAAAAMfCQAAAAACKniNBAAAAAMAx4EAAAAAAAMX1QAAAAABwvfBAAAAAAHL0NkEAAAAAAN0cQQAAAACwLPJAAAAAAJiLDEEAAACA+EBUQQAAAAA1qDpBAAAAAADT4EAAAAAAi4QzQQAAAABwNfBAAAAAAADslUAAAAAAgKwOQQAAAABkIkRBAAAAAAgFQUEAAAAAABG1QAAAAAAOqz1BAAAAABjPCEEAAAAANF0kQQAAAACgdCNBAAAAADCS80AAAACgQnqFQQAAAAAwygZBAAAAAOCH6UAAAACAc+yVQQAAAABC3i5BAAAAAMF6YEEAAAAAQMfQQAAAAABDFDNBAAAAADCuCUEAAAAAdJ8uQQAAAADoLwNBAAAAABgFGEEAAAAAAN2zQAAAAADA+v1AAAAAAMA/4UAAAAAAnL0QQQAAAACcBxRBAAAAAEhaFUEAAAAAv288QQAAAADgCexAAAAAACAvFEEAAAAAgF7RQAAAAABIoxhBAAAAAMAb5UAAAAAAAEnHQAAAAACzTlJBAAAAiBfjgUEAAAAA834yQQAAAAAgne5AAAAAAAAAVEAAAAAAAGvSQAAAAAAAlNBAAAAAAABh20AAAAAAQGAHQQAAAABgb/FAAAAAAEBN40AAAAAAUZkxQQAAAABjAVFBAAAAgDYFRUEAAAAAgLHaQAAAAABAe+9AAAAAgJ4ST0EAAADAG2JSQQAAAAgzfIBBAAAAAOCT/kAAAAAAwGHSQAAAAAAAhb1AAAAAALgBAUEAAAAAIKXqQAAAAAA8iCRBAAAAAMCe1UAAAAAAID/vQAAAAABESzRBAAAAAFAk9EAAAAAALDkVQQAAAIBWqmpBAAAAAAC83kAAAABAn5ZSQQAAAADqVS5BAAAAAITHL0EAAAAAAMnBQAAAAABIXwVBAAAAAACArkAAAAAAgHnHQAAAAACQPfpAAAAAAAAAOkAAAABAPERjQQAAAADgcedAAAAAAIBTwEAAAAAAyCtmQQAAAAAsnBBBAAAAAABgrUAAAAAAHHMUQQAAAACAVMdAAAAAAHC2DEEAAAAA7t0gQQAAAOCKN3BBAAAAXOgCrkEAAAAAQMvYQAAAAAAAAAAAAAAAAGCC+kAAAAAAAJW6QAAAAAAUTT9BAAAAAAD+pkAAAAAATEIlQQAAAADQAwVBAAAAAMSaG0EAAAAA4BrjQAAAAABagSlBAAAAABZIMEEAAAAA4zNXQQAAAFBS0XdBAAAAIJWfZkEAAAB0SKmYQQAAAAAAmOVAAAAAQBobVUEAAAAAgFjZQAAAAACAKM5AAAAAACazNEEAAACAr5ZPQQAAAAAklx5BAAAAAAAAEEAAAAAAwGXyQAAAAMBzcllBAAAAAE6hIkEAAABAW5tVQQAAAPbaJqZBAAAAAIDmw0AAAAAAgLrQQAAAAABwZx9BAAAAAACmCEEAAAAADDAeQQAAAADcfh9BAAAAgDkFS0EAAAAAxXAwQQAAAABpHTNBAAAAgPskd0EAAABA4ERRQQAAAAAedCZBAAAAAAAgzUAAAAAAgKnIQAAAAADHFDdBAAAAAGDz50AAAAAAZGEYQQAAAACwYfNAAAAAAFceOEEAAAAAAAyeQAAAAACQ7/dAAAAAkG+YgkEAAAAA+HUlQQAAAABA4jZBAAAAAKriL0EAAAAAcNvwQAAAAAAA4uZAAAAAAEDs4EAAAAAAAOS4QAAAAAAA6dZAAAAAAIBEAEEAAAAAQKXhQAAAAAD6rSlBAAAAAA3XMkEAAAAA0Nj1QAAAAAAAsbxAAAAAANe1Q0EAAAAAwKLYQAAAAADAVelAAAAAACCX9UAAAAAAgMrBQAAAAAARYlhBAAAAgGXvRkEAAACMQrGXQQAAAACAlcVAAAAAgImaVEEAAAAA8qc8QQAAAAAAFr5AAAAAAAArv0AAAAAAAHO6QAAAAAAYGTRBAAAAAACz2EAAAAAA3iwkQQAAAAAAg7VAAAAAAIBXz0AAAAAAAOygQAAAAAAApc5AAAAAAADPuUAAAACATzZKQQAAAACAkt1AAAAAABCp+EAAAAAAABLIQAAAAMBPKlJBAAAAAADEqkAAAAAAtEAlQQAAAAAA5cJAAAAAAGBn5kAAAAAAQKjQQAAAAAA+/jBBAAAAADBrFUEAAAAASEIQQQ==",
          "dtype": "f8"
         }
        }
       ],
       "layout": {
        "coloraxis": {
         "colorbar": {
          "title": {
           "text": "Total Cases"
          }
         },
         "colorscale": [
          [
           0,
           "rgb(255,245,240)"
          ],
          [
           0.125,
           "rgb(254,224,210)"
          ],
          [
           0.25,
           "rgb(252,187,161)"
          ],
          [
           0.375,
           "rgb(252,146,114)"
          ],
          [
           0.5,
           "rgb(251,106,74)"
          ],
          [
           0.625,
           "rgb(239,59,44)"
          ],
          [
           0.75,
           "rgb(203,24,29)"
          ],
          [
           0.875,
           "rgb(165,15,21)"
          ],
          [
           1,
           "rgb(103,0,13)"
          ]
         ]
        },
        "geo": {
         "center": {},
         "domain": {
          "x": [
           0,
           1
          ],
          "y": [
           0,
           1
          ]
         }
        },
        "height": 600,
        "legend": {
         "tracegroupgap": 0
        },
        "template": {
         "data": {
          "bar": [
           {
            "error_x": {
             "color": "#2a3f5f"
            },
            "error_y": {
             "color": "#2a3f5f"
            },
            "marker": {
             "line": {
              "color": "#E5ECF6",
              "width": 0.5
             },
             "pattern": {
              "fillmode": "overlay",
              "size": 10,
              "solidity": 0.2
             }
            },
            "type": "bar"
           }
          ],
          "barpolar": [
           {
            "marker": {
             "line": {
              "color": "#E5ECF6",
              "width": 0.5
             },
             "pattern": {
              "fillmode": "overlay",
              "size": 10,
              "solidity": 0.2
             }
            },
            "type": "barpolar"
           }
          ],
          "carpet": [
           {
            "aaxis": {
             "endlinecolor": "#2a3f5f",
             "gridcolor": "white",
             "linecolor": "white",
             "minorgridcolor": "white",
             "startlinecolor": "#2a3f5f"
            },
            "baxis": {
             "endlinecolor": "#2a3f5f",
             "gridcolor": "white",
             "linecolor": "white",
             "minorgridcolor": "white",
             "startlinecolor": "#2a3f5f"
            },
            "type": "carpet"
           }
          ],
          "choropleth": [
           {
            "colorbar": {
             "outlinewidth": 0,
             "ticks": ""
            },
            "type": "choropleth"
           }
          ],
          "contour": [
           {
            "colorbar": {
             "outlinewidth": 0,
             "ticks": ""
            },
            "colorscale": [
             [
              0,
              "#0d0887"
             ],
             [
              0.1111111111111111,
              "#46039f"
             ],
             [
              0.2222222222222222,
              "#7201a8"
             ],
             [
              0.3333333333333333,
              "#9c179e"
             ],
             [
              0.4444444444444444,
              "#bd3786"
             ],
             [
              0.5555555555555556,
              "#d8576b"
             ],
             [
              0.6666666666666666,
              "#ed7953"
             ],
             [
              0.7777777777777778,
              "#fb9f3a"
             ],
             [
              0.8888888888888888,
              "#fdca26"
             ],
             [
              1,
              "#f0f921"
             ]
            ],
            "type": "contour"
           }
          ],
          "contourcarpet": [
           {
            "colorbar": {
             "outlinewidth": 0,
             "ticks": ""
            },
            "type": "contourcarpet"
           }
          ],
          "heatmap": [
           {
            "colorbar": {
             "outlinewidth": 0,
             "ticks": ""
            },
            "colorscale": [
             [
              0,
              "#0d0887"
             ],
             [
              0.1111111111111111,
              "#46039f"
             ],
             [
              0.2222222222222222,
              "#7201a8"
             ],
             [
              0.3333333333333333,
              "#9c179e"
             ],
             [
              0.4444444444444444,
              "#bd3786"
             ],
             [
              0.5555555555555556,
              "#d8576b"
             ],
             [
              0.6666666666666666,
              "#ed7953"
             ],
             [
              0.7777777777777778,
              "#fb9f3a"
             ],
             [
              0.8888888888888888,
              "#fdca26"
             ],
             [
              1,
              "#f0f921"
             ]
            ],
            "type": "heatmap"
           }
          ],
          "histogram": [
           {
            "marker": {
             "pattern": {
              "fillmode": "overlay",
              "size": 10,
              "solidity": 0.2
             }
            },
            "type": "histogram"
           }
          ],
          "histogram2d": [
           {
            "colorbar": {
             "outlinewidth": 0,
             "ticks": ""
            },
            "colorscale": [
             [
              0,
              "#0d0887"
             ],
             [
              0.1111111111111111,
              "#46039f"
             ],
             [
              0.2222222222222222,
              "#7201a8"
             ],
             [
              0.3333333333333333,
              "#9c179e"
             ],
             [
              0.4444444444444444,
              "#bd3786"
             ],
             [
              0.5555555555555556,
              "#d8576b"
             ],
             [
              0.6666666666666666,
              "#ed7953"
             ],
             [
              0.7777777777777778,
              "#fb9f3a"
             ],
             [
              0.8888888888888888,
              "#fdca26"
             ],
             [
              1,
              "#f0f921"
             ]
            ],
            "type": "histogram2d"
           }
          ],
          "histogram2dcontour": [
           {
            "colorbar": {
             "outlinewidth": 0,
             "ticks": ""
            },
            "colorscale": [
             [
              0,
              "#0d0887"
             ],
             [
              0.1111111111111111,
              "#46039f"
             ],
             [
              0.2222222222222222,
              "#7201a8"
             ],
             [
              0.3333333333333333,
              "#9c179e"
             ],
             [
              0.4444444444444444,
              "#bd3786"
             ],
             [
              0.5555555555555556,
              "#d8576b"
             ],
             [
              0.6666666666666666,
              "#ed7953"
             ],
             [
              0.7777777777777778,
              "#fb9f3a"
             ],
             [
              0.8888888888888888,
              "#fdca26"
             ],
             [
              1,
              "#f0f921"
             ]
            ],
            "type": "histogram2dcontour"
           }
          ],
          "mesh3d": [
           {
            "colorbar": {
             "outlinewidth": 0,
             "ticks": ""
            },
            "type": "mesh3d"
           }
          ],
          "parcoords": [
           {
            "line": {
             "colorbar": {
              "outlinewidth": 0,
              "ticks": ""
             }
            },
            "type": "parcoords"
           }
          ],
          "pie": [
           {
            "automargin": true,
            "type": "pie"
           }
          ],
          "scatter": [
           {
            "fillpattern": {
             "fillmode": "overlay",
             "size": 10,
             "solidity": 0.2
            },
            "type": "scatter"
           }
          ],
          "scatter3d": [
           {
            "line": {
             "colorbar": {
              "outlinewidth": 0,
              "ticks": ""
             }
            },
            "marker": {
             "colorbar": {
              "outlinewidth": 0,
              "ticks": ""
             }
            },
            "type": "scatter3d"
           }
          ],
          "scattercarpet": [
           {
            "marker": {
             "colorbar": {
              "outlinewidth": 0,
              "ticks": ""
             }
            },
            "type": "scattercarpet"
           }
          ],
          "scattergeo": [
           {
            "marker": {
             "colorbar": {
              "outlinewidth": 0,
              "ticks": ""
             }
            },
            "type": "scattergeo"
           }
          ],
          "scattergl": [
           {
            "marker": {
             "colorbar": {
              "outlinewidth": 0,
              "ticks": ""
             }
            },
            "type": "scattergl"
           }
          ],
          "scattermap": [
           {
            "marker": {
             "colorbar": {
              "outlinewidth": 0,
              "ticks": ""
             }
            },
            "type": "scattermap"
           }
          ],
          "scattermapbox": [
           {
            "marker": {
             "colorbar": {
              "outlinewidth": 0,
              "ticks": ""
             }
            },
            "type": "scattermapbox"
           }
          ],
          "scatterpolar": [
           {
            "marker": {
             "colorbar": {
              "outlinewidth": 0,
              "ticks": ""
             }
            },
            "type": "scatterpolar"
           }
          ],
          "scatterpolargl": [
           {
            "marker": {
             "colorbar": {
              "outlinewidth": 0,
              "ticks": ""
             }
            },
            "type": "scatterpolargl"
           }
          ],
          "scatterternary": [
           {
            "marker": {
             "colorbar": {
              "outlinewidth": 0,
              "ticks": ""
             }
            },
            "type": "scatterternary"
           }
          ],
          "surface": [
           {
            "colorbar": {
             "outlinewidth": 0,
             "ticks": ""
            },
            "colorscale": [
             [
              0,
              "#0d0887"
             ],
             [
              0.1111111111111111,
              "#46039f"
             ],
             [
              0.2222222222222222,
              "#7201a8"
             ],
             [
              0.3333333333333333,
              "#9c179e"
             ],
             [
              0.4444444444444444,
              "#bd3786"
             ],
             [
              0.5555555555555556,
              "#d8576b"
             ],
             [
              0.6666666666666666,
              "#ed7953"
             ],
             [
              0.7777777777777778,
              "#fb9f3a"
             ],
             [
              0.8888888888888888,
              "#fdca26"
             ],
             [
              1,
              "#f0f921"
             ]
            ],
            "type": "surface"
           }
          ],
          "table": [
           {
            "cells": {
             "fill": {
              "color": "#EBF0F8"
             },
             "line": {
              "color": "white"
             }
            },
            "header": {
             "fill": {
              "color": "#C8D4E3"
             },
             "line": {
              "color": "white"
             }
            },
            "type": "table"
           }
          ]
         },
         "layout": {
          "annotationdefaults": {
           "arrowcolor": "#2a3f5f",
           "arrowhead": 0,
           "arrowwidth": 1
          },
          "autotypenumbers": "strict",
          "coloraxis": {
           "colorbar": {
            "outlinewidth": 0,
            "ticks": ""
           }
          },
          "colorscale": {
           "diverging": [
            [
             0,
             "#8e0152"
            ],
            [
             0.1,
             "#c51b7d"
            ],
            [
             0.2,
             "#de77ae"
            ],
            [
             0.3,
             "#f1b6da"
            ],
            [
             0.4,
             "#fde0ef"
            ],
            [
             0.5,
             "#f7f7f7"
            ],
            [
             0.6,
             "#e6f5d0"
            ],
            [
             0.7,
             "#b8e186"
            ],
            [
             0.8,
             "#7fbc41"
            ],
            [
             0.9,
             "#4d9221"
            ],
            [
             1,
             "#276419"
            ]
           ],
           "sequential": [
            [
             0,
             "#0d0887"
            ],
            [
             0.1111111111111111,
             "#46039f"
            ],
            [
             0.2222222222222222,
             "#7201a8"
            ],
            [
             0.3333333333333333,
             "#9c179e"
            ],
            [
             0.4444444444444444,
             "#bd3786"
            ],
            [
             0.5555555555555556,
             "#d8576b"
            ],
            [
             0.6666666666666666,
             "#ed7953"
            ],
            [
             0.7777777777777778,
             "#fb9f3a"
            ],
            [
             0.8888888888888888,
             "#fdca26"
            ],
            [
             1,
             "#f0f921"
            ]
           ],
           "sequentialminus": [
            [
             0,
             "#0d0887"
            ],
            [
             0.1111111111111111,
             "#46039f"
            ],
            [
             0.2222222222222222,
             "#7201a8"
            ],
            [
             0.3333333333333333,
             "#9c179e"
            ],
            [
             0.4444444444444444,
             "#bd3786"
            ],
            [
             0.5555555555555556,
             "#d8576b"
            ],
            [
             0.6666666666666666,
             "#ed7953"
            ],
            [
             0.7777777777777778,
             "#fb9f3a"
            ],
            [
             0.8888888888888888,
             "#fdca26"
            ],
            [
             1,
             "#f0f921"
            ]
           ]
          },
          "colorway": [
           "#636efa",
           "#EF553B",
           "#00cc96",
           "#ab63fa",
           "#FFA15A",
           "#19d3f3",
           "#FF6692",
           "#B6E880",
           "#FF97FF",
           "#FECB52"
          ],
          "font": {
           "color": "#2a3f5f"
          },
          "geo": {
           "bgcolor": "white",
           "lakecolor": "white",
           "landcolor": "#E5ECF6",
           "showlakes": true,
           "showland": true,
           "subunitcolor": "white"
          },
          "hoverlabel": {
           "align": "left"
          },
          "hovermode": "closest",
          "mapbox": {
           "style": "light"
          },
          "paper_bgcolor": "white",
          "plot_bgcolor": "#E5ECF6",
          "polar": {
           "angularaxis": {
            "gridcolor": "white",
            "linecolor": "white",
            "ticks": ""
           },
           "bgcolor": "#E5ECF6",
           "radialaxis": {
            "gridcolor": "white",
            "linecolor": "white",
            "ticks": ""
           }
          },
          "scene": {
           "xaxis": {
            "backgroundcolor": "#E5ECF6",
            "gridcolor": "white",
            "gridwidth": 2,
            "linecolor": "white",
            "showbackground": true,
            "ticks": "",
            "zerolinecolor": "white"
           },
           "yaxis": {
            "backgroundcolor": "#E5ECF6",
            "gridcolor": "white",
            "gridwidth": 2,
            "linecolor": "white",
            "showbackground": true,
            "ticks": "",
            "zerolinecolor": "white"
           },
           "zaxis": {
            "backgroundcolor": "#E5ECF6",
            "gridcolor": "white",
            "gridwidth": 2,
            "linecolor": "white",
            "showbackground": true,
            "ticks": "",
            "zerolinecolor": "white"
           }
          },
          "shapedefaults": {
           "line": {
            "color": "#2a3f5f"
           }
          },
          "ternary": {
           "aaxis": {
            "gridcolor": "white",
            "linecolor": "white",
            "ticks": ""
           },
           "baxis": {
            "gridcolor": "white",
            "linecolor": "white",
            "ticks": ""
           },
           "bgcolor": "#E5ECF6",
           "caxis": {
            "gridcolor": "white",
            "linecolor": "white",
            "ticks": ""
           }
          },
          "title": {
           "x": 0.05
          },
          "xaxis": {
           "automargin": true,
           "gridcolor": "white",
           "linecolor": "white",
           "ticks": "",
           "title": {
            "standoff": 15
           },
           "zerolinecolor": "white",
           "zerolinewidth": 2
          },
          "yaxis": {
           "automargin": true,
           "gridcolor": "white",
           "linecolor": "white",
           "ticks": "",
           "title": {
            "standoff": 15
           },
           "zerolinecolor": "white",
           "zerolinewidth": 2
          }
         }
        },
        "title": {
         "font": {
          "size": 20
         },
         "text": "Total COVID-19 Cases Worldwide",
         "x": 0.5
        },
        "width": 1000
       }
      }
     },
     "metadata": {},
     "output_type": "display_data"
    }
   ],
   "source": [
    "# Create a choropleth map using Plotly to visualize total COVID-19 cases worldwide by country\n",
    "fig = px.choropleth(latest_df,\n",
    "                    locations='location',  # 'location' column contains the country names\n",
    "                    locationmode='country names',  # Use country names for the location mode\n",
    "                    color='total_cases',  # Color the countries based on the total number of COVID-19 cases\n",
    "                    hover_name='location',  # Display the country name when hovering over a country on the map\n",
    "                    color_continuous_scale='Reds',  # Set the color scale to a red gradient for better visibility of cases\n",
    "                    labels={\"total_cases\": \"Total Cases\", \"location\": \"Country\"},  # Custom labels for the hover data and axis\n",
    "                    title='Total COVID-19 Cases Worldwide',  # Set the title of the map\n",
    "                   )\n",
    "\n",
    "# Update the layout to adjust the figure size, font size of the title, and center the title\n",
    "fig.update_layout(\n",
    "    width=1000,  # Set the width of the plot to 1000px for better visibility\n",
    "    height=600,  # Set the height of the plot to 600px for better visibility\n",
    "    title_font_size=20,  # Increase the title font size to 20 for better visibility\n",
    "    title_x = 0.5  # Center align the title (0.5 is the center of the plot area)\n",
    ")\n",
    "\n",
    "# Display the choropleth map\n",
    "fig.show()"
   ]
  },
  {
   "cell_type": "markdown",
   "id": "62fbab7e",
   "metadata": {},
   "source": [
    "📌 10. Interactive World Map - Vaccination Progress (Plotly)"
   ]
  },
  {
   "cell_type": "code",
   "execution_count": 20,
   "id": "31be6701",
   "metadata": {},
   "outputs": [
    {
     "data": {
      "application/vnd.plotly.v1+json": {
       "config": {
        "plotlyServerURL": "https://plot.ly"
       },
       "data": [
        {
         "coloraxis": "coloraxis",
         "geo": "geo",
         "hovertemplate": "<b>%{hovertext}</b><br><br>Country=%{location}<br>People Fully Vaccinated=%{z}<extra></extra>",
         "hovertext": [
          "North Korea",
          "Martinique",
          "Greenland",
          "Isle of Man",
          "Nicaragua",
          "Indonesia",
          "Lithuania",
          "Kyrgyzstan",
          "Grenada",
          "Micronesia (country)",
          "Germany",
          "Laos",
          "Mauritania",
          "Niue",
          "Libya",
          "Gibraltar",
          "Latvia",
          "Iraq",
          "Nigeria",
          "Ghana",
          "Mexico",
          "Mayotte",
          "Lebanon",
          "Iran",
          "Liberia",
          "Greece",
          "Liechtenstein",
          "Niger",
          "Israel",
          "High-income countries",
          "Marshall Islands",
          "Italy",
          "Guinea",
          "Namibia",
          "Kenya",
          "Ireland",
          "Japan",
          "Guinea-Bissau",
          "Myanmar",
          "Mali",
          "Malawi",
          "Madagascar",
          "Kazakhstan",
          "Honduras",
          "Guyana",
          "Mozambique",
          "Malaysia",
          "Jordan",
          "Haiti",
          "Morocco",
          "Jersey",
          "Montserrat",
          "Montenegro",
          "New Zealand",
          "Hungary",
          "Nauru",
          "Low-income countries",
          "Guadeloupe",
          "Kuwait",
          "Moldova",
          "New Caledonia",
          "India",
          "Maldives",
          "Guam",
          "Lower-middle-income countries",
          "Mongolia",
          "Netherlands",
          "Monaco",
          "Guatemala",
          "Iceland",
          "Nepal",
          "Jamaica",
          "Luxembourg",
          "Kiribati",
          "Malta",
          "Guernsey",
          "Kosovo",
          "Mauritius",
          "Zambia",
          "Georgia",
          "Syria",
          "Botswana",
          "Tajikistan",
          "Bosnia and Herzegovina",
          "Tanzania",
          "Bonaire Sint Eustatius and Saba",
          "Thailand",
          "Brazil",
          "Bolivia",
          "Bhutan",
          "Tokelau",
          "Bermuda",
          "Tonga",
          "Benin",
          "Trinidad and Tobago",
          "Belize",
          "Togo",
          "Tunisia",
          "Switzerland",
          "Sweden",
          "Somalia",
          "Cape Verde",
          "South Africa",
          "Canada",
          "South Korea",
          "Cameroon",
          "South Sudan",
          "British Virgin Islands",
          "Cambodia",
          "Burundi",
          "Sri Lanka",
          "Burkina Faso",
          "Sudan",
          "Bulgaria",
          "Suriname",
          "Brunei",
          "Spain",
          "Cayman Islands",
          "Belgium",
          "Belarus",
          "Uruguay",
          "Antigua and Barbuda",
          "Uzbekistan",
          "Anguilla",
          "Vanuatu",
          "Angola",
          "Vatican",
          "Argentina",
          "Andorra",
          "American Samoa",
          "Vietnam",
          "Algeria",
          "Wallis and Futuna",
          "Albania",
          "Yemen",
          "Afghanistan",
          "Venezuela",
          "Turkey",
          "Upper-middle-income countries",
          "United States Virgin Islands",
          "Turkmenistan",
          "Barbados",
          "Turks and Caicos Islands",
          "Bangladesh",
          "Tuvalu",
          "Bahrain",
          "Uganda",
          "Armenia",
          "Bahamas",
          "Azerbaijan",
          "United Arab Emirates",
          "Austria",
          "United Kingdom",
          "Australia",
          "United States",
          "Aruba",
          "Ukraine",
          "Solomon Islands",
          "Central African Republic",
          "Slovenia",
          "Philippines",
          "Ethiopia",
          "Pitcairn",
          "Eswatini",
          "Poland",
          "Estonia",
          "Portugal",
          "European Union (27)",
          "Eritrea",
          "Equatorial Guinea",
          "Qatar",
          "El Salvador",
          "Reunion",
          "Egypt",
          "Romania",
          "Ecuador",
          "Puerto Rico",
          "Russia",
          "Peru",
          "Paraguay",
          "Northern Mariana Islands",
          "Gambia",
          "Norway",
          "Gabon",
          "Oman",
          "French Polynesia",
          "Pakistan",
          "Falkland Islands",
          "French Guiana",
          "France",
          "Palestine",
          "Finland",
          "Panama",
          "Fiji",
          "Papua New Guinea",
          "Faroe Islands",
          "Palau",
          "East Timor",
          "Rwanda",
          "Lesotho",
          "Saudi Arabia",
          "Costa Rica",
          "Senegal",
          "Cook Islands",
          "Serbia",
          "Congo",
          "Seychelles",
          "Cote d'Ivoire",
          "Comoros",
          "Colombia",
          "Singapore",
          "China",
          "Sint Maarten (Dutch part)",
          "Chile",
          "Slovakia",
          "Chad",
          "Sierra Leone",
          "Sao Tome and Principe",
          "Croatia",
          "San Marino",
          "Dominican Republic",
          "Saint Barthelemy",
          "Dominica",
          "Saint Helena",
          "Djibouti",
          "Saint Kitts and Nevis",
          "Denmark",
          "Saint Lucia",
          "Democratic Republic of Congo",
          "Saint Martin (French part)",
          "Czechia",
          "Saint Pierre and Miquelon",
          "Cyprus",
          "Saint Vincent and the Grenadines",
          "Curacao",
          "Samoa",
          "Cuba",
          "North Macedonia",
          "Zimbabwe"
         ],
         "locationmode": "country names",
         "locations": [
          "North Korea",
          "Martinique",
          "Greenland",
          "Isle of Man",
          "Nicaragua",
          "Indonesia",
          "Lithuania",
          "Kyrgyzstan",
          "Grenada",
          "Micronesia (country)",
          "Germany",
          "Laos",
          "Mauritania",
          "Niue",
          "Libya",
          "Gibraltar",
          "Latvia",
          "Iraq",
          "Nigeria",
          "Ghana",
          "Mexico",
          "Mayotte",
          "Lebanon",
          "Iran",
          "Liberia",
          "Greece",
          "Liechtenstein",
          "Niger",
          "Israel",
          "High-income countries",
          "Marshall Islands",
          "Italy",
          "Guinea",
          "Namibia",
          "Kenya",
          "Ireland",
          "Japan",
          "Guinea-Bissau",
          "Myanmar",
          "Mali",
          "Malawi",
          "Madagascar",
          "Kazakhstan",
          "Honduras",
          "Guyana",
          "Mozambique",
          "Malaysia",
          "Jordan",
          "Haiti",
          "Morocco",
          "Jersey",
          "Montserrat",
          "Montenegro",
          "New Zealand",
          "Hungary",
          "Nauru",
          "Low-income countries",
          "Guadeloupe",
          "Kuwait",
          "Moldova",
          "New Caledonia",
          "India",
          "Maldives",
          "Guam",
          "Lower-middle-income countries",
          "Mongolia",
          "Netherlands",
          "Monaco",
          "Guatemala",
          "Iceland",
          "Nepal",
          "Jamaica",
          "Luxembourg",
          "Kiribati",
          "Malta",
          "Guernsey",
          "Kosovo",
          "Mauritius",
          "Zambia",
          "Georgia",
          "Syria",
          "Botswana",
          "Tajikistan",
          "Bosnia and Herzegovina",
          "Tanzania",
          "Bonaire Sint Eustatius and Saba",
          "Thailand",
          "Brazil",
          "Bolivia",
          "Bhutan",
          "Tokelau",
          "Bermuda",
          "Tonga",
          "Benin",
          "Trinidad and Tobago",
          "Belize",
          "Togo",
          "Tunisia",
          "Switzerland",
          "Sweden",
          "Somalia",
          "Cape Verde",
          "South Africa",
          "Canada",
          "South Korea",
          "Cameroon",
          "South Sudan",
          "British Virgin Islands",
          "Cambodia",
          "Burundi",
          "Sri Lanka",
          "Burkina Faso",
          "Sudan",
          "Bulgaria",
          "Suriname",
          "Brunei",
          "Spain",
          "Cayman Islands",
          "Belgium",
          "Belarus",
          "Uruguay",
          "Antigua and Barbuda",
          "Uzbekistan",
          "Anguilla",
          "Vanuatu",
          "Angola",
          "Vatican",
          "Argentina",
          "Andorra",
          "American Samoa",
          "Vietnam",
          "Algeria",
          "Wallis and Futuna",
          "Albania",
          "Yemen",
          "Afghanistan",
          "Venezuela",
          "Turkey",
          "Upper-middle-income countries",
          "United States Virgin Islands",
          "Turkmenistan",
          "Barbados",
          "Turks and Caicos Islands",
          "Bangladesh",
          "Tuvalu",
          "Bahrain",
          "Uganda",
          "Armenia",
          "Bahamas",
          "Azerbaijan",
          "United Arab Emirates",
          "Austria",
          "United Kingdom",
          "Australia",
          "United States",
          "Aruba",
          "Ukraine",
          "Solomon Islands",
          "Central African Republic",
          "Slovenia",
          "Philippines",
          "Ethiopia",
          "Pitcairn",
          "Eswatini",
          "Poland",
          "Estonia",
          "Portugal",
          "European Union (27)",
          "Eritrea",
          "Equatorial Guinea",
          "Qatar",
          "El Salvador",
          "Reunion",
          "Egypt",
          "Romania",
          "Ecuador",
          "Puerto Rico",
          "Russia",
          "Peru",
          "Paraguay",
          "Northern Mariana Islands",
          "Gambia",
          "Norway",
          "Gabon",
          "Oman",
          "French Polynesia",
          "Pakistan",
          "Falkland Islands",
          "French Guiana",
          "France",
          "Palestine",
          "Finland",
          "Panama",
          "Fiji",
          "Papua New Guinea",
          "Faroe Islands",
          "Palau",
          "East Timor",
          "Rwanda",
          "Lesotho",
          "Saudi Arabia",
          "Costa Rica",
          "Senegal",
          "Cook Islands",
          "Serbia",
          "Congo",
          "Seychelles",
          "Cote d'Ivoire",
          "Comoros",
          "Colombia",
          "Singapore",
          "China",
          "Sint Maarten (Dutch part)",
          "Chile",
          "Slovakia",
          "Chad",
          "Sierra Leone",
          "Sao Tome and Principe",
          "Croatia",
          "San Marino",
          "Dominican Republic",
          "Saint Barthelemy",
          "Dominica",
          "Saint Helena",
          "Djibouti",
          "Saint Kitts and Nevis",
          "Denmark",
          "Saint Lucia",
          "Democratic Republic of Congo",
          "Saint Martin (French part)",
          "Czechia",
          "Saint Pierre and Miquelon",
          "Cyprus",
          "Saint Vincent and the Grenadines",
          "Curacao",
          "Samoa",
          "Cuba",
          "North Macedonia",
          "Zimbabwe"
         ],
         "name": "",
         "type": "choropleth",
         "z": {
          "bdata": "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",
          "dtype": "f8"
         }
        }
       ],
       "layout": {
        "coloraxis": {
         "colorbar": {
          "title": {
           "text": "People Fully Vaccinated"
          }
         },
         "colorscale": [
          [
           0,
           "rgb(247,252,245)"
          ],
          [
           0.125,
           "rgb(229,245,224)"
          ],
          [
           0.25,
           "rgb(199,233,192)"
          ],
          [
           0.375,
           "rgb(161,217,155)"
          ],
          [
           0.5,
           "rgb(116,196,118)"
          ],
          [
           0.625,
           "rgb(65,171,93)"
          ],
          [
           0.75,
           "rgb(35,139,69)"
          ],
          [
           0.875,
           "rgb(0,109,44)"
          ],
          [
           1,
           "rgb(0,68,27)"
          ]
         ]
        },
        "geo": {
         "center": {},
         "domain": {
          "x": [
           0,
           1
          ],
          "y": [
           0,
           1
          ]
         }
        },
        "height": 600,
        "legend": {
         "tracegroupgap": 0
        },
        "margin": {
         "b": 20
        },
        "template": {
         "data": {
          "bar": [
           {
            "error_x": {
             "color": "#2a3f5f"
            },
            "error_y": {
             "color": "#2a3f5f"
            },
            "marker": {
             "line": {
              "color": "#E5ECF6",
              "width": 0.5
             },
             "pattern": {
              "fillmode": "overlay",
              "size": 10,
              "solidity": 0.2
             }
            },
            "type": "bar"
           }
          ],
          "barpolar": [
           {
            "marker": {
             "line": {
              "color": "#E5ECF6",
              "width": 0.5
             },
             "pattern": {
              "fillmode": "overlay",
              "size": 10,
              "solidity": 0.2
             }
            },
            "type": "barpolar"
           }
          ],
          "carpet": [
           {
            "aaxis": {
             "endlinecolor": "#2a3f5f",
             "gridcolor": "white",
             "linecolor": "white",
             "minorgridcolor": "white",
             "startlinecolor": "#2a3f5f"
            },
            "baxis": {
             "endlinecolor": "#2a3f5f",
             "gridcolor": "white",
             "linecolor": "white",
             "minorgridcolor": "white",
             "startlinecolor": "#2a3f5f"
            },
            "type": "carpet"
           }
          ],
          "choropleth": [
           {
            "colorbar": {
             "outlinewidth": 0,
             "ticks": ""
            },
            "type": "choropleth"
           }
          ],
          "contour": [
           {
            "colorbar": {
             "outlinewidth": 0,
             "ticks": ""
            },
            "colorscale": [
             [
              0,
              "#0d0887"
             ],
             [
              0.1111111111111111,
              "#46039f"
             ],
             [
              0.2222222222222222,
              "#7201a8"
             ],
             [
              0.3333333333333333,
              "#9c179e"
             ],
             [
              0.4444444444444444,
              "#bd3786"
             ],
             [
              0.5555555555555556,
              "#d8576b"
             ],
             [
              0.6666666666666666,
              "#ed7953"
             ],
             [
              0.7777777777777778,
              "#fb9f3a"
             ],
             [
              0.8888888888888888,
              "#fdca26"
             ],
             [
              1,
              "#f0f921"
             ]
            ],
            "type": "contour"
           }
          ],
          "contourcarpet": [
           {
            "colorbar": {
             "outlinewidth": 0,
             "ticks": ""
            },
            "type": "contourcarpet"
           }
          ],
          "heatmap": [
           {
            "colorbar": {
             "outlinewidth": 0,
             "ticks": ""
            },
            "colorscale": [
             [
              0,
              "#0d0887"
             ],
             [
              0.1111111111111111,
              "#46039f"
             ],
             [
              0.2222222222222222,
              "#7201a8"
             ],
             [
              0.3333333333333333,
              "#9c179e"
             ],
             [
              0.4444444444444444,
              "#bd3786"
             ],
             [
              0.5555555555555556,
              "#d8576b"
             ],
             [
              0.6666666666666666,
              "#ed7953"
             ],
             [
              0.7777777777777778,
              "#fb9f3a"
             ],
             [
              0.8888888888888888,
              "#fdca26"
             ],
             [
              1,
              "#f0f921"
             ]
            ],
            "type": "heatmap"
           }
          ],
          "histogram": [
           {
            "marker": {
             "pattern": {
              "fillmode": "overlay",
              "size": 10,
              "solidity": 0.2
             }
            },
            "type": "histogram"
           }
          ],
          "histogram2d": [
           {
            "colorbar": {
             "outlinewidth": 0,
             "ticks": ""
            },
            "colorscale": [
             [
              0,
              "#0d0887"
             ],
             [
              0.1111111111111111,
              "#46039f"
             ],
             [
              0.2222222222222222,
              "#7201a8"
             ],
             [
              0.3333333333333333,
              "#9c179e"
             ],
             [
              0.4444444444444444,
              "#bd3786"
             ],
             [
              0.5555555555555556,
              "#d8576b"
             ],
             [
              0.6666666666666666,
              "#ed7953"
             ],
             [
              0.7777777777777778,
              "#fb9f3a"
             ],
             [
              0.8888888888888888,
              "#fdca26"
             ],
             [
              1,
              "#f0f921"
             ]
            ],
            "type": "histogram2d"
           }
          ],
          "histogram2dcontour": [
           {
            "colorbar": {
             "outlinewidth": 0,
             "ticks": ""
            },
            "colorscale": [
             [
              0,
              "#0d0887"
             ],
             [
              0.1111111111111111,
              "#46039f"
             ],
             [
              0.2222222222222222,
              "#7201a8"
             ],
             [
              0.3333333333333333,
              "#9c179e"
             ],
             [
              0.4444444444444444,
              "#bd3786"
             ],
             [
              0.5555555555555556,
              "#d8576b"
             ],
             [
              0.6666666666666666,
              "#ed7953"
             ],
             [
              0.7777777777777778,
              "#fb9f3a"
             ],
             [
              0.8888888888888888,
              "#fdca26"
             ],
             [
              1,
              "#f0f921"
             ]
            ],
            "type": "histogram2dcontour"
           }
          ],
          "mesh3d": [
           {
            "colorbar": {
             "outlinewidth": 0,
             "ticks": ""
            },
            "type": "mesh3d"
           }
          ],
          "parcoords": [
           {
            "line": {
             "colorbar": {
              "outlinewidth": 0,
              "ticks": ""
             }
            },
            "type": "parcoords"
           }
          ],
          "pie": [
           {
            "automargin": true,
            "type": "pie"
           }
          ],
          "scatter": [
           {
            "fillpattern": {
             "fillmode": "overlay",
             "size": 10,
             "solidity": 0.2
            },
            "type": "scatter"
           }
          ],
          "scatter3d": [
           {
            "line": {
             "colorbar": {
              "outlinewidth": 0,
              "ticks": ""
             }
            },
            "marker": {
             "colorbar": {
              "outlinewidth": 0,
              "ticks": ""
             }
            },
            "type": "scatter3d"
           }
          ],
          "scattercarpet": [
           {
            "marker": {
             "colorbar": {
              "outlinewidth": 0,
              "ticks": ""
             }
            },
            "type": "scattercarpet"
           }
          ],
          "scattergeo": [
           {
            "marker": {
             "colorbar": {
              "outlinewidth": 0,
              "ticks": ""
             }
            },
            "type": "scattergeo"
           }
          ],
          "scattergl": [
           {
            "marker": {
             "colorbar": {
              "outlinewidth": 0,
              "ticks": ""
             }
            },
            "type": "scattergl"
           }
          ],
          "scattermap": [
           {
            "marker": {
             "colorbar": {
              "outlinewidth": 0,
              "ticks": ""
             }
            },
            "type": "scattermap"
           }
          ],
          "scattermapbox": [
           {
            "marker": {
             "colorbar": {
              "outlinewidth": 0,
              "ticks": ""
             }
            },
            "type": "scattermapbox"
           }
          ],
          "scatterpolar": [
           {
            "marker": {
             "colorbar": {
              "outlinewidth": 0,
              "ticks": ""
             }
            },
            "type": "scatterpolar"
           }
          ],
          "scatterpolargl": [
           {
            "marker": {
             "colorbar": {
              "outlinewidth": 0,
              "ticks": ""
             }
            },
            "type": "scatterpolargl"
           }
          ],
          "scatterternary": [
           {
            "marker": {
             "colorbar": {
              "outlinewidth": 0,
              "ticks": ""
             }
            },
            "type": "scatterternary"
           }
          ],
          "surface": [
           {
            "colorbar": {
             "outlinewidth": 0,
             "ticks": ""
            },
            "colorscale": [
             [
              0,
              "#0d0887"
             ],
             [
              0.1111111111111111,
              "#46039f"
             ],
             [
              0.2222222222222222,
              "#7201a8"
             ],
             [
              0.3333333333333333,
              "#9c179e"
             ],
             [
              0.4444444444444444,
              "#bd3786"
             ],
             [
              0.5555555555555556,
              "#d8576b"
             ],
             [
              0.6666666666666666,
              "#ed7953"
             ],
             [
              0.7777777777777778,
              "#fb9f3a"
             ],
             [
              0.8888888888888888,
              "#fdca26"
             ],
             [
              1,
              "#f0f921"
             ]
            ],
            "type": "surface"
           }
          ],
          "table": [
           {
            "cells": {
             "fill": {
              "color": "#EBF0F8"
             },
             "line": {
              "color": "white"
             }
            },
            "header": {
             "fill": {
              "color": "#C8D4E3"
             },
             "line": {
              "color": "white"
             }
            },
            "type": "table"
           }
          ]
         },
         "layout": {
          "annotationdefaults": {
           "arrowcolor": "#2a3f5f",
           "arrowhead": 0,
           "arrowwidth": 1
          },
          "autotypenumbers": "strict",
          "coloraxis": {
           "colorbar": {
            "outlinewidth": 0,
            "ticks": ""
           }
          },
          "colorscale": {
           "diverging": [
            [
             0,
             "#8e0152"
            ],
            [
             0.1,
             "#c51b7d"
            ],
            [
             0.2,
             "#de77ae"
            ],
            [
             0.3,
             "#f1b6da"
            ],
            [
             0.4,
             "#fde0ef"
            ],
            [
             0.5,
             "#f7f7f7"
            ],
            [
             0.6,
             "#e6f5d0"
            ],
            [
             0.7,
             "#b8e186"
            ],
            [
             0.8,
             "#7fbc41"
            ],
            [
             0.9,
             "#4d9221"
            ],
            [
             1,
             "#276419"
            ]
           ],
           "sequential": [
            [
             0,
             "#0d0887"
            ],
            [
             0.1111111111111111,
             "#46039f"
            ],
            [
             0.2222222222222222,
             "#7201a8"
            ],
            [
             0.3333333333333333,
             "#9c179e"
            ],
            [
             0.4444444444444444,
             "#bd3786"
            ],
            [
             0.5555555555555556,
             "#d8576b"
            ],
            [
             0.6666666666666666,
             "#ed7953"
            ],
            [
             0.7777777777777778,
             "#fb9f3a"
            ],
            [
             0.8888888888888888,
             "#fdca26"
            ],
            [
             1,
             "#f0f921"
            ]
           ],
           "sequentialminus": [
            [
             0,
             "#0d0887"
            ],
            [
             0.1111111111111111,
             "#46039f"
            ],
            [
             0.2222222222222222,
             "#7201a8"
            ],
            [
             0.3333333333333333,
             "#9c179e"
            ],
            [
             0.4444444444444444,
             "#bd3786"
            ],
            [
             0.5555555555555556,
             "#d8576b"
            ],
            [
             0.6666666666666666,
             "#ed7953"
            ],
            [
             0.7777777777777778,
             "#fb9f3a"
            ],
            [
             0.8888888888888888,
             "#fdca26"
            ],
            [
             1,
             "#f0f921"
            ]
           ]
          },
          "colorway": [
           "#636efa",
           "#EF553B",
           "#00cc96",
           "#ab63fa",
           "#FFA15A",
           "#19d3f3",
           "#FF6692",
           "#B6E880",
           "#FF97FF",
           "#FECB52"
          ],
          "font": {
           "color": "#2a3f5f"
          },
          "geo": {
           "bgcolor": "white",
           "lakecolor": "white",
           "landcolor": "#E5ECF6",
           "showlakes": true,
           "showland": true,
           "subunitcolor": "white"
          },
          "hoverlabel": {
           "align": "left"
          },
          "hovermode": "closest",
          "mapbox": {
           "style": "light"
          },
          "paper_bgcolor": "white",
          "plot_bgcolor": "#E5ECF6",
          "polar": {
           "angularaxis": {
            "gridcolor": "white",
            "linecolor": "white",
            "ticks": ""
           },
           "bgcolor": "#E5ECF6",
           "radialaxis": {
            "gridcolor": "white",
            "linecolor": "white",
            "ticks": ""
           }
          },
          "scene": {
           "xaxis": {
            "backgroundcolor": "#E5ECF6",
            "gridcolor": "white",
            "gridwidth": 2,
            "linecolor": "white",
            "showbackground": true,
            "ticks": "",
            "zerolinecolor": "white"
           },
           "yaxis": {
            "backgroundcolor": "#E5ECF6",
            "gridcolor": "white",
            "gridwidth": 2,
            "linecolor": "white",
            "showbackground": true,
            "ticks": "",
            "zerolinecolor": "white"
           },
           "zaxis": {
            "backgroundcolor": "#E5ECF6",
            "gridcolor": "white",
            "gridwidth": 2,
            "linecolor": "white",
            "showbackground": true,
            "ticks": "",
            "zerolinecolor": "white"
           }
          },
          "shapedefaults": {
           "line": {
            "color": "#2a3f5f"
           }
          },
          "ternary": {
           "aaxis": {
            "gridcolor": "white",
            "linecolor": "white",
            "ticks": ""
           },
           "baxis": {
            "gridcolor": "white",
            "linecolor": "white",
            "ticks": ""
           },
           "bgcolor": "#E5ECF6",
           "caxis": {
            "gridcolor": "white",
            "linecolor": "white",
            "ticks": ""
           }
          },
          "title": {
           "x": 0.05
          },
          "xaxis": {
           "automargin": true,
           "gridcolor": "white",
           "linecolor": "white",
           "ticks": "",
           "title": {
            "standoff": 15
           },
           "zerolinecolor": "white",
           "zerolinewidth": 2
          },
          "yaxis": {
           "automargin": true,
           "gridcolor": "white",
           "linecolor": "white",
           "ticks": "",
           "title": {
            "standoff": 15
           },
           "zerolinecolor": "white",
           "zerolinewidth": 2
          }
         }
        },
        "title": {
         "font": {
          "size": 20
         },
         "text": "Global Vaccination Progress",
         "x": 0.5
        },
        "width": 1000
       }
      }
     },
     "metadata": {},
     "output_type": "display_data"
    }
   ],
   "source": [
    "# Create a choropleth map using Plotly to visualize global vaccination progress by country\n",
    "fig = px.choropleth(latest_df,\n",
    "                    locations='location',                          # 'location' column contains the country names\n",
    "                    locationmode='country names',                  # Use country names for the location mode\n",
    "                    color='people_fully_vaccinated',               # Color the countries based on the number of people fully vaccinated\n",
    "                    hover_name='location',                         # Display country name on hover\n",
    "                    color_continuous_scale='Greens',               # Set the color scale to a green gradient for better visibility\n",
    "                    labels={\"people_fully_vaccinated\": \"People Fully Vaccinated\", \"location\": \"Country\"},  # Custom labels for hover data\n",
    "                    title='Global Vaccination Progress'            # Set the title of the map\n",
    "                   )\n",
    "\n",
    "# Update the layout to increase the figure size, change title font size, align title to center, and reduce bottom margin\n",
    "fig.update_layout(\n",
    "    width = 1000,  # Set the width to 1000px\n",
    "    height = 600,  # Set the height to 600px\n",
    "    title_font_size = 20,  # Increase the title font size to 20 for better visibility\n",
    "    title_x = 0.5,  # Align the title to the center (0.5 is the center of the plot)\n",
    "    margin=dict(b=20)  # Decrease the bottom margin of the plot (b=20)\n",
    ")\n",
    "\n",
    "# Display the choropleth map\n",
    "fig.show()"
   ]
  }
 ],
 "metadata": {
  "kernelspec": {
   "display_name": "base",
   "language": "python",
   "name": "python3"
  },
  "language_info": {
   "codemirror_mode": {
    "name": "ipython",
    "version": 3
   },
   "file_extension": ".py",
   "mimetype": "text/x-python",
   "name": "python",
   "nbconvert_exporter": "python",
   "pygments_lexer": "ipython3",
   "version": "3.12.9"
  }
 },
 "nbformat": 4,
 "nbformat_minor": 5
}
